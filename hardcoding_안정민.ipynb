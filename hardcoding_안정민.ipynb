{
 "cells": [
  {
   "cell_type": "code",
   "execution_count": 1,
   "id": "a01d3ed0-b593-4776-8e0a-7c9d14187831",
   "metadata": {},
   "outputs": [
    {
     "name": "stdout",
     "output_type": "stream",
     "text": [
      "[11, 22, 33]\n",
      "[11, 22, 33, 44]\n"
     ]
    }
   ],
   "source": [
    "# 배열 요소를 오름차순으로\n",
    "aa = [33, 11, 22]\n",
    "bb = [33, 11, 22, 44]\n",
    "temp = 0\n",
    "for i in range(len(aa)):\n",
    "    for j in range(len(aa)):\n",
    "        if aa[i] < aa[j]:\n",
    "            temp = aa[i]\n",
    "            aa[i] = aa[j]\n",
    "            aa[j] = temp\n",
    "print(aa)\n",
    "\n",
    "for i in range(len(bb)):\n",
    "    for j in range(len(bb)):\n",
    "        if bb[i] < bb[j]:\n",
    "            temp = bb[i]\n",
    "            bb[i] = bb[j]\n",
    "            bb[j] = temp\n",
    "print(bb)"
   ]
  },
  {
   "cell_type": "code",
   "execution_count": 11,
   "id": "3782059a-9468-4efa-894c-7c7a3549a36f",
   "metadata": {},
   "outputs": [
    {
     "name": "stdout",
     "output_type": "stream",
     "text": [
      "aa 리스트에서 제일 큰 수 [33]\n",
      "aa 리스트에서 제일 작은 수 [11]\n"
     ]
    }
   ],
   "source": [
    "# 요소 중 제일 큰 수를 찾아내라\n",
    "aa = [33, 11, 22]\n",
    "minn = []\n",
    "maxx = [] \n",
    "\n",
    "minn.append(aa[0])\n",
    "maxx.append(aa[0])\n",
    "\n",
    "for i in range(len(aa)):\n",
    "    for j in range(len(aa)):\n",
    "        if aa[i] > maxx[0]:\n",
    "            maxx[0] = aa[i]\n",
    "        if aa[i] < minn[0]:\n",
    "            minn[0] = aa[i]\n",
    "print(\"aa 리스트에서 제일 큰 수\", maxx)\n",
    "print(\"aa 리스트에서 제일 작은 수\", minn)"
   ]
  },
  {
   "cell_type": "code",
   "execution_count": 3,
   "id": "fb1a4d27-5158-4b6f-ac06-7724c11edff9",
   "metadata": {},
   "outputs": [
    {
     "name": "stdin",
     "output_type": "stream",
     "text": [
      "돈을 넣어주세요 20000\n"
     ]
    },
    {
     "name": "stdout",
     "output_type": "stream",
     "text": [
      "거스름돈  18670 원\n",
      "1000원  18 장\n",
      "500원  1 개\n",
      "100원  1 개\n",
      "50원  1 개\n",
      "10원  2 개\n"
     ]
    }
   ],
   "source": [
    "# 잔돈 분류 프로그램\n",
    "# 거스름돈이 나올 때, 1000원/500원/100원/50원/10원 \n",
    "money = int(input(\"돈을 넣어주세요\"))\n",
    "thing = 1330\n",
    "if thing < money:\n",
    "    acc = money - thing\n",
    "    print(\"거스름돈 \", acc, \"원\")\n",
    "    print(\"1000원 \", acc // 1000, \"장\")\n",
    "    acc = acc % 1000\n",
    "    print(\"500원 \", acc // 500, \"개\")\n",
    "    acc = acc % 500\n",
    "    print(\"100원 \", acc // 100, \"개\")\n",
    "    acc = acc % 100\n",
    "    print(\"50원 \", acc // 50, \"개\")\n",
    "    acc = acc % 50\n",
    "    print(\"10원 \", acc // 10, \"개\")\n",
    "    acc = acc % 10\n",
    "elif thing == money:\n",
    "    print(\"거스름돈 없음\")    \n",
    "else:\n",
    "    print(\"돈이 부족합니다\")"
   ]
  },
  {
   "cell_type": "code",
   "execution_count": 4,
   "id": "1a90ad2b-b9ad-44c6-87b5-7e907031470b",
   "metadata": {},
   "outputs": [
    {
     "name": "stdout",
     "output_type": "stream",
     "text": [
      "1. 가위 2. 바위 3. 보 4. 멈춤\n"
     ]
    },
    {
     "name": "stdin",
     "output_type": "stream",
     "text": [
      "숫자를 선택해주세요 : 3\n"
     ]
    },
    {
     "name": "stdout",
     "output_type": "stream",
     "text": [
      "당신 : 보\n",
      "컴퓨터 : 보\n",
      "비겼습니다\n"
     ]
    }
   ],
   "source": [
    "# 가위바위보 프로그램\n",
    "import random as r\n",
    "print(\"1. 가위 2. 바위 3. 보 4. 멈춤\")\n",
    "you = int(input(\"숫자를 선택해주세요 :\"))\n",
    "ran = [1, 2, 3]\n",
    "com = r.choice(ran)\n",
    "if you == 1:\n",
    "    print(\"당신 : 가위\")\n",
    "    if com == 1:\n",
    "        print(\"컴퓨터 : 가위\")\n",
    "        print(\"비겼습니다\")\n",
    "    elif com == 2:\n",
    "        print(\"컴퓨터 : 바위\")\n",
    "        print(\"졌습니다\")\n",
    "    else:\n",
    "        print(\"컴퓨터 : 보\")\n",
    "        print(\"이겼습니다\")\n",
    "elif you == 2:\n",
    "    print(\"당신 : 바위\")\n",
    "    if com == 1:\n",
    "        print(\"컴퓨터 : 가위\")\n",
    "        print(\"이겼습니다\")\n",
    "    elif com == 2:\n",
    "        print(\"컴퓨터 : 바위\")\n",
    "        print(\"비겼습니다\")\n",
    "    else:\n",
    "        print(\"컴퓨터 : 보\")\n",
    "        print(\"졌습니다\")\n",
    "elif you == 3:\n",
    "    print(\"당신 : 보\")\n",
    "    if com == 1:\n",
    "        print(\"컴퓨터 : 가위\")\n",
    "        print(\"졌습니다\")\n",
    "    elif com == 2:\n",
    "        print(\"컴퓨터 : 바위\")\n",
    "        print(\"이겼습니다\")\n",
    "    else:\n",
    "        print(\"컴퓨터 : 보\")\n",
    "        print(\"비겼습니다\")\n",
    "else:\n",
    "    print(\"잘못 입력했습니다\")"
   ]
  },
  {
   "cell_type": "code",
   "execution_count": null,
   "id": "89be04ac-80e7-451a-b512-49a5cb578830",
   "metadata": {},
   "outputs": [],
   "source": []
  }
 ],
 "metadata": {
  "kernelspec": {
   "display_name": "Python 3 (ipykernel)",
   "language": "python",
   "name": "python3"
  },
  "language_info": {
   "codemirror_mode": {
    "name": "ipython",
    "version": 3
   },
   "file_extension": ".py",
   "mimetype": "text/x-python",
   "name": "python",
   "nbconvert_exporter": "python",
   "pygments_lexer": "ipython3",
   "version": "3.13.1"
  }
 },
 "nbformat": 4,
 "nbformat_minor": 5
}
