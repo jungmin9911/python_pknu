{
 "cells": [
  {
   "cell_type": "markdown",
   "id": "15a6d94c-f1ba-4e35-9668-3ca052210245",
   "metadata": {},
   "source": [
    "# 자료형"
   ]
  },
  {
   "cell_type": "markdown",
   "id": "895e3312-3752-43eb-a9ce-ab9623ae4736",
   "metadata": {},
   "source": [
    "## 리스트 자료형"
   ]
  },
  {
   "cell_type": "markdown",
   "id": "dcca2133-f176-428c-b599-5f639adfd398",
   "metadata": {},
   "source": [
    "### 리스트의 인덱싱과 슬라이싱"
   ]
  },
  {
   "cell_type": "code",
   "execution_count": 1,
   "id": "d8d757db-d502-4237-ae88-c7cecfb6a23e",
   "metadata": {},
   "outputs": [],
   "source": [
    "odd = [1, 3, 5, 7, 9]"
   ]
  },
  {
   "cell_type": "code",
   "execution_count": 7,
   "id": "6a5e9849-8c26-4a6c-9b65-323d683d95ed",
   "metadata": {},
   "outputs": [
    {
     "name": "stdout",
     "output_type": "stream",
     "text": [
      "['Life', 'is']\n",
      "Life\n",
      "is\n"
     ]
    }
   ],
   "source": [
    "a = []\n",
    "b = [1, 2, 3]\n",
    "c = ['Life', 'is', 'too', 'short']\n",
    "d = [1, 2, 'Life', 'is']\n",
    "e = [1, 2, ['Life', 'is']]\n",
    "print(e[2])\n",
    "print(e[2][0])\n",
    "print(e[2][1])"
   ]
  },
  {
   "cell_type": "code",
   "execution_count": 6,
   "id": "9a8368db-ad26-48f6-8adf-d859c110cb23",
   "metadata": {},
   "outputs": [
    {
     "name": "stdout",
     "output_type": "stream",
     "text": [
      "5\n",
      "Lifeshort\n",
      "LifeLifeLife\n"
     ]
    }
   ],
   "source": [
    "# 리스트의 인덱싱과 연산\n",
    "print(b[1] + b[2])\n",
    "print(c[0] + c[3])\n",
    "print(c[0] * b[2])"
   ]
  },
  {
   "cell_type": "code",
   "execution_count": 9,
   "id": "1a40a468-083f-49be-9728-3c06e6b88fcc",
   "metadata": {},
   "outputs": [
    {
     "name": "stdout",
     "output_type": "stream",
     "text": [
      "[11, 22, 33, 44, 55]\n",
      "[33, 44, 55]\n",
      "[11, 22]\n",
      "[44, 55]\n",
      "[11, 33, 55]\n"
     ]
    }
   ],
   "source": [
    "# 리스트의 슬라이싱\n",
    "a = [11, 22, 33, 44, 55]\n",
    "print(a[:])\n",
    "print(a[2:])\n",
    "print(a[:-3])\n",
    "print(a[-2:])\n",
    "print(a[::2])"
   ]
  },
  {
   "cell_type": "code",
   "execution_count": 11,
   "id": "aded5c70-53aa-4944-936b-4228cc9e152a",
   "metadata": {},
   "outputs": [
    {
     "name": "stdout",
     "output_type": "stream",
     "text": [
      "[2, 3]\n"
     ]
    }
   ],
   "source": [
    "# 예제\n",
    "# 2, 3 출력\n",
    "a = [1, 2, 3, 4, 5]\n",
    "print(a[1:3])"
   ]
  },
  {
   "cell_type": "markdown",
   "id": "3ba76713-4438-4358-abb9-dab7112a9302",
   "metadata": {},
   "source": [
    "### 리스트 연산하기"
   ]
  },
  {
   "cell_type": "code",
   "execution_count": 37,
   "id": "c29fabdd-f16e-4c5d-b80b-508c58c23f1f",
   "metadata": {},
   "outputs": [],
   "source": [
    "a = [11, 22, 33]\n",
    "b = [44, 55, 66]"
   ]
  },
  {
   "cell_type": "code",
   "execution_count": 36,
   "id": "d8ef57a8-511d-4d0b-90c0-a2f1cf30a64d",
   "metadata": {},
   "outputs": [
    {
     "name": "stdout",
     "output_type": "stream",
     "text": [
      "[11, 44, 44, 55, 66]\n",
      "[11, 44, 11, 44, 11, 44]\n"
     ]
    },
    {
     "data": {
      "text/plain": [
       "6"
      ]
     },
     "execution_count": 36,
     "metadata": {},
     "output_type": "execute_result"
    }
   ],
   "source": [
    "# 리스트 합치기\n",
    "print(a + b)\n",
    "# 리스트 반복하기\n",
    "c = a * 3\n",
    "print(c)\n",
    "len(c)"
   ]
  },
  {
   "cell_type": "code",
   "execution_count": 33,
   "id": "1e3273ab-47a2-4503-9817-c3355ed6e411",
   "metadata": {},
   "outputs": [
    {
     "name": "stdout",
     "output_type": "stream",
     "text": [
      "[11, 22, 44]\n"
     ]
    }
   ],
   "source": [
    "# 리스트 값 수정하기\n",
    "a = [11, 22, 33]\n",
    "a[2] = 44\n",
    "print(a)\n",
    "# 아래는 오류 - 없는 요소를 수정하는 것은 에러\n",
    "# a[3] = 55\n",
    "# print(a)"
   ]
  },
  {
   "cell_type": "code",
   "execution_count": 34,
   "id": "ee0930c4-eba3-41c9-84bc-8da411e0ede0",
   "metadata": {},
   "outputs": [
    {
     "name": "stdout",
     "output_type": "stream",
     "text": [
      "[11, 44]\n",
      "[11, 22, 33, 11, 22, 33, 11, 22, 33]\n",
      "[22, 33, 11, 22, 33]\n"
     ]
    }
   ],
   "source": [
    "# 리스트 값 삭제하기\n",
    "# a[1] = ' ' # 값이 삭제되는 게 아니라 빈칸으로 삽입됨\n",
    "del a[1] \n",
    "print(a)\n",
    "# 리스트 값 슬라이싱으로 삭제\n",
    "print(c)\n",
    "del c[:4]\n",
    "print(c)"
   ]
  },
  {
   "cell_type": "markdown",
   "id": "32e7b41b-070e-4474-a881-b72589d53d95",
   "metadata": {},
   "source": [
    "### 리스트 관련 함수"
   ]
  },
  {
   "cell_type": "code",
   "execution_count": 38,
   "id": "130f8393-a8e4-401a-b672-ea40a80b4d2d",
   "metadata": {},
   "outputs": [
    {
     "name": "stdout",
     "output_type": "stream",
     "text": [
      "[11, 44, 11, 44, 11, 44]\n",
      "[]\n"
     ]
    }
   ],
   "source": [
    "#리스트 요소 비우기\n",
    "print(c)\n",
    "c.clear()\n",
    "print(c)"
   ]
  },
  {
   "cell_type": "code",
   "execution_count": 46,
   "id": "7bc4d09d-05a8-4ae2-ad66-bac4e2ee30c8",
   "metadata": {},
   "outputs": [],
   "source": [
    "a=[] # 리스트 초기화"
   ]
  },
  {
   "cell_type": "code",
   "execution_count": 45,
   "id": "a5cdbcc6-7396-41fd-b7de-54b09a55339b",
   "metadata": {},
   "outputs": [
    {
     "name": "stdout",
     "output_type": "stream",
     "text": [
      "[4]\n",
      "[4, [11, 22]]\n"
     ]
    }
   ],
   "source": [
    "# 리스트 요소 추가하기\n",
    "a.append(4)\n",
    "print(a)\n",
    "a.append([11, 22])\n",
    "print(a)"
   ]
  },
  {
   "cell_type": "code",
   "execution_count": 95,
   "id": "2b15d3e8-c58e-4d25-a910-9e1ceec5b444",
   "metadata": {},
   "outputs": [],
   "source": [
    "b=[]\n",
    "num = 0"
   ]
  },
  {
   "cell_type": "code",
   "execution_count": 103,
   "id": "8fe5960a-f684-4678-9036-0364872c3b73",
   "metadata": {},
   "outputs": [
    {
     "name": "stdout",
     "output_type": "stream",
     "text": [
      "[1, 2, 3, 4, 5, 6, 7, 8]\n"
     ]
    }
   ],
   "source": [
    "num += 1\n",
    "b.append(num)\n",
    "print(b)"
   ]
  },
  {
   "cell_type": "code",
   "execution_count": 108,
   "id": "0de54a38-11a5-461a-b770-f5584fbf41e8",
   "metadata": {},
   "outputs": [
    {
     "name": "stdout",
     "output_type": "stream",
     "text": [
      "[11, 22, 33, 44, 55]\n"
     ]
    }
   ],
   "source": [
    "# 리스트 정렬(오름차순) - sort\n",
    "a = [11, 44, 33, 22, 55]\n",
    "a.sort()\n",
    "print(a)"
   ]
  },
  {
   "cell_type": "code",
   "execution_count": 114,
   "id": "087c4f11-a9c4-420d-9dbe-8062ef3a4c8d",
   "metadata": {},
   "outputs": [
    {
     "name": "stdout",
     "output_type": "stream",
     "text": [
      "[55, 44, 33, 22, 11]\n"
     ]
    }
   ],
   "source": [
    "# 리스트 정렬(내림차순)\n",
    "a = [11, 44, 33, 22, 55]\n",
    "a.sort(reverse = True)\n",
    "print(a)"
   ]
  },
  {
   "cell_type": "code",
   "execution_count": 113,
   "id": "ef7249f2-6755-4b01-8b64-c5b722510b87",
   "metadata": {},
   "outputs": [
    {
     "name": "stdout",
     "output_type": "stream",
     "text": [
      "[66, 77, 88, 99, 0]\n",
      "[0, 66, 77, 88, 99]\n",
      "[99, 88, 77, 66, 0]\n"
     ]
    }
   ],
   "source": [
    "# 리스트 정렬 원본 유지하기\n",
    "aa = [66, 77, 88, 99, 0]\n",
    "bb = sorted(aa)\n",
    "cc = sorted(aa, reverse = True)\n",
    "print(aa)\n",
    "print(bb)\n",
    "print(cc)"
   ]
  },
  {
   "cell_type": "code",
   "execution_count": 106,
   "id": "6267a555-b605-4f91-8716-60a833212d13",
   "metadata": {},
   "outputs": [
    {
     "name": "stdout",
     "output_type": "stream",
     "text": [
      "[55, 22, 33, 44, 11]\n"
     ]
    }
   ],
   "source": [
    "# 리스트 뒤집기 - reverse\n",
    "a = [11, 44, 33, 22, 55]\n",
    "a.reverse()\n",
    "print(a)"
   ]
  },
  {
   "cell_type": "code",
   "execution_count": 116,
   "id": "478b80cc-7ecc-4040-84e0-0908476f7901",
   "metadata": {},
   "outputs": [
    {
     "name": "stdout",
     "output_type": "stream",
     "text": [
      "['banana', 'kiwi', 'orange', 'melon', 'pear', 'apple', 'strawberry', 'blueberry']\n",
      "['kiwi', 'pear', 'melon', 'apple', 'banana', 'orange', 'blueberry', 'strawberry']\n",
      "['strawberry', 'blueberry', 'banana', 'orange', 'melon', 'apple', 'kiwi', 'pear']\n"
     ]
    }
   ],
   "source": [
    "# sorted 응용\n",
    "fruit = ['banana', 'kiwi', 'orange', 'melon', 'pear', 'apple', 'strawberry', 'blueberry']\n",
    "result = sorted(fruit, key = len)\n",
    "result2 = sorted(fruit, key = len, reverse = True)\n",
    "print(fruit)\n",
    "print(result)\n",
    "print(result2)"
   ]
  },
  {
   "cell_type": "code",
   "execution_count": 121,
   "id": "7b5b2442-ca2b-4431-b2a1-afa1f1bca06b",
   "metadata": {},
   "outputs": [
    {
     "name": "stdout",
     "output_type": "stream",
     "text": [
      "kiwi 냠냠 맛있다\n",
      "pear 냠냠 맛있다\n",
      "melon 냠냠 맛있다\n",
      "apple 냠냠 맛있다\n",
      "banana 못먹겠어\n",
      "orange 냠냠 맛있다\n",
      "blueberry 냠냠 맛있다\n",
      "strawberry 냠냠 맛있다\n",
      "와~ 다 먹었다\n"
     ]
    }
   ],
   "source": [
    "for r in result:\n",
    "    if r == 'banana':\n",
    "        print(r + ' 못먹겠어')\n",
    "    if r != 'banana':\n",
    "        print(r + ' 냠냠 맛있다')\n",
    "print('와~ 다 먹었다')"
   ]
  },
  {
   "cell_type": "code",
   "execution_count": 1,
   "id": "c300f79e-d0fc-4f1b-b5d8-91c5f252e7dd",
   "metadata": {},
   "outputs": [
    {
     "name": "stdout",
     "output_type": "stream",
     "text": [
      "3\n"
     ]
    }
   ],
   "source": [
    "# 인덱스 반환 - index\n",
    "fruit = ['banana', 'kiwi', 'orange', 'melon', 'pear', 'apple', 'strawberry', 'blueberry']\n",
    "print(fruit.index('melon'))"
   ]
  },
  {
   "cell_type": "code",
   "execution_count": 129,
   "id": "eb45b20c-7178-47a4-b0ef-4d212591ac16",
   "metadata": {},
   "outputs": [
    {
     "name": "stdin",
     "output_type": "stream",
     "text": [
      "먹고싶은 과일을 입력하세요 orange\n"
     ]
    },
    {
     "name": "stdout",
     "output_type": "stream",
     "text": [
      "orange를 좋아하시는군요!! 그것은 3번 째에 있습니다\n"
     ]
    }
   ],
   "source": [
    "fruit = ['banana', 'kiwi', 'orange', 'melon', 'pear', 'apple', 'strawberry', 'blueberry']\n",
    "want = input('먹고싶은 과일을 입력하세요')\n",
    "where = fruit.index(want)\n",
    "print(f\"{want}를 좋아하시는군요!! 그것은 {where+1}번 째에 있습니다\")"
   ]
  },
  {
   "cell_type": "code",
   "execution_count": 131,
   "id": "ce41aec4-4981-451e-ab37-71c489e6241c",
   "metadata": {},
   "outputs": [
    {
     "name": "stdout",
     "output_type": "stream",
     "text": [
      "[11, 22, 33, 55, 66, 77, 88]\n",
      "[11, 22, 33, 44, 55, 66, 77, 88]\n"
     ]
    }
   ],
   "source": [
    "# 리스트에 요소 삽입 - insert\n",
    "num = [11, 22, 33, 55, 66, 77, 88]\n",
    "print(num)\n",
    "num.insert(3 ,44)\n",
    "print(num)"
   ]
  },
  {
   "cell_type": "code",
   "execution_count": 138,
   "id": "2cbc506e-5c9b-4fc1-a875-d2dd1e7f8514",
   "metadata": {},
   "outputs": [],
   "source": [
    "ex=[] #리스트 초기화"
   ]
  },
  {
   "cell_type": "code",
   "execution_count": 143,
   "id": "1df4ac64-8914-482f-809d-6af50d0dc939",
   "metadata": {},
   "outputs": [
    {
     "name": "stdout",
     "output_type": "stream",
     "text": [
      "[11, 22, 33, 44, 44]\n"
     ]
    }
   ],
   "source": [
    "ex.insert(len(ex),44) #숫자 부분 계속 수정해서 추가 가능\n",
    "print(ex)"
   ]
  },
  {
   "cell_type": "code",
   "execution_count": 13,
   "id": "c6c6103c-801f-4216-8ba9-b9f2d06633e1",
   "metadata": {},
   "outputs": [
    {
     "name": "stdout",
     "output_type": "stream",
     "text": [
      "[1, 3, 1, 2, 3]\n"
     ]
    }
   ],
   "source": [
    "# 리스트 요소제거 - remove\n",
    "a = [1,2,3,1,2,3]\n",
    "a.remove(2)    # 2번째 값이 아니라 2를 삭제\n",
    "print(a)"
   ]
  },
  {
   "cell_type": "code",
   "execution_count": 18,
   "id": "27f42de5-97e7-45cb-82c7-0062d9ea25e9",
   "metadata": {},
   "outputs": [
    {
     "name": "stdout",
     "output_type": "stream",
     "text": [
      "[1, 2]\n",
      "받은거 3\n"
     ]
    }
   ],
   "source": [
    "# 리스트 요소 끄집어내기 - pop\n",
    "a = [1, 2, 3]\n",
    "hand = a.pop() # 리턴값을 받음\n",
    "print(a)\n",
    "print(\"받은거\", hand)"
   ]
  },
  {
   "cell_type": "markdown",
   "id": "9aba31de-f4a4-4062-8739-e09a25c7c8da",
   "metadata": {},
   "source": [
    "선입선출 (FIFO - 큐 Queue)\n",
    "<br>\n",
    "후입선출 (LIFO - 스택 Stack)"
   ]
  },
  {
   "cell_type": "code",
   "execution_count": 19,
   "id": "ab4f118b-230d-4895-abf7-8f2560cf67e8",
   "metadata": {},
   "outputs": [
    {
     "name": "stdout",
     "output_type": "stream",
     "text": [
      "[1, 3]\n"
     ]
    }
   ],
   "source": [
    "a = [1, 2, 3]\n",
    "a.pop(1)\n",
    "print(a)    # 선택부분 pop"
   ]
  },
  {
   "cell_type": "code",
   "execution_count": 24,
   "id": "caaf39da-e491-4980-862a-43e783ecf7ce",
   "metadata": {},
   "outputs": [
    {
     "name": "stdout",
     "output_type": "stream",
     "text": [
      "2\n",
      "3\n"
     ]
    }
   ],
   "source": [
    "# 리스트에 포함된 요소 x의 개수 세기 - Count\n",
    "st = \"안녕하세요 반가워요\"\n",
    "print(st.count(\"요\"))\n",
    "a = [1, 2, 3, 1, 5, 12, 3, 6, 7, 7, 2, 32, 4, 5, 6, 3, 4, 2]\n",
    "print(a.count(3))\n"
   ]
  },
  {
   "cell_type": "code",
   "execution_count": 28,
   "id": "2bb1432b-75a9-479b-af6c-d318d3334926",
   "metadata": {},
   "outputs": [
    {
     "name": "stdout",
     "output_type": "stream",
     "text": [
      "[1, 2, 3, 4, 5]\n",
      "[11, 22, 33, 44, 55, 66]\n"
     ]
    }
   ],
   "source": [
    "# 리스트 확장 - extend\n",
    "a = [1, 2, 3]\n",
    "a.extend([4, 5])\n",
    "print(a)\n",
    "b = [11, 22, 33]\n",
    "c = [44, 55, 66]\n",
    "print(b + c)    # extend나 +나 파이썬은 둘 다 지원"
   ]
  },
  {
   "cell_type": "markdown",
   "id": "175998b6-981b-4717-a6f1-b3c3ef9c3d29",
   "metadata": {},
   "source": [
    "CRUD <br>\n",
    "Create, Read, Update, Delete"
   ]
  },
  {
   "cell_type": "code",
   "execution_count": 31,
   "id": "c5c0a643-0560-4a28-a63c-8ea468810929",
   "metadata": {},
   "outputs": [],
   "source": [
    "# 장바구니\n",
    "bag = []"
   ]
  },
  {
   "cell_type": "code",
   "execution_count": 44,
   "id": "b7a1d84e-d05e-4522-b9d0-7f824b744793",
   "metadata": {},
   "outputs": [
    {
     "name": "stdin",
     "output_type": "stream",
     "text": [
      "필요한 항목을 넣어주세요 과자\n"
     ]
    },
    {
     "name": "stdout",
     "output_type": "stream",
     "text": [
      "장바구니에는 ['라면', '감자', '카레', '과자']들이 있습니다\n"
     ]
    }
   ],
   "source": [
    "# Create 생성\n",
    "inp = input(\"필요한 항목을 넣어주세요\")\n",
    "bag.append(inp)\n",
    "print(f\"장바구니에는 {bag}들이 있습니다\")"
   ]
  },
  {
   "cell_type": "code",
   "execution_count": 45,
   "id": "9062c57d-a994-4761-a660-b46d3671c8fd",
   "metadata": {},
   "outputs": [
    {
     "name": "stdout",
     "output_type": "stream",
     "text": [
      "라면을(를) 꺼내서 장바구니에 ['감자', '카레', '과자'](이)가 남았습니다\n"
     ]
    }
   ],
   "source": [
    "# FIFO 출력\n",
    "hand = bag.pop(0)\n",
    "print(f\"{hand}을(를) 꺼내서 장바구니에 {bag}(이)가 남았습니다\")"
   ]
  },
  {
   "cell_type": "code",
   "execution_count": 52,
   "id": "834d3b30-333a-49f2-998d-fa086c7b1764",
   "metadata": {},
   "outputs": [
    {
     "name": "stdout",
     "output_type": "stream",
     "text": [
      "바구니에 ['라면', '감자', '카레', '과자', '피자'] 물품이 있습니다.\n"
     ]
    },
    {
     "name": "stdin",
     "output_type": "stream",
     "text": [
      "꺼내고 싶은 물품을 입력하세요. 감자\n"
     ]
    },
    {
     "name": "stdout",
     "output_type": "stream",
     "text": [
      "바구니에서 감자을(를) 꺼내어 ['라면', '카레', '과자', '피자']이(가) 남았습니다\n"
     ]
    }
   ],
   "source": [
    "# 선택 출력\n",
    "bag = ['라면', '감자', '카레', '과자', '피자']\n",
    "print(f\"바구니에 {bag} 물품이 있습니다.\")\n",
    "bring = input(\"꺼내고 싶은 물품을 입력하세요.\")\n",
    "hand2 = bag.pop(bag.index(bring))\n",
    "print(f\"바구니에서 {hand2}을(를) 꺼내어 {bag}이(가) 남았습니다\")"
   ]
  },
  {
   "cell_type": "code",
   "execution_count": 49,
   "id": "7c62108a-4f1c-4b30-bcfa-06b4b59ec536",
   "metadata": {},
   "outputs": [
    {
     "name": "stdout",
     "output_type": "stream",
     "text": [
      "44을(를) 제거했습니다\n"
     ]
    }
   ],
   "source": [
    "# 테스트\n",
    "choice = 44\n",
    "a = [11, 22, 33, 44, 55, 66]\n",
    "a.remove(choice)\n",
    "print(f\"{choice}을(를) 제거했습니다\")"
   ]
  },
  {
   "cell_type": "code",
   "execution_count": 65,
   "id": "98150a4e-a01a-4150-bf06-0f3a436d3cd9",
   "metadata": {},
   "outputs": [
    {
     "name": "stdin",
     "output_type": "stream",
     "text": [
      "추가할 물건 이름을 입력해주세요 바나나\n",
      "어느 물품의 뒤에 넣을까요? 라면\n"
     ]
    },
    {
     "name": "stdout",
     "output_type": "stream",
     "text": [
      "['라면', '바나나', '감자', '카레', '과자']\n"
     ]
    }
   ],
   "source": [
    "# 실습\n",
    "bag = ['라면', '감자', '카레', '과자']\n",
    "# 물품 하나를 추가하는데, 지정한 물품 바로 뒤에 추가\n",
    "test1 = input(\"추가할 물건 이름을 입력해주세요\")\n",
    "test2 = input(\"어느 물품의 뒤에 넣을까요?\")\n",
    "point = bag.index(test2)\n",
    "bag.insert(point+1,test1)\n",
    "print(bag)"
   ]
  },
  {
   "cell_type": "code",
   "execution_count": 69,
   "id": "017b2958-dab8-467a-be8e-47251c79b64a",
   "metadata": {},
   "outputs": [
    {
     "name": "stdin",
     "output_type": "stream",
     "text": [
      "내가 누구게? (숫자입력) : 123\n"
     ]
    },
    {
     "name": "stdout",
     "output_type": "stream",
     "text": [
      "123 <class 'str'>\n"
     ]
    },
    {
     "name": "stdin",
     "output_type": "stream",
     "text": [
      "내가 누구게? (숫자입력) : 123\n"
     ]
    },
    {
     "name": "stdout",
     "output_type": "stream",
     "text": [
      "123 <class 'int'>\n"
     ]
    }
   ],
   "source": [
    "# 테스트\n",
    "num = input(\"내가 누구게? (숫자입력) :\")\n",
    "print(num, type(num))\n",
    "num2 = int(input(\"내가 누구게? (숫자입력) :\"))    # int(input...)\n",
    "print(num2, type(num2))"
   ]
  },
  {
   "cell_type": "code",
   "execution_count": 5,
   "id": "f84489bf-92de-44fe-acbc-3eb12a9e9471",
   "metadata": {},
   "outputs": [
    {
     "name": "stdout",
     "output_type": "stream",
     "text": [
      "<class 'list'>\n",
      "1,460.8 <class 'str'>\n",
      "1460.8 <class 'float'>\n"
     ]
    }
   ],
   "source": [
    "import requests\n",
    "import json\n",
    "url = 'https://www.koreaexim.go.kr/site/program/financial/exchangeJSON?authkey=53yAHtSc6aBqKhkYRYdq2SAv7Bh6oCWK&data=AP01'\n",
    "res = requests.get(url).text\n",
    "data = json.loads(res)\n",
    "print(type(data))\n",
    "result = data[-1][\"deal_bas_r\"]\n",
    "print(result, type(result))\n",
    "# 스트링을 숫자로 바꾸어라. 단, 쉼표는 전처리하여 사용 가능하게 하라\n",
    "result2 = float(result.replace(\",\", \"\"))\n",
    "print(result2, type(result2))\n",
    "exc = int(result2)/10"
   ]
  },
  {
   "cell_type": "code",
   "execution_count": 124,
   "id": "71fb0196-e007-45b9-ab37-deb27f5c2cc3",
   "metadata": {},
   "outputs": [
    {
     "name": "stdin",
     "output_type": "stream",
     "text": [
      "달러 입력 : 100\n"
     ]
    },
    {
     "name": "stdout",
     "output_type": "stream",
     "text": [
      "1달러는 1450원이므로, \n",
      "요청하신 100달러 변환값은 145,000원 입니다\n"
     ]
    }
   ],
   "source": [
    "# 환율계산기 만들기\n",
    "exc = 1450\n",
    "dollar = int(input(\"달러 입력 :\"))\n",
    "won = dollar * exc\n",
    "print(f\"1달러는 {exc}원이므로, \\n요청하신 {dollar}달러 변환값은 {won:,}원 입니다\")"
   ]
  },
  {
   "cell_type": "markdown",
   "id": "4f08b142-0dc8-4c11-b17a-fe23642bdb60",
   "metadata": {},
   "source": [
    "API = 설명서"
   ]
  },
  {
   "cell_type": "code",
   "execution_count": 134,
   "id": "397d1bbd-9493-497e-a7ff-25090835af81",
   "metadata": {},
   "outputs": [
    {
     "name": "stdin",
     "output_type": "stream",
     "text": [
      "질문3 ㅁ\n"
     ]
    },
    {
     "name": "stdout",
     "output_type": "stream",
     "text": [
      "ㅁ\n",
      "ㅁ\n",
      "ㅁ\n"
     ]
    }
   ],
   "source": [
    "# 질문1 \n",
    "# 새로 받을 때마다 앞에 내용 지우는 방법\n",
    "from IPython.display import clear_output\n",
    "\n",
    "inp1 = input('질문1')\n",
    "clear_output(wait=True)\n",
    "inp2 = input('질문2')\n",
    "clear_output(wait=True)\n",
    "inp3 = input('질문3')\n",
    "print(inp1)\n",
    "print(inp2)\n",
    "print(inp3)"
   ]
  },
  {
   "cell_type": "code",
   "execution_count": 135,
   "id": "f24ad917-9a4c-416d-a8ee-9fb69c761c82",
   "metadata": {},
   "outputs": [
    {
     "data": {
      "text/plain": [
       "0.30000000000000004"
      ]
     },
     "execution_count": 135,
     "metadata": {},
     "output_type": "execute_result"
    }
   ],
   "source": [
    "# 질문2\n",
    "# 이진법으로 소수점 표현하는 방법?\n",
    "0.1 + 0.2"
   ]
  },
  {
   "cell_type": "code",
   "execution_count": 136,
   "id": "42eb96af-3321-424f-b649-369260a919ae",
   "metadata": {},
   "outputs": [
    {
     "name": "stdout",
     "output_type": "stream",
     "text": [
      "2898.8\n"
     ]
    }
   ],
   "source": [
    "from decimal import Decimal\n",
    "rr = 1449.4\n",
    "# result = Decimal(rr)*2 정밀계산\n",
    "rr = 1449.4 * 2\n",
    "print(round(rr, 1))"
   ]
  },
  {
   "cell_type": "markdown",
   "id": "e1c02082-579c-4983-b307-31168a762541",
   "metadata": {},
   "source": [
    "# 튜플 자료형"
   ]
  },
  {
   "cell_type": "code",
   "execution_count": 139,
   "id": "9f40f553-483d-4b98-a209-505e07f96e29",
   "metadata": {},
   "outputs": [],
   "source": [
    "t1 = ()\n",
    "t2 = (1,)\n",
    "t3 = (1,2,3)\n",
    "t4 = 1,2,3\n",
    "t5 = ('a', 'b', ('ab', 'cd'))"
   ]
  },
  {
   "cell_type": "code",
   "execution_count": null,
   "id": "96bafb18-42a3-47fa-8848-0cdba29f85ce",
   "metadata": {},
   "outputs": [],
   "source": [
    "# 튜플의 요소값을 삭제하려 할 때\n",
    "t1 = (1,2,'a','b')\n",
    "del t1[0]"
   ]
  },
  {
   "attachments": {
    "972af77e-dfca-403c-bc44-73ac89a8e3a1.png": {
     "image/png": "[encoded data removed]"
    }
   },
   "cell_type": "markdown",
   "id": "5d255860-f5cb-4ccd-81d1-7780308dcb48",
   "metadata": {},
   "source": [
    "<img src=attachment:972af77e-dfca-403c-bc44-73ac89a8e3a1.png>"
   ]
  },
  {
   "cell_type": "code",
   "execution_count": 145,
   "id": "f1945644-6dc8-4a0c-bdbd-bdc1e19c3471",
   "metadata": {
    "collapsed": true,
    "jupyter": {
     "outputs_hidden": true
    }
   },
   "outputs": [
    {
     "ename": "TypeError",
     "evalue": "'tuple' object does not support item assignment",
     "output_type": "error",
     "traceback": [
      "\u001b[1;31m---------------------------------------------------------------------------\u001b[0m",
      "\u001b[1;31mTypeError\u001b[0m                                 Traceback (most recent call last)",
      "Cell \u001b[1;32mIn[145], line 3\u001b[0m\n\u001b[0;32m      1\u001b[0m \u001b[38;5;66;03m# 튜플 요소값을 변경하려 할 때\u001b[39;00m\n\u001b[0;32m      2\u001b[0m t1 \u001b[38;5;241m=\u001b[39m (\u001b[38;5;241m1\u001b[39m, \u001b[38;5;241m2\u001b[39m, \u001b[38;5;124m'\u001b[39m\u001b[38;5;124ma\u001b[39m\u001b[38;5;124m'\u001b[39m, \u001b[38;5;124m'\u001b[39m\u001b[38;5;124mb\u001b[39m\u001b[38;5;124m'\u001b[39m)\n\u001b[1;32m----> 3\u001b[0m \u001b[43mt1\u001b[49m\u001b[43m[\u001b[49m\u001b[38;5;241;43m0\u001b[39;49m\u001b[43m]\u001b[49m \u001b[38;5;241m=\u001b[39m \u001b[38;5;124m'\u001b[39m\u001b[38;5;124mc\u001b[39m\u001b[38;5;124m'\u001b[39m\n",
      "\u001b[1;31mTypeError\u001b[0m: 'tuple' object does not support item assignment"
     ]
    }
   ],
   "source": [
    "# 튜플 요소값을 변경하려 할 때\n",
    "t1 = (1, 2, 'a', 'b')\n",
    "t1[0] = 'c'"
   ]
  },
  {
   "attachments": {
    "30f61f2e-a0f4-4a65-92d7-73b9e9d7efb1.png": {
     "image/png": "[encoded data removed]"
    }
   },
   "cell_type": "markdown",
   "id": "ef84f3da-03f6-4fae-8d5c-7035051dfab5",
   "metadata": {},
   "source": [
    "<img src=attachment:30f61f2e-a0f4-4a65-92d7-73b9e9d7efb1.png>"
   ]
  },
  {
   "cell_type": "code",
   "execution_count": 147,
   "id": "0bb7ec23-e76c-4126-a418-4cf5dc1f6da3",
   "metadata": {},
   "outputs": [],
   "source": [
    "# dir(tuple) # tuple()"
   ]
  },
  {
   "cell_type": "code",
   "execution_count": 148,
   "id": "0fa028df-4339-4ff2-b1b0-cc2d23761197",
   "metadata": {},
   "outputs": [
    {
     "name": "stdout",
     "output_type": "stream",
     "text": [
      "1 b\n"
     ]
    }
   ],
   "source": [
    "# 인덱싱하기\n",
    "t1 = (1, 2, 'a', 'b')\n",
    "print(t1[0], t1[3])"
   ]
  },
  {
   "cell_type": "code",
   "execution_count": 149,
   "id": "4b82d2f3-1038-421e-b120-77bcc19ab7d2",
   "metadata": {},
   "outputs": [
    {
     "name": "stdout",
     "output_type": "stream",
     "text": [
      "(2, 'a', 'b')\n"
     ]
    }
   ],
   "source": [
    "# 슬라이싱\n",
    "t1 = (1, 2, 'a', 'b')\n",
    "print(t1[1:])"
   ]
  },
  {
   "cell_type": "code",
   "execution_count": 150,
   "id": "cca4ffbe-0ea2-4bd7-bb1c-f48fd25671ce",
   "metadata": {},
   "outputs": [
    {
     "name": "stdout",
     "output_type": "stream",
     "text": [
      "(1, 2, 'a', 'b', 3, 4)\n"
     ]
    }
   ],
   "source": [
    "# 튜플 더하기\n",
    "t1 = (1, 2, 'a', 'b')\n",
    "t2 = (3, 4)\n",
    "t3 = t1 + t2\n",
    "print(t3)"
   ]
  },
  {
   "cell_type": "code",
   "execution_count": 154,
   "id": "09ad96c9-27d2-46b8-8d9f-37c82f4d7306",
   "metadata": {},
   "outputs": [
    {
     "name": "stdout",
     "output_type": "stream",
     "text": [
      "(3, 4, 3, 4, 3, 4)\n"
     ]
    }
   ],
   "source": [
    "# 튜플 곱하기\n",
    "t2 = 3, 4\n",
    "t3 = t2 * 3\n",
    "print(t3)"
   ]
  },
  {
   "cell_type": "code",
   "execution_count": 155,
   "id": "012e548f-1443-413e-ade7-8d15b2e90428",
   "metadata": {},
   "outputs": [
    {
     "data": {
      "text/plain": [
       "6"
      ]
     },
     "execution_count": 155,
     "metadata": {},
     "output_type": "execute_result"
    }
   ],
   "source": [
    "# 튜플 길이 구하기\n",
    "len(t3)"
   ]
  },
  {
   "cell_type": "markdown",
   "id": "2165eb0c-4e18-4b5e-9944-35405bc15e9d",
   "metadata": {},
   "source": [
    "## 딕셔너리 자료형"
   ]
  },
  {
   "cell_type": "markdown",
   "id": "231a2c55-116d-47ba-823e-fd8f96838f51",
   "metadata": {},
   "source": [
    "키값쌍<br>\n",
    "{키:값, 키:값, 키:값, 키:값, 키:값, 키:값}"
   ]
  },
  {
   "cell_type": "code",
   "execution_count": 156,
   "id": "88ea9468-66c7-4bc0-a87f-08a45b659221",
   "metadata": {},
   "outputs": [],
   "source": [
    "dic = {'name': 'pey', 'phone': '010-1234-1234', 'birth': '1118'}"
   ]
  },
  {
   "cell_type": "code",
   "execution_count": 157,
   "id": "7b6be5d3-875d-4fdf-9997-72b6ac828e86",
   "metadata": {},
   "outputs": [
    {
     "name": "stdout",
     "output_type": "stream",
     "text": [
      "pey\n",
      "010-1234-1234\n",
      "1118\n"
     ]
    }
   ],
   "source": [
    "print(dic['name'])\n",
    "print(dic['phone'])\n",
    "print(dic['birth'])"
   ]
  },
  {
   "cell_type": "code",
   "execution_count": 161,
   "id": "663c63b4-f19c-4ce0-97cf-f659a3ee61e7",
   "metadata": {},
   "outputs": [
    {
     "name": "stdout",
     "output_type": "stream",
     "text": [
      "11\n",
      "11\n",
      "11\n"
     ]
    }
   ],
   "source": [
    "al = [11, 22, 33, 44, 55]\n",
    "at = 11, 22, 33, 44, 55\n",
    "ad = {0:11, 1:22, 2:33, 3:44, 4:55}\n",
    "print(al[0])\n",
    "print(at[0])\n",
    "print(ad[0])    # 키 생략"
   ]
  },
  {
   "cell_type": "code",
   "execution_count": 163,
   "id": "30d81cad-2149-4e13-8bf3-df98537f1c76",
   "metadata": {},
   "outputs": [
    {
     "name": "stdout",
     "output_type": "stream",
     "text": [
      "11\n",
      "22\n",
      "33\n",
      "44\n",
      "55\n",
      "==========\n",
      "11\n",
      "22\n",
      "33\n",
      "44\n",
      "55\n"
     ]
    }
   ],
   "source": [
    "# test\n",
    "for i in al:\n",
    "    print(i)\n",
    "print('='*10)\n",
    "for t in at:\n",
    "    print(t)"
   ]
  },
  {
   "cell_type": "code",
   "execution_count": 166,
   "id": "8d43f5dd-9c55-47e8-924b-b30e288bf903",
   "metadata": {},
   "outputs": [
    {
     "name": "stdout",
     "output_type": "stream",
     "text": [
      "[1, 2, 3, 4, 5]\n"
     ]
    }
   ],
   "source": [
    "a = {'aa':[1,2,3,4,5]}\n",
    "print(a['aa'])"
   ]
  },
  {
   "cell_type": "code",
   "execution_count": 167,
   "id": "f53d6708-b543-4c3c-854c-883714b78e72",
   "metadata": {},
   "outputs": [
    {
     "data": {
      "text/plain": [
       "'010-1234-1234'"
      ]
     },
     "execution_count": 167,
     "metadata": {},
     "output_type": "execute_result"
    }
   ],
   "source": [
    "dic2 = {'aa':{'name': 'pey', 'phone': '010-1234-1234', 'birth': '1118'}}\n",
    "dic2['aa']['phone']"
   ]
  },
  {
   "cell_type": "markdown",
   "id": "8cad3e4f-eaff-4e10-864a-92e430c51acc",
   "metadata": {},
   "source": [
    "### 딕셔너리 쌍 추가, 삭제하기"
   ]
  },
  {
   "cell_type": "code",
   "execution_count": 169,
   "id": "986647f9-7c58-4c2e-9264-e0d4ddbfb9a7",
   "metadata": {},
   "outputs": [
    {
     "name": "stdout",
     "output_type": "stream",
     "text": [
      "{'name': 'pey', 'phone': '010-1234-1234', 'birth': '1118', 'adress': 'busan'}\n"
     ]
    }
   ],
   "source": [
    "dic = {'name': 'pey', 'phone': '010-1234-1234', 'birth': '1118'}\n",
    "dic[\"adress\"] = \"busan\"\n",
    "print(dic)"
   ]
  },
  {
   "cell_type": "code",
   "execution_count": 170,
   "id": "bdb9c2b4-7c6d-4201-9b8f-42393d654d71",
   "metadata": {},
   "outputs": [
    {
     "name": "stdout",
     "output_type": "stream",
     "text": [
      "{'name': 'pey', 'phone': '010-1234-1234', 'birth': '1118', 'adress': 'busan', 'array': [1, 2, 3, 4, 5]}\n"
     ]
    }
   ],
   "source": [
    "dic['array'] = [1,2,3,4,5]\n",
    "print(dic)"
   ]
  },
  {
   "cell_type": "code",
   "execution_count": 171,
   "id": "e471cbc0-6eb6-4c55-905f-405755c71d35",
   "metadata": {},
   "outputs": [
    {
     "name": "stdout",
     "output_type": "stream",
     "text": [
      "{'name': 'pey', 'phone': '010-1234-1234', 'birth': '1118', 'adress': 'busan', 'array': [1, 2, 3, 4, 5]}\n",
      "{'name': 'pey', 'phone': '010-1234-1234', 'adress': 'busan', 'array': [1, 2, 3, 4, 5]}\n"
     ]
    }
   ],
   "source": [
    "print(dic)\n",
    "del dic['birth']\n",
    "print(dic)"
   ]
  },
  {
   "cell_type": "code",
   "execution_count": 6,
   "id": "a0bc7629-27ff-478e-a369-d66a01130fbd",
   "metadata": {},
   "outputs": [
    {
     "name": "stdout",
     "output_type": "stream",
     "text": [
      "{1: 'b'}\n"
     ]
    }
   ],
   "source": [
    "# 딕셔너리 만들 때 주의할 사항\n",
    "a = {1:'a', 1:'b'}\n",
    "print(a)\n",
    "# 키 값이 중복일 땐 앞에 있는 거 무시하는 오류 발생"
   ]
  },
  {
   "cell_type": "markdown",
   "id": "91c0f80b-48d1-4480-9c0a-dbddd28cec24",
   "metadata": {},
   "source": [
    "### 딕셔너리 관련함수"
   ]
  },
  {
   "cell_type": "code",
   "execution_count": 13,
   "id": "e663c412-082b-4c1b-8e6d-a771fca87fea",
   "metadata": {},
   "outputs": [
    {
     "name": "stdout",
     "output_type": "stream",
     "text": [
      "dict_keys(['name', 'phone', 'birth', 'adress', 'array'])\n",
      "dict_values(['pey', '010-1234-1234', '1118', 'busan', [1, 2, 3, 4, 5]])\n",
      "dict_items([('name', 'pey'), ('phone', '010-1234-1234'), ('birth', '1118'), ('adress', 'busan'), ('array', [1, 2, 3, 4, 5])])\n",
      "{'name': 'pey', 'phone': '010-1234-1234', 'birth': '1118', 'adress': 'busan', 'array': [1, 2, 3, 4, 5]}\n",
      "{}\n"
     ]
    }
   ],
   "source": [
    "a = {'name': 'pey', 'phone': '010-1234-1234', 'birth': '1118', 'adress': 'busan', 'array': [1, 2, 3, 4, 5]}\n",
    "# key 리스트 만들기 - keys\n",
    "print(a.keys())\n",
    "# value 리스트 만들기 - values\n",
    "print(a.values())\n",
    "# key, value 쌍 얻기 - items\n",
    "print(a.items())\n",
    "# key:value 쌍 모두 지우기 - clear\n",
    "print(a)\n",
    "a.clear()\n",
    "print(a)"
   ]
  },
  {
   "cell_type": "code",
   "execution_count": 9,
   "id": "5e3e6eb1-f167-44cb-b7b5-2a495fa2d634",
   "metadata": {},
   "outputs": [
    {
     "name": "stdout",
     "output_type": "stream",
     "text": [
      "name\n",
      "phone\n",
      "birth\n",
      "adress\n",
      "array\n"
     ]
    }
   ],
   "source": [
    "for k in a.keys():\n",
    "    print(k)"
   ]
  },
  {
   "cell_type": "code",
   "execution_count": 15,
   "id": "08161835-1d1b-4a79-bf22-6ad77d8dda25",
   "metadata": {},
   "outputs": [
    {
     "name": "stdout",
     "output_type": "stream",
     "text": [
      "pey\n",
      "None\n"
     ]
    }
   ],
   "source": [
    "a = {'name': 'pey', 'phone': '010-1234-1234', 'birth': '1118', 'adress': 'busan', 'array': [1, 2, 3, 4, 5]}\n",
    "print(a.get('name'))\n",
    "print(a.get('super'))\n",
    "# print(a['money']) 오류"
   ]
  },
  {
   "cell_type": "code",
   "execution_count": 16,
   "id": "0ac33309-3836-4ff1-b193-5fb963bc1220",
   "metadata": {},
   "outputs": [
    {
     "name": "stdout",
     "output_type": "stream",
     "text": [
      "True\n"
     ]
    }
   ],
   "source": [
    "a = {'name': 'pey', 'phone': '010-1234-1234', 'birth': '1118', 'adress': 'busan', 'array': [1, 2, 3, 4, 5]}\n",
    "print('name' in a)"
   ]
  },
  {
   "cell_type": "markdown",
   "id": "1e584834-9bf1-43f5-932c-473bc73459b0",
   "metadata": {},
   "source": [
    "숫자<br>\n",
    "문자열<br>\n",
    "불(비트)<br>"
   ]
  },
  {
   "cell_type": "code",
   "execution_count": 21,
   "id": "29893b5d-5a9d-49d5-b5a0-e9dae8e6950c",
   "metadata": {},
   "outputs": [
    {
     "name": "stdout",
     "output_type": "stream",
     "text": [
      "True\n",
      "False\n",
      "True\n"
     ]
    }
   ],
   "source": [
    "al = [11, 22, 33, 44, 55]\n",
    "at = 11, 22, 33, 44, 55\n",
    "ad = {0:11, 1:22, 2:33, 3:44, 4:55}\n",
    "\n",
    "print(55 in al) #리스트\n",
    "print(77 in al) #튜플\n",
    "print(1 in ad) #딕셔너리의 키"
   ]
  },
  {
   "cell_type": "code",
   "execution_count": null,
   "id": "97b6bfd4-8c54-4913-b4cc-66676400e8d6",
   "metadata": {},
   "outputs": [],
   "source": []
  }
 ],
 "metadata": {
  "kernelspec": {
   "display_name": "Python 3 (ipykernel)",
   "language": "python",
   "name": "python3"
  },
  "language_info": {
   "codemirror_mode": {
    "name": "ipython",
    "version": 3
   },
   "file_extension": ".py",
   "mimetype": "text/x-python",
   "name": "python",
   "nbconvert_exporter": "python",
   "pygments_lexer": "ipython3",
   "version": "3.13.1"
  }
 },
 "nbformat": 4,
 "nbformat_minor": 5
}
