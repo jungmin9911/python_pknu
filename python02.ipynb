{
 "cells": [
  {
   "cell_type": "markdown",
   "id": "15a6d94c-f1ba-4e35-9668-3ca052210245",
   "metadata": {},
   "source": [
    "# 자료형"
   ]
  },
  {
   "cell_type": "markdown",
   "id": "895e3312-3752-43eb-a9ce-ab9623ae4736",
   "metadata": {},
   "source": [
    "## 리스트 자료형"
   ]
  },
  {
   "cell_type": "markdown",
   "id": "dcca2133-f176-428c-b599-5f639adfd398",
   "metadata": {},
   "source": [
    "### 리스트의 인덱싱과 슬라이싱"
   ]
  },
  {
   "cell_type": "code",
   "execution_count": 1,
   "id": "d8d757db-d502-4237-ae88-c7cecfb6a23e",
   "metadata": {},
   "outputs": [],
   "source": [
    "odd = [1, 3, 5, 7, 9]"
   ]
  },
  {
   "cell_type": "code",
   "execution_count": 7,
   "id": "6a5e9849-8c26-4a6c-9b65-323d683d95ed",
   "metadata": {},
   "outputs": [
    {
     "name": "stdout",
     "output_type": "stream",
     "text": [
      "['Life', 'is']\n",
      "Life\n",
      "is\n"
     ]
    }
   ],
   "source": [
    "a = []\n",
    "b = [1, 2, 3]\n",
    "c = ['Life', 'is', 'too', 'short']\n",
    "d = [1, 2, 'Life', 'is']\n",
    "e = [1, 2, ['Life', 'is']]\n",
    "print(e[2])\n",
    "print(e[2][0])\n",
    "print(e[2][1])"
   ]
  },
  {
   "cell_type": "code",
   "execution_count": 6,
   "id": "9a8368db-ad26-48f6-8adf-d859c110cb23",
   "metadata": {},
   "outputs": [
    {
     "name": "stdout",
     "output_type": "stream",
     "text": [
      "5\n",
      "Lifeshort\n",
      "LifeLifeLife\n"
     ]
    }
   ],
   "source": [
    "# 리스트의 인덱싱과 연산\n",
    "print(b[1] + b[2])\n",
    "print(c[0] + c[3])\n",
    "print(c[0] * b[2])"
   ]
  },
  {
   "cell_type": "code",
   "execution_count": 9,
   "id": "1a40a468-083f-49be-9728-3c06e6b88fcc",
   "metadata": {},
   "outputs": [
    {
     "name": "stdout",
     "output_type": "stream",
     "text": [
      "[11, 22, 33, 44, 55]\n",
      "[33, 44, 55]\n",
      "[11, 22]\n",
      "[44, 55]\n",
      "[11, 33, 55]\n"
     ]
    }
   ],
   "source": [
    "# 리스트의 슬라이싱\n",
    "a = [11, 22, 33, 44, 55]\n",
    "print(a[:])\n",
    "print(a[2:])\n",
    "print(a[:-3])\n",
    "print(a[-2:])\n",
    "print(a[::2])"
   ]
  },
  {
   "cell_type": "code",
   "execution_count": 11,
   "id": "aded5c70-53aa-4944-936b-4228cc9e152a",
   "metadata": {},
   "outputs": [
    {
     "name": "stdout",
     "output_type": "stream",
     "text": [
      "[2, 3]\n"
     ]
    }
   ],
   "source": [
    "# 예제\n",
    "# 2, 3 출력\n",
    "a = [1, 2, 3, 4, 5]\n",
    "print(a[1:3])"
   ]
  },
  {
   "cell_type": "markdown",
   "id": "3ba76713-4438-4358-abb9-dab7112a9302",
   "metadata": {},
   "source": [
    "### 리스트 연산하기"
   ]
  },
  {
   "cell_type": "code",
   "execution_count": 37,
   "id": "c29fabdd-f16e-4c5d-b80b-508c58c23f1f",
   "metadata": {},
   "outputs": [],
   "source": [
    "a = [11, 22, 33]\n",
    "b = [44, 55, 66]"
   ]
  },
  {
   "cell_type": "code",
   "execution_count": 36,
   "id": "d8ef57a8-511d-4d0b-90c0-a2f1cf30a64d",
   "metadata": {},
   "outputs": [
    {
     "name": "stdout",
     "output_type": "stream",
     "text": [
      "[11, 44, 44, 55, 66]\n",
      "[11, 44, 11, 44, 11, 44]\n"
     ]
    },
    {
     "data": {
      "text/plain": [
       "6"
      ]
     },
     "execution_count": 36,
     "metadata": {},
     "output_type": "execute_result"
    }
   ],
   "source": [
    "# 리스트 합치기\n",
    "print(a + b)\n",
    "# 리스트 반복하기\n",
    "c = a * 3\n",
    "print(c)\n",
    "len(c)"
   ]
  },
  {
   "cell_type": "code",
   "execution_count": 33,
   "id": "1e3273ab-47a2-4503-9817-c3355ed6e411",
   "metadata": {},
   "outputs": [
    {
     "name": "stdout",
     "output_type": "stream",
     "text": [
      "[11, 22, 44]\n"
     ]
    }
   ],
   "source": [
    "# 리스트 값 수정하기\n",
    "a = [11, 22, 33]\n",
    "a[2] = 44\n",
    "print(a)\n",
    "# 아래는 오류 - 없는 요소를 수정하는 것은 에러\n",
    "# a[3] = 55\n",
    "# print(a)"
   ]
  },
  {
   "cell_type": "code",
   "execution_count": 34,
   "id": "ee0930c4-eba3-41c9-84bc-8da411e0ede0",
   "metadata": {},
   "outputs": [
    {
     "name": "stdout",
     "output_type": "stream",
     "text": [
      "[11, 44]\n",
      "[11, 22, 33, 11, 22, 33, 11, 22, 33]\n",
      "[22, 33, 11, 22, 33]\n"
     ]
    }
   ],
   "source": [
    "# 리스트 값 삭제하기\n",
    "# a[1] = ' ' # 값이 삭제되는 게 아니라 빈칸으로 삽입됨\n",
    "del a[1] \n",
    "print(a)\n",
    "# 리스트 값 슬라이싱으로 삭제\n",
    "print(c)\n",
    "del c[:4]\n",
    "print(c)"
   ]
  },
  {
   "cell_type": "markdown",
   "id": "32e7b41b-070e-4474-a881-b72589d53d95",
   "metadata": {},
   "source": [
    "### 리스트 관련 함수"
   ]
  },
  {
   "cell_type": "code",
   "execution_count": 38,
   "id": "130f8393-a8e4-401a-b672-ea40a80b4d2d",
   "metadata": {},
   "outputs": [
    {
     "name": "stdout",
     "output_type": "stream",
     "text": [
      "[11, 44, 11, 44, 11, 44]\n",
      "[]\n"
     ]
    }
   ],
   "source": [
    "#리스트 요소 비우기\n",
    "print(c)\n",
    "c.clear()\n",
    "print(c)"
   ]
  },
  {
   "cell_type": "code",
   "execution_count": 46,
   "id": "7bc4d09d-05a8-4ae2-ad66-bac4e2ee30c8",
   "metadata": {},
   "outputs": [],
   "source": [
    "a=[] # 리스트 초기화"
   ]
  },
  {
   "cell_type": "code",
   "execution_count": 45,
   "id": "a5cdbcc6-7396-41fd-b7de-54b09a55339b",
   "metadata": {},
   "outputs": [
    {
     "name": "stdout",
     "output_type": "stream",
     "text": [
      "[4]\n",
      "[4, [11, 22]]\n"
     ]
    }
   ],
   "source": [
    "# 리스트 요소 추가하기\n",
    "a.append(4)\n",
    "print(a)\n",
    "a.append([11, 22])\n",
    "print(a)"
   ]
  },
  {
   "cell_type": "code",
   "execution_count": 95,
   "id": "2b15d3e8-c58e-4d25-a910-9e1ceec5b444",
   "metadata": {},
   "outputs": [],
   "source": [
    "b=[]\n",
    "num = 0"
   ]
  },
  {
   "cell_type": "code",
   "execution_count": 103,
   "id": "8fe5960a-f684-4678-9036-0364872c3b73",
   "metadata": {},
   "outputs": [
    {
     "name": "stdout",
     "output_type": "stream",
     "text": [
      "[1, 2, 3, 4, 5, 6, 7, 8]\n"
     ]
    }
   ],
   "source": [
    "num += 1\n",
    "b.append(num)\n",
    "print(b)"
   ]
  },
  {
   "cell_type": "code",
   "execution_count": 108,
   "id": "0de54a38-11a5-461a-b770-f5584fbf41e8",
   "metadata": {},
   "outputs": [
    {
     "name": "stdout",
     "output_type": "stream",
     "text": [
      "[11, 22, 33, 44, 55]\n"
     ]
    }
   ],
   "source": [
    "# 리스트 정렬(오름차순) - sort\n",
    "a = [11, 44, 33, 22, 55]\n",
    "a.sort()\n",
    "print(a)"
   ]
  },
  {
   "cell_type": "code",
   "execution_count": 114,
   "id": "087c4f11-a9c4-420d-9dbe-8062ef3a4c8d",
   "metadata": {},
   "outputs": [
    {
     "name": "stdout",
     "output_type": "stream",
     "text": [
      "[55, 44, 33, 22, 11]\n"
     ]
    }
   ],
   "source": [
    "# 리스트 정렬(내림차순)\n",
    "a = [11, 44, 33, 22, 55]\n",
    "a.sort(reverse = True)\n",
    "print(a)"
   ]
  },
  {
   "cell_type": "code",
   "execution_count": 113,
   "id": "ef7249f2-6755-4b01-8b64-c5b722510b87",
   "metadata": {},
   "outputs": [
    {
     "name": "stdout",
     "output_type": "stream",
     "text": [
      "[66, 77, 88, 99, 0]\n",
      "[0, 66, 77, 88, 99]\n",
      "[99, 88, 77, 66, 0]\n"
     ]
    }
   ],
   "source": [
    "# 리스트 정렬 원본 유지하기\n",
    "aa = [66, 77, 88, 99, 0]\n",
    "bb = sorted(aa)\n",
    "cc = sorted(aa, reverse = True)\n",
    "print(aa)\n",
    "print(bb)\n",
    "print(cc)"
   ]
  },
  {
   "cell_type": "code",
   "execution_count": 106,
   "id": "6267a555-b605-4f91-8716-60a833212d13",
   "metadata": {},
   "outputs": [
    {
     "name": "stdout",
     "output_type": "stream",
     "text": [
      "[55, 22, 33, 44, 11]\n"
     ]
    }
   ],
   "source": [
    "# 리스트 뒤집기 - reverse\n",
    "a = [11, 44, 33, 22, 55]\n",
    "a.reverse()\n",
    "print(a)"
   ]
  },
  {
   "cell_type": "code",
   "execution_count": 116,
   "id": "478b80cc-7ecc-4040-84e0-0908476f7901",
   "metadata": {},
   "outputs": [
    {
     "name": "stdout",
     "output_type": "stream",
     "text": [
      "['banana', 'kiwi', 'orange', 'melon', 'pear', 'apple', 'strawberry', 'blueberry']\n",
      "['kiwi', 'pear', 'melon', 'apple', 'banana', 'orange', 'blueberry', 'strawberry']\n",
      "['strawberry', 'blueberry', 'banana', 'orange', 'melon', 'apple', 'kiwi', 'pear']\n"
     ]
    }
   ],
   "source": [
    "# sorted 응용\n",
    "fruit = ['banana', 'kiwi', 'orange', 'melon', 'pear', 'apple', 'strawberry', 'blueberry']\n",
    "result = sorted(fruit, key = len)\n",
    "result2 = sorted(fruit, key = len, reverse = True)\n",
    "print(fruit)\n",
    "print(result)\n",
    "print(result2)"
   ]
  },
  {
   "cell_type": "code",
   "execution_count": 121,
   "id": "7b5b2442-ca2b-4431-b2a1-afa1f1bca06b",
   "metadata": {},
   "outputs": [
    {
     "name": "stdout",
     "output_type": "stream",
     "text": [
      "kiwi 냠냠 맛있다\n",
      "pear 냠냠 맛있다\n",
      "melon 냠냠 맛있다\n",
      "apple 냠냠 맛있다\n",
      "banana 못먹겠어\n",
      "orange 냠냠 맛있다\n",
      "blueberry 냠냠 맛있다\n",
      "strawberry 냠냠 맛있다\n",
      "와~ 다 먹었다\n"
     ]
    }
   ],
   "source": [
    "for r in result:\n",
    "    if r == 'banana':\n",
    "        print(r + ' 못먹겠어')\n",
    "    if r != 'banana':\n",
    "        print(r + ' 냠냠 맛있다')\n",
    "print('와~ 다 먹었다')"
   ]
  },
  {
   "cell_type": "code",
   "execution_count": 1,
   "id": "c300f79e-d0fc-4f1b-b5d8-91c5f252e7dd",
   "metadata": {},
   "outputs": [
    {
     "name": "stdout",
     "output_type": "stream",
     "text": [
      "3\n"
     ]
    }
   ],
   "source": [
    "# 인덱스 반환 - index\n",
    "fruit = ['banana', 'kiwi', 'orange', 'melon', 'pear', 'apple', 'strawberry', 'blueberry']\n",
    "print(fruit.index('melon'))"
   ]
  },
  {
   "cell_type": "code",
   "execution_count": 129,
   "id": "eb45b20c-7178-47a4-b0ef-4d212591ac16",
   "metadata": {},
   "outputs": [
    {
     "name": "stdin",
     "output_type": "stream",
     "text": [
      "먹고싶은 과일을 입력하세요 orange\n"
     ]
    },
    {
     "name": "stdout",
     "output_type": "stream",
     "text": [
      "orange를 좋아하시는군요!! 그것은 3번 째에 있습니다\n"
     ]
    }
   ],
   "source": [
    "fruit = ['banana', 'kiwi', 'orange', 'melon', 'pear', 'apple', 'strawberry', 'blueberry']\n",
    "want = input('먹고싶은 과일을 입력하세요')\n",
    "where = fruit.index(want)\n",
    "print(f\"{want}를 좋아하시는군요!! 그것은 {where+1}번 째에 있습니다\")"
   ]
  },
  {
   "cell_type": "code",
   "execution_count": 131,
   "id": "ce41aec4-4981-451e-ab37-71c489e6241c",
   "metadata": {},
   "outputs": [
    {
     "name": "stdout",
     "output_type": "stream",
     "text": [
      "[11, 22, 33, 55, 66, 77, 88]\n",
      "[11, 22, 33, 44, 55, 66, 77, 88]\n"
     ]
    }
   ],
   "source": [
    "# 리스트에 요소 삽입 - insert\n",
    "num = [11, 22, 33, 55, 66, 77, 88]\n",
    "print(num)\n",
    "num.insert(3 ,44)\n",
    "print(num)"
   ]
  },
  {
   "cell_type": "code",
   "execution_count": 138,
   "id": "2cbc506e-5c9b-4fc1-a875-d2dd1e7f8514",
   "metadata": {},
   "outputs": [],
   "source": [
    "ex=[] #리스트 초기화"
   ]
  },
  {
   "cell_type": "code",
   "execution_count": 143,
   "id": "1df4ac64-8914-482f-809d-6af50d0dc939",
   "metadata": {},
   "outputs": [
    {
     "name": "stdout",
     "output_type": "stream",
     "text": [
      "[11, 22, 33, 44, 44]\n"
     ]
    }
   ],
   "source": [
    "ex.insert(len(ex),44) #숫자 부분 계속 수정해서 추가 가능\n",
    "print(ex)"
   ]
  },
  {
   "cell_type": "code",
   "execution_count": 1,
   "id": "c6c6103c-801f-4216-8ba9-b9f2d06633e1",
   "metadata": {},
   "outputs": [],
   "source": [
    "# 리스트 요소제거 - remove\n"
   ]
  },
  {
   "cell_type": "code",
   "execution_count": null,
   "id": "27f42de5-97e7-45cb-82c7-0062d9ea25e9",
   "metadata": {},
   "outputs": [],
   "source": []
  }
 ],
 "metadata": {
  "kernelspec": {
   "display_name": "Python 3 (ipykernel)",
   "language": "python",
   "name": "python3"
  },
  "language_info": {
   "codemirror_mode": {
    "name": "ipython",
    "version": 3
   },
   "file_extension": ".py",
   "mimetype": "text/x-python",
   "name": "python",
   "nbconvert_exporter": "python",
   "pygments_lexer": "ipython3",
   "version": "3.13.1"
  }
 },
 "nbformat": 4,
 "nbformat_minor": 5
}
