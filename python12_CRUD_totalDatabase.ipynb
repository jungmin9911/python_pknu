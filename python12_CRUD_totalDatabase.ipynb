{
 "cells": [
  {
   "cell_type": "markdown",
   "id": "973a9744-8925-4663-bbaa-233d6af80a19",
   "metadata": {},
   "source": [
    "<h1> 개인과제 </h1>\n",
    "<h2> 주피터랩에서 데이터를 입력받으면 3가지 DB에 동시에 CRUD가 되는 시스템을 만들어라 </h2>\n",
    "<h3> ex) input을 이용하여 <이름:> 홍길동 (엔터), <나이> 33 (엔터), <주소> 해운대구 (엔터) </h3>\n",
    "<h3> 입력하고, 데이터를 검색하고, 이름을 고르고 수정하고, 삭제 가능하게 하라 </h3>"
   ]
  },
  {
   "cell_type": "markdown",
   "id": "7a069418-83bf-48b0-8f16-a113db0eef78",
   "metadata": {},
   "source": [
    "## 서버 연결"
   ]
  },
  {
   "cell_type": "code",
   "execution_count": 23,
   "id": "ff4cb568-3ef0-4bcc-9376-a2ac1514dbdf",
   "metadata": {},
   "outputs": [],
   "source": [
    "# !pip install mysql-connector-python\n",
    "# !pip install oracledb \n",
    "# !pip install pymongo"
   ]
  },
  {
   "cell_type": "markdown",
   "id": "763e9ae4-ef87-4e7f-a19a-fe961d7f27a3",
   "metadata": {},
   "source": [
    "### MySQL"
   ]
  },
  {
   "cell_type": "code",
   "execution_count": 35,
   "id": "92fbf5f3-fcfa-4ac6-9299-29ba90164a93",
   "metadata": {},
   "outputs": [
    {
     "name": "stdout",
     "output_type": "stream",
     "text": [
      "MySQL 서버에 성공적으로 연결되었습니다.\n",
      "연결중...\n"
     ]
    }
   ],
   "source": [
    "import mysql.connector\n",
    "\n",
    "try:\n",
    "    mysql_conn = mysql.connector.connect(\n",
    "        host = \"mysql\",  # MySQL 서버주소\n",
    "        user = \"root\",\n",
    "        password = \"1234\"\n",
    "    )\n",
    "    if mysql_conn.is_connected():\n",
    "        print(\"MySQL 서버에 성공적으로 연결되었습니다.\")\n",
    "except mysql.connector.Error as err:\n",
    "    print(\"MySQL 연결 실패 : \", err)\n",
    "finally:\n",
    "    if mysql_conn.is_connected():\n",
    "        print(\"연결중...\")"
   ]
  },
  {
   "cell_type": "code",
   "execution_count": 36,
   "id": "c442a700-7647-4909-86fb-add82bb7455f",
   "metadata": {},
   "outputs": [],
   "source": [
    "mysql_cursor = mysql_conn.cursor()\n",
    "que = \"CREATE DATABASE IF NOT EXISTS judb\"\n",
    "mysql_cursor.execute(que)\n",
    "mysql_conn.close()"
   ]
  },
  {
   "cell_type": "code",
   "execution_count": 37,
   "id": "91ecd269-fce4-4f93-bd00-f1f9e570f632",
   "metadata": {},
   "outputs": [
    {
     "name": "stdout",
     "output_type": "stream",
     "text": [
      "MySQL 연결 성공\n"
     ]
    }
   ],
   "source": [
    "mysql_conn = mysql.connector.connect(\n",
    "        host = \"mysql\",\n",
    "        user = \"root\",\n",
    "        password = \"1234\",\n",
    "        database = \"judb\"    # 사용할 데이터 베이스\n",
    "    )\n",
    "mysql_cursor = mysql_conn.cursor()\n",
    "print(\"MySQL 연결 성공\")"
   ]
  },
  {
   "cell_type": "code",
   "execution_count": 38,
   "id": "20bf5719-0bf6-436f-90cf-1011d2aca360",
   "metadata": {},
   "outputs": [
    {
     "name": "stdout",
     "output_type": "stream",
     "text": [
      "테이블 생성완료\n"
     ]
    }
   ],
   "source": [
    "# 테이블 생성\n",
    "query = \"CREATE TABLE IF NOT EXISTS students(id INT AUTO_INCREMENT PRIMARY KEY, name VARCHAR(100), age INT, adr VARCHAR(100))\"\n",
    "mysql_cursor.execute(query)\n",
    "print(\"테이블 생성완료\")"
   ]
  },
  {
   "cell_type": "markdown",
   "id": "f469bfae-b524-49ce-87ed-5c281a693963",
   "metadata": {},
   "source": [
    "### MongoDB"
   ]
  },
  {
   "cell_type": "code",
   "execution_count": 30,
   "id": "71b78640-4f0d-4a5d-98c0-d35c9f5b5251",
   "metadata": {},
   "outputs": [
    {
     "name": "stdout",
     "output_type": "stream",
     "text": [
      "{'ok': 1.0}\n",
      "MongoDB 서버에 성공적으로 연결되었습니다.\n"
     ]
    }
   ],
   "source": [
    "from pymongo import MongoClient\n",
    "client = MongoClient(\"mongodb://mongodb:27017\")\n",
    "\n",
    "try:\n",
    "    print(client.admin.command('ping'))\n",
    "    print(\"MongoDB 서버에 성공적으로 연결되었습니다.\")\n",
    "except Exception as e:\n",
    "    print(\"MongoDB 서버 연결 실패 : \", e)"
   ]
  },
  {
   "cell_type": "code",
   "execution_count": 31,
   "id": "73f9632b-7ac1-4a68-ad8d-664b50aadfc4",
   "metadata": {},
   "outputs": [
    {
     "name": "stdout",
     "output_type": "stream",
     "text": [
      "사용할 데이터베이스 선택됨\n",
      "사용할 컬렉션 선택됨\n"
     ]
    }
   ],
   "source": [
    "# 사용할 데이터베이스 선택\n",
    "db = client[\"mdb\"]\n",
    "print(\"사용할 데이터베이스 선택됨\")\n",
    "\n",
    "# 사용할 컬렉션 선택\n",
    "collection = db[\"students\"]\n",
    "print(\"사용할 컬렉션 선택됨\")"
   ]
  },
  {
   "cell_type": "markdown",
   "id": "e29a9440-9397-4ad6-81fb-53e4ad240b5d",
   "metadata": {},
   "source": [
    "### Oracle"
   ]
  },
  {
   "cell_type": "code",
   "execution_count": 32,
   "id": "b11d6686-e9c1-43bc-804a-1de6eebc5214",
   "metadata": {},
   "outputs": [
    {
     "name": "stdout",
     "output_type": "stream",
     "text": [
      "Oracle 데이터베이스에 성공적으로 연결 되었습니다.\n"
     ]
    }
   ],
   "source": [
    "import oracledb\n",
    "    # 데이터베이스 연결시도\n",
    "try:\n",
    "    oracle_conn = oracledb.connect(\n",
    "        user = 'pknu',\n",
    "        password = '1234',\n",
    "        dsn = 'oracle/XEPDB1'\n",
    "    )\n",
    "    print(\"Oracle 데이터베이스에 성공적으로 연결 되었습니다.\")\n",
    "    oracle_cursor = oracle_conn.cursor()\n",
    "except Exception as e:\n",
    "    print(\"Oralce 데이터베이스 연결 실패 : \", e)"
   ]
  },
  {
   "cell_type": "code",
   "execution_count": 25,
   "id": "87ece39d-e2f0-4e73-8b27-64abee4716a4",
   "metadata": {},
   "outputs": [
    {
     "name": "stdout",
     "output_type": "stream",
     "text": [
      "테이블 생성완료\n"
     ]
    }
   ],
   "source": [
    "query = \"\"\"\n",
    "    BEGIN\n",
    "        EXECUTE IMMEDIATE '\n",
    "            CREATE TABLE students (\n",
    "                id NUMBER GENERATED BY DEFAULT AS IDENTITY PRIMARY KEY,\n",
    "                name VARCHAR2(50),\n",
    "                age NUMBER,\n",
    "                adr VARCHAR2(100)\n",
    "                )';\n",
    "        EXCEPTION\n",
    "            WHEN OTHERS THEN\n",
    "                IF SQLCODE != -955 THEN\n",
    "                    RAISE;\n",
    "                END IF;\n",
    "            END;\n",
    "\"\"\"\n",
    "oracle_cursor.execute(query)\n",
    "print(\"테이블 생성완료\")"
   ]
  },
  {
   "cell_type": "markdown",
   "id": "e598768c-de2d-4cf8-9d9f-f0db3383f0c5",
   "metadata": {},
   "source": [
    "## 메인코드"
   ]
  },
  {
   "cell_type": "code",
   "execution_count": 34,
   "id": "a33685aa-53c0-4e21-b383-535073ba437b",
   "metadata": {},
   "outputs": [
    {
     "name": "stdout",
     "output_type": "stream",
     "text": [
      "\n",
      "숫자를 골라주세요.\n",
      "1. 데이터 등록\n",
      "2. 데이터 읽기\n",
      "3. 데이터 수정\n",
      "4. 데이터 삭제\n",
      "5. 종료\n",
      "\n"
     ]
    },
    {
     "name": "stdin",
     "output_type": "stream",
     "text": [
      "선택하신 숫자 :  2\n"
     ]
    },
    {
     "name": "stdout",
     "output_type": "stream",
     "text": [
      "2 번을 고르셨습니다.\n",
      "==== 데이터 읽어오는 중 ====\n",
      "> mysql\n",
      "(2, '홍길동', 16, '김해')\n",
      "> oracle\n",
      "(1, '홍길동', 20, '부산')\n",
      "> mongodb\n",
      "{'_id': ObjectId('67f7199a3d21000b5d2f269c'), 'name': '홍길동', 'age': '20', 'adr': '부산'}\n",
      "===== 데이터 출력 완료 =====\n",
      "\n",
      "숫자를 골라주세요.\n",
      "1. 데이터 등록\n",
      "2. 데이터 읽기\n",
      "3. 데이터 수정\n",
      "4. 데이터 삭제\n",
      "5. 종료\n",
      "\n"
     ]
    },
    {
     "name": "stdin",
     "output_type": "stream",
     "text": [
      "선택하신 숫자 :  3\n"
     ]
    },
    {
     "name": "stdout",
     "output_type": "stream",
     "text": [
      "3 번을 고르셨습니다.\n",
      "====== 정보 수정란 ======\n"
     ]
    },
    {
     "name": "stdin",
     "output_type": "stream",
     "text": [
      "수정할 사람의 이름을 입력하세요 홍길동\n",
      "나이를 다시 입력해주세요 16\n",
      "주소를 다시 입력해주세요 김해\n"
     ]
    },
    {
     "name": "stdout",
     "output_type": "stream",
     "text": [
      "수정됨 UpdateResult({'n': 1, 'nModified': 1, 'ok': 1.0, 'updatedExisting': True}, acknowledged=True)\n",
      "==== 정보 수정 완료 ====\n",
      "\n",
      "숫자를 골라주세요.\n",
      "1. 데이터 등록\n",
      "2. 데이터 읽기\n",
      "3. 데이터 수정\n",
      "4. 데이터 삭제\n",
      "5. 종료\n",
      "\n"
     ]
    },
    {
     "name": "stdin",
     "output_type": "stream",
     "text": [
      "선택하신 숫자 :  2\n"
     ]
    },
    {
     "name": "stdout",
     "output_type": "stream",
     "text": [
      "2 번을 고르셨습니다.\n",
      "==== 데이터 읽어오는 중 ====\n",
      "> mysql\n",
      "(2, '홍길동', 16, '김해')\n",
      "> oracle\n",
      "(1, '홍길동', 16, '김해')\n",
      "> mongodb\n",
      "{'_id': ObjectId('67f7199a3d21000b5d2f269c'), 'name': '홍길동', 'age': '16', 'adr': '김해'}\n",
      "===== 데이터 출력 완료 =====\n",
      "\n",
      "숫자를 골라주세요.\n",
      "1. 데이터 등록\n",
      "2. 데이터 읽기\n",
      "3. 데이터 수정\n",
      "4. 데이터 삭제\n",
      "5. 종료\n",
      "\n"
     ]
    },
    {
     "name": "stdin",
     "output_type": "stream",
     "text": [
      "선택하신 숫자 :  3\n"
     ]
    },
    {
     "name": "stdout",
     "output_type": "stream",
     "text": [
      "3 번을 고르셨습니다.\n",
      "====== 정보 수정란 ======\n"
     ]
    },
    {
     "name": "stdin",
     "output_type": "stream",
     "text": [
      "수정할 사람의 이름을 입력하세요 홍길동\n",
      "나이를 다시 입력해주세요 17\n",
      "주소를 다시 입력해주세요 김해\n"
     ]
    },
    {
     "name": "stdout",
     "output_type": "stream",
     "text": [
      "수정됨 UpdateResult({'n': 1, 'nModified': 1, 'ok': 1.0, 'updatedExisting': True}, acknowledged=True)\n",
      "==== 정보 수정 완료 ====\n",
      "\n",
      "숫자를 골라주세요.\n",
      "1. 데이터 등록\n",
      "2. 데이터 읽기\n",
      "3. 데이터 수정\n",
      "4. 데이터 삭제\n",
      "5. 종료\n",
      "\n"
     ]
    },
    {
     "name": "stdin",
     "output_type": "stream",
     "text": [
      "선택하신 숫자 :  4\n"
     ]
    },
    {
     "name": "stdout",
     "output_type": "stream",
     "text": [
      "4 번을 고르셨습니다.\n",
      "====== 정보 삭제란 ======\n"
     ]
    },
    {
     "name": "stdin",
     "output_type": "stream",
     "text": [
      "삭제할 사람의 이름을 입력하세요 홍길동\n"
     ]
    },
    {
     "name": "stdout",
     "output_type": "stream",
     "text": [
      "==== 데이터 삭제완료 ====\n",
      "\n",
      "숫자를 골라주세요.\n",
      "1. 데이터 등록\n",
      "2. 데이터 읽기\n",
      "3. 데이터 수정\n",
      "4. 데이터 삭제\n",
      "5. 종료\n",
      "\n"
     ]
    },
    {
     "name": "stdin",
     "output_type": "stream",
     "text": [
      "선택하신 숫자 :  2\n"
     ]
    },
    {
     "name": "stdout",
     "output_type": "stream",
     "text": [
      "2 번을 고르셨습니다.\n",
      "==== 데이터 읽어오는 중 ====\n",
      "> mysql\n",
      "> oracle\n",
      "> mongodb\n",
      "===== 데이터 출력 완료 =====\n",
      "\n",
      "숫자를 골라주세요.\n",
      "1. 데이터 등록\n",
      "2. 데이터 읽기\n",
      "3. 데이터 수정\n",
      "4. 데이터 삭제\n",
      "5. 종료\n",
      "\n"
     ]
    },
    {
     "name": "stdin",
     "output_type": "stream",
     "text": [
      "선택하신 숫자 :  1\n"
     ]
    },
    {
     "name": "stdout",
     "output_type": "stream",
     "text": [
      "1 번을 고르셨습니다.\n",
      "====== 정보 입력란 ======\n"
     ]
    },
    {
     "name": "stdin",
     "output_type": "stream",
     "text": [
      "이름을 입력하세요 홍길동\n",
      "나이를 입력하세요 27\n",
      "주소를 입력하세요 부산\n"
     ]
    },
    {
     "name": "stdout",
     "output_type": "stream",
     "text": [
      "입력된 정보 :  홍길동 27 부산\n",
      "==== 데이터 삽입 완료 ====\n",
      "\n",
      "숫자를 골라주세요.\n",
      "1. 데이터 등록\n",
      "2. 데이터 읽기\n",
      "3. 데이터 수정\n",
      "4. 데이터 삭제\n",
      "5. 종료\n",
      "\n"
     ]
    },
    {
     "name": "stdin",
     "output_type": "stream",
     "text": [
      "선택하신 숫자 :  2\n"
     ]
    },
    {
     "name": "stdout",
     "output_type": "stream",
     "text": [
      "2 번을 고르셨습니다.\n",
      "==== 데이터 읽어오는 중 ====\n",
      "> mysql\n",
      "(3, '홍길동', 27, '부산')\n",
      "> oracle\n",
      "(2, '홍길동', 27, '부산')\n",
      "> mongodb\n",
      "{'_id': ObjectId('67f719f03d21000b5d2f269d'), 'name': '홍길동', 'age': '27', 'adr': '부산'}\n",
      "===== 데이터 출력 완료 =====\n",
      "\n",
      "숫자를 골라주세요.\n",
      "1. 데이터 등록\n",
      "2. 데이터 읽기\n",
      "3. 데이터 수정\n",
      "4. 데이터 삭제\n",
      "5. 종료\n",
      "\n"
     ]
    },
    {
     "name": "stdin",
     "output_type": "stream",
     "text": [
      "선택하신 숫자 :  5\n"
     ]
    },
    {
     "name": "stdout",
     "output_type": "stream",
     "text": [
      "5 번을 고르셨습니다.\n",
      "종료합니다.\n"
     ]
    }
   ],
   "source": [
    "str = \"\"\"\n",
    "숫자를 골라주세요.\n",
    "1. 데이터 등록\n",
    "2. 데이터 읽기\n",
    "3. 데이터 수정\n",
    "4. 데이터 삭제\n",
    "5. 종료\n",
    "\"\"\"\n",
    "while True:\n",
    "    print(str)\n",
    "    inp = input(\"선택하신 숫자 : \")\n",
    "    print(inp, \"번을 고르셨습니다.\")\n",
    "    if inp == '1':\n",
    "        print(\"====== 정보 입력란 ======\")\n",
    "        inp1 = input(\"이름을 입력하세요\")\n",
    "        inp2 = input(\"나이를 입력하세요\")\n",
    "        inp3 = input(\"주소를 입력하세요\")\n",
    "        print(\"입력된 정보 : \", inp1, inp2, inp3)\n",
    "        values = (inp1, inp2, inp3)\n",
    "        # mysql\n",
    "        sql = \"INSERT INTO students (name, age, adr) VALUES (%s, %s, %s)\"\n",
    "        mysql_cursor.execute(sql, values)\n",
    "        mysql_conn.commit()\n",
    "        # oracle\n",
    "        que = \"INSERT INTO students(name,age,adr) VALUES (:1, :2, :3)\"\n",
    "        oracle_cursor.execute(que, values)\n",
    "        oracle_conn.commit()\n",
    "        # mongodb\n",
    "        std = {\"name\":inp1, \"age\":inp2, \"adr\":inp3}\n",
    "        insert_result = collection.insert_one(std)\n",
    "        # # oracle\n",
    "        # que = \"INSERT INTO students(name,age,adr) VALUES (:1, :2, :3)\"\n",
    "        # cursor.execute(que,values)\n",
    "        # conn.commit()\n",
    "        print(\"==== 데이터 삽입 완료 ====\")\n",
    "    if inp == '2':\n",
    "        print(\"==== 데이터 읽어오는 중 ====\")\n",
    "        que = \"SELECT * FROM students\"\n",
    "        # mysql\n",
    "        print(\"> mysql\")\n",
    "        mysql_cursor.execute(que)\n",
    "        mysql_students = mysql_cursor.fetchall()\n",
    "        for std in mysql_students:\n",
    "            print(std)\n",
    "        # oracle\n",
    "        print(\"> oracle\")\n",
    "        oracle_cursor.execute(que)\n",
    "        oracle_students = oracle_cursor.fetchall()\n",
    "        for std in oracle_students:\n",
    "            print(std)\n",
    "        # mongodb\n",
    "        print(\"> mongodb\")\n",
    "        students = collection.find()\n",
    "        for std in students:\n",
    "            print(std)\n",
    "        print(\"===== 데이터 출력 완료 =====\")\n",
    "    if inp == '3': \n",
    "        print(\"====== 정보 수정란 ======\")\n",
    "        up_inp1 = input(\"수정할 사람의 이름을 입력하세요\")\n",
    "        up_inp2 = input(\"나이를 다시 입력해주세요\")\n",
    "        up_inp3 = input(\"주소를 다시 입력해주세요\")\n",
    "        # mysql\n",
    "        sql = \"UPDATE students SET age = %s, adr = %s WHERE name = %s\"\n",
    "        values = (up_inp2, up_inp3, up_inp1)\n",
    "        mysql_cursor.execute(sql, values)\n",
    "        mysql_conn.commit()\n",
    "        # oracle\n",
    "        que = \"UPDATE students SET age = :2, adr = :3 WHERE name = :1\"\n",
    "        values = (up_inp2, up_inp3, up_inp1)\n",
    "        oracle_cursor.execute(que, values)\n",
    "        oracle_conn.commit()\n",
    "        # mongodb\n",
    "        update = collection.update_one({\"name\":up_inp1}, {'$set':{\"age\":up_inp2, \"adr\":up_inp3}})\n",
    "        print(\"수정됨\", update)\n",
    "        print (\"==== 정보 수정 완료 ====\")\n",
    "    if inp == '4': \n",
    "        print(\"====== 정보 삭제란 ======\")\n",
    "        de_inp = input(\"삭제할 사람의 이름을 입력하세요\")\n",
    "        # mysql\n",
    "        sql = \"DELETE FROM students WHERE name = %s\"\n",
    "        values = (de_inp,)\n",
    "        mysql_cursor.execute(sql, values)\n",
    "        mysql_conn.commit()\n",
    "        # oracle\n",
    "        que = \"DELETE FROM students WHERE name = :1\"\n",
    "        values = (de_inp,)\n",
    "        oracle_cursor.execute(que, values)\n",
    "        oracle_conn.commit()\n",
    "        # mongodb\n",
    "        delete = collection.delete_one({\"name\":de_inp})\n",
    "        print(\"==== 데이터 삭제완료 ====\")\n",
    "    if inp == '5':\n",
    "        print(\"종료합니다.\")\n",
    "        break"
   ]
  },
  {
   "cell_type": "code",
   "execution_count": null,
   "id": "c90fda45-d122-4bed-a5f0-f649e654904c",
   "metadata": {},
   "outputs": [],
   "source": []
  }
 ],
 "metadata": {
  "kernelspec": {
   "display_name": "Python 3 (ipykernel)",
   "language": "python",
   "name": "python3"
  },
  "language_info": {
   "codemirror_mode": {
    "name": "ipython",
    "version": 3
   },
   "file_extension": ".py",
   "mimetype": "text/x-python",
   "name": "python",
   "nbconvert_exporter": "python",
   "pygments_lexer": "ipython3",
   "version": "3.13.1"
  }
 },
 "nbformat": 4,
 "nbformat_minor": 5
}
