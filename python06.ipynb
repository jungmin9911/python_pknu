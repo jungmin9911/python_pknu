{
 "cells": [
  {
   "cell_type": "markdown",
   "id": "3ba796be-29d9-49f8-9792-bd5dcddcce16",
   "metadata": {},
   "source": [
    "# 모듈"
   ]
  },
  {
   "cell_type": "markdown",
   "id": "90809a11-5a5f-488c-979b-2fa5debd45ea",
   "metadata": {},
   "source": [
    "## 모듈 만들기"
   ]
  },
  {
   "cell_type": "code",
   "execution_count": 7,
   "id": "481b7ae7-f607-4a10-a9b4-313ddfea9c8b",
   "metadata": {},
   "outputs": [],
   "source": [
    "# 모듈 만들기 - mod1.py\n",
    "# def add(a, b):\n",
    "#     return a + b\n",
    "# def sub(a, b):\n",
    "#     return a - b"
   ]
  },
  {
   "cell_type": "code",
   "execution_count": 6,
   "id": "14ef62e2-04f2-48c0-8bab-943f452b3f12",
   "metadata": {},
   "outputs": [
    {
     "name": "stdout",
     "output_type": "stream",
     "text": [
      "33\n",
      "11\n"
     ]
    }
   ],
   "source": [
    "import mod1\n",
    "print(mod1.add(11,22))\n",
    "print(mod1.sub(33,22))"
   ]
  },
  {
   "cell_type": "code",
   "execution_count": 12,
   "id": "8f18257c-1f4d-4398-a2e5-d584ffdd7e1b",
   "metadata": {},
   "outputs": [],
   "source": [
    "with open(\"mod2.py\", \"w\") as f:\n",
    "    data = \"\"\"def mul(a,b):\n",
    "    return a*b\n",
    "def div(a,b):\n",
    "    return a/b\"\"\"\n",
    "    f.write(data)"
   ]
  },
  {
   "cell_type": "code",
   "execution_count": 14,
   "id": "7e948cd2-15c3-4fd3-90a4-68853d76780e",
   "metadata": {},
   "outputs": [
    {
     "name": "stdout",
     "output_type": "stream",
     "text": [
      "12\n",
      "2.0\n"
     ]
    }
   ],
   "source": [
    "import mod2\n",
    "print(mod2.mul(3,4))\n",
    "print(mod2.div(8,4))"
   ]
  },
  {
   "cell_type": "code",
   "execution_count": 1,
   "id": "ee256090-fc32-4d23-b1a9-a0adf6eafaf0",
   "metadata": {},
   "outputs": [
    {
     "name": "stdout",
     "output_type": "stream",
     "text": [
      "33\n",
      "11\n",
      "12\n",
      "2.0\n"
     ]
    }
   ],
   "source": [
    "import mod1, mod2\n",
    "print(mod1.add(11,22))\n",
    "print(mod1.sub(33,22))\n",
    "print(mod2.mul(3,4))\n",
    "print(mod2.div(8,4))"
   ]
  },
  {
   "cell_type": "code",
   "execution_count": 1,
   "id": "4a46bdf6-5a3e-4c56-98c6-d1413df1fe6f",
   "metadata": {},
   "outputs": [
    {
     "name": "stdout",
     "output_type": "stream",
     "text": [
      "33\n",
      "11\n",
      "12\n",
      "2.0\n"
     ]
    }
   ],
   "source": [
    "# import mod1 as m1\n",
    "# import mod2 as m2\n",
    "import mod1 as m1, mod2 as m2\n",
    "print(m1.add(11,22))\n",
    "print(m1.sub(33,22))\n",
    "print(m2.mul(3,4))\n",
    "print(m2.div(8,4))"
   ]
  },
  {
   "cell_type": "code",
   "execution_count": 4,
   "id": "ab6a4134-521e-40ba-96bb-dea94295bddb",
   "metadata": {},
   "outputs": [
    {
     "name": "stdout",
     "output_type": "stream",
     "text": [
      "77\n"
     ]
    }
   ],
   "source": [
    "from mod1 import add    # mod1의 add 메서드만 불러오기\n",
    "print(add(33,44))\n",
    "# print(sub(33,44))  에러발생"
   ]
  },
  {
   "cell_type": "code",
   "execution_count": 5,
   "id": "1473e909-b1fe-4e63-aef9-3f35b16e16ba",
   "metadata": {},
   "outputs": [
    {
     "name": "stdout",
     "output_type": "stream",
     "text": [
      "20\n"
     ]
    }
   ],
   "source": [
    "from mod2 import *    # * : 모두 / 충돌주의\n",
    "print(mul(4,5))"
   ]
  },
  {
   "cell_type": "markdown",
   "id": "abb654dc-d3c7-49ab-b53b-c7848e26c89d",
   "metadata": {},
   "source": [
    "##  '\\_\\_main__' 의 의미"
   ]
  },
  {
   "cell_type": "code",
   "execution_count": 13,
   "id": "a1ca267c-c135-475d-877a-dbdb465ae993",
   "metadata": {},
   "outputs": [],
   "source": [
    "with open(\"mod1.py\", \"a\") as f:\n",
    "    text = \"\"\"\\nprint(add(1,4))\\nprint(sub(4,2))\"\"\"\n",
    "    f.write(text)"
   ]
  },
  {
   "cell_type": "markdown",
   "id": "ef01ced2-d5fc-4a0c-b0d3-cbc17c77c05a",
   "metadata": {},
   "source": [
    "<li>%%bash : 리눅스</li>\n",
    "<li>%%cmd : 윈도우</li>"
   ]
  },
  {
   "cell_type": "code",
   "execution_count": 1,
   "id": "a73b0b95-1e59-4ad4-addc-d5b54ce20a52",
   "metadata": {},
   "outputs": [
    {
     "name": "stdout",
     "output_type": "stream",
     "text": [
      "Microsoft Windows [Version 10.0.26100.2894]\n",
      "(c) Microsoft Corporation. All rights reserved.\n",
      "\n",
      "ode>python mod1.py\n",
      "5\n",
      "2\n",
      "__main__\n",
      "�� ���Ϸ� ������ �Ǿ����\n",
      "\n",
      "d:\\code>"
     ]
    }
   ],
   "source": [
    "%%cmd\n",
    "python mod1.py"
   ]
  },
  {
   "cell_type": "code",
   "execution_count": 2,
   "id": "dfbe7296-2c4c-429e-9af2-13a5e159c853",
   "metadata": {},
   "outputs": [
    {
     "name": "stdout",
     "output_type": "stream",
     "text": [
      "5\n",
      "2\n",
      "mod1\n",
      "전 모듈로 임포트 되었어요\n"
     ]
    },
    {
     "data": {
      "text/plain": [
       "['__builtins__',\n",
       " '__cached__',\n",
       " '__doc__',\n",
       " '__file__',\n",
       " '__loader__',\n",
       " '__name__',\n",
       " '__package__',\n",
       " '__spec__',\n",
       " 'add',\n",
       " 'sub']"
      ]
     },
     "execution_count": 2,
     "metadata": {},
     "output_type": "execute_result"
    }
   ],
   "source": [
    "import mod1\n",
    "dir(mod1)"
   ]
  },
  {
   "cell_type": "code",
   "execution_count": 7,
   "id": "f136d30f-f78c-4f7c-a6da-12671d1c9971",
   "metadata": {},
   "outputs": [],
   "source": [
    "with open('mod1.py','a') as f:\n",
    "    content = \"\\nprint(__name__)\"\n",
    "    f.write(content)"
   ]
  },
  {
   "cell_type": "markdown",
   "id": "4113d17e-3fce-41aa-b1ef-980c1a0960eb",
   "metadata": {},
   "source": [
    "모듈로 임포트 되는지, 파일로 임포트 되는지"
   ]
  },
  {
   "cell_type": "code",
   "execution_count": 18,
   "id": "568bb832-e2ca-441f-9981-69dd1bed639e",
   "metadata": {},
   "outputs": [],
   "source": [
    "# 실습\n",
    "with open(\"sam.py\", \"a\", encoding='utf-8') as f:\n",
    "    text = \"\"\"import requests as req\n",
    "url = \"https://finance.naver.com/sise/sise_market_sum.naver\"\n",
    "web = req.get(url)\n",
    "html = web.text\n",
    "f1 = html.find('삼성전자')\n",
    "if __name__ == \"__main__\":\n",
    "    print(html[f1:f1+100][19:50].replace('<td class=\"number\">',\"\").replace('</td>',\"\").replace('\\\\n',\"\").replace('\\\\t',\"\")+\"원\")\n",
    "\"\"\"\n",
    "    f.write(text)"
   ]
  },
  {
   "cell_type": "code",
   "execution_count": 19,
   "id": "690c100e-a6cb-4f1e-bef7-6875d98f4a26",
   "metadata": {},
   "outputs": [
    {
     "name": "stdout",
     "output_type": "stream",
     "text": [
      "Microsoft Windows [Version 10.0.26100.2894]\n",
      "(c) Microsoft Corporation. All rights reserved.\n",
      "\n",
      "ode>python sam.py\n",
      "55,900��\n",
      "\n",
      "d:\\code>"
     ]
    }
   ],
   "source": [
    "%%cmd\n",
    "python sam.py"
   ]
  },
  {
   "cell_type": "code",
   "execution_count": 20,
   "id": "b6f74abd-cff5-48d9-95c5-4f4829af6209",
   "metadata": {},
   "outputs": [],
   "source": [
    "import sam"
   ]
  },
  {
   "cell_type": "code",
   "execution_count": 30,
   "id": "d4432212-06e4-416b-a8a9-42d675dbd02e",
   "metadata": {},
   "outputs": [],
   "source": [
    "# 실습2\n",
    "with open(\"sam2.py\", \"a\", encoding='utf-8') as f:\n",
    "    text = \"\"\"import requests as req\n",
    "import sys\n",
    "url = \"https://finance.naver.com/sise/sise_market_sum.naver\"\n",
    "web = req.get(url)\n",
    "html = web.text\n",
    "jongmok = sys.argv\n",
    "\n",
    "def sam2(jongmok):\n",
    "    f1 = html.find(jongmok)\n",
    "    num = html[f1:f1 + 100].find('<td class=\"number\">')\n",
    "    return(html[f1:f1+100][num:50].replace('<td class=\"number\">',\"\").replace('</td>',\"\").replace('\\\\n',\"\").replace('\\\\t',\"\")+\"원\")\n",
    "\n",
    "if __name__ == \"__main__\":\n",
    "    print(jongmok[1])\n",
    "    print(sam2(jongmok[1]))\n",
    "\"\"\"\n",
    "    f.write(text)"
   ]
  },
  {
   "cell_type": "code",
   "execution_count": 31,
   "id": "714b87b0-4b56-47fc-a482-f564fb3e44be",
   "metadata": {},
   "outputs": [
    {
     "name": "stdout",
     "output_type": "stream",
     "text": [
      "Microsoft Windows [Version 10.0.26100.2894]\n",
      "(c) Microsoft Corporation. All rights reserved.\n",
      "\n",
      "ode>python sam2.py '기아'\n",
      "'기아'\n",
      "��\n",
      "\n",
      "d:\\code>"
     ]
    }
   ],
   "source": [
    "%%cmd\n",
    "python sam2.py '기아'"
   ]
  },
  {
   "cell_type": "code",
   "execution_count": 10,
   "id": "73320ba0-b2b3-4bb5-8d0f-ec8776ed4b63",
   "metadata": {},
   "outputs": [],
   "source": [
    "def sam2(jongmok):\n",
    "    import requests as req\n",
    "    url = \"https://finance.naver.com/sise/sise_market_sum.naver\"\n",
    "    web = req.get(url)\n",
    "    html = web.text\n",
    "    f1 = html.find(jongmok)\n",
    "    if __name__ == \"__main__\":\n",
    "        num = html[f1:f1 + 100].find('<td class=\"number\">')\n",
    "        print(num)\n",
    "        print(html[f1:f1+100][num:50].replace('<td class=\"number\">',\"\").replace('</td>',\"\").replace('\\n',\"\").replace('\\t',\"\")+\"원\")"
   ]
  },
  {
   "cell_type": "code",
   "execution_count": 11,
   "id": "20b5e221-2f2d-4a4c-ae8a-5cc10293847b",
   "metadata": {},
   "outputs": [
    {
     "name": "stdout",
     "output_type": "stream",
     "text": [
      "17\n",
      "94,700원\n"
     ]
    }
   ],
   "source": [
    "sam2('기아')"
   ]
  },
  {
   "cell_type": "markdown",
   "id": "bbc64f7d-9177-49b4-a089-5b64b6a9105a",
   "metadata": {},
   "source": [
    "## 클래스나 변수등을 포함한 모듈"
   ]
  },
  {
   "cell_type": "code",
   "execution_count": 34,
   "id": "5fdc8b1b-9cc5-4a2f-b2c8-86502bdcb7e0",
   "metadata": {},
   "outputs": [],
   "source": [
    "with open(\"mod3.py\", \"w\") as f:\n",
    "    text = \"\"\"PI = 3.141519\\n\\nclass Math:\\n\\tdef solv(self, r):\\n\\t\\treturn PI * (r**2)\\n\\ndef add(a,b):\\n\\treturn a+b\"\"\"\n",
    "    f.write(text)"
   ]
  },
  {
   "cell_type": "code",
   "execution_count": 4,
   "id": "c6ec1133-ce55-4208-9cba-63eed0cf248e",
   "metadata": {},
   "outputs": [
    {
     "name": "stdout",
     "output_type": "stream",
     "text": [
      "3.141519\n",
      "314.1519\n",
      "7.541519000000001\n"
     ]
    }
   ],
   "source": [
    "import mod3\n",
    "# 변수\n",
    "print(mod3.PI)\n",
    "\n",
    "# 클래스\n",
    "a = mod3.Math()\n",
    "print(a.solv(10))\n",
    "\n",
    "# 함수\n",
    "print(mod3.add(mod3.PI, 4.4))"
   ]
  },
  {
   "cell_type": "markdown",
   "id": "0d7f7080-1799-4d3c-8e77-3afc141669de",
   "metadata": {},
   "source": [
    "## 다른 디렉토리에 있는 모듈 불러오는 방법"
   ]
  },
  {
   "cell_type": "code",
   "execution_count": 1,
   "id": "f43e9e46-2099-4612-934d-5335ba52839a",
   "metadata": {},
   "outputs": [
    {
     "data": {
      "text/plain": [
       "['C:\\\\Users\\\\Admin\\\\AppData\\\\Local\\\\Programs\\\\Python\\\\Python313\\\\python313.zip',\n",
       " 'C:\\\\Users\\\\Admin\\\\AppData\\\\Local\\\\Programs\\\\Python\\\\Python313\\\\DLLs',\n",
       " 'C:\\\\Users\\\\Admin\\\\AppData\\\\Local\\\\Programs\\\\Python\\\\Python313\\\\Lib',\n",
       " 'C:\\\\Users\\\\Admin\\\\AppData\\\\Local\\\\Programs\\\\Python\\\\Python313',\n",
       " '',\n",
       " 'C:\\\\Users\\\\Admin\\\\AppData\\\\Local\\\\Programs\\\\Python\\\\Python313\\\\Lib\\\\site-packages',\n",
       " 'C:\\\\Users\\\\Admin\\\\AppData\\\\Local\\\\Programs\\\\Python\\\\Python313\\\\Lib\\\\site-packages\\\\win32',\n",
       " 'C:\\\\Users\\\\Admin\\\\AppData\\\\Local\\\\Programs\\\\Python\\\\Python313\\\\Lib\\\\site-packages\\\\win32\\\\lib',\n",
       " 'C:\\\\Users\\\\Admin\\\\AppData\\\\Local\\\\Programs\\\\Python\\\\Python313\\\\Lib\\\\site-packages\\\\Pythonwin']"
      ]
     },
     "execution_count": 1,
     "metadata": {},
     "output_type": "execute_result"
    }
   ],
   "source": [
    "import sys\n",
    "sys.path"
   ]
  },
  {
   "cell_type": "code",
   "execution_count": 1,
   "id": "8a3f9587-6fa2-442b-9d80-dd611ec41b9a",
   "metadata": {},
   "outputs": [
    {
     "name": "stdout",
     "output_type": "stream",
     "text": [
      "Microsoft Windows [Version 10.0.26100.2894]\n",
      "(c) Microsoft Corporation. All rights reserved.\n",
      "\n",
      "ode>set PYTHONPATH=D:\\\\code\n",
      "\n",
      "d:\\code>"
     ]
    }
   ],
   "source": [
    "%%cmd\n",
    "set PYTHONPATH=D:\\\\code"
   ]
  },
  {
   "cell_type": "markdown",
   "id": "5cec6dc0-8e27-473a-9905-1001a3768987",
   "metadata": {},
   "source": [
    "<li>CMD에서 set PYTHONPATH=D:\\code\\mymode</li>\n",
    "<li>PS에서 $env.PYTHONPATH=D:\\code\\mymode</li>"
   ]
  },
  {
   "cell_type": "code",
   "execution_count": 5,
   "id": "fc2867eb-e9a6-4ee6-b339-4047114d44ae",
   "metadata": {},
   "outputs": [
    {
     "data": {
      "text/plain": [
       "['C:\\\\Users\\\\Admin\\\\AppData\\\\Local\\\\Programs\\\\Python\\\\Python313\\\\python313.zip',\n",
       " 'C:\\\\Users\\\\Admin\\\\AppData\\\\Local\\\\Programs\\\\Python\\\\Python313\\\\DLLs',\n",
       " 'C:\\\\Users\\\\Admin\\\\AppData\\\\Local\\\\Programs\\\\Python\\\\Python313\\\\Lib',\n",
       " 'C:\\\\Users\\\\Admin\\\\AppData\\\\Local\\\\Programs\\\\Python\\\\Python313',\n",
       " '',\n",
       " 'C:\\\\Users\\\\Admin\\\\AppData\\\\Local\\\\Programs\\\\Python\\\\Python313\\\\Lib\\\\site-packages',\n",
       " 'C:\\\\Users\\\\Admin\\\\AppData\\\\Local\\\\Programs\\\\Python\\\\Python313\\\\Lib\\\\site-packages\\\\win32',\n",
       " 'C:\\\\Users\\\\Admin\\\\AppData\\\\Local\\\\Programs\\\\Python\\\\Python313\\\\Lib\\\\site-packages\\\\win32\\\\lib',\n",
       " 'C:\\\\Users\\\\Admin\\\\AppData\\\\Local\\\\Programs\\\\Python\\\\Python313\\\\Lib\\\\site-packages\\\\Pythonwin',\n",
       " 'D:\\\\code\\\\mymod',\n",
       " 'D:\\\\code\\\\mymod']"
      ]
     },
     "execution_count": 5,
     "metadata": {},
     "output_type": "execute_result"
    }
   ],
   "source": [
    "sys.path.append('D:\\\\code\\\\mymod')    # 초기화하면 사라짐\n",
    "sys.path"
   ]
  },
  {
   "cell_type": "code",
   "execution_count": 4,
   "id": "7d10bf22-1d30-46a4-8132-ca59c84aa8c4",
   "metadata": {},
   "outputs": [
    {
     "name": "stdout",
     "output_type": "stream",
     "text": [
      "Requirement already satisfied: python-dotenv in c:\\users\\admin\\appdata\\local\\programs\\python\\python313\\lib\\site-packages (1.0.1)\n"
     ]
    },
    {
     "name": "stderr",
     "output_type": "stream",
     "text": [
      "\n",
      "[notice] A new release of pip is available: 25.0 -> 25.0.1\n",
      "[notice] To update, run: python.exe -m pip install --upgrade pip\n"
     ]
    },
    {
     "name": "stdout",
     "output_type": "stream",
     "text": [
      "Requirement already satisfied: pip in c:\\users\\admin\\appdata\\local\\programs\\python\\python313\\lib\\site-packages (25.0)\n",
      "Collecting pip\n",
      "  Downloading pip-25.0.1-py3-none-any.whl.metadata (3.7 kB)\n",
      "Downloading pip-25.0.1-py3-none-any.whl (1.8 MB)\n",
      "   ---------------------------------------- 0.0/1.8 MB ? eta -:--:--\n",
      "   ---------------------------------------- 1.8/1.8 MB 10.3 MB/s eta 0:00:00\n",
      "Installing collected packages: pip\n",
      "  Attempting uninstall: pip\n",
      "    Found existing installation: pip 25.0\n",
      "    Uninstalling pip-25.0:\n",
      "      Successfully uninstalled pip-25.0\n",
      "Successfully installed pip-25.0.1\n"
     ]
    }
   ],
   "source": [
    "!pip install python-dotenv\n",
    "!python.exe -m pip install --upgrade pip"
   ]
  },
  {
   "cell_type": "code",
   "execution_count": 3,
   "id": "6de583e1-cf01-4156-863f-664ada82392f",
   "metadata": {},
   "outputs": [
    {
     "name": "stdout",
     "output_type": "stream",
     "text": [
      "myphone01012341234\n",
      "https://www.google.com\n",
      "이게 될까? 모르겠어요\n"
     ]
    }
   ],
   "source": [
    "from dotenv import load_dotenv\n",
    "import os\n",
    "\n",
    "# .env 파일 로드\n",
    "load_dotenv()\n",
    "\n",
    "SKEY = os.getenv(\"SECRET_KEY\")\n",
    "print(SKEY)\n",
    "DBUG = os.getenv(\"DEBUG\")\n",
    "print(DBUG)\n",
    "TEST = os.getenv(\"TEST\")\n",
    "print(TEST)"
   ]
  },
  {
   "cell_type": "code",
   "execution_count": null,
   "id": "fadc6edd-591f-4603-a7e8-4b8360f8d5ac",
   "metadata": {},
   "outputs": [],
   "source": []
  }
 ],
 "metadata": {
  "kernelspec": {
   "display_name": "Python 3 (ipykernel)",
   "language": "python",
   "name": "python3"
  },
  "language_info": {
   "codemirror_mode": {
    "name": "ipython",
    "version": 3
   },
   "file_extension": ".py",
   "mimetype": "text/x-python",
   "name": "python",
   "nbconvert_exporter": "python",
   "pygments_lexer": "ipython3",
   "version": "3.13.1"
  }
 },
 "nbformat": 4,
 "nbformat_minor": 5
}
