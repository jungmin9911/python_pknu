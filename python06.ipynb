{
 "cells": [
  {
   "cell_type": "markdown",
   "id": "3ba796be-29d9-49f8-9792-bd5dcddcce16",
   "metadata": {},
   "source": [
    "# 모듈"
   ]
  },
  {
   "cell_type": "markdown",
   "id": "90809a11-5a5f-488c-979b-2fa5debd45ea",
   "metadata": {},
   "source": [
    "## 모듈 만들기"
   ]
  },
  {
   "cell_type": "code",
   "execution_count": 7,
   "id": "481b7ae7-f607-4a10-a9b4-313ddfea9c8b",
   "metadata": {},
   "outputs": [],
   "source": [
    "# 모듈 만들기 - mod1.py\n",
    "# def add(a, b):\n",
    "#     return a + b\n",
    "# def sub(a, b):\n",
    "#     return a - b"
   ]
  },
  {
   "cell_type": "code",
   "execution_count": 6,
   "id": "14ef62e2-04f2-48c0-8bab-943f452b3f12",
   "metadata": {},
   "outputs": [
    {
     "name": "stdout",
     "output_type": "stream",
     "text": [
      "33\n",
      "11\n"
     ]
    }
   ],
   "source": [
    "import mod1\n",
    "print(mod1.add(11,22))\n",
    "print(mod1.sub(33,22))"
   ]
  },
  {
   "cell_type": "code",
   "execution_count": 12,
   "id": "8f18257c-1f4d-4398-a2e5-d584ffdd7e1b",
   "metadata": {},
   "outputs": [],
   "source": [
    "with open(\"mod2.py\", \"w\") as f:\n",
    "    data = \"\"\"def mul(a,b):\n",
    "    return a*b\n",
    "def div(a,b):\n",
    "    return a/b\"\"\"\n",
    "    f.write(data)"
   ]
  },
  {
   "cell_type": "code",
   "execution_count": 14,
   "id": "7e948cd2-15c3-4fd3-90a4-68853d76780e",
   "metadata": {},
   "outputs": [
    {
     "name": "stdout",
     "output_type": "stream",
     "text": [
      "12\n",
      "2.0\n"
     ]
    }
   ],
   "source": [
    "import mod2\n",
    "print(mod2.mul(3,4))\n",
    "print(mod2.div(8,4))"
   ]
  },
  {
   "cell_type": "code",
   "execution_count": 1,
   "id": "ee256090-fc32-4d23-b1a9-a0adf6eafaf0",
   "metadata": {},
   "outputs": [
    {
     "name": "stdout",
     "output_type": "stream",
     "text": [
      "33\n",
      "11\n",
      "12\n",
      "2.0\n"
     ]
    }
   ],
   "source": [
    "import mod1, mod2\n",
    "print(mod1.add(11,22))\n",
    "print(mod1.sub(33,22))\n",
    "print(mod2.mul(3,4))\n",
    "print(mod2.div(8,4))"
   ]
  },
  {
   "cell_type": "code",
   "execution_count": 1,
   "id": "4a46bdf6-5a3e-4c56-98c6-d1413df1fe6f",
   "metadata": {},
   "outputs": [
    {
     "name": "stdout",
     "output_type": "stream",
     "text": [
      "33\n",
      "11\n",
      "12\n",
      "2.0\n"
     ]
    }
   ],
   "source": [
    "# import mod1 as m1\n",
    "# import mod2 as m2\n",
    "import mod1 as m1, mod2 as m2\n",
    "print(m1.add(11,22))\n",
    "print(m1.sub(33,22))\n",
    "print(m2.mul(3,4))\n",
    "print(m2.div(8,4))"
   ]
  },
  {
   "cell_type": "code",
   "execution_count": 4,
   "id": "ab6a4134-521e-40ba-96bb-dea94295bddb",
   "metadata": {},
   "outputs": [
    {
     "name": "stdout",
     "output_type": "stream",
     "text": [
      "77\n"
     ]
    }
   ],
   "source": [
    "from mod1 import add    # mod1의 add 메서드만 불러오기\n",
    "print(add(33,44))\n",
    "# print(sub(33,44))  에러발생"
   ]
  },
  {
   "cell_type": "code",
   "execution_count": 5,
   "id": "1473e909-b1fe-4e63-aef9-3f35b16e16ba",
   "metadata": {},
   "outputs": [
    {
     "name": "stdout",
     "output_type": "stream",
     "text": [
      "20\n"
     ]
    }
   ],
   "source": [
    "from mod2 import *    # * : 모두 / 충돌주의\n",
    "print(mul(4,5))"
   ]
  },
  {
   "cell_type": "markdown",
   "id": "abb654dc-d3c7-49ab-b53b-c7848e26c89d",
   "metadata": {},
   "source": [
    "##  '\\_\\_main__' 의 의미"
   ]
  },
  {
   "cell_type": "code",
   "execution_count": 13,
   "id": "a1ca267c-c135-475d-877a-dbdb465ae993",
   "metadata": {},
   "outputs": [],
   "source": [
    "with open(\"mod1.py\", \"a\") as f:\n",
    "    text = \"\"\"\\nprint(add(1,4))\\nprint(sub(4,2))\"\"\"\n",
    "    f.write(text)"
   ]
  },
  {
   "cell_type": "markdown",
   "id": "ef01ced2-d5fc-4a0c-b0d3-cbc17c77c05a",
   "metadata": {},
   "source": [
    "<li>%%bash : 리눅스</li>\n",
    "<li>%%cmd : 윈도우</li>"
   ]
  },
  {
   "cell_type": "code",
   "execution_count": 1,
   "id": "a73b0b95-1e59-4ad4-addc-d5b54ce20a52",
   "metadata": {},
   "outputs": [
    {
     "name": "stdout",
     "output_type": "stream",
     "text": [
      "Microsoft Windows [Version 10.0.26100.2894]\n",
      "(c) Microsoft Corporation. All rights reserved.\n",
      "\n",
      "ode>python mod1.py\n",
      "5\n",
      "2\n",
      "__main__\n",
      "�� ���Ϸ� ������ �Ǿ����\n",
      "\n",
      "d:\\code>"
     ]
    }
   ],
   "source": [
    "%%cmd\n",
    "python mod1.py"
   ]
  },
  {
   "cell_type": "code",
   "execution_count": 2,
   "id": "dfbe7296-2c4c-429e-9af2-13a5e159c853",
   "metadata": {},
   "outputs": [
    {
     "name": "stdout",
     "output_type": "stream",
     "text": [
      "5\n",
      "2\n",
      "mod1\n",
      "전 모듈로 임포트 되었어요\n"
     ]
    },
    {
     "data": {
      "text/plain": [
       "['__builtins__',\n",
       " '__cached__',\n",
       " '__doc__',\n",
       " '__file__',\n",
       " '__loader__',\n",
       " '__name__',\n",
       " '__package__',\n",
       " '__spec__',\n",
       " 'add',\n",
       " 'sub']"
      ]
     },
     "execution_count": 2,
     "metadata": {},
     "output_type": "execute_result"
    }
   ],
   "source": [
    "import mod1\n",
    "dir(mod1)"
   ]
  },
  {
   "cell_type": "code",
   "execution_count": 7,
   "id": "f136d30f-f78c-4f7c-a6da-12671d1c9971",
   "metadata": {},
   "outputs": [],
   "source": [
    "with open('mod1.py','a') as f:\n",
    "    content = \"\\nprint(__name__)\"\n",
    "    f.write(content)"
   ]
  },
  {
   "cell_type": "markdown",
   "id": "4113d17e-3fce-41aa-b1ef-980c1a0960eb",
   "metadata": {},
   "source": [
    "모듈로 임포트 되는지, 파일로 임포트 되는지"
   ]
  },
  {
   "cell_type": "code",
   "execution_count": 18,
   "id": "568bb832-e2ca-441f-9981-69dd1bed639e",
   "metadata": {},
   "outputs": [],
   "source": [
    "# 실습\n",
    "with open(\"sam.py\", \"a\", encoding='utf-8') as f:\n",
    "    text = \"\"\"import requests as req\n",
    "url = \"https://finance.naver.com/sise/sise_market_sum.naver\"\n",
    "web = req.get(url)\n",
    "html = web.text\n",
    "f1 = html.find('삼성전자')\n",
    "if __name__ == \"__main__\":\n",
    "    print(html[f1:f1+100][19:50].replace('<td class=\"number\">',\"\").replace('</td>',\"\").replace('\\\\n',\"\").replace('\\\\t',\"\")+\"원\")\n",
    "\"\"\"\n",
    "    f.write(text)"
   ]
  },
  {
   "cell_type": "code",
   "execution_count": 19,
   "id": "690c100e-a6cb-4f1e-bef7-6875d98f4a26",
   "metadata": {},
   "outputs": [
    {
     "name": "stdout",
     "output_type": "stream",
     "text": [
      "Microsoft Windows [Version 10.0.26100.2894]\n",
      "(c) Microsoft Corporation. All rights reserved.\n",
      "\n",
      "ode>python sam.py\n",
      "55,900��\n",
      "\n",
      "d:\\code>"
     ]
    }
   ],
   "source": [
    "%%cmd\n",
    "python sam.py"
   ]
  },
  {
   "cell_type": "code",
   "execution_count": 20,
   "id": "b6f74abd-cff5-48d9-95c5-4f4829af6209",
   "metadata": {},
   "outputs": [],
   "source": [
    "import sam"
   ]
  },
  {
   "cell_type": "code",
   "execution_count": 30,
   "id": "d4432212-06e4-416b-a8a9-42d675dbd02e",
   "metadata": {},
   "outputs": [],
   "source": [
    "# 실습2\n",
    "with open(\"sam2.py\", \"a\", encoding='utf-8') as f:\n",
    "    text = \"\"\"import requests as req\n",
    "import sys\n",
    "url = \"https://finance.naver.com/sise/sise_market_sum.naver\"\n",
    "web = req.get(url)\n",
    "html = web.text\n",
    "jongmok = sys.argv\n",
    "\n",
    "def sam2(jongmok):\n",
    "    f1 = html.find(jongmok)\n",
    "    num = html[f1:f1 + 100].find('<td class=\"number\">')\n",
    "    return(html[f1:f1+100][num:50].replace('<td class=\"number\">',\"\").replace('</td>',\"\").replace('\\\\n',\"\").replace('\\\\t',\"\")+\"원\")\n",
    "\n",
    "if __name__ == \"__main__\":\n",
    "    print(jongmok[1])\n",
    "    print(sam2(jongmok[1]))\n",
    "\"\"\"\n",
    "    f.write(text)"
   ]
  },
  {
   "cell_type": "code",
   "execution_count": 31,
   "id": "714b87b0-4b56-47fc-a482-f564fb3e44be",
   "metadata": {},
   "outputs": [
    {
     "name": "stdout",
     "output_type": "stream",
     "text": [
      "Microsoft Windows [Version 10.0.26100.2894]\n",
      "(c) Microsoft Corporation. All rights reserved.\n",
      "\n",
      "ode>python sam2.py '기아'\n",
      "'기아'\n",
      "��\n",
      "\n",
      "d:\\code>"
     ]
    }
   ],
   "source": [
    "%%cmd\n",
    "python sam2.py '기아'"
   ]
  },
  {
   "cell_type": "code",
   "execution_count": 10,
   "id": "73320ba0-b2b3-4bb5-8d0f-ec8776ed4b63",
   "metadata": {},
   "outputs": [],
   "source": [
    "def sam2(jongmok):\n",
    "    import requests as req\n",
    "    url = \"https://finance.naver.com/sise/sise_market_sum.naver\"\n",
    "    web = req.get(url)\n",
    "    html = web.text\n",
    "    f1 = html.find(jongmok)\n",
    "    if __name__ == \"__main__\":\n",
    "        num = html[f1:f1 + 100].find('<td class=\"number\">')\n",
    "        print(num)\n",
    "        print(html[f1:f1+100][num:50].replace('<td class=\"number\">',\"\").replace('</td>',\"\").replace('\\n',\"\").replace('\\t',\"\")+\"원\")"
   ]
  },
  {
   "cell_type": "code",
   "execution_count": 11,
   "id": "20b5e221-2f2d-4a4c-ae8a-5cc10293847b",
   "metadata": {},
   "outputs": [
    {
     "name": "stdout",
     "output_type": "stream",
     "text": [
      "17\n",
      "94,700원\n"
     ]
    }
   ],
   "source": [
    "sam2('기아')"
   ]
  },
  {
   "cell_type": "markdown",
   "id": "bbc64f7d-9177-49b4-a089-5b64b6a9105a",
   "metadata": {},
   "source": [
    "## 클래스나 변수등을 포함한 모듈"
   ]
  },
  {
   "cell_type": "code",
   "execution_count": 34,
   "id": "5fdc8b1b-9cc5-4a2f-b2c8-86502bdcb7e0",
   "metadata": {},
   "outputs": [],
   "source": [
    "with open(\"mod3.py\", \"w\") as f:\n",
    "    text = \"\"\"PI = 3.141519\\n\\nclass Math:\\n\\tdef solv(self, r):\\n\\t\\treturn PI * (r**2)\\n\\ndef add(a,b):\\n\\treturn a+b\"\"\"\n",
    "    f.write(text)"
   ]
  },
  {
   "cell_type": "code",
   "execution_count": 4,
   "id": "c6ec1133-ce55-4208-9cba-63eed0cf248e",
   "metadata": {},
   "outputs": [
    {
     "name": "stdout",
     "output_type": "stream",
     "text": [
      "3.141519\n",
      "314.1519\n",
      "7.541519000000001\n"
     ]
    }
   ],
   "source": [
    "import mod3\n",
    "# 변수\n",
    "print(mod3.PI)\n",
    "\n",
    "# 클래스\n",
    "a = mod3.Math()\n",
    "print(a.solv(10))\n",
    "\n",
    "# 함수\n",
    "print(mod3.add(mod3.PI, 4.4))"
   ]
  },
  {
   "cell_type": "markdown",
   "id": "0d7f7080-1799-4d3c-8e77-3afc141669de",
   "metadata": {},
   "source": [
    "## 다른 디렉토리에 있는 모듈 불러오는 방법"
   ]
  },
  {
   "cell_type": "code",
   "execution_count": 1,
   "id": "f43e9e46-2099-4612-934d-5335ba52839a",
   "metadata": {},
   "outputs": [
    {
     "data": {
      "text/plain": [
       "['C:\\\\Users\\\\Admin\\\\AppData\\\\Local\\\\Programs\\\\Python\\\\Python313\\\\python313.zip',\n",
       " 'C:\\\\Users\\\\Admin\\\\AppData\\\\Local\\\\Programs\\\\Python\\\\Python313\\\\DLLs',\n",
       " 'C:\\\\Users\\\\Admin\\\\AppData\\\\Local\\\\Programs\\\\Python\\\\Python313\\\\Lib',\n",
       " 'C:\\\\Users\\\\Admin\\\\AppData\\\\Local\\\\Programs\\\\Python\\\\Python313',\n",
       " '',\n",
       " 'C:\\\\Users\\\\Admin\\\\AppData\\\\Local\\\\Programs\\\\Python\\\\Python313\\\\Lib\\\\site-packages',\n",
       " 'C:\\\\Users\\\\Admin\\\\AppData\\\\Local\\\\Programs\\\\Python\\\\Python313\\\\Lib\\\\site-packages\\\\win32',\n",
       " 'C:\\\\Users\\\\Admin\\\\AppData\\\\Local\\\\Programs\\\\Python\\\\Python313\\\\Lib\\\\site-packages\\\\win32\\\\lib',\n",
       " 'C:\\\\Users\\\\Admin\\\\AppData\\\\Local\\\\Programs\\\\Python\\\\Python313\\\\Lib\\\\site-packages\\\\Pythonwin']"
      ]
     },
     "execution_count": 1,
     "metadata": {},
     "output_type": "execute_result"
    }
   ],
   "source": [
    "import sys\n",
    "sys.path"
   ]
  },
  {
   "cell_type": "code",
   "execution_count": 1,
   "id": "8a3f9587-6fa2-442b-9d80-dd611ec41b9a",
   "metadata": {},
   "outputs": [
    {
     "name": "stdout",
     "output_type": "stream",
     "text": [
      "Microsoft Windows [Version 10.0.26100.2894]\n",
      "(c) Microsoft Corporation. All rights reserved.\n",
      "\n",
      "ode>set PYTHONPATH=D:\\\\code\n",
      "\n",
      "d:\\code>"
     ]
    }
   ],
   "source": [
    "%%cmd\n",
    "set PYTHONPATH=D:\\\\code"
   ]
  },
  {
   "cell_type": "markdown",
   "id": "5cec6dc0-8e27-473a-9905-1001a3768987",
   "metadata": {},
   "source": [
    "<li>CMD에서 set PYTHONPATH=D:\\code\\mymode</li>\n",
    "<li>PS에서 $env.PYTHONPATH=D:\\code\\mymode</li>"
   ]
  },
  {
   "cell_type": "code",
   "execution_count": 5,
   "id": "fc2867eb-e9a6-4ee6-b339-4047114d44ae",
   "metadata": {},
   "outputs": [
    {
     "data": {
      "text/plain": [
       "['C:\\\\Users\\\\Admin\\\\AppData\\\\Local\\\\Programs\\\\Python\\\\Python313\\\\python313.zip',\n",
       " 'C:\\\\Users\\\\Admin\\\\AppData\\\\Local\\\\Programs\\\\Python\\\\Python313\\\\DLLs',\n",
       " 'C:\\\\Users\\\\Admin\\\\AppData\\\\Local\\\\Programs\\\\Python\\\\Python313\\\\Lib',\n",
       " 'C:\\\\Users\\\\Admin\\\\AppData\\\\Local\\\\Programs\\\\Python\\\\Python313',\n",
       " '',\n",
       " 'C:\\\\Users\\\\Admin\\\\AppData\\\\Local\\\\Programs\\\\Python\\\\Python313\\\\Lib\\\\site-packages',\n",
       " 'C:\\\\Users\\\\Admin\\\\AppData\\\\Local\\\\Programs\\\\Python\\\\Python313\\\\Lib\\\\site-packages\\\\win32',\n",
       " 'C:\\\\Users\\\\Admin\\\\AppData\\\\Local\\\\Programs\\\\Python\\\\Python313\\\\Lib\\\\site-packages\\\\win32\\\\lib',\n",
       " 'C:\\\\Users\\\\Admin\\\\AppData\\\\Local\\\\Programs\\\\Python\\\\Python313\\\\Lib\\\\site-packages\\\\Pythonwin',\n",
       " 'D:\\\\code\\\\mymod',\n",
       " 'D:\\\\code\\\\mymod']"
      ]
     },
     "execution_count": 5,
     "metadata": {},
     "output_type": "execute_result"
    }
   ],
   "source": [
    "sys.path.append('D:\\\\code\\\\mymod')    # 초기화하면 사라짐\n",
    "sys.path"
   ]
  },
  {
   "cell_type": "code",
   "execution_count": 4,
   "id": "7d10bf22-1d30-46a4-8132-ca59c84aa8c4",
   "metadata": {},
   "outputs": [
    {
     "name": "stdout",
     "output_type": "stream",
     "text": [
      "Requirement already satisfied: python-dotenv in c:\\users\\admin\\appdata\\local\\programs\\python\\python313\\lib\\site-packages (1.0.1)\n"
     ]
    },
    {
     "name": "stderr",
     "output_type": "stream",
     "text": [
      "\n",
      "[notice] A new release of pip is available: 25.0 -> 25.0.1\n",
      "[notice] To update, run: python.exe -m pip install --upgrade pip\n"
     ]
    },
    {
     "name": "stdout",
     "output_type": "stream",
     "text": [
      "Requirement already satisfied: pip in c:\\users\\admin\\appdata\\local\\programs\\python\\python313\\lib\\site-packages (25.0)\n",
      "Collecting pip\n",
      "  Downloading pip-25.0.1-py3-none-any.whl.metadata (3.7 kB)\n",
      "Downloading pip-25.0.1-py3-none-any.whl (1.8 MB)\n",
      "   ---------------------------------------- 0.0/1.8 MB ? eta -:--:--\n",
      "   ---------------------------------------- 1.8/1.8 MB 10.3 MB/s eta 0:00:00\n",
      "Installing collected packages: pip\n",
      "  Attempting uninstall: pip\n",
      "    Found existing installation: pip 25.0\n",
      "    Uninstalling pip-25.0:\n",
      "      Successfully uninstalled pip-25.0\n",
      "Successfully installed pip-25.0.1\n"
     ]
    }
   ],
   "source": [
    "!pip install python-dotenv\n",
    "!python.exe -m pip install --upgrade pip"
   ]
  },
  {
   "cell_type": "code",
   "execution_count": 3,
   "id": "6de583e1-cf01-4156-863f-664ada82392f",
   "metadata": {},
   "outputs": [
    {
     "name": "stdout",
     "output_type": "stream",
     "text": [
      "myphone01012341234\n",
      "https://www.google.com\n",
      "이게 될까? 모르겠어요\n"
     ]
    }
   ],
   "source": [
    "from dotenv import load_dotenv\n",
    "import os\n",
    "\n",
    "# .env 파일 로드\n",
    "load_dotenv()\n",
    "\n",
    "SKEY = os.getenv(\"SECRET_KEY\")\n",
    "print(SKEY)\n",
    "DBUG = os.getenv(\"DEBUG\")\n",
    "print(DBUG)\n",
    "TEST = os.getenv(\"TEST\")\n",
    "print(TEST)"
   ]
  },
  {
   "cell_type": "code",
   "execution_count": 25,
   "id": "fadc6edd-591f-4603-a7e8-4b8360f8d5ac",
   "metadata": {},
   "outputs": [],
   "source": [
    "# 네이버 검색 API 예제 - 뉴스 검색\n",
    "import os\n",
    "import sys\n",
    "import urllib.request\n",
    "from dotenv import load_dotenv\n",
    "\n",
    "def search(content):\n",
    "    load_dotenv()\n",
    "    client_id = os.environ.get(\"MY_ID\")\n",
    "    client_secret = os.environ.get(\"MY_SECRET\")\n",
    "    encText = urllib.parse.quote(content)\n",
    "    url = \"https://openapi.naver.com/v1/search/news.json?query=\" + encText + '&display=5&start=1&sort=date' # JSON 결과\n",
    "    # url = \"https://openapi.naver.com/v1/search/blog.xml?query=\" + encText # XML 결과\n",
    "    request = urllib.request.Request(url)\n",
    "    request.add_header(\"X-Naver-Client-Id\",client_id)\n",
    "    request.add_header(\"X-Naver-Client-Secret\",client_secret)\n",
    "    response = urllib.request.urlopen(request)\n",
    "    rescode = response.getcode()\n",
    "    if(rescode==200):\n",
    "        response_body = response.read()\n",
    "        result = response_body.decode('utf-8')\n",
    "        data = json.loads(result)\n",
    "        ldata = data['items']\n",
    "        for n in ldata:\n",
    "            print(n['title'].replace('<b>','').replace('</b>',''))\n",
    "            print(n['description'])\n",
    "            print(n['originallink'])\n",
    "    else:\n",
    "        print(\"Error Code:\" + rescode)"
   ]
  },
  {
   "cell_type": "code",
   "execution_count": 31,
   "id": "fbd380a5-8a7e-431b-a144-5723615c0cc5",
   "metadata": {},
   "outputs": [
    {
     "name": "stdout",
     "output_type": "stream",
     "text": [
      "{\n",
      "\t\"lastBuildDate\":\"Thu, 13 Feb 2025 16:22:13 +0900\",\n",
      "\t\"total\":5124183,\n",
      "\t\"start\":1,\n",
      "\t\"display\":5,\n",
      "\t\"items\":[\n",
      "\t\t{\n",
      "\t\t\t\"title\":\"고성군, 2025년 군민 소통간담회 성료\",\n",
      "\t\t\t\"originallink\":\"https:\\/\\/www.joongdo.co.kr\\/web\\/view.php?key=20250213010004194\",\n",
      "\t\t\t\"link\":\"https:\\/\\/www.joongdo.co.kr\\/web\\/view.php?key=20250213010004194\",\n",
      "\t\t\t\"description\":\"또한, ▲유소년 스포츠빌리지 ▲실내<b>야구<\\/b>연습장 ▲동물보호센터 ▲해양웰니스 포레스트 조성사업도 진행 중이다. 하반기에는 ▲고성읍 커뮤니티 셰어-큐어센터 ▲어촌뉴딜 300사업 ▲어촌신활력사업 등이 준공될... \",\n",
      "\t\t\t\"pubDate\":\"Thu, 13 Feb 2025 16:20:00 +0900\"\n",
      "\t\t},\n",
      "\t\t{\n",
      "\t\t\t\"title\":\"강정호가 예측한 이정후의 2025 성적, MLB 반등을 향한 기대\",\n",
      "\t\t\t\"originallink\":\"http:\\/\\/www.maniareport.com\\/view.php?ud=2025021316163351136cf2d78c68_19\",\n",
      "\t\t\t\"link\":\"https:\\/\\/m.sports.naver.com\\/wbaseball\\/article\\/425\\/0000159599\",\n",
      "\t\t\t\"description\":\"'팬그래프'의 성적 예측 시스템은 2025시즌 타율 0.294, 14홈런 등 강정호의 예상보다 긍정적인 전망을 제시했다. 부상의 아픔을 딛고 새 시즌을 준비하는 이정후의 반등 여부에 <b>야구<\\/b>팬들의 관심이 쏠리고 있다.\",\n",
      "\t\t\t\"pubDate\":\"Thu, 13 Feb 2025 16:20:00 +0900\"\n",
      "\t\t},\n",
      "\t\t{\n",
      "\t\t\t\"title\":\"KBO, 2025시즌 엠블럼 공개... 더욱 역동적인 시즌 예고\",\n",
      "\t\t\t\"originallink\":\"http:\\/\\/www.wolyo.co.kr\\/news\\/articleView.html?idxno=255121\",\n",
      "\t\t\t\"link\":\"http:\\/\\/www.wolyo.co.kr\\/news\\/articleView.html?idxno=255121\",\n",
      "\t\t\t\"description\":\"공존하는 <b>야구<\\/b>의 역동성을 담아냈다. 단순한 경기를 넘어, KBO 리그가 팬들의 삶 속에 더욱 열정적으로... 신한은행은 모바일 앱 '신한 SOL뱅크'의 쏠<b>야구<\\/b> 페이지를 통해 <b>야구<\\/b>팬들과 지속적으로 소통할 수 있는... \",\n",
      "\t\t\t\"pubDate\":\"Thu, 13 Feb 2025 16:16:00 +0900\"\n",
      "\t\t},\n",
      "\t\t{\n",
      "\t\t\t\"title\":\"람보르기니남·오재원도 고객…‘의료용 마약 불법 투약’ 의사 검거\",\n",
      "\t\t\t\"originallink\":\"http:\\/\\/www.kookje.co.kr\\/news2011\\/asp\\/newsbody.asp?code=0300&key=20250213.99099003985\",\n",
      "\t\t\t\"link\":\"https:\\/\\/n.news.naver.com\\/mnews\\/article\\/658\\/0000097226?sid=102\",\n",
      "\t\t\t\"description\":\"마약 투약 혐의로 실형을 선고 받은 전 프로<b>야구<\\/b> 선수 오재원 씨와 일명 ‘람보르기니 주차 시비’ 사건 운전자 등 100여명에게 의료용 마약류를 투약하고 40억 원을 챙긴 의사가 경찰에 붙잡혔다. 13일 서울경찰청... \",\n",
      "\t\t\t\"pubDate\":\"Thu, 13 Feb 2025 16:15:00 +0900\"\n",
      "\t\t},\n",
      "\t\t{\n",
      "\t\t\t\"title\":\"KBO, 3년 만에 리그 엠블럼 변경···&quot;도전+승부+긴장감 공존하는 <b>야구<\\/b>...\",\n",
      "\t\t\t\"originallink\":\"https:\\/\\/www.xportsnews.com\\/article\\/1961258\",\n",
      "\t\t\t\"link\":\"https:\\/\\/m.sports.naver.com\\/kbaseball\\/article\\/311\\/0001826776\",\n",
      "\t\t\t\"description\":\"한국<b>야구<\\/b>위원회(KBO)가 새로운 리그 엠블럼을 발표했다. KBO는 13일 보도자료를 통해 &quot;2025시즌을 맞아... 공존하는 <b>야구<\\/b>의 역동성을 담아냈다. 단순한 경기를 넘어 KBO리그가 팬들의 삶 속에 더욱 열정적으로... \",\n",
      "\t\t\t\"pubDate\":\"Thu, 13 Feb 2025 16:15:00 +0900\"\n",
      "\t\t}\n",
      "\t]\n",
      "}\n"
     ]
    }
   ],
   "source": [
    "search(\"야구\")"
   ]
  },
  {
   "cell_type": "code",
   "execution_count": 2,
   "id": "a993f407-0ce1-4252-9304-0b85629cec2d",
   "metadata": {},
   "outputs": [
    {
     "name": "stdout",
     "output_type": "stream",
     "text": [
      "Collecting qrcode\n",
      "  Downloading qrcode-8.0-py3-none-any.whl.metadata (17 kB)\n",
      "Requirement already satisfied: colorama in c:\\users\\안정민\\pknu\\lib\\site-packages (from qrcode) (0.4.6)\n",
      "Downloading qrcode-8.0-py3-none-any.whl (45 kB)\n",
      "Installing collected packages: qrcode\n",
      "Successfully installed qrcode-8.0\n"
     ]
    },
    {
     "name": "stderr",
     "output_type": "stream",
     "text": [
      "\n",
      "[notice] A new release of pip is available: 24.3.1 -> 25.0.1\n",
      "[notice] To update, run: python.exe -m pip install --upgrade pip\n"
     ]
    }
   ],
   "source": [
    "!pip install qrcode"
   ]
  },
  {
   "cell_type": "code",
   "execution_count": 5,
   "id": "74afd4f6-339d-40f6-9052-ae7f30014c88",
   "metadata": {},
   "outputs": [],
   "source": [
    "import qrcode\n",
    "def qrcode_maker(text, filename='qr.png'):\n",
    "    qr = qrcode.make(text)\n",
    "    qr.save(filename)\n",
    "\n",
    "# qrcode_maker(\"하이\")\n",
    "qrcode_maker(\"https://github.com/jungmin9911\")"
   ]
  },
  {
   "cell_type": "code",
   "execution_count": 16,
   "id": "5ad0d18f-83fd-490b-a9bf-983f4d4b4b95",
   "metadata": {},
   "outputs": [
    {
     "data": {
      "text/html": [
       "<img src = \"qr.png\" width=100>"
      ],
      "text/plain": [
       "<IPython.core.display.HTML object>"
      ]
     },
     "metadata": {},
     "output_type": "display_data"
    }
   ],
   "source": [
    "# QR 이미지 바로 출력\n",
    "from IPython.display import display, HTML\n",
    "from PIL import Image\n",
    "\n",
    "image_path = \"qr.png\"\n",
    "img = Image.open(image_path)\n",
    "htmlcode = '<img src = \"qr.png\" width=100>'\n",
    "\n",
    "display(HTML(htmlcode))"
   ]
  },
  {
   "cell_type": "code",
   "execution_count": 16,
   "id": "820ddd7d-0cb2-490e-9bb2-aba3cac7dd98",
   "metadata": {},
   "outputs": [],
   "source": [
    "import os\n",
    "import requests\n",
    "from dotenv import load_dotenv\n",
    "\n",
    "def search():\n",
    "    load_dotenv()  # .env 파일에서 환경 변수 로드\n",
    "    key = os.environ.get(\"MOVIE_ID\")  # 환경 변수에서 API 키 가져오기\n",
    "    targetDt = '20250201'  # 조회할 날짜 (YYYYMMDD)\n",
    "    weekGb = 1  # 주간 박스오피스 (1: 주간, 2: 주말, 3: 주중)\n",
    "\n",
    "    # API 요청 URL 생성\n",
    "    url = f\"https://kobis.or.kr/kobisopenapi/webservice/rest/boxoffice/searchWeeklyBoxOfficeList.json?key={key}&targetDt={targetDt}&weekGb={weekGb}\"\n",
    "\n",
    "    # API 요청 보내기\n",
    "    response = requests.get(url)\n",
    "\n",
    "    # 응답 코드 확인\n",
    "    if response.status_code == 200:\n",
    "        r_data = response.json()  # JSON 데이터 변환\n",
    "        box_office_list = r_data.get('boxOfficeResult', {}).get('weeklyBoxOfficeList', [])\n",
    "\n",
    "        # 영화 순위 출력\n",
    "        for movie in box_office_list:\n",
    "            rank = movie.get('rank', 'N/A')  # 순위\n",
    "            name = movie.get('movieNm', 'N/A')  # 영화 제목\n",
    "            print(f\"순위: {rank}, 영화명: {name}\")\n",
    "    else:\n",
    "        print(f\"Error: 응답 코드 {response.status_code}\")"
   ]
  },
  {
   "cell_type": "code",
   "execution_count": 17,
   "id": "6d4acbe9-f281-4d03-b82e-2a0863ebfed9",
   "metadata": {},
   "outputs": [
    {
     "name": "stdout",
     "output_type": "stream",
     "text": [
      "순위: 1, 영화명: 히트맨2\n",
      "순위: 2, 영화명: 검은 수녀들\n",
      "순위: 3, 영화명: 말할 수 없는 비밀\n",
      "순위: 4, 영화명: 하얼빈\n",
      "순위: 5, 영화명: 서브스턴스\n",
      "순위: 6, 영화명: 극장판 포켓몬스터 AG: 뮤와 파동의 용사 루카리오\n",
      "순위: 7, 영화명: 뽀로로 극장판 바닷속 대모험\n",
      "순위: 8, 영화명: 아이유 콘서트 : 더 위닝\n",
      "순위: 9, 영화명: 바다 탐험대 옥토넛 어보브 앤 비욘드 : 극지방 대작전\n",
      "순위: 10, 영화명: 극장판 짱구는 못말려: 우리들의 공룡일기\n"
     ]
    }
   ],
   "source": [
    "search()"
   ]
  },
  {
   "cell_type": "markdown",
   "id": "bc1a5cbf-c678-4c45-b5cf-8a5f0303c09c",
   "metadata": {},
   "source": [
    "# 패키지"
   ]
  },
  {
   "cell_type": "markdown",
   "id": "bcd18422-5d32-435f-bf2a-d8b7a7ce327d",
   "metadata": {},
   "source": [
    "## 패키지 만들기"
   ]
  },
  {
   "cell_type": "markdown",
   "id": "b675bc4c-dedf-4ecb-ac98-b71412a6ac3f",
   "metadata": {},
   "source": [
    "[ [ [ List, Set, Dic(데이터 타입) ], [Function, def] (객체)] (모듈)] (패키지)"
   ]
  },
  {
   "cell_type": "code",
   "execution_count": 3,
   "id": "9218797b-3b84-433c-a966-73be4b52aa81",
   "metadata": {},
   "outputs": [],
   "source": [
    "# %%cmd\n",
    "# set PYTHONPATH = D:\\code\\game\n",
    "# 혹시 아래 코드 에러나면 이걸로 경로설정"
   ]
  },
  {
   "cell_type": "code",
   "execution_count": 3,
   "id": "6b17feb3-8c64-4e7a-afb2-508eb8e8bbfd",
   "metadata": {},
   "outputs": [
    {
     "name": "stdout",
     "output_type": "stream",
     "text": [
      "에코\n",
      "랜더링\n"
     ]
    }
   ],
   "source": [
    "# test1 - 명시적이지만 길다\n",
    "import game.sound.echo    # 폴더 안에 들어가있는 모듈 불러오기\n",
    "import game.graphic.render\n",
    "game.sound.echo.echo_test()\n",
    "game.graphic.render.render_test()"
   ]
  },
  {
   "cell_type": "code",
   "execution_count": null,
   "id": "df8b7fcf-66c0-4f42-9801-4ba49cf90a7b",
   "metadata": {},
   "outputs": [],
   "source": [
    "# test2 - 짧지만 중복의 위험이 있다, 명시적X\n",
    "from game.echo_v import echo_test as ev\n",
    "from game.echo import echo_test as e\n",
    "ev()\n",
    "e()"
   ]
  },
  {
   "cell_type": "code",
   "execution_count": 5,
   "id": "1d34f97a-f60f-4a7d-8be2-f8cc1dd253cf",
   "metadata": {},
   "outputs": [
    {
     "name": "stdout",
     "output_type": "stream",
     "text": [
      "3.6\n",
      "The version of this game is 3.6\n"
     ]
    }
   ],
   "source": [
    "# __init__.py 를 사용하기\n",
    "import game \n",
    "print(game.VERSION)\n",
    "game.print_version_info()"
   ]
  },
  {
   "cell_type": "code",
   "execution_count": 1,
   "id": "1f648e60-b75c-4c63-a62b-992eae785864",
   "metadata": {},
   "outputs": [
    {
     "name": "stdout",
     "output_type": "stream",
     "text": [
      "Initializing Game...\n"
     ]
    }
   ],
   "source": [
    "# __init__.py 은 한번만 로드\n",
    "import game"
   ]
  },
  {
   "cell_type": "code",
   "execution_count": 2,
   "id": "66d53f48-215a-4537-ba9b-54fa164fcc95",
   "metadata": {},
   "outputs": [
    {
     "name": "stdout",
     "output_type": "stream",
     "text": [
      "랜더링\n"
     ]
    }
   ],
   "source": [
    "# __init__.py 는 패키지내에 내 모듈을 미리 import 할 수 있다\n",
    "game.render_test()"
   ]
  },
  {
   "cell_type": "code",
   "execution_count": 4,
   "id": "6e66fe63-9877-4a58-9b86-5bb6318447bc",
   "metadata": {},
   "outputs": [],
   "source": [
    "import game.graphic"
   ]
  },
  {
   "cell_type": "code",
   "execution_count": 6,
   "id": "40d0a627-5c01-40ab-a8f4-88716ae0a2da",
   "metadata": {},
   "outputs": [
    {
     "name": "stdout",
     "output_type": "stream",
     "text": [
      "The version of this graphic of game is 3.7\n"
     ]
    }
   ],
   "source": [
    "game.graphic.print_version_info()"
   ]
  },
  {
   "cell_type": "code",
   "execution_count": 1,
   "id": "f979cd41-3da2-450b-8ca1-4684fafec909",
   "metadata": {},
   "outputs": [
    {
     "name": "stdout",
     "output_type": "stream",
     "text": [
      "Initializing Game...\n"
     ]
    }
   ],
   "source": [
    "# __all__ 사용하기\n",
    "from game.graphic import *"
   ]
  },
  {
   "cell_type": "code",
   "execution_count": 2,
   "id": "223f34df-05c9-4b1c-b0ad-f6f0c6339962",
   "metadata": {},
   "outputs": [
    {
     "name": "stdout",
     "output_type": "stream",
     "text": [
      "비디오에코\n"
     ]
    }
   ],
   "source": [
    "echo.echo_test()"
   ]
  },
  {
   "cell_type": "code",
   "execution_count": 1,
   "id": "a0b5a39c-0e35-46ea-aada-d9144c334fee",
   "metadata": {},
   "outputs": [
    {
     "name": "stdout",
     "output_type": "stream",
     "text": [
      "Initializing Game...\n"
     ]
    }
   ],
   "source": [
    "# relative 패키지\n",
    "from game.graphic.render import render_test"
   ]
  },
  {
   "cell_type": "code",
   "execution_count": 4,
   "id": "92b7090f-3fbe-429e-828a-ad0dc4c4482e",
   "metadata": {},
   "outputs": [
    {
     "name": "stdout",
     "output_type": "stream",
     "text": [
      "랜더링\n",
      "에코\n"
     ]
    }
   ],
   "source": [
    "# 비디오 에코가 아닌 사운드 에코 호출\n",
    "render_test()"
   ]
  },
  {
   "cell_type": "markdown",
   "id": "b4c85fe5-eee8-4594-891c-0508482e7617",
   "metadata": {},
   "source": [
    "#  예외처리"
   ]
  },
  {
   "cell_type": "markdown",
   "id": "2ecad3af-1ad1-40db-bcfd-d41af3539483",
   "metadata": {},
   "source": [
    "## 오류발생"
   ]
  },
  {
   "cell_type": "markdown",
   "id": "845dfa3d-69e5-4ae6-96fb-018513a5ca83",
   "metadata": {},
   "source": [
    "- 오타\n",
    "- 존재하지 않는 파일을 지정 또는 사용\n",
    "- 수학적 오류\n",
    "- 인덱스 범위 초과\n",
    "- 문법 오류"
   ]
  },
  {
   "cell_type": "markdown",
   "id": "bec467db-d871-4be0-9162-30fa8db9ac0e",
   "metadata": {},
   "source": [
    "## 오류 예외 처리 기법"
   ]
  },
  {
   "cell_type": "markdown",
   "id": "b6aaf437-5cd8-48f2-ad0f-d86197ce2543",
   "metadata": {},
   "source": [
    "- try-except 문 (자바의 try-catch문)\n",
    "- try-finally 문\n",
    "- 여러개의 오류 처리\n",
    "- try-else 문"
   ]
  },
  {
   "cell_type": "code",
   "execution_count": 9,
   "id": "0ab8082a-0eaa-4a71-bd91-e65261be5ef5",
   "metadata": {},
   "outputs": [],
   "source": [
    "# f = open('뜬금파일', 'r')\n",
    "# FileNotFoundError: [Errno 2] No such file or directory: '뜬금파일'"
   ]
  },
  {
   "cell_type": "code",
   "execution_count": 10,
   "id": "b1a634b1-ea6f-4495-bb71-6d1e8e6e8893",
   "metadata": {},
   "outputs": [],
   "source": [
    "# 4/0\n",
    "# ZeroDivisionError: division by zero"
   ]
  },
  {
   "cell_type": "code",
   "execution_count": 12,
   "id": "7243ce25-9432-45e0-99fe-d24cf9a5c5c8",
   "metadata": {},
   "outputs": [],
   "source": [
    "# a = [1, 2, 3]\n",
    "# print(a[7])\n",
    "# IndexError: list index out of range"
   ]
  },
  {
   "cell_type": "code",
   "execution_count": 18,
   "id": "954b2697-356c-4015-8dc6-2fa89324555b",
   "metadata": {},
   "outputs": [
    {
     "name": "stdout",
     "output_type": "stream",
     "text": [
      "없는 거 찾지마\n",
      "[Errno 2] No such file or directory: '뜬금파일'\n",
      "코드 작성을 마칩니다\n"
     ]
    }
   ],
   "source": [
    "# 테스트1\n",
    "try:\n",
    "    f = open(\"뜬금파일\", 'r')\n",
    "except FileNotFoundError as e:\n",
    "    if e:\n",
    "        print('없는 거 찾지마')\n",
    "    print(e)\n",
    "finally:    # 무조건 실행하는 코드\n",
    "    print('코드 작성을 마칩니다')"
   ]
  },
  {
   "cell_type": "code",
   "execution_count": 27,
   "id": "ed77cc3c-bc9c-4f9c-9dbe-12ecc4a406e7",
   "metadata": {},
   "outputs": [
    {
     "name": "stdout",
     "output_type": "stream",
     "text": [
      "0으로 나눌 수 없어요 division by zero\n"
     ]
    }
   ],
   "source": [
    "# 지정한 이름의 예외처리, as로 별칭 가능\n",
    "try:\n",
    "    4/0\n",
    "except ZeroDivisionError as e:\n",
    "    if e:\n",
    "        print(\"0으로 나눌 수 없어요\", e)"
   ]
  },
  {
   "cell_type": "code",
   "execution_count": 28,
   "id": "886f9409-b4fc-4bd5-8f41-1e6f16b6bbd6",
   "metadata": {},
   "outputs": [
    {
     "name": "stdout",
     "output_type": "stream",
     "text": [
      "0으로 나누지마세요\n"
     ]
    }
   ],
   "source": [
    "# try-except-finally 3단계도 가능\n",
    "# finally는 에러나도 무조건 처리\n",
    "try:\n",
    "    f = open('foo.txt', 'w')\n",
    "    f.write(4/0)\n",
    "except:\n",
    "    print(\"0으로 나누지마세요\")\n",
    "finally:\n",
    "    f.close()  # 파일 닫기"
   ]
  },
  {
   "cell_type": "code",
   "execution_count": 26,
   "id": "c45db9e8-f5d0-40d6-9b0e-c9fee48e17bb",
   "metadata": {},
   "outputs": [
    {
     "name": "stdout",
     "output_type": "stream",
     "text": [
      "tuple index out of range\n"
     ]
    }
   ],
   "source": [
    "# 테스트 해볼 것 2개 이상의 오류를 동일하게 처리\n",
    "try:\n",
    "    a = 1, 2\n",
    "    print(a[512])\n",
    "    4/0\n",
    "except (ZeroDivisionError, IndexError) as e:\n",
    "    print(e)"
   ]
  },
  {
   "cell_type": "markdown",
   "id": "59621f20-c86f-4d46-9a7d-272501850002",
   "metadata": {},
   "source": [
    "중복 에러는 처음 만나는 에러만 출력<br>\n",
    "정상 중복값은 마지막의 값만 출력"
   ]
  },
  {
   "cell_type": "code",
   "execution_count": 33,
   "id": "24b5f139-e08c-49e4-9d64-9394c96e47a6",
   "metadata": {},
   "outputs": [
    {
     "name": "stdin",
     "output_type": "stream",
     "text": [
      "나이를 입력하세요 16\n"
     ]
    },
    {
     "name": "stdout",
     "output_type": "stream",
     "text": [
      "미성년자 출입금지\n",
      "====================\n",
      "분석끝\n"
     ]
    }
   ],
   "source": [
    "# try-else 문\n",
    "try:\n",
    "    age = int(input(\"나이를 입력하세요\"))\n",
    "except:\n",
    "    print(\"입력이 정확하지 않습니다\")\n",
    "else:\n",
    "    if age <= 18:\n",
    "        print(\"미성년자 출입금지\")\n",
    "    else:\n",
    "        print(\"환영합니다\")\n",
    "finally:\n",
    "    print(\"=\"*20 + '\\n분석끝')"
   ]
  },
  {
   "cell_type": "code",
   "execution_count": 37,
   "id": "f493a2c3-ec72-4e91-98e1-f2078902fa49",
   "metadata": {},
   "outputs": [
    {
     "name": "stdin",
     "output_type": "stream",
     "text": [
      "나이를 입력하세요 25\n"
     ]
    },
    {
     "name": "stdout",
     "output_type": "stream",
     "text": [
      "환영합니다\n",
      "====================\n",
      "분석끝\n"
     ]
    }
   ],
   "source": [
    "# try-else 문\n",
    "try:\n",
    "    age = int(input(\"나이를 입력하세요\"))\n",
    "    if age <= 18:\n",
    "        print(\"미성년자 출입금지\")\n",
    "    else:\n",
    "        print(\"환영합니다\")\n",
    "except:\n",
    "    print(\"입력이 정확하지 않습니다\")\n",
    "finally:\n",
    "    print(\"=\"*20 + '\\n분석끝')"
   ]
  },
  {
   "cell_type": "code",
   "execution_count": 36,
   "id": "1dd31923-0425-4604-bb7c-31c9c37568e4",
   "metadata": {},
   "outputs": [
    {
     "name": "stdout",
     "output_type": "stream",
     "text": [
      "반가워\n"
     ]
    }
   ],
   "source": [
    "# 오류 회피하기\n",
    "try:\n",
    "    print(\"반가워\")\n",
    "    f = open(\"없는 파일\", \"r\")\n",
    "    print(\"안녕\")\n",
    "except FileNotFoundError:\n",
    "    pass"
   ]
  },
  {
   "cell_type": "code",
   "execution_count": 55,
   "id": "20907ab2-6ece-4980-8a25-313fc62f7def",
   "metadata": {},
   "outputs": [
    {
     "name": "stdout",
     "output_type": "stream",
     "text": [
      "난 독수리다\n"
     ]
    }
   ],
   "source": [
    "# 오류 일부러 발생시키기 (클래스 상속기반)\n",
    "class Bird:\n",
    "    def fly(self):\n",
    "        raise NotImplementedError    # 필요한 부분이 빠짐\n",
    "\n",
    "class Eagle(Bird):\n",
    "    def fly(self):  # 상속으로 기존 코드 덮어씀(오버라이딩)\n",
    "        print(\"난 독수리다\")\n",
    "\n",
    "eagle = Eagle()\n",
    "eagle.fly()"
   ]
  },
  {
   "cell_type": "code",
   "execution_count": 59,
   "id": "dbecb7b2-1f94-45f9-9bf8-501986344d1d",
   "metadata": {},
   "outputs": [],
   "source": [
    "# 예외 만들기\n",
    "class MyError(Exception):\n",
    "    pass"
   ]
  },
  {
   "cell_type": "code",
   "execution_count": 60,
   "id": "7794aeb5-8723-49e3-aa7e-6816f360ffb9",
   "metadata": {},
   "outputs": [],
   "source": [
    "def say_nick(nick):\n",
    "    if nick == \"바보\":\n",
    "        raise MyError()\n",
    "    print(nick)"
   ]
  },
  {
   "cell_type": "code",
   "execution_count": 62,
   "id": "3a7e5226-82b4-4b27-9030-7e8d6370bed2",
   "metadata": {},
   "outputs": [
    {
     "ename": "MyError",
     "evalue": "",
     "output_type": "error",
     "traceback": [
      "\u001b[1;31m---------------------------------------------------------------------------\u001b[0m",
      "\u001b[1;31mMyError\u001b[0m                                   Traceback (most recent call last)",
      "Cell \u001b[1;32mIn[62], line 1\u001b[0m\n\u001b[1;32m----> 1\u001b[0m \u001b[43msay_nick\u001b[49m\u001b[43m(\u001b[49m\u001b[38;5;124;43m\"\u001b[39;49m\u001b[38;5;124;43m바보\u001b[39;49m\u001b[38;5;124;43m\"\u001b[39;49m\u001b[43m)\u001b[49m\n",
      "Cell \u001b[1;32mIn[60], line 3\u001b[0m, in \u001b[0;36msay_nick\u001b[1;34m(nick)\u001b[0m\n\u001b[0;32m      1\u001b[0m \u001b[38;5;28;01mdef\u001b[39;00m\u001b[38;5;250m \u001b[39m\u001b[38;5;21msay_nick\u001b[39m(nick):\n\u001b[0;32m      2\u001b[0m     \u001b[38;5;28;01mif\u001b[39;00m nick \u001b[38;5;241m==\u001b[39m \u001b[38;5;124m\"\u001b[39m\u001b[38;5;124m바보\u001b[39m\u001b[38;5;124m\"\u001b[39m:\n\u001b[1;32m----> 3\u001b[0m         \u001b[38;5;28;01mraise\u001b[39;00m MyError()\n\u001b[0;32m      4\u001b[0m     \u001b[38;5;28mprint\u001b[39m(nick)\n",
      "\u001b[1;31mMyError\u001b[0m: "
     ]
    }
   ],
   "source": [
    "say_nick(\"바보\")"
   ]
  },
  {
   "cell_type": "code",
   "execution_count": 67,
   "id": "5d4411c3-f6d1-4be1-8d7f-b1b33b8d926d",
   "metadata": {},
   "outputs": [
    {
     "name": "stdout",
     "output_type": "stream",
     "text": [
      "천사\n",
      "욕하지마 바보아니야. 욕하지마 사람은 착해\n"
     ]
    }
   ],
   "source": [
    "try:\n",
    "    say_nick(\"천사\")\n",
    "    say_nick(\"바보\")\n",
    "except MyError as e:\n",
    "    print(\"욕하지마 바보아니야.\", e)"
   ]
  },
  {
   "cell_type": "code",
   "execution_count": 68,
   "id": "8ea9a532-ba45-489b-a615-049ead332c1a",
   "metadata": {},
   "outputs": [],
   "source": [
    "class MyError(Exception):\n",
    "    def __str__(self):\n",
    "        return \"욕하지마 사람은 착해\""
   ]
  },
  {
   "cell_type": "code",
   "execution_count": null,
   "id": "7808bdbf-458a-499e-b32c-59f34b86a000",
   "metadata": {},
   "outputs": [],
   "source": []
  }
 ],
 "metadata": {
  "kernelspec": {
   "display_name": "Python 3 (ipykernel)",
   "language": "python",
   "name": "python3"
  },
  "language_info": {
   "codemirror_mode": {
    "name": "ipython",
    "version": 3
   },
   "file_extension": ".py",
   "mimetype": "text/x-python",
   "name": "python",
   "nbconvert_exporter": "python",
   "pygments_lexer": "ipython3",
   "version": "3.13.1"
  }
 },
 "nbformat": 4,
 "nbformat_minor": 5
}
