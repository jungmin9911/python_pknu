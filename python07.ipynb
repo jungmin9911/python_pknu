{
 "cells": [
  {
   "cell_type": "markdown",
   "id": "a64adf64-f02e-401e-b214-f9039e9e8413",
   "metadata": {},
   "source": [
    "# 내장함수"
   ]
  },
  {
   "cell_type": "code",
<<<<<<< HEAD
   "execution_count": 1,
=======
   "execution_count": 91,
>>>>>>> 6055de725846df9bd646dea4e517b5c684871992
   "id": "4dbd9224-b8f3-45eb-bb18-45970e29f3af",
   "metadata": {},
   "outputs": [
    {
     "name": "stdout",
     "output_type": "stream",
     "text": [
      "3\n",
      "1.2\n"
     ]
    }
   ],
   "source": [
<<<<<<< HEAD
    "# abs *중요\n",
=======
    "# abs ★중요\n",
>>>>>>> 6055de725846df9bd646dea4e517b5c684871992
    "# 어떤 숫자를 입력받았을 때 그 숫자의절댓값을 리턴하는 함수\n",
    "print(abs(-3))\n",
    "print(abs(-1.2))"
   ]
  },
  {
   "cell_type": "code",
<<<<<<< HEAD
   "execution_count": 8,
=======
   "execution_count": 92,
>>>>>>> 6055de725846df9bd646dea4e517b5c684871992
   "id": "a02d2cf3-0156-4933-bcd8-37e4ec3dda44",
   "metadata": {},
   "outputs": [
    {
     "name": "stdout",
     "output_type": "stream",
     "text": [
      "True\n",
      "False\n",
      "True\n"
     ]
    }
   ],
   "source": [
<<<<<<< HEAD
    "# all *중요\n",
=======
    "# all ★\n",
>>>>>>> 6055de725846df9bd646dea4e517b5c684871992
    "# 반복 가능한 데이터를 입력값으로 받으며,\n",
    "# 이 요소가 참이면 True, 거짓이 하나라도 있으면 Flase\n",
    "print(all([1, 2, 3]))\n",
    "print(all({1, 2, 3, 0}))\n",
    "print(all([]))  # 빈값일때 True"
   ]
  },
  {
   "cell_type": "code",
<<<<<<< HEAD
   "execution_count": 9,
=======
   "execution_count": 93,
>>>>>>> 6055de725846df9bd646dea4e517b5c684871992
   "id": "5959b0b4-6d42-4978-88ca-e3342fb1b66a",
   "metadata": {},
   "outputs": [
    {
     "name": "stdout",
     "output_type": "stream",
     "text": [
      "True\n",
      "False\n",
      "False\n"
     ]
    }
   ],
   "source": [
<<<<<<< HEAD
    "# any *중요\n",
=======
    "# any ★\n",
>>>>>>> 6055de725846df9bd646dea4e517b5c684871992
    "# 반복 가능한 데이터를 입력값으로 받으며,\n",
    "# 이 요소 중 하나라도 참이 있으면 True, 모두 거짓이면 False\n",
    "print(any([1, 2, 3, 0]))\n",
    "print(any([0, \"\"]))\n",
    "print(any([]))  # 빈값일때 False"
   ]
  },
  {
   "cell_type": "code",
<<<<<<< HEAD
   "execution_count": 16,
=======
   "execution_count": 94,
>>>>>>> 6055de725846df9bd646dea4e517b5c684871992
   "id": "bfe04ddb-1124-44f8-aa90-1c5c90bcc38c",
   "metadata": {},
   "outputs": [
    {
     "name": "stdout",
     "output_type": "stream",
     "text": [
      "A\n",
      "가\n",
      "65\n"
     ]
    }
   ],
   "source": [
    "# chr\n",
    "# 유니코드(아스키코드) 숫자값을 입력받아 그 코드에 해당하는 문자 리턴\n",
    "print(chr(65))\n",
    "print(chr(44032))\n",
    "# 반대\n",
    "print(ord('A'))"
   ]
  },
  {
   "cell_type": "code",
<<<<<<< HEAD
   "execution_count": 32,
=======
   "execution_count": 95,
>>>>>>> 6055de725846df9bd646dea4e517b5c684871992
   "id": "9487defe-3362-4385-a6cc-1f8d62a388cd",
   "metadata": {},
   "outputs": [
    {
     "name": "stdout",
     "output_type": "stream",
     "text": [
      "ABCDEFGHIJKLMNOPQRSTUVWXYZ"
     ]
    }
   ],
   "source": [
    "# 예제1\n",
    "for i in range(65,91):\n",
    "    print(chr(i),end='')"
   ]
  },
  {
   "cell_type": "code",
<<<<<<< HEAD
   "execution_count": 44,
=======
   "execution_count": 96,
>>>>>>> 6055de725846df9bd646dea4e517b5c684871992
   "id": "f143b966-b0d7-4821-a4ad-5eeb3845a92f",
   "metadata": {},
   "outputs": [
    {
     "name": "stdout",
     "output_type": "stream",
     "text": [
      "zyxwvutsrqponmlkjihgfedcba"
     ]
    }
   ],
   "source": [
    "# 예제2\n",
    "for j in range(122,96,-1):\n",
    "    print(chr(j),end='')"
   ]
  },
  {
   "cell_type": "code",
<<<<<<< HEAD
   "execution_count": 45,
=======
   "execution_count": 97,
>>>>>>> 6055de725846df9bd646dea4e517b5c684871992
   "id": "bd9ee765-1dee-4093-9a23-b680284d1774",
   "metadata": {},
   "outputs": [
    {
     "name": "stdout",
     "output_type": "stream",
     "text": [
      "A1 A2 A3 A4 A5 A6 A7 A8 A9 A10 \n",
      "\n",
      "B1 B2 B3 B4 B5 B6 B7 B8 B9 B10 \n",
      "\n",
      "C1 C2 C3 C4 C5 C6 C7 C8 C9 C10 \n",
      "\n"
     ]
    }
   ],
   "source": [
    "# 예제3\n",
    "for k in range(65,68):\n",
    "    for l in range(1,11):\n",
    "        print(f\"{chr(k)}{l} \",end='')\n",
    "    print(\"\\n\")"
   ]
  },
  {
   "cell_type": "code",
<<<<<<< HEAD
   "execution_count": 133,
=======
   "execution_count": 103,
>>>>>>> 6055de725846df9bd646dea4e517b5c684871992
   "id": "8ee24667-9068-4bdd-81f9-d2965c93ab6f",
   "metadata": {},
   "outputs": [
    {
     "name": "stdin",
     "output_type": "stream",
     "text": [
<<<<<<< HEAD
      "당신의 기분을 한 문장으로 표현해주세요 : 좋아서 싫어\n"
     ]
    },
    {
     "name": "stdout",
     "output_type": "stream",
     "text": [
      "-1\n"
=======
      "당신의 기분을 한 문장으로 표현해주세요 : 좋아\n"
>>>>>>> 6055de725846df9bd646dea4e517b5c684871992
     ]
    }
   ],
   "source": [
    "text = input(\"당신의 기분을 한 문장으로 표현해주세요 :\")\n",
    "positive_words = [\"좋아\", \"행복\", \"멋져\", \"최고\", \"사랑해\"]\n",
    "negative_words = [\"싫어\", \"화나\", \"짜증\", \"별로\", \"나빠\"]\n",
    "\n",
    "# 간단1\n",
    "# for v in positive_words:\n",
    "#     if v in text:\n",
    "#         print(\"기분이 좋아보이네요\")\n",
    "# for n in negative_words:\n",
    "#     if n in text:\n",
    "#         print(\"기분이 나빠보이네요\")\n",
    "\n",
    "# 해설2\n",
    "# if any(word in text for word in positive_words):\n",
    "#     print(\"기분이 좋아보이네요\")\n",
    "# elif any(word in text for word in negative_words):\n",
    "#     print(\"기분이 나빠보이네요\")\n",
    "# else:\n",
    "#     print(\"보통이시네요\")\n",
    "\n",
    "# 해설3\n",
    "# pos = [v for v in positive_words if v in text]\n",
    "# print(pos, len(pos))\n",
    "# neg = [n for n in negative_words if n in text]\n",
    "# print(neg, len(neg))\n",
    "# if len(pos)>len(neg):\n",
    "#     print(\"기분이 좋아보이네요\")\n",
    "# elif len(pos)<len(neg):\n",
    "#     print(\"기분이 나빠보이네요\")\n",
    "# else:\n",
    "#     print(\"보통이시네요\")\n",
    "\n",
    "# 해설4\n",
    "# pnum = 0\n",
    "# text = text.split(\" \")\n",
    "# for v in positive_words:\n",
    "#     for s in text:\n",
    "#         if v == s:\n",
    "#             pnum += 1\n",
    "# for n in negative_words:\n",
    "#     for t in text:\n",
    "#         if n == t:\n",
    "#             pnum -= 1\n",
    "# print(pnum)"
   ]
  },
  {
   "cell_type": "code",
<<<<<<< HEAD
   "execution_count": 136,
=======
   "execution_count": 104,
>>>>>>> 6055de725846df9bd646dea4e517b5c684871992
   "id": "0dbc33cf-87e9-4fe2-a802-c81fbabda154",
   "metadata": {},
   "outputs": [],
   "source": [
    "# !pip install konlpy    # 한글 파이썬"
   ]
  },
  {
   "cell_type": "code",
<<<<<<< HEAD
   "execution_count": 6,
=======
   "execution_count": 105,
>>>>>>> 6055de725846df9bd646dea4e517b5c684871992
   "id": "f36f612e-0d23-4266-b651-62d8f1bdceca",
   "metadata": {},
   "outputs": [
    {
     "name": "stdin",
     "output_type": "stream",
     "text": [
<<<<<<< HEAD
      "당신의 기분을 한 문장으로 표현해주세요 : 좋아서 멋지고 그래서 사랑해\n"
=======
      "당신의 기분을 한 문장으로 표현해주세요 : 싫어\n"
>>>>>>> 6055de725846df9bd646dea4e517b5c684871992
     ]
    },
    {
     "name": "stdout",
     "output_type": "stream",
     "text": [
<<<<<<< HEAD
      "['좋다', '멋지다', '그래서', '사랑', '하다']\n"
=======
      "['싫다']\n"
>>>>>>> 6055de725846df9bd646dea4e517b5c684871992
     ]
    }
   ],
   "source": [
    "from konlpy.tag import Okt\n",
    "\n",
    "# 한글 형태소 분석기\n",
    "okt = Okt()\n",
    "\n",
    "text = input(\"당신의 기분을 한 문장으로 표현해주세요 :\")\n",
    "positive_words = [\"좋다\", \"행복\", \"멋지다\", \"최고\", \"사랑\"]\n",
    "negative_words = [\"싫다\", \"화나다\", \"짜증\", \"별로\", \"나쁘다\"]\n",
    "\n",
    "words = okt.morphs(text, stem=True)\n",
    "# morphs : 형태소 추출\n",
    "# pos : 품사 태깅\n",
    "# nouns : 명사만 추출\n",
    "print(words)"
   ]
  },
  {
   "cell_type": "code",
<<<<<<< HEAD
   "execution_count": 2,
   "id": "898ec35d-fca3-45de-ad46-2b0a90f4a933",
   "metadata": {},
   "outputs": [],
=======
   "execution_count": 106,
   "id": "898ec35d-fca3-45de-ad46-2b0a90f4a933",
   "metadata": {},
   "outputs": [
    {
     "name": "stderr",
     "output_type": "stream",
     "text": [
      "java version \"1.8.0_441\"\n",
      "Java(TM) SE Runtime Environment (build 1.8.0_441-b07)\n",
      "Java HotSpot(TM) 64-Bit Server VM (build 25.441-b07, mixed mode)\n"
     ]
    }
   ],
>>>>>>> 6055de725846df9bd646dea4e517b5c684871992
   "source": [
    "!java -version"
   ]
  },
  {
   "cell_type": "code",
<<<<<<< HEAD
   "execution_count": null,
   "id": "0db0ea24-cee4-4010-b0da-8b7d4281dd74",
   "metadata": {},
   "outputs": [],
   "source": []
=======
   "execution_count": 107,
   "id": "0db0ea24-cee4-4010-b0da-8b7d4281dd74",
   "metadata": {},
   "outputs": [
    {
     "name": "stdout",
     "output_type": "stream",
     "text": [
      "asda\n"
     ]
    }
   ],
   "source": [
    "print(\"asda\")"
   ]
  },
  {
   "cell_type": "code",
   "execution_count": 108,
   "id": "488d40e5-02fa-4e92-a16d-965325f41120",
   "metadata": {},
   "outputs": [
    {
     "data": {
      "text/plain": [
       "['__add__',\n",
       " '__class__',\n",
       " '__class_getitem__',\n",
       " '__contains__',\n",
       " '__delattr__',\n",
       " '__delitem__',\n",
       " '__dir__',\n",
       " '__doc__',\n",
       " '__eq__',\n",
       " '__format__',\n",
       " '__ge__',\n",
       " '__getattribute__',\n",
       " '__getitem__',\n",
       " '__getstate__',\n",
       " '__gt__',\n",
       " '__hash__',\n",
       " '__iadd__',\n",
       " '__imul__',\n",
       " '__init__',\n",
       " '__init_subclass__',\n",
       " '__iter__',\n",
       " '__le__',\n",
       " '__len__',\n",
       " '__lt__',\n",
       " '__mul__',\n",
       " '__ne__',\n",
       " '__new__',\n",
       " '__reduce__',\n",
       " '__reduce_ex__',\n",
       " '__repr__',\n",
       " '__reversed__',\n",
       " '__rmul__',\n",
       " '__setattr__',\n",
       " '__setitem__',\n",
       " '__sizeof__',\n",
       " '__str__',\n",
       " '__subclasshook__',\n",
       " 'append',\n",
       " 'clear',\n",
       " 'copy',\n",
       " 'count',\n",
       " 'extend',\n",
       " 'index',\n",
       " 'insert',\n",
       " 'pop',\n",
       " 'remove',\n",
       " 'reverse',\n",
       " 'sort']"
      ]
     },
     "execution_count": 108,
     "metadata": {},
     "output_type": "execute_result"
    }
   ],
   "source": [
    "# dir ★\n",
    "# 객체가 가진 변수나 함수를 보여주는 함수\n",
    "dir([1,2,3])"
   ]
  },
  {
   "cell_type": "code",
   "execution_count": 109,
   "id": "8d264ab2-ad8d-4c32-ba6c-f56893086f88",
   "metadata": {},
   "outputs": [
    {
     "data": {
      "text/plain": [
       "(2, 1)"
      ]
     },
     "execution_count": 109,
     "metadata": {},
     "output_type": "execute_result"
    }
   ],
   "source": [
    "# dirmod\n",
    "# 몫과 나머지 리턴\n",
    "divmod(7,3)"
   ]
  },
  {
   "cell_type": "code",
   "execution_count": 110,
   "id": "8fc4a0e1-d16d-4ea8-b08b-5a865281ade8",
   "metadata": {},
   "outputs": [
    {
     "name": "stdout",
     "output_type": "stream",
     "text": [
      "0 body\n",
      "1 foo\n",
      "2 bar\n"
     ]
    }
   ],
   "source": [
    "# enumerate ★\n",
    "# 열거하다, 리스트의 요소가 위치한 순서대로 번호를 매겨줌\n",
    "for i, name in enumerate(['body', 'foo', 'bar']):\n",
    "    print(i, name)\n",
    "# for i in enumerate(리스트명, start=3):  # 3부터 시작"
   ]
  },
  {
   "cell_type": "code",
   "execution_count": 111,
   "id": "079fce4c-80a9-4bd2-9294-9e8db68efd83",
   "metadata": {},
   "outputs": [
    {
     "name": "stdout",
     "output_type": "stream",
     "text": [
      "3\n",
      "hia\n"
     ]
    }
   ],
   "source": [
    "# eval\n",
    "# 문자열로 구성된 표현식을 입력으로 받아 해당 문자열 실행한 결괏값 리턴\n",
    "print(eval('1+2'))\n",
    "print(eval(\"'hi'+'a'\"))"
   ]
  },
  {
   "cell_type": "code",
   "execution_count": 112,
   "id": "30caaf7f-a39c-442c-a716-d18e3ceeb0ed",
   "metadata": {},
   "outputs": [
    {
     "name": "stdout",
     "output_type": "stream",
     "text": [
      "[1, 2, 6]\n"
     ]
    }
   ],
   "source": [
    "# filter ★\n",
    "# filter(함수, 반복_가능한 데이터)\n",
    "# 참인 것만 출력\n",
    "# 일반 출력\n",
    "def positive(l):\n",
    "    result = []\n",
    "    for i in l:\n",
    "        if i>0:\n",
    "            result.append(i)\n",
    "    return result\n",
    "print(positive([1, -3, 2, 0, -5, 6]))"
   ]
  },
  {
   "cell_type": "code",
   "execution_count": 113,
   "id": "64aaf130-0999-47be-9d8e-b406026f80a3",
   "metadata": {},
   "outputs": [
    {
     "name": "stdout",
     "output_type": "stream",
     "text": [
      "[1, 2, 6]\n"
     ]
    }
   ],
   "source": [
    "# for문으로 출력\n",
    "def pos(l):\n",
    "    return [i for i in l if i > 0]\n",
    "print(pos([1, -3, 2, 0, -5, 6]))"
   ]
  },
  {
   "cell_type": "code",
   "execution_count": 114,
   "id": "b4ed4cc9-2aa1-4b0d-a486-16501d89ffe3",
   "metadata": {},
   "outputs": [
    {
     "data": {
      "text/plain": [
       "[1, 2, 6]"
      ]
     },
     "execution_count": 114,
     "metadata": {},
     "output_type": "execute_result"
    }
   ],
   "source": [
    "# filter로 출력\n",
    "def positive(x):\n",
    "    return x>0\n",
    "l = [1, -3, 2, 0, -5, 6]\n",
    "# filter(참/거짓 판단할 요소, l)\n",
    "list(filter(positive,l))"
   ]
  },
  {
   "cell_type": "code",
   "execution_count": 115,
   "id": "7c086707-6bf9-44d3-9a8d-7fd4240e5edf",
   "metadata": {},
   "outputs": [
    {
     "name": "stdout",
     "output_type": "stream",
     "text": [
      "[1, 2, 6]\n"
     ]
    }
   ],
   "source": [
    "# 더 간단하게\n",
    "print(list(filter(lambda x : x > 0, l)))"
   ]
  },
  {
   "cell_type": "code",
   "execution_count": 116,
   "id": "b53a13ef-8a50-4a0a-9082-0a5bc64923f9",
   "metadata": {},
   "outputs": [
    {
     "name": "stdout",
     "output_type": "stream",
     "text": [
      "1\n",
      "2\n",
      "6\n"
     ]
    }
   ],
   "source": [
    "for n in filter(lambda x : x > 0, l):  # range(4)\n",
    "    print(n)"
   ]
  },
  {
   "cell_type": "code",
   "execution_count": 117,
   "id": "0118714d-018c-40c9-86a1-909a99b5e019",
   "metadata": {},
   "outputs": [
    {
     "name": "stdout",
     "output_type": "stream",
     "text": [
      "0xea\n",
      "0o11\n",
      "0b1001\n"
     ]
    }
   ],
   "source": [
    "# hex, oct, bin\n",
    "print(hex(234))  # 16진수\n",
    "print(oct(9))    # 8진수\n",
    "print(bin(9))    # "
   ]
  },
  {
   "cell_type": "code",
   "execution_count": 118,
   "id": "478e92cd-e38c-4a05-96bf-e66388031fcc",
   "metadata": {},
   "outputs": [
    {
     "name": "stdout",
     "output_type": "stream",
     "text": [
      "140715155588072\n",
      "140715155588072\n",
      "140715155588072\n",
      "True\n"
     ]
    }
   ],
   "source": [
    "# id 고유 주솟값을 리턴\n",
    "a = 3\n",
    "print(id(3))\n",
    "print(id(a))\n",
    "b = a\n",
    "print(id(b))\n",
    "print(all([id(3)==id(a), id(a)==id(b), id(b)==id(3)]))"
   ]
  },
  {
   "cell_type": "code",
   "execution_count": 119,
   "id": "e38759bc-ceec-4b3e-ba16-7d9ecf868918",
   "metadata": {},
   "outputs": [],
   "source": [
    "# input ★\n",
    "# input은 스트링으로 값을 전달받는다.\n",
    "# 그러므로 계산시 int나 float으로 변경할 것"
   ]
  },
  {
   "cell_type": "code",
   "execution_count": 120,
   "id": "d3cb20b8-1883-49cc-a00e-1d74189c11f0",
   "metadata": {},
   "outputs": [],
   "source": [
    "# int ★\n",
    "# 문자를 숫자로 변환, 정수로 변환, 소수점이 사라짐"
   ]
  },
  {
   "cell_type": "code",
   "execution_count": 121,
   "id": "6712e12e-a6ce-4067-90a6-226043418311",
   "metadata": {},
   "outputs": [
    {
     "name": "stdout",
     "output_type": "stream",
     "text": [
      "사람입니다\n",
      "사람입니다\n",
      "True\n",
      "True\n",
      "False\n"
     ]
    }
   ],
   "source": [
    "# isinstance(object, class) 인스턴스 확인용\n",
    "\n",
    "class Person:\n",
    "    def p(self):\n",
    "        return(\"사람입니다\")\n",
    "class Animal: pass\n",
    "a = Person()\n",
    "b = Person()\n",
    "c = Animal()\n",
    "print(a.p())\n",
    "print(b.p())\n",
    "print(isinstance(a, Person))\n",
    "print(isinstance(b, Person))\n",
    "print(isinstance(c, Person))"
   ]
  },
  {
   "cell_type": "code",
   "execution_count": 122,
   "id": "a1e94308-a4d3-4d3c-b992-5712b44b219f",
   "metadata": {},
   "outputs": [
    {
     "name": "stdout",
     "output_type": "stream",
     "text": [
      "6\n",
      "4\n",
      "2\n"
     ]
    }
   ],
   "source": [
    "# len ★★\n",
    "print(len(\"python\"))\n",
    "print(len([1, 2, 3, 4]))\n",
    "print(len((1, 'a')))"
   ]
  },
  {
   "cell_type": "code",
   "execution_count": 123,
   "id": "8de4f191-a8f8-40f8-8100-e52cbc07034c",
   "metadata": {},
   "outputs": [],
   "source": [
    "# list ★★"
   ]
  },
  {
   "cell_type": "code",
   "execution_count": 124,
   "id": "192e6d3c-77c9-426d-a743-75802d4fcfb5",
   "metadata": {},
   "outputs": [
    {
     "name": "stdout",
     "output_type": "stream",
     "text": [
      "[2, 4, 6, 8]\n"
     ]
    }
   ],
   "source": [
    "# map ★\n",
    "# map(f, iterable)\n",
    "# 함수(f)와 반복 가능한 데이터를 입력받아\n",
    "# 입력받은 데이터의 각 요소에 f를 적용한 결과를 리턴하는 함수\n",
    "# 일반 코드\n",
    "def two_items(nl):\n",
    "    result = []\n",
    "    for n in nl:\n",
    "        result.append(n*2)\n",
    "    return result\n",
    "result = two_items([1, 2, 3, 4])\n",
    "print(result)"
   ]
  },
  {
   "cell_type": "code",
   "execution_count": 125,
   "id": "3dd3248a-e124-4301-9abd-0b66a66d6adf",
   "metadata": {},
   "outputs": [
    {
     "data": {
      "text/plain": [
       "[2, 4, 6, 8]"
      ]
     },
     "execution_count": 125,
     "metadata": {},
     "output_type": "execute_result"
    }
   ],
   "source": [
    "# map 활용\n",
    "def two_times(x):\n",
    "    return x*2\n",
    "list(map(two_times, [1, 2, 3, 4]))  # 리스트에 two_times 함수 적용"
   ]
  },
  {
   "cell_type": "code",
   "execution_count": 126,
   "id": "9dda07ad-57c1-492e-900d-43a999a64d7e",
   "metadata": {},
   "outputs": [
    {
     "data": {
      "text/plain": [
       "[2, 4, 6, 8]"
      ]
     },
     "execution_count": 126,
     "metadata": {},
     "output_type": "execute_result"
    }
   ],
   "source": [
    "list(map(lambda x: x*2, [1,2,3,4]))  # 리스트에 lambda 함수 적용"
   ]
  },
  {
   "cell_type": "code",
   "execution_count": 127,
   "id": "29ce233d-c7c5-41c7-8cb4-5c2b79a78e46",
   "metadata": {},
   "outputs": [
    {
     "name": "stdout",
     "output_type": "stream",
     "text": [
      "[1, 3, 5]\n",
      "[2, 4, 6]\n",
      "[11, 12, 13, 14, 15, 16]\n",
      "[1, 4, 9, 16, 25, 36]\n",
      "[11, 24, 39, 56, 75, 96]\n"
     ]
    }
   ],
   "source": [
    "# 테스트\n",
    "li = [1,2,3,4,5,6]\n",
    "def odd(x):\n",
    "    return x % 2 != 0\n",
    "def even(x):\n",
    "    return x % 2 == 0\n",
    "def add(x):\n",
    "    return x + 10\n",
    "def mul(x):\n",
    "    return x * x\n",
    "def addmul(x):\n",
    "    return (x + 10) * x\n",
    "print(list(filter(odd, li)))\n",
    "print(list(filter(even, li)))\n",
    "print(list(map(add, li)))\n",
    "print(list(map(mul, li)))\n",
    "print(list(map(addmul, li)))"
   ]
  },
  {
   "cell_type": "code",
   "execution_count": 128,
   "id": "b6e49f8b-b771-42e0-b52c-694e98d69a86",
   "metadata": {},
   "outputs": [
    {
     "name": "stdout",
     "output_type": "stream",
     "text": [
      "56\n",
      "y\n"
     ]
    }
   ],
   "source": [
    "# max ★\n",
    "print(max([1, 21, 3, 14, 56, 16, 7]))\n",
    "print(max('python'))  # 문자일 경우 유니코드 값으로 판단"
   ]
  },
  {
   "cell_type": "code",
   "execution_count": 129,
   "id": "1ccc8f06-64ef-4850-9858-b980fb92f1e8",
   "metadata": {},
   "outputs": [
    {
     "name": "stdout",
     "output_type": "stream",
     "text": [
      "1\n",
      "h\n"
     ]
    }
   ],
   "source": [
    "# min ★\n",
    "print(min([1, 21, 3, 14, 56, 16, 7]))\n",
    "print(min('python'))  # 문자일 경우 유니코드 값으로 판단"
   ]
  },
  {
   "cell_type": "code",
   "execution_count": 11,
   "id": "c111f035-7ec3-4e5d-b84e-0d357f3b1591",
   "metadata": {},
   "outputs": [],
   "source": [
    "# open ★\n",
    "f = open('README.md', 'r', encoding=\"utf-8\")\n",
    "f.read()\n",
    "f.close()"
   ]
  },
  {
   "cell_type": "code",
   "execution_count": 131,
   "id": "528e6471-5431-45bd-b302-9395464bfdab",
   "metadata": {},
   "outputs": [
    {
     "name": "stdout",
     "output_type": "stream",
     "text": [
      "32\n"
     ]
    }
   ],
   "source": [
    "# pow ★\n",
    "# x를 y제곱한 결과값을 리턴\n",
    "print(pow(2,5))"
   ]
  },
  {
   "cell_type": "code",
   "execution_count": 132,
   "id": "6f289d9d-eae0-4934-9b1f-4098fa72dc80",
   "metadata": {},
   "outputs": [
    {
     "name": "stdout",
     "output_type": "stream",
     "text": [
      "[0, 1, 2, 3, 4]\n",
      "[5, 6, 7, 8, 9]\n",
      "[5, 7, 9]\n",
      "[10, 9, 8, 7, 6]\n"
     ]
    }
   ],
   "source": [
    "# range ★★\n",
    "# 인수가 1개\n",
    "print(list(range(5)))\n",
    "# 인수가 2개\n",
    "print(list(range(5,10)))\n",
    "# 인수가 3개\n",
    "print(list(range(5,10,2)))\n",
    "# 역순(스탭조절)\n",
    "print(list(range(10,5,-1)))"
   ]
  },
  {
   "cell_type": "code",
   "execution_count": 133,
   "id": "ca54b7a2-4925-461a-8e60-2f58eaea3ba5",
   "metadata": {},
   "outputs": [
    {
     "name": "stdout",
     "output_type": "stream",
     "text": [
      "3\n",
      "4\n",
      "4.7\n"
     ]
    }
   ],
   "source": [
    "# round ★ 반올림\n",
    "print(round(3.4))\n",
    "print(round(3.5))\n",
    "print(round(4.72, 1))  # 첫째자리까지 나타내기"
   ]
  },
  {
   "cell_type": "code",
   "execution_count": 134,
   "id": "77b029fe-3b13-45f9-9fcf-ac10a04f2142",
   "metadata": {},
   "outputs": [
    {
     "name": "stdout",
     "output_type": "stream",
     "text": [
      "[3, 2, 1, 4, 6, 7]\n",
      "[1, 2, 3, 4, 6, 7]\n",
      "[7, 6, 4, 3, 2, 1]\n"
     ]
    }
   ],
   "source": [
    "# sorted(iterable) ★\n",
    "# 정렬된 리스트로 리턴\n",
    "s0 = [3,2,1,4,6,7]\n",
    "s1 = sorted(s0)\n",
    "s2 = sorted(s0, reverse=True)\n",
    "print(s0)\n",
    "print(s1)\n",
    "print(s2)"
   ]
  },
  {
   "cell_type": "code",
   "execution_count": 135,
   "id": "64658a37-1137-4a11-b2e1-35a00a2c744f",
   "metadata": {},
   "outputs": [
    {
     "name": "stdout",
     "output_type": "stream",
     "text": [
      "23 <class 'int'>\n",
      "23 <class 'str'>\n"
     ]
    }
   ],
   "source": [
    "# str ★\n",
    "# 문자열로 변환\n",
    "num = 23\n",
    "st = str(num)\n",
    "print(num, type(num))\n",
    "print(st, type(st))"
   ]
  },
  {
   "cell_type": "code",
   "execution_count": 136,
   "id": "1f436fea-244c-4b9c-b9e4-186a8127d366",
   "metadata": {},
   "outputs": [
    {
     "name": "stdout",
     "output_type": "stream",
     "text": [
      "15\n"
     ]
    }
   ],
   "source": [
    "# sum ★\n",
    "# 이터러블데이터의 합을 리턴\n",
    "print(sum([1,2,3,4,5]))"
   ]
  },
  {
   "cell_type": "code",
   "execution_count": 141,
   "id": "0c239b22-64a7-43b4-838d-a430fddae0f8",
   "metadata": {},
   "outputs": [
    {
     "name": "stdout",
     "output_type": "stream",
     "text": [
      "('a', 'b', 'c')\n",
      "(1, 2, 3, 4, 5, 6)\n"
     ]
    }
   ],
   "source": [
    "# tuple ★ 튜플로 바꾸기\n",
    "print(tuple(\"abc\"))\n",
    "print(tuple([1,2,3,4,5,6]))"
   ]
  },
  {
   "cell_type": "code",
   "execution_count": 143,
   "id": "03123c90-5588-417f-8380-e7cb67990c41",
   "metadata": {},
   "outputs": [
    {
     "name": "stdout",
     "output_type": "stream",
     "text": [
      "<class 'str'>\n",
      "<class 'int'>\n",
      "<class '_io.TextIOWrapper'>\n"
     ]
    }
   ],
   "source": [
    "# type ★★\n",
    "# 자료형 확인\n",
    "print(type(\"abc\"))\n",
    "print(type(123))\n",
    "print(type(open(\"README.md\", \"r\")))  # 파일 자료형"
   ]
  },
  {
   "cell_type": "code",
   "execution_count": 148,
   "id": "cdf22e8c-afa5-4893-a5c8-cd5721b35eb8",
   "metadata": {},
   "outputs": [
    {
     "name": "stdout",
     "output_type": "stream",
     "text": [
      "1 dinos\n",
      "2 giants\n",
      "3 lions\n",
      "4 tigers\n",
      "5 eagles\n",
      "6 wiz\n",
      "7 randers\n",
      "8 heros\n",
      "9 bears\n",
      "10 twins\n"
     ]
    }
   ],
   "source": [
    "# zip ★★\n",
    "# 묶어서 리턴\n",
    "num = [1, 2, 3, 4, 5, 6, 7, 8, 9, 10]\n",
    "kbo = ['dinos', 'giants', 'lions', 'tigers', 'eagles', 'wiz', 'randers', 'heros', 'bears', 'twins']\n",
    "for i, j in zip(num, kbo):\n",
    "    print(i, j)"
   ]
  },
  {
   "cell_type": "markdown",
   "id": "ae387853-6406-4f19-a966-ae47368d5c61",
   "metadata": {},
   "source": [
    "# 표준 라이브러리"
   ]
  },
  {
   "cell_type": "markdown",
   "id": "e7b8610b-3a05-4560-aace-0550c1798622",
   "metadata": {},
   "source": [
    "## datetime.date"
   ]
  },
  {
   "cell_type": "code",
   "execution_count": 161,
   "id": "f7dbea57-4258-45b6-b68a-1e16dc91cbd6",
   "metadata": {},
   "outputs": [
    {
     "name": "stdout",
     "output_type": "stream",
     "text": [
      "전체 수업기간 : 172 일\n",
      "남은 수업기간 : 157 일\n",
      "지난 수업기간 : 15 일\n"
     ]
    }
   ],
   "source": [
    "import datetime\n",
    "day1 = datetime.date(2025, 2, 3)\n",
    "day2 = datetime.date(2025, 7, 25)\n",
    "diff = day2 - day1\n",
    "print(\"전체 수업기간 :\", diff.days, \"일\")\n",
    "diff2 = day2 - datetime.datetime.now().date()\n",
    "print(\"남은 수업기간 :\", diff2.days, \"일\")\n",
    "print(\"지난 수업기간 :\", diff.days - diff2.days, \"일\")"
   ]
  },
  {
   "cell_type": "code",
   "execution_count": 176,
   "id": "2ee32e7e-4467-428f-bdab-da4ed985c7ed",
   "metadata": {},
   "outputs": [
    {
     "data": {
      "text/plain": [
       "datetime.date(2025, 2, 18)"
      ]
     },
     "execution_count": 176,
     "metadata": {},
     "output_type": "execute_result"
    }
   ],
   "source": [
    "datetime.datetime.now().date()  # date()를 넣으면 날짜 출력"
   ]
  },
  {
   "cell_type": "code",
   "execution_count": 175,
   "id": "b30c47df-5de9-45df-9f0f-29a2fd3f50f0",
   "metadata": {},
   "outputs": [
    {
     "name": "stdout",
     "output_type": "stream",
     "text": [
      "화요일 입니다.\n"
     ]
    }
   ],
   "source": [
    "# 요일 확인\n",
    "days = ['월', '화', '수', '목', '금', '토', '일']\n",
    "day = datetime.date(1999,11,9)\n",
    "# day.isoweekday()  # 1부터 시작\n",
    "print(days[day.weekday()] + \"요일 입니다.\")"
   ]
  },
  {
   "cell_type": "code",
   "execution_count": 168,
   "id": "5d56825d-2be7-43a1-ae63-b79b148ec849",
   "metadata": {},
   "outputs": [],
   "source": [
    "# day.isoweekday()"
   ]
  },
  {
   "cell_type": "code",
   "execution_count": 191,
   "id": "484b9327-4700-4558-97a2-292eca1cc5ea",
   "metadata": {},
   "outputs": [
    {
     "name": "stdout",
     "output_type": "stream",
     "text": [
      "9233\n"
     ]
    }
   ],
   "source": [
    "# 생일 이후 며칠 지났는지\n",
    "birth = datetime.date(1999,11,9)\n",
    "today = datetime.datetime.now().date()\n",
    "life = today - birth\n",
    "print(life.days)"
   ]
  },
  {
   "cell_type": "code",
   "execution_count": 190,
   "id": "32bc1206-7d5b-4784-b20d-d98ddf05ba0d",
   "metadata": {},
   "outputs": [
    {
     "name": "stdout",
     "output_type": "stream",
     "text": [
      "76\n"
     ]
    }
   ],
   "source": [
    "# 어린이날 며칠 남았는지\n",
    "child = datetime.date(2025,5,5)\n",
    "today = datetime.datetime.now().date()\n",
    "count = child - today\n",
    "print(count.days)"
   ]
  },
  {
   "cell_type": "code",
   "execution_count": 200,
   "id": "f00fdb39-e494-4cb2-8c61-8615f26f8bab",
   "metadata": {},
   "outputs": [
    {
     "name": "stdout",
     "output_type": "stream",
     "text": [
      "오늘부터 어버이날까지 79일 남았습니다.\n",
      "어버이날은 목요일 입니다.\n"
     ]
    }
   ],
   "source": [
    "# 예제 3번\n",
    "# 오늘부터 어버이날 며칠 남았는지, 무슨 요일인지\n",
    "parents = datetime.date(2025,5,8)\n",
    "today = datetime.datetime.now().date()\n",
    "count = parents - today\n",
    "print(f\"오늘부터 어버이날까지 {count.days}일 남았습니다.\")\n",
    "\n",
    "days = ['월', '화', '수', '목', '금', '토', '일']\n",
    "print(\"어버이날은 \" + days[parents.weekday()] + \"요일 입니다.\")"
   ]
  },
  {
   "cell_type": "code",
   "execution_count": 193,
   "id": "6940e50b-2c00-4ec8-b354-2ed903daf833",
   "metadata": {},
   "outputs": [
    {
     "name": "stdout",
     "output_type": "stream",
     "text": [
      "310\n"
     ]
    }
   ],
   "source": [
    "# 크리스마스 며칠 남았는지\n",
    "christmas = datetime.date(2025,12,25)\n",
    "today = datetime.datetime.now().date()\n",
    "count = christmas - today\n",
    "print(count.days)"
   ]
  },
  {
   "cell_type": "code",
   "execution_count": 204,
   "id": "fa428f00-6179-4c25-89ab-06955b95b39e",
   "metadata": {},
   "outputs": [
    {
     "name": "stdout",
     "output_type": "stream",
     "text": [
      "수료일부터 추석까지 73일 남았습니다.\n",
      "수료일은 금요일 입니다.\n",
      "추석은 월요일 입니다.\n"
     ]
    }
   ],
   "source": [
    "# 수료 후 추석까지 며칠 남았는지, 무슨 요일인지\n",
    "end = datetime.date(2025,7,25)\n",
    "cs = datetime.date(2025,10,6)\n",
    "count = cs - end\n",
    "print(f\"수료일부터 추석까지 {count.days}일 남았습니다.\")\n",
    "\n",
    "days = ['월', '화', '수', '목', '금', '토', '일']\n",
    "print(\"수료일은 \" + days[end.weekday()] + \"요일 입니다.\")\n",
    "print(\"추석은 \" + days[cs.weekday()] + \"요일 입니다.\")"
   ]
  },
  {
   "cell_type": "markdown",
   "id": "ff59ed7f-d5bc-4391-a2f8-f2b7beb64a8e",
   "metadata": {},
   "source": [
    "## time"
   ]
  },
  {
   "cell_type": "code",
   "execution_count": 205,
   "id": "16491856-24aa-402d-ae4b-2d0bdbc46810",
   "metadata": {},
   "outputs": [
    {
     "data": {
      "text/plain": [
       "1739855620.4086664"
      ]
     },
     "execution_count": 205,
     "metadata": {},
     "output_type": "execute_result"
    }
   ],
   "source": [
    "# time.time\n",
    "import time\n",
    "time.time()"
   ]
  },
  {
   "cell_type": "code",
   "execution_count": 210,
   "id": "cbf4b52b-e00c-42a9-bb31-118bd6f36902",
   "metadata": {},
   "outputs": [
    {
     "name": "stdout",
     "output_type": "stream",
     "text": [
      "time.struct_time(tm_year=2025, tm_mon=2, tm_mday=18, tm_hour=14, tm_min=14, tm_sec=56, tm_wday=1, tm_yday=49, tm_isdst=0)\n"
     ]
    }
   ],
   "source": [
    "# time.localtime\n",
    "tt = time.localtime(time.time())\n",
    "print(tt)"
   ]
  },
  {
   "cell_type": "code",
   "execution_count": 211,
   "id": "ecbdbe40-d7e7-4afa-86f7-a410fbf8b43a",
   "metadata": {},
   "outputs": [
    {
     "data": {
      "text/plain": [
       "'Tue Feb 18 14:15:45 2025'"
      ]
     },
     "execution_count": 211,
     "metadata": {},
     "output_type": "execute_result"
    }
   ],
   "source": [
    "# time.asctime\n",
    "time.asctime(time.localtime(time.time()))"
   ]
  },
  {
   "cell_type": "code",
   "execution_count": 212,
   "id": "d11a3405-2c16-4ef1-841a-0cd9a5f2da83",
   "metadata": {},
   "outputs": [
    {
     "data": {
      "text/plain": [
       "'Tue Feb 18 14:16:35 2025'"
      ]
     },
     "execution_count": 212,
     "metadata": {},
     "output_type": "execute_result"
    }
   ],
   "source": [
    "# time.ctime()\n",
    "time.ctime()"
   ]
  },
  {
   "cell_type": "code",
   "execution_count": 217,
   "id": "e948821e-a9df-4e57-80f5-d592a9e2928f",
   "metadata": {},
   "outputs": [
    {
     "name": "stdout",
     "output_type": "stream",
     "text": [
      "02/18/25\n",
      "14:18:57\n",
      "Tue Feb 18 14:18:57 2025\n",
      "Tue\n"
     ]
    }
   ],
   "source": [
    "# time.strftime\n",
    "print(time.strftime('%x', time.localtime(time.time())))\n",
    "print(time.strftime('%X', time.localtime(time.time())))\n",
    "print(time.strftime('%c', time.localtime(time.time())))\n",
    "print(time.strftime('%a', time.localtime(time.time())))"
   ]
  },
  {
   "cell_type": "code",
   "execution_count": 219,
   "id": "b2ffc8ef-36dc-494a-aed1-6c67e193f1ea",
   "metadata": {},
   "outputs": [
    {
     "name": "stdout",
     "output_type": "stream",
     "text": [
      "10"
     ]
    }
   ],
   "source": [
    "# time.sleep\n",
    "import time as t\n",
    "for i in range(1,11):\n",
    "    print(i, end='\\r')\n",
    "    t.sleep(1)"
   ]
  },
  {
   "cell_type": "markdown",
   "id": "e6feb131-0d93-46f1-92fc-4f0f0a33f54d",
   "metadata": {},
   "source": [
    "## math.gcd, math.lcm"
   ]
  },
  {
   "cell_type": "code",
   "execution_count": 222,
   "id": "554dc8ae-61ee-4a12-9b17-de8b8ee0e649",
   "metadata": {},
   "outputs": [
    {
     "name": "stdout",
     "output_type": "stream",
     "text": [
      "3.141592653589793\n",
      "20\n",
      "75\n"
     ]
    }
   ],
   "source": [
    "import math\n",
    "print(math.pi)  # pi값\n",
    "print(math.gcd(60, 100, 80))  # 최대공약수 값\n",
    "print(math.lcm(15, 25))  # 최소공배수 값"
   ]
  },
  {
   "cell_type": "markdown",
   "id": "47359b11-3b74-439a-83ec-919758127df8",
   "metadata": {},
   "source": [
    "## random"
   ]
  },
  {
   "cell_type": "code",
   "execution_count": 233,
   "id": "d7bac4d8-ca14-4f71-a8cf-4096acd81f8d",
   "metadata": {},
   "outputs": [
    {
     "name": "stdout",
     "output_type": "stream",
     "text": [
      "0.733087847045388\n",
      "8\n"
     ]
    }
   ],
   "source": [
    "import random as r\n",
    "# r.random()\n",
    "print(r.random())  # 0.0에서 1.0 사이의 난수\n",
    "# r.randint()\n",
    "print(r.randint(1, 10))  # a에서 b까지의 난수"
   ]
  },
  {
   "cell_type": "code",
   "execution_count": 234,
   "id": "87218754-a426-47f3-b3c5-157fdcba13da",
   "metadata": {},
   "outputs": [
    {
     "name": "stdout",
     "output_type": "stream",
     "text": [
      "66 11 66 66 11 44 "
     ]
    }
   ],
   "source": [
    "# r.choice()\n",
    "data = [11, 22, 33, 44, 55, 66]\n",
    "for n in range(6):\n",
    "    print(r.choice(data), end=' ')"
   ]
  },
  {
   "cell_type": "code",
   "execution_count": 235,
   "id": "00d471f0-d6ac-49ac-a14e-4e83c914c0b1",
   "metadata": {},
   "outputs": [
    {
     "name": "stdout",
     "output_type": "stream",
     "text": [
      "[13, 18, 15, 6, 20, 5, 11, 19, 8, 16, 7, 3, 14, 2, 10, 9, 4, 17, 12, 1] 20\n",
      "{1, 2, 3, 4, 5, 6, 7, 8, 9, 10, 11, 12, 13, 14, 15, 16, 17, 18, 19, 20} 20\n"
     ]
    }
   ],
   "source": [
    "# r.sample()\n",
    "li = list(range(1, 21))\n",
    "arr = []\n",
    "for n in r.sample(li, len(li)):\n",
    "    arr.append(n)\n",
    "print(arr, len(arr))\n",
    "sarr = set(arr)\n",
    "print(sarr, len(sarr))"
   ]
  },
  {
   "cell_type": "code",
   "execution_count": 5,
   "id": "d3579f91-bec2-4600-ba1c-0366dd6fdd6c",
   "metadata": {},
   "outputs": [
    {
     "name": "stdin",
     "output_type": "stream",
     "text": [
      "게시물의 총 개수를 쓰시오 : 20\n",
      "한 페이지에 보여줄 게시물 수를 쓰시오 : 4\n"
     ]
    },
    {
     "name": "stdout",
     "output_type": "stream",
     "text": [
      "총 5페이지\n"
     ]
    }
   ],
   "source": [
    "# p.312\n",
    "# 페이징하기\n",
    "def get_total_page():\n",
    "    m = int(input(\"게시물의 총 개수를 쓰시오 :\"))\n",
    "    n = int(input(\"한 페이지에 보여줄 게시물 수를 쓰시오 :\"))\n",
    "    if m%n == 0:\n",
    "        paging = m // n\n",
    "    else:\n",
    "        paging = m // n + 1\n",
    "    print(f\"총 {paging}페이지\")\n",
    "get_total_page()"
   ]
  },
  {
   "cell_type": "markdown",
   "id": "592f26ed-60a0-46b3-8102-4cab302f2aa6",
   "metadata": {},
   "source": [
    "## itertools"
   ]
  },
  {
   "cell_type": "code",
   "execution_count": 14,
   "id": "218d6626-c1de-442a-9a71-d564ea0e5643",
   "metadata": {},
   "outputs": [
    {
     "name": "stdout",
     "output_type": "stream",
     "text": [
      "[('한민서', '사탕'), ('황지민', '초콜릿'), ('이영철', '젤리'), ('이광수', '없어'), ('김승민', '없어')]\n"
     ]
    }
   ],
   "source": [
    "# itertools.zip_longest\n",
    "import itertools \n",
    "\n",
    "students = ['한민서', '황지민', '이영철', '이광수', '김승민']\n",
    "snacks = ['사탕', '초콜릿', '젤리']\n",
    "\n",
    "# result = zip(students, snacks) # zip은 작은 배열에 길이를 맞춤\n",
    "result = itertools.zip_longest(students, snacks, fillvalue=\"없어\")\n",
    "# fillvalue => 빈공간 처리\n",
    "print(list(result))"
   ]
  },
  {
   "cell_type": "code",
   "execution_count": 15,
   "id": "9099c7f6-745a-4f59-acb8-a20b14b3d52e",
   "metadata": {},
   "outputs": [
    {
     "name": "stdout",
     "output_type": "stream",
     "text": [
      "[('1', '2'), ('1', '3'), ('2', '1'), ('2', '3'), ('3', '1'), ('3', '2')]\n"
     ]
    }
   ],
   "source": [
    "# itertools.permutations\n",
    "import itertools\n",
    "print(list(itertools.permutations(['1', '2', '3'], 2)))"
   ]
  },
  {
   "cell_type": "code",
   "execution_count": 17,
   "id": "d2ec6975-1dc2-4a0d-bde3-0bcd02d73e6b",
   "metadata": {},
   "outputs": [
    {
     "name": "stdout",
     "output_type": "stream",
     "text": [
      "[('1', '2'), ('1', '3'), ('2', '3')]\n"
     ]
    }
   ],
   "source": [
    "# itertools.combinations\n",
    "import itertools\n",
    "print(list(itertools.combinations(['1', '2', '3'], 2)))"
   ]
  },
  {
   "cell_type": "code",
   "execution_count": 28,
   "id": "193bb904-ba77-4bc5-9613-dbf8623ad888",
   "metadata": {
    "jp-MarkdownHeadingCollapsed": true
   },
   "outputs": [
    {
     "data": {
      "text/plain": [
       "8145060"
      ]
     },
     "execution_count": 28,
     "metadata": {},
     "output_type": "execute_result"
    }
   ],
   "source": [
    "# itertools.combinations 응용\n",
    "import itertools\n",
    "lotto = itertools.combinations(range(1, 46), 6)\n",
    "ls = list(lotto)\n",
    "# for num in ls[:20]:\n",
    "#     print(num)\n",
    "len(ls)"
   ]
  },
  {
   "cell_type": "code",
   "execution_count": 30,
   "id": "22ea8105-d218-4f23-be9d-84f3b76cea53",
   "metadata": {},
   "outputs": [
    {
     "name": "stdout",
     "output_type": "stream",
     "text": [
      "15\n"
     ]
    }
   ],
   "source": [
    "import functools\n",
    "\n",
    "data = [1, 2, 3, 4, 5]\n",
    "result = functools.reduce(lambda x, y: x + y, data)\n",
    "print(result)"
   ]
  },
  {
   "cell_type": "code",
   "execution_count": 31,
   "id": "aa6d7f6c-6ec1-408f-9230-db9a9c99a0ba",
   "metadata": {},
   "outputs": [
    {
     "name": "stdout",
     "output_type": "stream",
     "text": [
      "55\n"
     ]
    }
   ],
   "source": [
    "# functools.reduce\n",
    "import functools\n",
    "data = [1,2,3,4,5,6,7,8,9,10]\n",
    "result = functools.reduce(lambda x, y: x + y, data)\n",
    "print(result)"
   ]
  },
  {
   "cell_type": "code",
   "execution_count": 34,
   "id": "cf537223-0812-4816-b532-57baa559180a",
   "metadata": {},
   "outputs": [
    {
     "name": "stdout",
     "output_type": "stream",
     "text": [
      "8\n"
     ]
    }
   ],
   "source": [
    "import functools\n",
    "num_list = [3, 2, 8, 1, 6, 7]\n",
    "max_num = functools.reduce(lambda x, y: x if x > y else y, num_list)\n",
    "print(max_num)"
   ]
  },
  {
   "cell_type": "code",
   "execution_count": 1,
   "id": "16c89753-61e9-4af6-9aeb-81cde945730f",
   "metadata": {},
   "outputs": [
    {
     "name": "stdout",
     "output_type": "stream",
     "text": [
      "[('sally', 17, 'B'), ('jane', 22, 'A'), ('dave', 32, 'B')]\n"
     ]
    }
   ],
   "source": [
    "# operator.itemgetter ★\n",
    "from operator import itemgetter\n",
    "\n",
    "students = [\n",
    "    (\"jane\", 22, 'A'),\n",
    "    (\"dave\", 32, 'B'),\n",
    "    (\"sally\", 17, 'B')\n",
    "]\n",
    "\n",
    "result = sorted(students, key=itemgetter(1))\n",
    "print(result)"
   ]
  },
  {
   "cell_type": "code",
   "execution_count": 4,
   "id": "e330b524-7a47-46fb-b9cd-076789963e3a",
   "metadata": {},
   "outputs": [
    {
     "name": "stdout",
     "output_type": "stream",
     "text": [
      "[('dave', 32, 'B'), ('jane', 22, 'A'), ('selly', 17, 'B')]\n"
     ]
    }
   ],
   "source": [
    "# zip으로 묶어서\n",
    "from operator import itemgetter\n",
    "name = [\"jane\", \"dave\", \"selly\"]\n",
    "age = [22, 32, 17]\n",
    "grade = ['A', 'B', 'B']\n",
    "students = zip(name, age, grade)\n",
    "# print(list(students))\n",
    "\n",
    "result = sorted(students, key=itemgetter(1), reverse=True)\n",
    "print(result)"
   ]
  },
  {
   "cell_type": "code",
   "execution_count": 5,
   "id": "40b2243b-a843-4aad-bfe2-23b100f2b1ae",
   "metadata": {},
   "outputs": [
    {
     "name": "stdout",
     "output_type": "stream",
     "text": [
      "[{'name': 'sally', 'age': 17, 'grade': 'B'}, {'name': 'jane', 'age': 22, 'grade': 'A'}, {'name': 'dave', 'age': 32, 'grade': 'B'}]\n"
     ]
    }
   ],
   "source": [
    "from operator import itemgetter\n",
    "students = [\n",
    "    {\"name\":\"jane\", \"age\":22, \"grade\":'A'},\n",
    "    {\"name\":\"dave\", \"age\":32, \"grade\":'B'},\n",
    "    {\"name\":\"sally\", \"age\":17, \"grade\":'B'}\n",
    "]\n",
    "result = sorted(students, key=itemgetter('age'))\n",
    "print(result)"
   ]
  },
  {
   "cell_type": "code",
   "execution_count": null,
   "id": "b383fe14-1fb2-49d1-9f67-b5a4772acd4c",
   "metadata": {},
   "outputs": [],
   "source": []
  },
  {
   "cell_type": "code",
   "execution_count": 9,
   "id": "e459a58c-409d-4538-9d8f-56a9f3d278df",
   "metadata": {},
   "outputs": [
    {
     "name": "stdout",
     "output_type": "stream",
     "text": [
      "[{'name': 'jane', 'age': 22, 'grade': 'A'}, {'name': 'dave', 'age': 32, 'grade': 'B'}, {'name': 'selly', 'age': 17, 'grade': 'B'}]\n",
      "[{'name': 'selly', 'age': 17, 'grade': 'B'}, {'name': 'jane', 'age': 22, 'grade': 'A'}, {'name': 'dave', 'age': 32, 'grade': 'B'}]\n"
     ]
    }
   ],
   "source": [
    "# 딕셔너리로 묶어서\n",
    "from operator import itemgetter\n",
    "name = [\"jane\", \"dave\", \"selly\"]\n",
    "age = [22, 32, 17]\n",
    "grade = ['A', 'B', 'B']\n",
    "\n",
    "students = [{'name':n, 'age':a, 'grade':g} for n, a, g in zip(name, age, grade)]\n",
    "print(students)\n",
    "result = sorted(students, key=itemgetter('age'))\n",
    "print(result)"
   ]
  },
  {
   "cell_type": "code",
   "execution_count": 14,
   "id": "14a5a5b3-7f27-44e5-9cef-16c5ababf436",
   "metadata": {},
   "outputs": [
    {
     "name": "stdout",
     "output_type": "stream",
     "text": [
      "('sally', 17, 'B')\n",
      "('jane', 22, 'A')\n",
      "('dave', 32, 'B')\n"
     ]
    }
   ],
   "source": [
    "# operator.attrgetter()\n",
    "from operator import attrgetter\n",
    "\n",
    "class Student:\n",
    "    def __init__(self, name, age, grade):\n",
    "        self.name = name\n",
    "        self.age = age\n",
    "        self.grade = grade\n",
    "    def pr(self):\n",
    "        return self.name, self.age, self.grade\n",
    "\n",
    "students = [\n",
    "    Student('jane', 22, 'A'),\n",
    "    Student('dave', 32, 'B'),\n",
    "    Student('sally', 17, 'B')\n",
    "]\n",
    "\n",
    "result = sorted(students, key=attrgetter('age'))\n",
    "for r in result:\n",
    "    print(r.pr())"
   ]
  },
  {
   "cell_type": "code",
   "execution_count": 19,
   "id": "68279712-2fc3-4703-ac8a-d03e46d1037d",
   "metadata": {},
   "outputs": [
    {
     "name": "stdout",
     "output_type": "stream",
     "text": [
      "29213\n",
      "29218\n",
      "29223\n",
      "29228\n",
      "29233\n"
     ]
    }
   ],
   "source": [
    "# shutil\n",
    "# 복사하기(백업)\n",
    "import shutil, time as t\n",
    "\n",
    "for n in range(5):\n",
    "    tstamp = str(round(t.time()))[-5:]\n",
    "    print(tstamp)\n",
    "    shutil.copy(\"README.md\", f\"backup/README_{tstamp}.md.bak\")\n",
    "    t.sleep(5)"
   ]
  },
  {
   "cell_type": "code",
   "execution_count": 22,
   "id": "a27edeff-3299-4970-90dc-c79b37b750c5",
   "metadata": {},
   "outputs": [
    {
     "name": "stdout",
     "output_type": "stream",
     "text": [
      "./backup\\README_29133.md.bak\n",
      "./backup\\README_29138.md.bak\n",
      "./backup\\README_29143.md.bak\n",
      "./backup\\README_29148.md.bak\n",
      "./backup\\README_29153.md.bak\n",
      "./backup\\README_29213.md.bak\n",
      "./backup\\README_29218.md.bak\n",
      "./backup\\README_29223.md.bak\n",
      "./backup\\README_29228.md.bak\n",
      "./backup\\README_29233.md.bak\n"
     ]
    }
   ],
   "source": [
    "# glob\n",
    "import glob\n",
    "for file in glob.glob(\"./backup/*.bak\"):\n",
    "    print(file)"
   ]
  },
  {
   "cell_type": "code",
   "execution_count": 23,
   "id": "ece91475-9b5b-4706-9fb2-27a90a649ba3",
   "metadata": {},
   "outputs": [],
   "source": [
    "# pickle\n",
    "import pickle\n",
    "f = open(\"test.txt\", 'wb')\n",
    "data = {1: \"python\", 2: \"you need\"}\n",
    "pickle.dump(data, f)\n",
    "f.close()"
   ]
  },
  {
   "cell_type": "code",
   "execution_count": 24,
   "id": "b81d2748-9947-49f4-9c3d-f2d5798bfb7b",
   "metadata": {},
   "outputs": [
    {
     "name": "stdout",
     "output_type": "stream",
     "text": [
      "{1: 'python', 2: 'you need'}\n"
     ]
    }
   ],
   "source": [
    "import pickle\n",
    "f = open(\"test.txt\", 'rb')\n",
    "data = pickle.load(f)\n",
    "print(data)\n",
    "f.close()"
   ]
  },
  {
   "cell_type": "markdown",
   "id": "582de722-58ea-469a-8ebf-63db2118c834",
   "metadata": {},
   "source": [
    "## os"
   ]
  },
  {
   "cell_type": "code",
   "execution_count": 31,
   "id": "3789489a-2b66-4d5c-a68b-5e7c0fd96602",
   "metadata": {},
   "outputs": [
    {
     "data": {
      "text/plain": [
       "'C:\\\\WINDOWS'"
      ]
     },
     "execution_count": 31,
     "metadata": {},
     "output_type": "execute_result"
    }
   ],
   "source": [
    "import os\n",
    "# 환경변수 중 PATH 값\n",
    "os.environ['PATH']\n",
    "# 디렉토리 변경\n",
    "os.chdir(\"C:\\\\WINDOWS\")\n",
    "# 디렉토리 위치 받기\n",
    "os.getcwd()"
   ]
  },
  {
   "cell_type": "code",
   "execution_count": 36,
   "id": "8cb83049-4ae0-4103-a827-8c14e868ac42",
   "metadata": {},
   "outputs": [],
   "source": [
    "# 시스템 명령어 호출\n",
    "def what(what):\n",
    "    if not os.system(what):  # 에러시 1을 반환\n",
    "        f = os.popen(f\"{what} -V\")\n",
    "        print(f.read())\n",
    "    else:\n",
    "        print('없는 명령어입니다.')"
   ]
  },
  {
   "cell_type": "code",
   "execution_count": 37,
   "id": "399b53c3-45f4-4e8c-8fa1-def7ea83f113",
   "metadata": {},
   "outputs": [
    {
     "name": "stdout",
     "output_type": "stream",
     "text": [
      "Python 3.13.1\n",
      "\n"
     ]
    }
   ],
   "source": [
    "what(\"python\")"
   ]
  },
  {
   "cell_type": "code",
   "execution_count": 39,
   "id": "af661300-6ea2-4e4a-a8a6-8e5047c4f7ec",
   "metadata": {},
   "outputs": [],
   "source": [
    "# # zipfile\n",
    "# import zipfile\n",
    "\n",
    "# # 파일 합치기\n",
    "# with zipfile.ZipFile('mytext.zip', 'w') as myzip:\n",
    "#     myzip.write('a.txt')\n",
    "#     myzip.write('b.txt')\n",
    "#     myzip.write('c.txt')\n",
    "\n",
    "# # 해체하기\n",
    "# with zipfile.ZipFile('mytext.zip') as myzip:\n",
    "#     myzip.extractall()"
   ]
  },
  {
   "cell_type": "code",
   "execution_count": 40,
   "id": "a10fce20-9044-4b0c-9a6f-f0d4939f043c",
   "metadata": {},
   "outputs": [],
   "source": [
    "# # 특정 파일만 해제하기\n",
    "# with zipfile.ZipFile('mytext.zip') as myzip:\n",
    "#     myzip.extract('a.txt')"
   ]
  },
  {
   "cell_type": "markdown",
   "id": "148fc62b-b737-4a5e-af40-e5fcbaf2b838",
   "metadata": {},
   "source": [
    "## threading"
   ]
  },
  {
   "cell_type": "code",
   "execution_count": 44,
   "id": "da78cb50-2a0d-4f35-86d7-04971c9952b3",
   "metadata": {},
   "outputs": [],
   "source": [
    "import time\n",
    "def long_task():\n",
    "    for i in range(5):\n",
    "        time.sleep(1)\n",
    "        print(\"working:%s\" %i)"
   ]
  },
  {
   "cell_type": "code",
   "execution_count": 45,
   "id": "13fd123a-3bea-40f9-b90e-e702ec9d323b",
   "metadata": {},
   "outputs": [
    {
     "name": "stdout",
     "output_type": "stream",
     "text": [
      "Start\n",
      "working:0\n",
      "working:1\n",
      "working:2\n",
      "working:3\n",
      "working:4\n",
      "working:0\n",
      "working:1\n",
      "working:2\n",
      "working:3\n",
      "working:4\n",
      "working:0\n",
      "working:1\n",
      "working:2\n",
      "working:3\n",
      "working:4\n",
      "working:0\n",
      "working:1\n",
      "working:2\n",
      "working:3\n",
      "working:4\n",
      "working:0\n",
      "working:1\n",
      "working:2\n",
      "working:3\n",
      "working:4\n",
      "End\n",
      "25.029269218444824\n"
     ]
    }
   ],
   "source": [
    "# 기본작업 5초 X 5회 = 25초\n",
    "start = time.time()\n",
    "print(\"Start\")\n",
    "for i in range(5):\n",
    "    long_task()\n",
    "print(\"End\")\n",
    "print(time.time() - start)"
   ]
  },
  {
   "cell_type": "code",
   "execution_count": 51,
   "id": "e165923f-32b4-4edc-a3c1-15ac358607eb",
   "metadata": {},
   "outputs": [
    {
     "name": "stdout",
     "output_type": "stream",
     "text": [
      "Start\n",
      "working:0working:0\n",
      "working:0\n",
      "working:0\n",
      "working:0\n",
      "\n",
      "working:1\n",
      "working:1\n",
      "working:1\n",
      "working:1\n",
      "working:1\n",
      "working:2working:2\n",
      "\n",
      "working:2\n",
      "working:2\n",
      "working:2\n",
      "working:3working:3\n",
      "working:3\n",
      "working:3\n",
      "working:3\n",
      "\n",
      "working:4working:4\n",
      "working:4\n",
      "working:4\n",
      "working:4\n",
      "\n",
      "End\n",
      "5.039837837219238\n"
     ]
    }
   ],
   "source": [
    "# thread를 사용\n",
    "import threading\n",
    "start = time.time()\n",
    "print(\"Start\")\n",
    "thread = []\n",
    "for i in range(5):\n",
    "    t = threading.Thread(target=long_task)\n",
    "    thread.append(t)\n",
    "for t in thread:\n",
    "    t.start()\n",
    "for t in thread:\n",
    "    t.join()\n",
    "print(\"End\")\n",
    "print(time.time() - start)"
   ]
  },
  {
   "cell_type": "markdown",
   "id": "45d461ed-010b-4bbe-a037-d0ed72287214",
   "metadata": {},
   "source": [
    "## 그외"
   ]
  },
  {
   "cell_type": "code",
   "execution_count": 54,
   "id": "4483ce71-7fc5-4250-afd2-21cf8b92fe04",
   "metadata": {},
   "outputs": [],
   "source": [
    "# tempfile\n",
    "# 파일을 임시로 만들어 사용할때 유용한 모듈\n",
    "import tempfile\n",
    "filename = tempfile.mkstemp()\n",
    "filename\n",
    "f.close()"
   ]
  },
  {
   "cell_type": "code",
   "execution_count": 56,
   "id": "9aeb3532-f114-41d8-9f6b-0ff1d72fa95d",
   "metadata": {},
   "outputs": [
    {
     "name": "stdout",
     "output_type": "stream",
     "text": [
      "오류발생\n"
     ]
    }
   ],
   "source": [
    "# timetrace\n",
    "# 오류 추적 모듈\n",
    "# 일반 오류코드\n",
    "def a():\n",
    "    return 1/0\n",
    "    \n",
    "def b():\n",
    "    a()\n",
    "    \n",
    "def main():\n",
    "    try:\n",
    "        b()\n",
    "    except:\n",
    "        print(\"오류발생\")\n",
    "\n",
    "main()"
   ]
  },
  {
   "cell_type": "code",
   "execution_count": 57,
   "id": "a29dee9c-de2f-4b4b-b235-f07cc1f9606c",
   "metadata": {},
   "outputs": [
    {
     "name": "stdout",
     "output_type": "stream",
     "text": [
      "오류발생\n",
      "Traceback (most recent call last):\n",
      "  File \"C:\\Users\\Admin\\AppData\\Local\\Temp\\ipykernel_500\\3854898298.py\", line 12, in main\n",
      "    b()\n",
      "    ~^^\n",
      "  File \"C:\\Users\\Admin\\AppData\\Local\\Temp\\ipykernel_500\\3854898298.py\", line 8, in b\n",
      "    a()\n",
      "    ~^^\n",
      "  File \"C:\\Users\\Admin\\AppData\\Local\\Temp\\ipykernel_500\\3854898298.py\", line 5, in a\n",
      "    return 1/0\n",
      "           ~^~\n",
      "ZeroDivisionError: division by zero\n",
      "\n"
     ]
    }
   ],
   "source": [
    "# traceback 사용\n",
    "import traceback\n",
    "\n",
    "def a():\n",
    "    return 1/0\n",
    "    \n",
    "def b():\n",
    "    a()\n",
    "    \n",
    "def main():\n",
    "    try:\n",
    "        b()\n",
    "    except:\n",
    "        print(\"오류발생\")\n",
    "        print(traceback.format_exc())\n",
    "\n",
    "main()"
   ]
  },
  {
   "cell_type": "markdown",
   "id": "889d2c9b-a3d2-46a2-8a6d-8f88ff5f1a0a",
   "metadata": {},
   "source": [
    "## json"
   ]
  },
  {
   "cell_type": "code",
   "execution_count": 58,
   "id": "e3062d15-2a9d-4fe9-949b-80a5f55717a3",
   "metadata": {},
   "outputs": [
    {
     "data": {
      "text/plain": [
       "{'name': '홍길동', 'birth': '0525', 'age': 30}"
      ]
     },
     "execution_count": 58,
     "metadata": {},
     "output_type": "execute_result"
    }
   ],
   "source": [
    "{\n",
    "    \"name\":\"홍길동\",\n",
    "    \"birth\":\"0525\",\n",
    "    \"age\":30\n",
    "}"
   ]
  },
  {
   "cell_type": "code",
   "execution_count": 8,
   "id": "e62881d2-051f-43e5-9759-bf1517232c41",
   "metadata": {},
   "outputs": [
    {
     "name": "stdout",
     "output_type": "stream",
     "text": [
      "{\"userId\": 1, \"id\": 1, \"title\": \"delectus aut autem\", \"completed\": false, \"test\": \"\\ud55c\\uae00\\ub3c4 \\ub418\\ub098\\ubcf4\\uc790\"}\n"
     ]
    }
   ],
   "source": [
    "import requests\n",
    "import json\n",
    "url = 'https://jsonplaceholder.typicode.com/todos'  # JSON 파일 읽어오기\n",
    "data = requests.get(url).json()[0]  # JSON -> DICT\n",
    "data['test'] = \"한글도 되나보자\"  # DICT에 자료 삽입\n",
    "with open('todo.json', 'w') as f:\n",
    "    json.dump(data, f)  # DICT -> JSON\n",
    "data_s = json.dumps(data)  # 한글 깨짐\n",
    "# data_s = json.dumps(data, ensure_ascii=False)  # 한글 깨짐 방지\n",
    "print(json.dumps(data))"
   ]
  },
  {
   "cell_type": "code",
   "execution_count": 7,
   "id": "1a685a11-059a-4c31-84b9-978fe9e4b7c0",
   "metadata": {},
   "outputs": [
    {
     "name": "stdout",
     "output_type": "stream",
     "text": [
      "{'userId': 1, 'id': 1, 'title': 'delectus aut autem', 'completed': False, 'test': '한글도 되나보자'}\n",
      "{'userId': 1, 'id': 1, 'title': 'delectus aut autem', 'completed': False, 'test': '한글도 되나보자'}\n"
     ]
    }
   ],
   "source": [
    "with open('todo.json') as f:\n",
    "    data = json.load(f)  # JSON -> DICT\n",
    "print(json.loads(data_s))\n",
    "print(data)"
   ]
  },
  {
   "cell_type": "code",
   "execution_count": 11,
   "id": "62cfbbd2-606a-4fa0-b743-0e7e43856a4e",
   "metadata": {},
   "outputs": [],
   "source": [
    "# urllib\n",
    "import urllib.request\n",
    "def get_wikidocs(page):\n",
    "    resource = 'https://wikidocs.net/{}'.format(page)\n",
    "    with urllib.request.urlopen(resource) as s:\n",
    "        with open('wikidocs_%s.html' %page, 'wb') as f:\n",
    "            f.write(s.read())\n",
    "for n in range(3):\n",
    "    get_wikidocs(n)"
   ]
  },
  {
   "cell_type": "code",
   "execution_count": 12,
   "id": "187d2bc0-c5f3-4df4-b0e0-db6e2e829ad1",
   "metadata": {},
   "outputs": [
    {
     "data": {
      "text/plain": [
       "True"
      ]
     },
     "execution_count": 12,
     "metadata": {},
     "output_type": "execute_result"
    }
   ],
   "source": [
    "# webbrowser\n",
    "import webbrowser\n",
    "webbrowser.open_new('wikidocs')"
   ]
  },
  {
   "cell_type": "code",
   "execution_count": 16,
   "id": "3b43adf8-04fe-4fd9-93f9-197b912d5ed7",
   "metadata": {},
   "outputs": [],
   "source": [
    "# urllib\n",
    "import urllib.request\n",
    "import time as t\n",
    "def get_posts(page):\n",
    "    resource = f'https://jsonplaceholder.typicode.com/posts/{page}'\n",
    "    with urllib.request.urlopen(resource) as s:\n",
    "        with open(f'data_urllib/posts_{page}.html', 'wb') as f:\n",
    "            f.write(s.read())\n",
    "for n in range(1, 11):\n",
    "    get_posts(n)\n",
    "    t.sleep(0.1)"
   ]
>>>>>>> 6055de725846df9bd646dea4e517b5c684871992
  }
 ],
 "metadata": {
  "kernelspec": {
   "display_name": "Python 3 (ipykernel)",
   "language": "python",
   "name": "python3"
  },
  "language_info": {
   "codemirror_mode": {
    "name": "ipython",
    "version": 3
   },
   "file_extension": ".py",
   "mimetype": "text/x-python",
   "name": "python",
   "nbconvert_exporter": "python",
   "pygments_lexer": "ipython3",
   "version": "3.13.1"
  }
 },
 "nbformat": 4,
 "nbformat_minor": 5
}
