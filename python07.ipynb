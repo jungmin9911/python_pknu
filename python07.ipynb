{
 "cells": [
  {
   "cell_type": "markdown",
   "id": "a64adf64-f02e-401e-b214-f9039e9e8413",
   "metadata": {},
   "source": [
    "# 내장함수"
   ]
  },
  {
   "cell_type": "code",
   "execution_count": 91,
   "id": "4dbd9224-b8f3-45eb-bb18-45970e29f3af",
   "metadata": {},
   "outputs": [
    {
     "name": "stdout",
     "output_type": "stream",
     "text": [
      "3\n",
      "1.2\n"
     ]
    }
   ],
   "source": [
    "# abs ★중요\n",
    "# 어떤 숫자를 입력받았을 때 그 숫자의절댓값을 리턴하는 함수\n",
    "print(abs(-3))\n",
    "print(abs(-1.2))"
   ]
  },
  {
   "cell_type": "code",
   "execution_count": 92,
   "id": "a02d2cf3-0156-4933-bcd8-37e4ec3dda44",
   "metadata": {},
   "outputs": [
    {
     "name": "stdout",
     "output_type": "stream",
     "text": [
      "True\n",
      "False\n",
      "True\n"
     ]
    }
   ],
   "source": [
    "# all ★\n",
    "# 반복 가능한 데이터를 입력값으로 받으며,\n",
    "# 이 요소가 참이면 True, 거짓이 하나라도 있으면 Flase\n",
    "print(all([1, 2, 3]))\n",
    "print(all({1, 2, 3, 0}))\n",
    "print(all([]))  # 빈값일때 True"
   ]
  },
  {
   "cell_type": "code",
   "execution_count": 93,
   "id": "5959b0b4-6d42-4978-88ca-e3342fb1b66a",
   "metadata": {},
   "outputs": [
    {
     "name": "stdout",
     "output_type": "stream",
     "text": [
      "True\n",
      "False\n",
      "False\n"
     ]
    }
   ],
   "source": [
    "# any ★\n",
    "# 반복 가능한 데이터를 입력값으로 받으며,\n",
    "# 이 요소 중 하나라도 참이 있으면 True, 모두 거짓이면 False\n",
    "print(any([1, 2, 3, 0]))\n",
    "print(any([0, \"\"]))\n",
    "print(any([]))  # 빈값일때 False"
   ]
  },
  {
   "cell_type": "code",
   "execution_count": 94,
   "id": "bfe04ddb-1124-44f8-aa90-1c5c90bcc38c",
   "metadata": {},
   "outputs": [
    {
     "name": "stdout",
     "output_type": "stream",
     "text": [
      "A\n",
      "가\n",
      "65\n"
     ]
    }
   ],
   "source": [
    "# chr\n",
    "# 유니코드(아스키코드) 숫자값을 입력받아 그 코드에 해당하는 문자 리턴\n",
    "print(chr(65))\n",
    "print(chr(44032))\n",
    "# 반대\n",
    "print(ord('A'))"
   ]
  },
  {
   "cell_type": "code",
   "execution_count": 95,
   "id": "9487defe-3362-4385-a6cc-1f8d62a388cd",
   "metadata": {},
   "outputs": [
    {
     "name": "stdout",
     "output_type": "stream",
     "text": [
      "ABCDEFGHIJKLMNOPQRSTUVWXYZ"
     ]
    }
   ],
   "source": [
    "# 예제1\n",
    "for i in range(65,91):\n",
    "    print(chr(i),end='')"
   ]
  },
  {
   "cell_type": "code",
   "execution_count": 96,
   "id": "f143b966-b0d7-4821-a4ad-5eeb3845a92f",
   "metadata": {},
   "outputs": [
    {
     "name": "stdout",
     "output_type": "stream",
     "text": [
      "zyxwvutsrqponmlkjihgfedcba"
     ]
    }
   ],
   "source": [
    "# 예제2\n",
    "for j in range(122,96,-1):\n",
    "    print(chr(j),end='')"
   ]
  },
  {
   "cell_type": "code",
   "execution_count": 97,
   "id": "bd9ee765-1dee-4093-9a23-b680284d1774",
   "metadata": {},
   "outputs": [
    {
     "name": "stdout",
     "output_type": "stream",
     "text": [
      "A1 A2 A3 A4 A5 A6 A7 A8 A9 A10 \n",
      "\n",
      "B1 B2 B3 B4 B5 B6 B7 B8 B9 B10 \n",
      "\n",
      "C1 C2 C3 C4 C5 C6 C7 C8 C9 C10 \n",
      "\n"
     ]
    }
   ],
   "source": [
    "# 예제3\n",
    "for k in range(65,68):\n",
    "    for l in range(1,11):\n",
    "        print(f\"{chr(k)}{l} \",end='')\n",
    "    print(\"\\n\")"
   ]
  },
  {
   "cell_type": "code",
   "execution_count": 103,
   "id": "8ee24667-9068-4bdd-81f9-d2965c93ab6f",
   "metadata": {},
   "outputs": [
    {
     "name": "stdin",
     "output_type": "stream",
     "text": [
      "당신의 기분을 한 문장으로 표현해주세요 : 좋아\n"
     ]
    }
   ],
   "source": [
    "text = input(\"당신의 기분을 한 문장으로 표현해주세요 :\")\n",
    "positive_words = [\"좋아\", \"행복\", \"멋져\", \"최고\", \"사랑해\"]\n",
    "negative_words = [\"싫어\", \"화나\", \"짜증\", \"별로\", \"나빠\"]\n",
    "\n",
    "# 간단1\n",
    "# for v in positive_words:\n",
    "#     if v in text:\n",
    "#         print(\"기분이 좋아보이네요\")\n",
    "# for n in negative_words:\n",
    "#     if n in text:\n",
    "#         print(\"기분이 나빠보이네요\")\n",
    "\n",
    "# 해설2\n",
    "# if any(word in text for word in positive_words):\n",
    "#     print(\"기분이 좋아보이네요\")\n",
    "# elif any(word in text for word in negative_words):\n",
    "#     print(\"기분이 나빠보이네요\")\n",
    "# else:\n",
    "#     print(\"보통이시네요\")\n",
    "\n",
    "# 해설3\n",
    "# pos = [v for v in positive_words if v in text]\n",
    "# print(pos, len(pos))\n",
    "# neg = [n for n in negative_words if n in text]\n",
    "# print(neg, len(neg))\n",
    "# if len(pos)>len(neg):\n",
    "#     print(\"기분이 좋아보이네요\")\n",
    "# elif len(pos)<len(neg):\n",
    "#     print(\"기분이 나빠보이네요\")\n",
    "# else:\n",
    "#     print(\"보통이시네요\")\n",
    "\n",
    "# 해설4\n",
    "# pnum = 0\n",
    "# text = text.split(\" \")\n",
    "# for v in positive_words:\n",
    "#     for s in text:\n",
    "#         if v == s:\n",
    "#             pnum += 1\n",
    "# for n in negative_words:\n",
    "#     for t in text:\n",
    "#         if n == t:\n",
    "#             pnum -= 1\n",
    "# print(pnum)"
   ]
  },
  {
   "cell_type": "code",
   "execution_count": 104,
   "id": "0dbc33cf-87e9-4fe2-a802-c81fbabda154",
   "metadata": {},
   "outputs": [],
   "source": [
    "# !pip install konlpy    # 한글 파이썬"
   ]
  },
  {
   "cell_type": "code",
   "execution_count": 105,
   "id": "f36f612e-0d23-4266-b651-62d8f1bdceca",
   "metadata": {},
   "outputs": [
    {
     "name": "stdin",
     "output_type": "stream",
     "text": [
      "당신의 기분을 한 문장으로 표현해주세요 : 싫어\n"
     ]
    },
    {
     "name": "stdout",
     "output_type": "stream",
     "text": [
      "['싫다']\n"
     ]
    }
   ],
   "source": [
    "from konlpy.tag import Okt\n",
    "\n",
    "# 한글 형태소 분석기\n",
    "okt = Okt()\n",
    "\n",
    "text = input(\"당신의 기분을 한 문장으로 표현해주세요 :\")\n",
    "positive_words = [\"좋다\", \"행복\", \"멋지다\", \"최고\", \"사랑\"]\n",
    "negative_words = [\"싫다\", \"화나다\", \"짜증\", \"별로\", \"나쁘다\"]\n",
    "\n",
    "words = okt.morphs(text, stem=True)\n",
    "# morphs : 형태소 추출\n",
    "# pos : 품사 태깅\n",
    "# nouns : 명사만 추출\n",
    "print(words)"
   ]
  },
  {
   "cell_type": "code",
   "execution_count": 106,
   "id": "898ec35d-fca3-45de-ad46-2b0a90f4a933",
   "metadata": {},
   "outputs": [
    {
     "name": "stderr",
     "output_type": "stream",
     "text": [
      "java version \"1.8.0_441\"\n",
      "Java(TM) SE Runtime Environment (build 1.8.0_441-b07)\n",
      "Java HotSpot(TM) 64-Bit Server VM (build 25.441-b07, mixed mode)\n"
     ]
    }
   ],
   "source": [
    "!java -version"
   ]
  },
  {
   "cell_type": "code",
   "execution_count": 107,
   "id": "0db0ea24-cee4-4010-b0da-8b7d4281dd74",
   "metadata": {},
   "outputs": [
    {
     "name": "stdout",
     "output_type": "stream",
     "text": [
      "asda\n"
     ]
    }
   ],
   "source": [
    "print(\"asda\")"
   ]
  },
  {
   "cell_type": "code",
   "execution_count": 108,
   "id": "488d40e5-02fa-4e92-a16d-965325f41120",
   "metadata": {},
   "outputs": [
    {
     "data": {
      "text/plain": [
       "['__add__',\n",
       " '__class__',\n",
       " '__class_getitem__',\n",
       " '__contains__',\n",
       " '__delattr__',\n",
       " '__delitem__',\n",
       " '__dir__',\n",
       " '__doc__',\n",
       " '__eq__',\n",
       " '__format__',\n",
       " '__ge__',\n",
       " '__getattribute__',\n",
       " '__getitem__',\n",
       " '__getstate__',\n",
       " '__gt__',\n",
       " '__hash__',\n",
       " '__iadd__',\n",
       " '__imul__',\n",
       " '__init__',\n",
       " '__init_subclass__',\n",
       " '__iter__',\n",
       " '__le__',\n",
       " '__len__',\n",
       " '__lt__',\n",
       " '__mul__',\n",
       " '__ne__',\n",
       " '__new__',\n",
       " '__reduce__',\n",
       " '__reduce_ex__',\n",
       " '__repr__',\n",
       " '__reversed__',\n",
       " '__rmul__',\n",
       " '__setattr__',\n",
       " '__setitem__',\n",
       " '__sizeof__',\n",
       " '__str__',\n",
       " '__subclasshook__',\n",
       " 'append',\n",
       " 'clear',\n",
       " 'copy',\n",
       " 'count',\n",
       " 'extend',\n",
       " 'index',\n",
       " 'insert',\n",
       " 'pop',\n",
       " 'remove',\n",
       " 'reverse',\n",
       " 'sort']"
      ]
     },
     "execution_count": 108,
     "metadata": {},
     "output_type": "execute_result"
    }
   ],
   "source": [
    "# dir ★\n",
    "# 객체가 가진 변수나 함수를 보여주는 함수\n",
    "dir([1,2,3])"
   ]
  },
  {
   "cell_type": "code",
   "execution_count": 109,
   "id": "8d264ab2-ad8d-4c32-ba6c-f56893086f88",
   "metadata": {},
   "outputs": [
    {
     "data": {
      "text/plain": [
       "(2, 1)"
      ]
     },
     "execution_count": 109,
     "metadata": {},
     "output_type": "execute_result"
    }
   ],
   "source": [
    "# dirmod\n",
    "# 몫과 나머지 리턴\n",
    "divmod(7,3)"
   ]
  },
  {
   "cell_type": "code",
   "execution_count": 110,
   "id": "8fc4a0e1-d16d-4ea8-b08b-5a865281ade8",
   "metadata": {},
   "outputs": [
    {
     "name": "stdout",
     "output_type": "stream",
     "text": [
      "0 body\n",
      "1 foo\n",
      "2 bar\n"
     ]
    }
   ],
   "source": [
    "# enumerate ★\n",
    "# 열거하다, 리스트의 요소가 위치한 순서대로 번호를 매겨줌\n",
    "for i, name in enumerate(['body', 'foo', 'bar']):\n",
    "    print(i, name)\n",
    "# for i in enumerate(리스트명, start=3):  # 3부터 시작"
   ]
  },
  {
   "cell_type": "code",
   "execution_count": 111,
   "id": "079fce4c-80a9-4bd2-9294-9e8db68efd83",
   "metadata": {},
   "outputs": [
    {
     "name": "stdout",
     "output_type": "stream",
     "text": [
      "3\n",
      "hia\n"
     ]
    }
   ],
   "source": [
    "# eval\n",
    "# 문자열로 구성된 표현식을 입력으로 받아 해당 문자열 실행한 결괏값 리턴\n",
    "print(eval('1+2'))\n",
    "print(eval(\"'hi'+'a'\"))"
   ]
  },
  {
   "cell_type": "code",
   "execution_count": 112,
   "id": "30caaf7f-a39c-442c-a716-d18e3ceeb0ed",
   "metadata": {},
   "outputs": [
    {
     "name": "stdout",
     "output_type": "stream",
     "text": [
      "[1, 2, 6]\n"
     ]
    }
   ],
   "source": [
    "# filter ★\n",
    "# filter(함수, 반복_가능한 데이터)\n",
    "# 참인 것만 출력\n",
    "# 일반 출력\n",
    "def positive(l):\n",
    "    result = []\n",
    "    for i in l:\n",
    "        if i>0:\n",
    "            result.append(i)\n",
    "    return result\n",
    "print(positive([1, -3, 2, 0, -5, 6]))"
   ]
  },
  {
   "cell_type": "code",
   "execution_count": 113,
   "id": "64aaf130-0999-47be-9d8e-b406026f80a3",
   "metadata": {},
   "outputs": [
    {
     "name": "stdout",
     "output_type": "stream",
     "text": [
      "[1, 2, 6]\n"
     ]
    }
   ],
   "source": [
    "# for문으로 출력\n",
    "def pos(l):\n",
    "    return [i for i in l if i > 0]\n",
    "print(pos([1, -3, 2, 0, -5, 6]))"
   ]
  },
  {
   "cell_type": "code",
   "execution_count": 114,
   "id": "b4ed4cc9-2aa1-4b0d-a486-16501d89ffe3",
   "metadata": {},
   "outputs": [
    {
     "data": {
      "text/plain": [
       "[1, 2, 6]"
      ]
     },
     "execution_count": 114,
     "metadata": {},
     "output_type": "execute_result"
    }
   ],
   "source": [
    "# filter로 출력\n",
    "def positive(x):\n",
    "    return x>0\n",
    "l = [1, -3, 2, 0, -5, 6]\n",
    "# filter(참/거짓 판단할 요소, l)\n",
    "list(filter(positive,l))"
   ]
  },
  {
   "cell_type": "code",
   "execution_count": 115,
   "id": "7c086707-6bf9-44d3-9a8d-7fd4240e5edf",
   "metadata": {},
   "outputs": [
    {
     "name": "stdout",
     "output_type": "stream",
     "text": [
      "[1, 2, 6]\n"
     ]
    }
   ],
   "source": [
    "# 더 간단하게\n",
    "print(list(filter(lambda x : x > 0, l)))"
   ]
  },
  {
   "cell_type": "code",
   "execution_count": 116,
   "id": "b53a13ef-8a50-4a0a-9082-0a5bc64923f9",
   "metadata": {},
   "outputs": [
    {
     "name": "stdout",
     "output_type": "stream",
     "text": [
      "1\n",
      "2\n",
      "6\n"
     ]
    }
   ],
   "source": [
    "for n in filter(lambda x : x > 0, l):  # range(4)\n",
    "    print(n)"
   ]
  },
  {
   "cell_type": "code",
   "execution_count": 117,
   "id": "0118714d-018c-40c9-86a1-909a99b5e019",
   "metadata": {},
   "outputs": [
    {
     "name": "stdout",
     "output_type": "stream",
     "text": [
      "0xea\n",
      "0o11\n",
      "0b1001\n"
     ]
    }
   ],
   "source": [
    "# hex, oct, bin\n",
    "print(hex(234))  # 16진수\n",
    "print(oct(9))    # 8진수\n",
    "print(bin(9))    # "
   ]
  },
  {
   "cell_type": "code",
   "execution_count": 118,
   "id": "478e92cd-e38c-4a05-96bf-e66388031fcc",
   "metadata": {},
   "outputs": [
    {
     "name": "stdout",
     "output_type": "stream",
     "text": [
      "140715155588072\n",
      "140715155588072\n",
      "140715155588072\n",
      "True\n"
     ]
    }
   ],
   "source": [
    "# id 고유 주솟값을 리턴\n",
    "a = 3\n",
    "print(id(3))\n",
    "print(id(a))\n",
    "b = a\n",
    "print(id(b))\n",
    "print(all([id(3)==id(a), id(a)==id(b), id(b)==id(3)]))"
   ]
  },
  {
   "cell_type": "code",
   "execution_count": 119,
   "id": "e38759bc-ceec-4b3e-ba16-7d9ecf868918",
   "metadata": {},
   "outputs": [],
   "source": [
    "# input ★\n",
    "# input은 스트링으로 값을 전달받는다.\n",
    "# 그러므로 계산시 int나 float으로 변경할 것"
   ]
  },
  {
   "cell_type": "code",
   "execution_count": 120,
   "id": "d3cb20b8-1883-49cc-a00e-1d74189c11f0",
   "metadata": {},
   "outputs": [],
   "source": [
    "# int ★\n",
    "# 문자를 숫자로 변환, 정수로 변환, 소수점이 사라짐"
   ]
  },
  {
   "cell_type": "code",
   "execution_count": 121,
   "id": "6712e12e-a6ce-4067-90a6-226043418311",
   "metadata": {},
   "outputs": [
    {
     "name": "stdout",
     "output_type": "stream",
     "text": [
      "사람입니다\n",
      "사람입니다\n",
      "True\n",
      "True\n",
      "False\n"
     ]
    }
   ],
   "source": [
    "# isinstance(object, class) 인스턴스 확인용\n",
    "\n",
    "class Person:\n",
    "    def p(self):\n",
    "        return(\"사람입니다\")\n",
    "class Animal: pass\n",
    "a = Person()\n",
    "b = Person()\n",
    "c = Animal()\n",
    "print(a.p())\n",
    "print(b.p())\n",
    "print(isinstance(a, Person))\n",
    "print(isinstance(b, Person))\n",
    "print(isinstance(c, Person))"
   ]
  },
  {
   "cell_type": "code",
   "execution_count": 122,
   "id": "a1e94308-a4d3-4d3c-b992-5712b44b219f",
   "metadata": {},
   "outputs": [
    {
     "name": "stdout",
     "output_type": "stream",
     "text": [
      "6\n",
      "4\n",
      "2\n"
     ]
    }
   ],
   "source": [
    "# len ★★\n",
    "print(len(\"python\"))\n",
    "print(len([1, 2, 3, 4]))\n",
    "print(len((1, 'a')))"
   ]
  },
  {
   "cell_type": "code",
   "execution_count": 123,
   "id": "8de4f191-a8f8-40f8-8100-e52cbc07034c",
   "metadata": {},
   "outputs": [],
   "source": [
    "# list ★★"
   ]
  },
  {
   "cell_type": "code",
   "execution_count": 124,
   "id": "192e6d3c-77c9-426d-a743-75802d4fcfb5",
   "metadata": {},
   "outputs": [
    {
     "name": "stdout",
     "output_type": "stream",
     "text": [
      "[2, 4, 6, 8]\n"
     ]
    }
   ],
   "source": [
    "# map ★\n",
    "# map(f, iterable)\n",
    "# 함수(f)와 반복 가능한 데이터를 입력받아\n",
    "# 입력받은 데이터의 각 요소에 f를 적용한 결과를 리턴하는 함수\n",
    "# 일반 코드\n",
    "def two_items(nl):\n",
    "    result = []\n",
    "    for n in nl:\n",
    "        result.append(n*2)\n",
    "    return result\n",
    "result = two_items([1, 2, 3, 4])\n",
    "print(result)"
   ]
  },
  {
   "cell_type": "code",
   "execution_count": 125,
   "id": "3dd3248a-e124-4301-9abd-0b66a66d6adf",
   "metadata": {},
   "outputs": [
    {
     "data": {
      "text/plain": [
       "[2, 4, 6, 8]"
      ]
     },
     "execution_count": 125,
     "metadata": {},
     "output_type": "execute_result"
    }
   ],
   "source": [
    "# map 활용\n",
    "def two_times(x):\n",
    "    return x*2\n",
    "list(map(two_times, [1, 2, 3, 4]))  # 리스트에 two_times 함수 적용"
   ]
  },
  {
   "cell_type": "code",
   "execution_count": 126,
   "id": "9dda07ad-57c1-492e-900d-43a999a64d7e",
   "metadata": {},
   "outputs": [
    {
     "data": {
      "text/plain": [
       "[2, 4, 6, 8]"
      ]
     },
     "execution_count": 126,
     "metadata": {},
     "output_type": "execute_result"
    }
   ],
   "source": [
    "list(map(lambda x: x*2, [1,2,3,4]))  # 리스트에 lambda 함수 적용"
   ]
  },
  {
   "cell_type": "code",
   "execution_count": 127,
   "id": "29ce233d-c7c5-41c7-8cb4-5c2b79a78e46",
   "metadata": {},
   "outputs": [
    {
     "name": "stdout",
     "output_type": "stream",
     "text": [
      "[1, 3, 5]\n",
      "[2, 4, 6]\n",
      "[11, 12, 13, 14, 15, 16]\n",
      "[1, 4, 9, 16, 25, 36]\n",
      "[11, 24, 39, 56, 75, 96]\n"
     ]
    }
   ],
   "source": [
    "# 테스트\n",
    "li = [1,2,3,4,5,6]\n",
    "def odd(x):\n",
    "    return x % 2 != 0\n",
    "def even(x):\n",
    "    return x % 2 == 0\n",
    "def add(x):\n",
    "    return x + 10\n",
    "def mul(x):\n",
    "    return x * x\n",
    "def addmul(x):\n",
    "    return (x + 10) * x\n",
    "print(list(filter(odd, li)))\n",
    "print(list(filter(even, li)))\n",
    "print(list(map(add, li)))\n",
    "print(list(map(mul, li)))\n",
    "print(list(map(addmul, li)))"
   ]
  },
  {
   "cell_type": "code",
   "execution_count": 128,
   "id": "b6e49f8b-b771-42e0-b52c-694e98d69a86",
   "metadata": {},
   "outputs": [
    {
     "name": "stdout",
     "output_type": "stream",
     "text": [
      "56\n",
      "y\n"
     ]
    }
   ],
   "source": [
    "# max ★\n",
    "print(max([1, 21, 3, 14, 56, 16, 7]))\n",
    "print(max('python'))  # 문자일 경우 유니코드 값으로 판단"
   ]
  },
  {
   "cell_type": "code",
   "execution_count": 129,
   "id": "1ccc8f06-64ef-4850-9858-b980fb92f1e8",
   "metadata": {},
   "outputs": [
    {
     "name": "stdout",
     "output_type": "stream",
     "text": [
      "1\n",
      "h\n"
     ]
    }
   ],
   "source": [
    "# min ★\n",
    "print(min([1, 21, 3, 14, 56, 16, 7]))\n",
    "print(min('python'))  # 문자일 경우 유니코드 값으로 판단"
   ]
  },
  {
   "cell_type": "code",
   "execution_count": 130,
   "id": "c111f035-7ec3-4e5d-b84e-0d357f3b1591",
   "metadata": {},
   "outputs": [
    {
     "data": {
      "text/plain": [
       "'<h1>배고픔</h1>'"
      ]
     },
     "execution_count": 130,
     "metadata": {},
     "output_type": "execute_result"
    }
   ],
   "source": [
    "# open ★\n",
    "f = open('README.md', 'r', encoding=\"utf-8\")\n",
    "f.read()"
   ]
  },
  {
   "cell_type": "code",
   "execution_count": 131,
   "id": "528e6471-5431-45bd-b302-9395464bfdab",
   "metadata": {},
   "outputs": [
    {
     "name": "stdout",
     "output_type": "stream",
     "text": [
      "32\n"
     ]
    }
   ],
   "source": [
    "# pow ★\n",
    "# x를 y제곱한 결과값을 리턴\n",
    "print(pow(2,5))"
   ]
  },
  {
   "cell_type": "code",
   "execution_count": 132,
   "id": "6f289d9d-eae0-4934-9b1f-4098fa72dc80",
   "metadata": {},
   "outputs": [
    {
     "name": "stdout",
     "output_type": "stream",
     "text": [
      "[0, 1, 2, 3, 4]\n",
      "[5, 6, 7, 8, 9]\n",
      "[5, 7, 9]\n",
      "[10, 9, 8, 7, 6]\n"
     ]
    }
   ],
   "source": [
    "# range ★★\n",
    "# 인수가 1개\n",
    "print(list(range(5)))\n",
    "# 인수가 2개\n",
    "print(list(range(5,10)))\n",
    "# 인수가 3개\n",
    "print(list(range(5,10,2)))\n",
    "# 역순(스탭조절)\n",
    "print(list(range(10,5,-1)))"
   ]
  },
  {
   "cell_type": "code",
   "execution_count": 133,
   "id": "ca54b7a2-4925-461a-8e60-2f58eaea3ba5",
   "metadata": {},
   "outputs": [
    {
     "name": "stdout",
     "output_type": "stream",
     "text": [
      "3\n",
      "4\n",
      "4.7\n"
     ]
    }
   ],
   "source": [
    "# round ★ 반올림\n",
    "print(round(3.4))\n",
    "print(round(3.5))\n",
    "print(round(4.72, 1))  # 첫째자리까지 나타내기"
   ]
  },
  {
   "cell_type": "code",
   "execution_count": 134,
   "id": "77b029fe-3b13-45f9-9fcf-ac10a04f2142",
   "metadata": {},
   "outputs": [
    {
     "name": "stdout",
     "output_type": "stream",
     "text": [
      "[3, 2, 1, 4, 6, 7]\n",
      "[1, 2, 3, 4, 6, 7]\n",
      "[7, 6, 4, 3, 2, 1]\n"
     ]
    }
   ],
   "source": [
    "# sorted(iterable) ★\n",
    "# 정렬된 리스트로 리턴\n",
    "s0 = [3,2,1,4,6,7]\n",
    "s1 = sorted(s0)\n",
    "s2 = sorted(s0, reverse=True)\n",
    "print(s0)\n",
    "print(s1)\n",
    "print(s2)"
   ]
  },
  {
   "cell_type": "code",
   "execution_count": 135,
   "id": "64658a37-1137-4a11-b2e1-35a00a2c744f",
   "metadata": {},
   "outputs": [
    {
     "name": "stdout",
     "output_type": "stream",
     "text": [
      "23 <class 'int'>\n",
      "23 <class 'str'>\n"
     ]
    }
   ],
   "source": [
    "# str ★\n",
    "# 문자열로 변환\n",
    "num = 23\n",
    "st = str(num)\n",
    "print(num, type(num))\n",
    "print(st, type(st))"
   ]
  },
  {
   "cell_type": "code",
   "execution_count": 136,
   "id": "1f436fea-244c-4b9c-b9e4-186a8127d366",
   "metadata": {},
   "outputs": [
    {
     "name": "stdout",
     "output_type": "stream",
     "text": [
      "15\n"
     ]
    }
   ],
   "source": [
    "# sum ★\n",
    "# 이터러블데이터의 합을 리턴\n",
    "print(sum([1,2,3,4,5]))"
   ]
  },
  {
   "cell_type": "code",
   "execution_count": 141,
   "id": "0c239b22-64a7-43b4-838d-a430fddae0f8",
   "metadata": {},
   "outputs": [
    {
     "name": "stdout",
     "output_type": "stream",
     "text": [
      "('a', 'b', 'c')\n",
      "(1, 2, 3, 4, 5, 6)\n"
     ]
    }
   ],
   "source": [
    "# tuple ★ 튜플로 바꾸기\n",
    "print(tuple(\"abc\"))\n",
    "print(tuple([1,2,3,4,5,6]))"
   ]
  },
  {
   "cell_type": "code",
   "execution_count": 143,
   "id": "03123c90-5588-417f-8380-e7cb67990c41",
   "metadata": {},
   "outputs": [
    {
     "name": "stdout",
     "output_type": "stream",
     "text": [
      "<class 'str'>\n",
      "<class 'int'>\n",
      "<class '_io.TextIOWrapper'>\n"
     ]
    }
   ],
   "source": [
    "# type ★★\n",
    "# 자료형 확인\n",
    "print(type(\"abc\"))\n",
    "print(type(123))\n",
    "print(type(open(\"README.md\", \"r\")))  # 파일 자료형"
   ]
  },
  {
   "cell_type": "code",
   "execution_count": 148,
   "id": "cdf22e8c-afa5-4893-a5c8-cd5721b35eb8",
   "metadata": {},
   "outputs": [
    {
     "name": "stdout",
     "output_type": "stream",
     "text": [
      "1 dinos\n",
      "2 giants\n",
      "3 lions\n",
      "4 tigers\n",
      "5 eagles\n",
      "6 wiz\n",
      "7 randers\n",
      "8 heros\n",
      "9 bears\n",
      "10 twins\n"
     ]
    }
   ],
   "source": [
    "# zip ★★\n",
    "# 묶어서 리턴\n",
    "num = [1, 2, 3, 4, 5, 6, 7, 8, 9, 10]\n",
    "kbo = ['dinos', 'giants', 'lions', 'tigers', 'eagles', 'wiz', 'randers', 'heros', 'bears', 'twins']\n",
    "for i, j in zip(num, kbo):\n",
    "    print(i, j)"
   ]
  },
  {
   "cell_type": "markdown",
   "id": "ae387853-6406-4f19-a966-ae47368d5c61",
   "metadata": {},
   "source": [
    "# 표준 라이브러리"
   ]
  },
  {
   "cell_type": "code",
   "execution_count": 161,
   "id": "f7dbea57-4258-45b6-b68a-1e16dc91cbd6",
   "metadata": {},
   "outputs": [
    {
     "name": "stdout",
     "output_type": "stream",
     "text": [
      "전체 수업기간 : 172 일\n",
      "남은 수업기간 : 157 일\n",
      "지난 수업기간 : 15 일\n"
     ]
    }
   ],
   "source": [
    "import datetime\n",
    "day1 = datetime.date(2025, 2, 3)\n",
    "day2 = datetime.date(2025, 7, 25)\n",
    "diff = day2 - day1\n",
    "print(\"전체 수업기간 :\", diff.days, \"일\")\n",
    "diff2 = day2 - datetime.datetime.now().date()\n",
    "print(\"남은 수업기간 :\", diff2.days, \"일\")\n",
    "print(\"지난 수업기간 :\", diff.days - diff2.days, \"일\")"
   ]
  },
  {
   "cell_type": "code",
   "execution_count": 176,
   "id": "2ee32e7e-4467-428f-bdab-da4ed985c7ed",
   "metadata": {},
   "outputs": [
    {
     "data": {
      "text/plain": [
       "datetime.date(2025, 2, 18)"
      ]
     },
     "execution_count": 176,
     "metadata": {},
     "output_type": "execute_result"
    }
   ],
   "source": [
    "datetime.datetime.now().date()  # date()를 넣으면 날짜 출력"
   ]
  },
  {
   "cell_type": "code",
   "execution_count": 175,
   "id": "b30c47df-5de9-45df-9f0f-29a2fd3f50f0",
   "metadata": {},
   "outputs": [
    {
     "name": "stdout",
     "output_type": "stream",
     "text": [
      "화요일 입니다.\n"
     ]
    }
   ],
   "source": [
    "# 요일 확인\n",
    "days = ['월', '화', '수', '목', '금', '토', '일']\n",
    "day = datetime.date(1999,11,9)\n",
    "# day.isoweekday()  # 1부터 시작\n",
    "print(days[day.weekday()] + \"요일 입니다.\")"
   ]
  },
  {
   "cell_type": "code",
   "execution_count": 168,
   "id": "5d56825d-2be7-43a1-ae63-b79b148ec849",
   "metadata": {},
   "outputs": [],
   "source": [
    "# day.isoweekday()"
   ]
  },
  {
   "cell_type": "code",
   "execution_count": 191,
   "id": "484b9327-4700-4558-97a2-292eca1cc5ea",
   "metadata": {},
   "outputs": [
    {
     "name": "stdout",
     "output_type": "stream",
     "text": [
      "9233\n"
     ]
    }
   ],
   "source": [
    "# 생일 이후 며칠 지났는지\n",
    "birth = datetime.date(1999,11,9)\n",
    "today = datetime.datetime.now().date()\n",
    "life = today - birth\n",
    "print(life.days)"
   ]
  },
  {
   "cell_type": "code",
   "execution_count": 190,
   "id": "32bc1206-7d5b-4784-b20d-d98ddf05ba0d",
   "metadata": {},
   "outputs": [
    {
     "name": "stdout",
     "output_type": "stream",
     "text": [
      "76\n"
     ]
    }
   ],
   "source": [
    "# 어린이날 며칠 남았는지\n",
    "child = datetime.date(2025,5,5)\n",
    "today = datetime.datetime.now().date()\n",
    "count = child - today\n",
    "print(count.days)"
   ]
  },
  {
   "cell_type": "code",
   "execution_count": 200,
   "id": "f00fdb39-e494-4cb2-8c61-8615f26f8bab",
   "metadata": {},
   "outputs": [
    {
     "name": "stdout",
     "output_type": "stream",
     "text": [
      "오늘부터 어버이날까지 79일 남았습니다.\n",
      "어버이날은 목요일 입니다.\n"
     ]
    }
   ],
   "source": [
    "# 예제 3번\n",
    "# 오늘부터 어버이날 며칠 남았는지, 무슨 요일인지\n",
    "parents = datetime.date(2025,5,8)\n",
    "today = datetime.datetime.now().date()\n",
    "count = parents - today\n",
    "print(f\"오늘부터 어버이날까지 {count.days}일 남았습니다.\")\n",
    "\n",
    "days = ['월', '화', '수', '목', '금', '토', '일']\n",
    "print(\"어버이날은 \" + days[parents.weekday()] + \"요일 입니다.\")"
   ]
  },
  {
   "cell_type": "code",
   "execution_count": 193,
   "id": "6940e50b-2c00-4ec8-b354-2ed903daf833",
   "metadata": {},
   "outputs": [
    {
     "name": "stdout",
     "output_type": "stream",
     "text": [
      "310\n"
     ]
    }
   ],
   "source": [
    "# 크리스마스 며칠 남았는지\n",
    "christmas = datetime.date(2025,12,25)\n",
    "today = datetime.datetime.now().date()\n",
    "count = christmas - today\n",
    "print(count.days)"
   ]
  },
  {
   "cell_type": "code",
   "execution_count": 194,
   "id": "fa428f00-6179-4c25-89ab-06955b95b39e",
   "metadata": {},
   "outputs": [
    {
     "name": "stdout",
     "output_type": "stream",
     "text": [
      "73\n"
     ]
    }
   ],
   "source": [
    "# 수료 후 추석까지 며칠 남았는지\n",
    "end = datetime.date(2025,7,25)\n",
    "cs = datetime.date(2025,10,6)\n",
    "count = cs - end\n",
    "print(count.days)"
   ]
  },
  {
   "cell_type": "code",
   "execution_count": 201,
   "id": "8a1b1b19-c12a-42f8-8a05-ca553694af49",
   "metadata": {},
   "outputs": [
    {
     "name": "stdout",
     "output_type": "stream",
     "text": [
      "오늘부터 어버이날까지 79일 남았습니다.\n",
      "어버이날은 목요일 입니다.\n",
      "수료일부터 추석까지 73일 남았습니다.\n",
      "수료일은 금요일 입니다.\n",
      "추석은 월요일 입니다.\n"
     ]
    }
   ],
   "source": [
    "# 예제 3번\n",
    "# 오늘부터 어버이날 며칠 남았는지, 무슨 요일인지\n",
    "parents = datetime.date(2025,5,8)\n",
    "today = datetime.datetime.now().date()\n",
    "count = parents - today\n",
    "print(f\"오늘부터 어버이날까지 {count.days}일 남았습니다.\")\n",
    "\n",
    "days = ['월', '화', '수', '목', '금', '토', '일']\n",
    "print(\"어버이날은 \" + days[parents.weekday()] + \"요일 입니다.\")\n",
    "\n",
    "# 예제 5번\n",
    "# 수료 후 추석까지 며칠 남았는지, 무슨 요일인지\n",
    "end = datetime.date(2025,7,25)\n",
    "cs = datetime.date(2025,10,6)\n",
    "count = cs - end\n",
    "print(f\"수료일부터 추석까지 {count.days}일 남았습니다.\")\n",
    "\n",
    "days = ['월', '화', '수', '목', '금', '토', '일']\n",
    "print(\"수료일은 \" + days[end.weekday()] + \"요일 입니다.\")\n",
    "print(\"추석은 \" + days[cs.weekday()] + \"요일 입니다.\")"
   ]
  },
  {
   "cell_type": "code",
   "execution_count": null,
   "id": "76c72cb5-5e72-4f96-836e-7f22b7b06a9f",
   "metadata": {},
   "outputs": [],
   "source": []
  }
 ],
 "metadata": {
  "kernelspec": {
   "display_name": "Python 3 (ipykernel)",
   "language": "python",
   "name": "python3"
  },
  "language_info": {
   "codemirror_mode": {
    "name": "ipython",
    "version": 3
   },
   "file_extension": ".py",
   "mimetype": "text/x-python",
   "name": "python",
   "nbconvert_exporter": "python",
   "pygments_lexer": "ipython3",
   "version": "3.13.1"
  }
 },
 "nbformat": 4,
 "nbformat_minor": 5
}
