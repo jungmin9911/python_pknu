{
 "cells": [
  {
   "cell_type": "markdown",
   "id": "a64adf64-f02e-401e-b214-f9039e9e8413",
   "metadata": {},
   "source": [
    "# 내장함수"
   ]
  },
  {
   "cell_type": "code",
   "execution_count": 1,
   "id": "4dbd9224-b8f3-45eb-bb18-45970e29f3af",
   "metadata": {},
   "outputs": [
    {
     "name": "stdout",
     "output_type": "stream",
     "text": [
      "3\n",
      "1.2\n"
     ]
    }
   ],
   "source": [
    "# abs *중요\n",
    "# 어떤 숫자를 입력받았을 때 그 숫자의절댓값을 리턴하는 함수\n",
    "print(abs(-3))\n",
    "print(abs(-1.2))"
   ]
  },
  {
   "cell_type": "code",
   "execution_count": 8,
   "id": "a02d2cf3-0156-4933-bcd8-37e4ec3dda44",
   "metadata": {},
   "outputs": [
    {
     "name": "stdout",
     "output_type": "stream",
     "text": [
      "True\n",
      "False\n",
      "True\n"
     ]
    }
   ],
   "source": [
    "# all *중요\n",
    "# 반복 가능한 데이터를 입력값으로 받으며,\n",
    "# 이 요소가 참이면 True, 거짓이 하나라도 있으면 Flase\n",
    "print(all([1, 2, 3]))\n",
    "print(all({1, 2, 3, 0}))\n",
    "print(all([]))  # 빈값일때 True"
   ]
  },
  {
   "cell_type": "code",
   "execution_count": 9,
   "id": "5959b0b4-6d42-4978-88ca-e3342fb1b66a",
   "metadata": {},
   "outputs": [
    {
     "name": "stdout",
     "output_type": "stream",
     "text": [
      "True\n",
      "False\n",
      "False\n"
     ]
    }
   ],
   "source": [
    "# any *중요\n",
    "# 반복 가능한 데이터를 입력값으로 받으며,\n",
    "# 이 요소 중 하나라도 참이 있으면 True, 모두 거짓이면 False\n",
    "print(any([1, 2, 3, 0]))\n",
    "print(any([0, \"\"]))\n",
    "print(any([]))  # 빈값일때 False"
   ]
  },
  {
   "cell_type": "code",
   "execution_count": 16,
   "id": "bfe04ddb-1124-44f8-aa90-1c5c90bcc38c",
   "metadata": {},
   "outputs": [
    {
     "name": "stdout",
     "output_type": "stream",
     "text": [
      "A\n",
      "가\n",
      "65\n"
     ]
    }
   ],
   "source": [
    "# chr\n",
    "# 유니코드(아스키코드) 숫자값을 입력받아 그 코드에 해당하는 문자 리턴\n",
    "print(chr(65))\n",
    "print(chr(44032))\n",
    "# 반대\n",
    "print(ord('A'))"
   ]
  },
  {
   "cell_type": "code",
   "execution_count": null,
   "id": "9487defe-3362-4385-a6cc-1f8d62a388cd",
   "metadata": {},
   "outputs": [],
   "source": []
  }
 ],
 "metadata": {
  "kernelspec": {
   "display_name": "Python 3 (ipykernel)",
   "language": "python",
   "name": "python3"
  },
  "language_info": {
   "codemirror_mode": {
    "name": "ipython",
    "version": 3
   },
   "file_extension": ".py",
   "mimetype": "text/x-python",
   "name": "python",
   "nbconvert_exporter": "python",
   "pygments_lexer": "ipython3",
   "version": "3.13.1"
  }
 },
 "nbformat": 4,
 "nbformat_minor": 5
}
