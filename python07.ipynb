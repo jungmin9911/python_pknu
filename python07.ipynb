{
 "cells": [
  {
   "cell_type": "markdown",
   "id": "a64adf64-f02e-401e-b214-f9039e9e8413",
   "metadata": {},
   "source": [
    "# 내장함수"
   ]
  },
  {
   "cell_type": "code",
   "execution_count": 1,
   "id": "4dbd9224-b8f3-45eb-bb18-45970e29f3af",
   "metadata": {},
   "outputs": [
    {
     "name": "stdout",
     "output_type": "stream",
     "text": [
      "3\n",
      "1.2\n"
     ]
    }
   ],
   "source": [
    "# abs *중요\n",
    "# 어떤 숫자를 입력받았을 때 그 숫자의절댓값을 리턴하는 함수\n",
    "print(abs(-3))\n",
    "print(abs(-1.2))"
   ]
  },
  {
   "cell_type": "code",
   "execution_count": 8,
   "id": "a02d2cf3-0156-4933-bcd8-37e4ec3dda44",
   "metadata": {},
   "outputs": [
    {
     "name": "stdout",
     "output_type": "stream",
     "text": [
      "True\n",
      "False\n",
      "True\n"
     ]
    }
   ],
   "source": [
    "# all *중요\n",
    "# 반복 가능한 데이터를 입력값으로 받으며,\n",
    "# 이 요소가 참이면 True, 거짓이 하나라도 있으면 Flase\n",
    "print(all([1, 2, 3]))\n",
    "print(all({1, 2, 3, 0}))\n",
    "print(all([]))  # 빈값일때 True"
   ]
  },
  {
   "cell_type": "code",
   "execution_count": 9,
   "id": "5959b0b4-6d42-4978-88ca-e3342fb1b66a",
   "metadata": {},
   "outputs": [
    {
     "name": "stdout",
     "output_type": "stream",
     "text": [
      "True\n",
      "False\n",
      "False\n"
     ]
    }
   ],
   "source": [
    "# any *중요\n",
    "# 반복 가능한 데이터를 입력값으로 받으며,\n",
    "# 이 요소 중 하나라도 참이 있으면 True, 모두 거짓이면 False\n",
    "print(any([1, 2, 3, 0]))\n",
    "print(any([0, \"\"]))\n",
    "print(any([]))  # 빈값일때 False"
   ]
  },
  {
   "cell_type": "code",
   "execution_count": 16,
   "id": "bfe04ddb-1124-44f8-aa90-1c5c90bcc38c",
   "metadata": {},
   "outputs": [
    {
     "name": "stdout",
     "output_type": "stream",
     "text": [
      "A\n",
      "가\n",
      "65\n"
     ]
    }
   ],
   "source": [
    "# chr\n",
    "# 유니코드(아스키코드) 숫자값을 입력받아 그 코드에 해당하는 문자 리턴\n",
    "print(chr(65))\n",
    "print(chr(44032))\n",
    "# 반대\n",
    "print(ord('A'))"
   ]
  },
  {
   "cell_type": "code",
   "execution_count": 32,
   "id": "9487defe-3362-4385-a6cc-1f8d62a388cd",
   "metadata": {},
   "outputs": [
    {
     "name": "stdout",
     "output_type": "stream",
     "text": [
      "ABCDEFGHIJKLMNOPQRSTUVWXYZ"
     ]
    }
   ],
   "source": [
    "# 예제1\n",
    "for i in range(65,91):\n",
    "    print(chr(i),end='')"
   ]
  },
  {
   "cell_type": "code",
   "execution_count": 44,
   "id": "f143b966-b0d7-4821-a4ad-5eeb3845a92f",
   "metadata": {},
   "outputs": [
    {
     "name": "stdout",
     "output_type": "stream",
     "text": [
      "zyxwvutsrqponmlkjihgfedcba"
     ]
    }
   ],
   "source": [
    "# 예제2\n",
    "for j in range(122,96,-1):\n",
    "    print(chr(j),end='')"
   ]
  },
  {
   "cell_type": "code",
   "execution_count": 45,
   "id": "bd9ee765-1dee-4093-9a23-b680284d1774",
   "metadata": {},
   "outputs": [
    {
     "name": "stdout",
     "output_type": "stream",
     "text": [
      "A1 A2 A3 A4 A5 A6 A7 A8 A9 A10 \n",
      "\n",
      "B1 B2 B3 B4 B5 B6 B7 B8 B9 B10 \n",
      "\n",
      "C1 C2 C3 C4 C5 C6 C7 C8 C9 C10 \n",
      "\n"
     ]
    }
   ],
   "source": [
    "# 예제3\n",
    "for k in range(65,68):\n",
    "    for l in range(1,11):\n",
    "        print(f\"{chr(k)}{l} \",end='')\n",
    "    print(\"\\n\")"
   ]
  },
  {
   "cell_type": "code",
   "execution_count": 133,
   "id": "8ee24667-9068-4bdd-81f9-d2965c93ab6f",
   "metadata": {},
   "outputs": [
    {
     "name": "stdin",
     "output_type": "stream",
     "text": [
      "당신의 기분을 한 문장으로 표현해주세요 : 좋아서 싫어\n"
     ]
    },
    {
     "name": "stdout",
     "output_type": "stream",
     "text": [
      "-1\n"
     ]
    }
   ],
   "source": [
    "text = input(\"당신의 기분을 한 문장으로 표현해주세요 :\")\n",
    "positive_words = [\"좋아\", \"행복\", \"멋져\", \"최고\", \"사랑해\"]\n",
    "negative_words = [\"싫어\", \"화나\", \"짜증\", \"별로\", \"나빠\"]\n",
    "\n",
    "# 간단1\n",
    "# for v in positive_words:\n",
    "#     if v in text:\n",
    "#         print(\"기분이 좋아보이네요\")\n",
    "# for n in negative_words:\n",
    "#     if n in text:\n",
    "#         print(\"기분이 나빠보이네요\")\n",
    "\n",
    "# 해설2\n",
    "# if any(word in text for word in positive_words):\n",
    "#     print(\"기분이 좋아보이네요\")\n",
    "# elif any(word in text for word in negative_words):\n",
    "#     print(\"기분이 나빠보이네요\")\n",
    "# else:\n",
    "#     print(\"보통이시네요\")\n",
    "\n",
    "# 해설3\n",
    "# pos = [v for v in positive_words if v in text]\n",
    "# print(pos, len(pos))\n",
    "# neg = [n for n in negative_words if n in text]\n",
    "# print(neg, len(neg))\n",
    "# if len(pos)>len(neg):\n",
    "#     print(\"기분이 좋아보이네요\")\n",
    "# elif len(pos)<len(neg):\n",
    "#     print(\"기분이 나빠보이네요\")\n",
    "# else:\n",
    "#     print(\"보통이시네요\")\n",
    "\n",
    "# 해설4\n",
    "# pnum = 0\n",
    "# text = text.split(\" \")\n",
    "# for v in positive_words:\n",
    "#     for s in text:\n",
    "#         if v == s:\n",
    "#             pnum += 1\n",
    "# for n in negative_words:\n",
    "#     for t in text:\n",
    "#         if n == t:\n",
    "#             pnum -= 1\n",
    "# print(pnum)"
   ]
  },
  {
   "cell_type": "code",
   "execution_count": 136,
   "id": "0dbc33cf-87e9-4fe2-a802-c81fbabda154",
   "metadata": {},
   "outputs": [],
   "source": [
    "# !pip install konlpy    # 한글 파이썬"
   ]
  },
  {
   "cell_type": "code",
   "execution_count": 6,
   "id": "f36f612e-0d23-4266-b651-62d8f1bdceca",
   "metadata": {},
   "outputs": [
    {
     "name": "stdin",
     "output_type": "stream",
     "text": [
      "당신의 기분을 한 문장으로 표현해주세요 : 좋아서 멋지고 그래서 사랑해\n"
     ]
    },
    {
     "name": "stdout",
     "output_type": "stream",
     "text": [
      "['좋다', '멋지다', '그래서', '사랑', '하다']\n"
     ]
    }
   ],
   "source": [
    "from konlpy.tag import Okt\n",
    "\n",
    "# 한글 형태소 분석기\n",
    "okt = Okt()\n",
    "\n",
    "text = input(\"당신의 기분을 한 문장으로 표현해주세요 :\")\n",
    "positive_words = [\"좋다\", \"행복\", \"멋지다\", \"최고\", \"사랑\"]\n",
    "negative_words = [\"싫다\", \"화나다\", \"짜증\", \"별로\", \"나쁘다\"]\n",
    "\n",
    "words = okt.morphs(text, stem=True)\n",
    "# morphs : 형태소 추출\n",
    "# pos : 품사 태깅\n",
    "# nouns : 명사만 추출\n",
    "print(words)"
   ]
  },
  {
   "cell_type": "code",
   "execution_count": 2,
   "id": "898ec35d-fca3-45de-ad46-2b0a90f4a933",
   "metadata": {},
   "outputs": [],
   "source": [
    "!java -version"
   ]
  },
  {
   "cell_type": "code",
   "execution_count": null,
   "id": "0db0ea24-cee4-4010-b0da-8b7d4281dd74",
   "metadata": {},
   "outputs": [],
   "source": []
  }
 ],
 "metadata": {
  "kernelspec": {
   "display_name": "Python 3 (ipykernel)",
   "language": "python",
   "name": "python3"
  },
  "language_info": {
   "codemirror_mode": {
    "name": "ipython",
    "version": 3
   },
   "file_extension": ".py",
   "mimetype": "text/x-python",
   "name": "python",
   "nbconvert_exporter": "python",
   "pygments_lexer": "ipython3",
   "version": "3.13.1"
  }
 },
 "nbformat": 4,
 "nbformat_minor": 5
}
