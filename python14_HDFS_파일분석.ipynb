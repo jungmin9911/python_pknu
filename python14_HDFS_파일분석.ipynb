{
 "cells": [
  {
   "cell_type": "code",
   "execution_count": 1,
   "id": "cbdd5b73-3da7-480e-8657-99f622e3c601",
   "metadata": {},
   "outputs": [
    {
     "name": "stdout",
     "output_type": "stream",
     "text": [
      "172.18.0.2 \n"
     ]
    }
   ],
   "source": [
    "!hostname -I"
   ]
  },
  {
   "cell_type": "code",
   "execution_count": 3,
   "id": "3b62dc10-cabe-458b-9e01-95e3a4a910ae",
   "metadata": {},
   "outputs": [
    {
     "name": "stdout",
     "output_type": "stream",
     "text": [
      "172.18.0.2 172.19.0.2 \n"
     ]
    }
   ],
   "source": [
    "!hostname -I"
   ]
  },
  {
   "cell_type": "code",
   "execution_count": 4,
   "id": "d44b78f6-c53b-454b-9e89-c5928f5e305c",
   "metadata": {},
   "outputs": [],
   "source": [
    "# !pip install hdfs"
   ]
  },
  {
   "cell_type": "code",
   "execution_count": 5,
   "id": "b7b4f1a8-5707-4241-9176-008fa7e98bcc",
   "metadata": {},
   "outputs": [],
   "source": [
    "from hdfs import InsecureClient"
   ]
  },
  {
   "cell_type": "code",
   "execution_count": 10,
   "id": "fc75a30c-a842-4eba-984e-cc12649d0ab5",
   "metadata": {},
   "outputs": [
    {
     "name": "stdout",
     "output_type": "stream",
     "text": [
      "TION, AND DISTRIBUTION\n",
      "\n",
      "   1. Definitions.\n",
      "\n",
      "      \"License\" shall mean the terms and conditions for \n"
     ]
    }
   ],
   "source": [
    "user = \"hadoop\"\n",
    "host = \"http://namenode:9870\"\n",
    "path = \"/user/hadoop/LICENSE.txt\"\n",
    "hdfs = InsecureClient(host, user=user)\n",
    "with hdfs.read(path, encoding=\"utf-8\") as reader:\n",
    "    text = reader.read()\n",
    "print(text[200:300])"
   ]
  },
  {
   "cell_type": "code",
   "execution_count": 12,
   "id": "f77f5f84-dc9d-424a-92f9-fa4c6c1f7450",
   "metadata": {},
   "outputs": [
    {
     "name": "stdout",
     "output_type": "stream",
     "text": [
      "Apache      1\n",
      "License      1\n",
      "Version      1\n",
      "2.0,      1\n",
      "January      1\n",
      "2004      1\n",
      "http://www.apache.org/licenses/      1\n",
      "TERMS      1\n",
      "AND      1\n",
      "CONDITIONS      1\n",
      "FOR      1\n",
      "USE,      1\n",
      "REPRODUC      1\n"
     ]
    }
   ],
   "source": [
    "from collections import Counter\n",
    "\n",
    "words = text[:200].strip().split()\n",
    "word_counts = Counter(words)\n",
    "# print(word_counts)\n",
    "for word, count in word_counts.items():\n",
    "    print(word, \"    \", count)"
   ]
  },
  {
   "cell_type": "code",
   "execution_count": 28,
   "id": "ef6612a1-aa0e-43b1-8ea9-aca2b99c8bdb",
   "metadata": {},
   "outputs": [
    {
     "name": "stdout",
     "output_type": "stream",
     "text": [
      "스타벅스_위도경도.csv\n",
      "월분기연간인구동향_출생_2025.csv\n",
      "LICENSE.txt\n",
      "grep-output\n",
      "starbucks.csv\n",
      "wordcount-output\n"
     ]
    }
   ],
   "source": [
    "# 경로내 파일 읽어오기\n",
    "hdfs_dir = '/user/hadoop'\n",
    "show = hdfs.list(hdfs_dir)\n",
    "for s in show:\n",
    "    print(s)"
   ]
  },
  {
   "cell_type": "code",
   "execution_count": 14,
   "id": "3c16e7af-83d3-4d5f-bc77-b6d398bd25ba",
   "metadata": {},
   "outputs": [
    {
     "name": "stdout",
     "output_type": "stream",
     "text": [
      "/home/pkdata/data\n"
     ]
    }
   ],
   "source": [
    "!pwd"
   ]
  },
  {
   "cell_type": "code",
   "execution_count": 27,
   "id": "cd7c7c12-6bbf-470e-b764-6920a82925e8",
   "metadata": {},
   "outputs": [
    {
     "name": "stdout",
     "output_type": "stream",
     "text": [
      "업로드 완료\n"
     ]
    }
   ],
   "source": [
    "# 파일 업로드\n",
    "local_path = 'ref/월분기연간인구동향_출생_2025.csv'\n",
    "hdfs_path = '/user/hadoop/월분기연간인구동향_출생_2025.csv'\n",
    "hdfs.upload(hdfs_path, local_path, overwrite = True)\n",
    "print(\"업로드 완료\")"
   ]
  },
  {
   "cell_type": "code",
   "execution_count": 26,
   "id": "ae024e97-68d6-46e9-af28-fb6e7684fe90",
   "metadata": {},
   "outputs": [
    {
     "name": "stdout",
     "output_type": "stream",
     "text": [
      "/user/hadoop/starbucks2.csv 파일이 없습니다\n"
     ]
    }
   ],
   "source": [
    "# 파일 확인\n",
    "hdfs_path = '/user/hadoop/'\n",
    "file_name = 'starbucks2.csv'\n",
    "check = hdfs_path + file_name\n",
    "if hdfs.status(check, strict=False) == None:\n",
    "    print(f\"{check} 파일이 없습니다\")\n",
    "else:\n",
    "    print(hdfs.status(hdfs_path, strict = False))"
   ]
  },
  {
   "cell_type": "code",
   "execution_count": 25,
   "id": "81435308-bc55-49e2-b57b-e5354127a27b",
   "metadata": {},
   "outputs": [
    {
     "name": "stdout",
     "output_type": "stream",
     "text": [
      "삭제되었습니다\n"
     ]
    }
   ],
   "source": [
    "hdfs_path = '/user/hadoop/'\n",
    "del_file = 'starbucks2.csv'\n",
    "full_path = hdfs_path + del_file\n",
    "if hdfs.delete(full_path):\n",
    "    print(\"삭제되었습니다\")\n",
    "else:\n",
    "    if hdfs.status(hdfs_path, strict=False) == None:\n",
    "        print(f\"{full_path} 파일이 없습니다\")"
   ]
  },
  {
   "cell_type": "code",
   "execution_count": 33,
   "id": "25ea65e2-b890-4fa9-95d3-74edfc582463",
   "metadata": {},
   "outputs": [
    {
     "ename": "SyntaxError",
     "evalue": "invalid syntax (3472998039.py, line 1)",
     "output_type": "error",
     "traceback": [
      "\u001b[0;36m  Cell \u001b[0;32mIn[33], line 1\u001b[0;36m\u001b[0m\n\u001b[0;31m    docker run -itd -user root --name zep01 --hostname PKNU --network hdfs_mynet -p 8080:8080 -v /d/code/dockerfile_data:/opt/zeppelin/notebook/data apache/zeppelin:.2.1\u001b[0m\n\u001b[0m           ^\u001b[0m\n\u001b[0;31mSyntaxError\u001b[0m\u001b[0;31m:\u001b[0m invalid syntax\n"
     ]
    }
   ],
   "source": [
    "docker run -itd -user root --name zep01 --hostname PKNU --network hdfs_mynet -p 8080:8080 -v /d/code/dockerfile_data:/opt/zeppelin/notebook/data apache/zeppelin:.2.1"
   ]
  },
  {
   "cell_type": "code",
   "execution_count": null,
   "id": "4f954ef9-0140-4ecc-a083-a7d82d1b8505",
   "metadata": {},
   "outputs": [],
   "source": []
  }
 ],
 "metadata": {
  "kernelspec": {
   "display_name": "Python 3 (ipykernel)",
   "language": "python",
   "name": "python3"
  },
  "language_info": {
   "codemirror_mode": {
    "name": "ipython",
    "version": 3
   },
   "file_extension": ".py",
   "mimetype": "text/x-python",
   "name": "python",
   "nbconvert_exporter": "python",
   "pygments_lexer": "ipython3",
   "version": "3.10.12"
  }
 },
 "nbformat": 4,
 "nbformat_minor": 5
}
