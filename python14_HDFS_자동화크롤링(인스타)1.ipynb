{
 "cells": [
  {
   "cell_type": "code",
   "execution_count": 1,
   "id": "fb0c6ea2-3bc6-43cf-bd36-79c985a6d02a",
   "metadata": {},
   "outputs": [],
   "source": [
    "from selenium import webdriver\n",
    "from selenium.webdriver.common.action_chains import ActionChains\n",
    "from selenium.webdriver.support.ui import Select, WebDriverWait\n",
    "from selenium.webdriver.support import expected_conditions as EC\n",
    "from selenium.webdriver.chrome.service import Service\n",
    "from selenium.webdriver.chrome.options import Options\n",
    "from selenium.webdriver.common.by import By\n",
    "import pandas as pd\n",
    "import time"
   ]
  },
  {
   "cell_type": "code",
   "execution_count": 22,
   "id": "b427b28d-54a9-43e1-8a49-0c58064c6e51",
   "metadata": {},
   "outputs": [
    {
     "name": "stdout",
     "output_type": "stream",
     "text": [
      "Instagram\n",
      "로그인 시도 아이디/비번\n",
      "아이디 및 비번입력 완료\n",
      "확인 및 이동\n",
      "부산여행 검색시작\n"
     ]
    }
   ],
   "source": [
    "# Chrome 옵션 설정\n",
    "options = Options()\n",
    "options.binary_location = \".\\\\chrome-win64\\\\chrome.exe\" # chrome 경로 설정\n",
    "options.add_argument(\"--no-sandbox\") # sandbox 설정\n",
    "# options.add_argument(\"--headless=new\")  # 헤드리스\n",
    "options.add_argument(\"--disable-dev-shm-usage\") # 공유메모리 설정\n",
    "options.add_argument(\"--window-size=1920,1080\") # 화면크기설정 , 반응형 웹 대비\n",
    "options.add_argument(\"--user-agent=Mozilla/5.0 (Windows NT 10.0; Win64; x64) AppleWebKit/537.36 (KHTML, like Gecko) Chrome/113.0.5672.126 Safari/537.36\")\n",
    "# options.add_argument(\"--disable-gpu\") # GPU 비활성화\n",
    "\n",
    "# ChromeDriver 설정\n",
    "service = Service(\"chromedriver.exe\")\n",
    "driver = webdriver.Chrome(service=service, options=options)\n",
    "driver.get(\"https://www.instagram.com/\")  # https://www.opinet.co.kr/searRgSelect.do\n",
    "print(driver.title)\n",
    "time.sleep(3)\n",
    "\n",
    "email = \"azz6min\"\n",
    "password = \"asdf123123\"\n",
    "print(\"로그인 시도 아이디/비번\")\n",
    "\n",
    "# 아이디 기입\n",
    "input_id = driver.find_element(By.CSS_SELECTOR, \"#loginForm > div.x9f619.xjbqb8w.x78zum5.x168nmei.x13lgxp2.x5pf9jr.xo71vjh.xqui205.x1n2onr6.x1plvlek.xryxfnj.x1c4vz4f.x2lah0s.xdt5ytf.xqjyukv.x1qjc9v5.x1oa3qoh.x1nhvcw1 > div:nth-child(1) > div > label > input\")\n",
    "input_id.clear()\n",
    "time.sleep(1)\n",
    "input_id.send_keys(email)\n",
    "time.sleep(2)\n",
    "\n",
    "# 비밀번호 기입\n",
    "input_pw = driver.find_element(By.CSS_SELECTOR, \"#loginForm > div.x9f619.xjbqb8w.x78zum5.x168nmei.x13lgxp2.x5pf9jr.xo71vjh.xqui205.x1n2onr6.x1plvlek.xryxfnj.x1c4vz4f.x2lah0s.xdt5ytf.xqjyukv.x1qjc9v5.x1oa3qoh.x1nhvcw1 > div:nth-child(2) > div > label > input\")\n",
    "input_pw.clear()\n",
    "# time.sleep(1)\n",
    "input_pw.send_keys(password)\n",
    "time.sleep(2)\n",
    "print(\"아이디 및 비번입력 완료\")\n",
    "\n",
    "# 확인 및 이동\n",
    "submit = driver.find_element(By.CSS_SELECTOR, \"#loginForm > div.x9f619.xjbqb8w.x78zum5.x168nmei.x13lgxp2.x5pf9jr.xo71vjh.xqui205.x1n2onr6.x1plvlek.xryxfnj.x1c4vz4f.x2lah0s.xdt5ytf.xqjyukv.x1qjc9v5.x1oa3qoh.x1nhvcw1 > div:nth-child(3) > button\")\n",
    "submit.click()\n",
    "print(\"확인 및 이동\")\n",
    "time.sleep(4)\n",
    "\n",
    "try:\n",
    "    popup = driver.find_element(By.CSS_SELECTOR, \"\")\n",
    "    popup.click()\n",
    "    time.sleep(3)\n",
    "except:\n",
    "    pass\n",
    "\n",
    "def insta_search(inword):\n",
    "    url = f\"https://www.instagram.com/explore/search/ketword/?q={inword}\"\n",
    "    return url\n",
    "word = \"부산여행\"\n",
    "url = insta_search(word)\n",
    "driver.get(url)\n",
    "print(f\"{word} 검색시작\")\n",
    "time.sleep(10)"
   ]
  },
  {
   "cell_type": "code",
   "execution_count": null,
   "id": "72ef5997-f307-4979-ad84-35cee17c2161",
   "metadata": {},
   "outputs": [],
   "source": [
    "time.sleep(5)\n",
    "select_box1 = driver.find_element(By.CSS_SELECTOR, \"\")\n",
    "select_box1.click()\n",
    "print(\"첫카드 클릭\")\n",
    "time.sleep(5)\n",
    "\n",
    "html = driver.page_source\n",
    "soup = bs(html, 'html_parser')\n",
    "# 1. 본문내용 가져오기\n",
    "content = soup.select_one('div._a9zr').get_text()\n",
    "print(\"본문내용\", content)"
   ]
  },
  {
   "cell_type": "code",
   "execution_count": 20,
   "id": "004dc5c7-9be2-4cf7-a087-24d9392acb6e",
   "metadata": {},
   "outputs": [],
   "source": [
    "service.stop()"
   ]
  },
  {
   "cell_type": "code",
   "execution_count": null,
   "id": "b3e437ed-eed6-4f73-8cfc-a490c89a1ecd",
   "metadata": {},
   "outputs": [],
   "source": []
  }
 ],
 "metadata": {
  "kernelspec": {
   "display_name": "Python 3 (ipykernel)",
   "language": "python",
   "name": "python3"
  },
  "language_info": {
   "codemirror_mode": {
    "name": "ipython",
    "version": 3
   },
   "file_extension": ".py",
   "mimetype": "text/x-python",
   "name": "python",
   "nbconvert_exporter": "python",
   "pygments_lexer": "ipython3",
   "version": "3.13.1"
  }
 },
 "nbformat": 4,
 "nbformat_minor": 5
}
