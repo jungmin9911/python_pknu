{
 "cells": [
  {
   "cell_type": "code",
   "execution_count": null,
   "id": "f748372d-91eb-4bb3-b157-f37a46ff5780",
   "metadata": {},
   "outputs": [],
   "source": [
    "import mysql.connector\n",
    "\n",
    "try:\n",
    "    conn1 = mysql.connector.connect(\n",
    "        host = \"mysql\",  # MySQL 서버주소\n",
    "        user = \"root\",\n",
    "        password = \"1234\"\n",
    "    )\n",
    "    conn2 = mysql.connector.connect(\n",
    "        host = \"210.119.14.65\",  # MySQL 서버주소\n",
    "        user = \"root\",\n",
    "        password = \"1234\"\n",
    "    )\n",
    "    if conn1.is_connected():\n",
    "        print(\"MySQL 서버1에 성공적으로 연결되었습니다.\")\n",
    "    if conn2.is_connected():\n",
    "        print(\"MySQL 서버2에 성공적으로 연결되었습니다.\")\n",
    "except mysql.connector.Error as err:\n",
    "    print(\"MySQL 연결 실패 : \", err)\n",
    "finally:\n",
    "    if all([conn1.is_connected(), conn2.is_connected()]):\n",
    "        print(\"연결중...\")"
   ]
  },
  {
   "cell_type": "code",
   "execution_count": 22,
   "id": "8d63bcaa-1ee0-4b00-8818-2d9a3798d2ee",
   "metadata": {},
   "outputs": [],
   "source": [
    "# 커서 생성\n",
    "cursor1 = conn1.cursor()\n",
    "cursor2 = conn2.cursor()\n",
    "que = \"CREATE DATABASE IF NOT EXISTS jmdb\"\n",
    "cursor1.execute(que)\n",
    "cursor2.execute(que)\n",
    "conn1.close()\n",
    "conn2.close()"
   ]
  },
  {
   "cell_type": "code",
   "execution_count": 23,
   "id": "a1e13059-4def-45f4-9572-c4b89748074d",
   "metadata": {},
   "outputs": [
    {
     "name": "stdout",
     "output_type": "stream",
     "text": [
      "MySQL 연결 성공\n"
     ]
    }
   ],
   "source": [
    "# MySQL에 연결\n",
    "conn1 = mysql.connector.connect(\n",
    "        host = \"mysql\",\n",
    "        user = \"root\",\n",
    "        password = \"1234\",\n",
    "        database = \"jmdb\"    # 사용할 데이터 베이스\n",
    "    )\n",
    "conn2 = mysql.connector.connect(\n",
    "        host = \"mysql\",\n",
    "        user = \"root\",\n",
    "        password = \"1234\",\n",
    "        database = \"jmdb\"    # 사용할 데이터 베이스\n",
    "    )\n",
    "cursor1 = conn1.cursor()\n",
    "cursor2 = conn2.cursor()\n",
    "print(\"MySQL 연결 성공\")"
   ]
  },
  {
   "cell_type": "code",
   "execution_count": 31,
   "id": "926bcc21-9d3f-42c3-a649-4367dff42468",
   "metadata": {},
   "outputs": [
    {
     "name": "stdout",
     "output_type": "stream",
     "text": [
      "테이블 생성완료\n"
     ]
    }
   ],
   "source": [
    "# 테이블 생성\n",
    "query = \"CREATE TABLE IF NOT EXISTS user(id INT AUTO_INCREMENT PRIMARY KEY, name VARCHAR(50), age INT, city VARCHAR(50))\"\n",
    "cursor1.execute(query)\n",
    "cursor2.execute(query)\n",
    "print(\"테이블 생성완료\")"
   ]
  },
  {
   "cell_type": "code",
   "execution_count": null,
   "id": "7b8540b9-f549-4e5b-92e6-a0d2ac984296",
   "metadata": {},
   "outputs": [],
   "source": [
    "# 여러개의 데이터 삽입\n",
    "sql = \"INSERT INTO user (name, age, city) VALUES (%s, %s, %s)\"\n",
    "m_values = [(\"최우식\", 36, \"서울\"), (\"차은우\", 29, \"서울\")]\n",
    "cursor1.executemany(sql, m_values)\n",
    "cursor2.executemany(sql, m_values)\n",
    "conn1.commit()\n",
    "conn2.commit()\n",
    "print(\"여러 개의 데이터 삽입 완료 !\")"
   ]
  },
  {
   "cell_type": "code",
   "execution_count": 33,
   "id": "361127a6-2d3d-467d-8cab-df089eaf80a0",
   "metadata": {},
   "outputs": [
    {
     "name": "stdout",
     "output_type": "stream",
     "text": [
      "----서버1의 내용----\n",
      "(1, '최우식', 36, '서울')\n",
      "(2, '차은우', 29, '서울')\n",
      "(3, '최우식', 36, '서울')\n",
      "(4, '차은우', 29, '서울')\n",
      "----서버2의 내용----\n",
      "(1, '최우식', 36, '서울')\n",
      "(2, '차은우', 29, '서울')\n",
      "(3, '최우식', 36, '서울')\n",
      "(4, '차은우', 29, '서울')\n"
     ]
    }
   ],
   "source": [
    "# 모든 데이터 조회\n",
    "que = \"SELECT * FROM user\"\n",
    "cursor1.execute(que)\n",
    "users1 = cursor1.fetchall()\n",
    "cursor2.execute(que)\n",
    "users2 = cursor2.fetchall()\n",
    "\n",
    "# print(users)\n",
    "print(\"----서버1의 내용----\")\n",
    "for user1 in users1:\n",
    "    print(user1)\n",
    "print(\"----서버2의 내용----\")\n",
    "for user2 in users2:\n",
    "    print(user2)"
   ]
  },
  {
   "cell_type": "code",
   "execution_count": 13,
   "id": "23017b9e-52e0-4052-81a3-429201140436",
   "metadata": {},
   "outputs": [],
   "source": [
    "# # 특정 사용자 삭제\n",
    "# que = \"DELETE FROM users\"\n",
    "# cursor1.execute(que, )\n",
    "# conn1.commit()\n",
    "# cursor2.execute(que, )\n",
    "# conn2.commit()\n",
    "# print(\"목록을 삭제하였습니다.\")"
   ]
  },
  {
   "cell_type": "code",
   "execution_count": null,
   "id": "f9ed4122-bcdd-477c-9bd1-b1fb38bb0b02",
   "metadata": {},
   "outputs": [],
   "source": []
  },
  {
   "cell_type": "code",
   "execution_count": null,
   "id": "40e7ab42-9e7a-4f87-a617-6e66f7f2e0d0",
   "metadata": {},
   "outputs": [],
   "source": []
  }
 ],
 "metadata": {
  "kernelspec": {
   "display_name": "Python 3 (ipykernel)",
   "language": "python",
   "name": "python3"
  },
  "language_info": {
   "codemirror_mode": {
    "name": "ipython",
    "version": 3
   },
   "file_extension": ".py",
   "mimetype": "text/x-python",
   "name": "python",
   "nbconvert_exporter": "python",
   "pygments_lexer": "ipython3",
   "version": "3.10.12"
  }
 },
 "nbformat": 4,
 "nbformat_minor": 5
}
