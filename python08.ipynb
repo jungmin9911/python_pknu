{
 "cells": [
  {
   "cell_type": "markdown",
   "id": "ed3d3e1d-a759-4aea-b075-eaa3fa09efaa",
   "metadata": {},
   "source": [
    "# 외부 라이브러리"
   ]
  },
  {
   "cell_type": "markdown",
   "id": "145c09ce-4ac1-43bf-8e03-b4bc4f4d43bd",
   "metadata": {},
   "source": [
    "## pip ★"
   ]
  },
  {
   "cell_type": "code",
   "execution_count": 1,
   "id": "c24b1b95-fefb-400d-bb29-633fb9211fab",
   "metadata": {},
   "outputs": [],
   "source": [
    "# pip install 패키지명\n",
    "# pip list - 설치된 패키지 목록\n",
    "# pip uninstall 패키지명"
   ]
  },
  {
   "cell_type": "markdown",
   "id": "f032a803-f581-4d3e-9d19-e99fad9bdb51",
   "metadata": {},
   "source": [
    "## Faker"
   ]
  },
  {
   "cell_type": "code",
   "execution_count": 4,
   "id": "1e77405b-6603-4092-ae06-aaf4cc5ca570",
   "metadata": {},
   "outputs": [],
   "source": [
    "# !pip install Faker"
   ]
  },
  {
   "cell_type": "code",
   "execution_count": 128,
   "id": "786e175c-bc65-4e4c-a972-19ee434b0945",
   "metadata": {},
   "outputs": [
    {
     "data": {
      "text/plain": [
       "[{'이름': '오영일', '직업': '건설 및 광업기계 설치 및 정비원', 'phone': '055-892-0123'},\n",
       " {'이름': '박영일', '직업': '조세행정 사무원', 'phone': '032-485-2782'},\n",
       " {'이름': '오승현', '직업': '건설 및 광업 관련 관리자', 'phone': '018-498-2057'},\n",
       " {'이름': '최영숙', '직업': '경영 및 진단 전문가', 'phone': '017-796-7207'},\n",
       " {'이름': '김영자', '직업': '사회복지관련 관리자', 'phone': '052-182-2827'},\n",
       " {'이름': '박정식', '직업': '성직자', 'phone': '041-251-5021'},\n",
       " {'이름': '이영식', '직업': '기타 사회복지관련 종사원', 'phone': '064-740-5267'},\n",
       " {'이름': '김은정', '직업': '수의사', 'phone': '051-716-6582'},\n",
       " {'이름': '김서준', '직업': '대학 교육조교', 'phone': '010-7745-9613'},\n",
       " {'이름': '박민서', '직업': '중식 주방장 및 조리사', 'phone': '017-410-5066'}]"
      ]
     },
     "execution_count": 128,
     "metadata": {},
     "output_type": "execute_result"
    }
   ],
   "source": [
    "from faker import Faker\n",
    "fake = Faker('ko-KR')\n",
    "[{'이름':fake.name(), '직업':fake.job(), 'phone':fake.phone_number()} for n in range(10)]"
   ]
  },
  {
   "cell_type": "markdown",
   "id": "6017eb7a-10d0-4abc-9a5d-00781998bb36",
   "metadata": {},
   "source": [
    "<table>\n",
    "<thead>\n",
    "<tr>\n",
    "<th>항목</th>\n",
    "<th>설명</th>\n",
    "</tr>\n",
    "</thead>\n",
    "<tbody>\n",
    "<tr>\n",
    "<td>fake.name()</td>\n",
    "<td>이름</td>\n",
    "</tr>\n",
    "<tr>\n",
    "<td>fake.address()</td>\n",
    "<td>주소</td>\n",
    "</tr>\n",
    "<tr>\n",
    "<td>fake.postcode()</td>\n",
    "<td>우편 번호</td>\n",
    "</tr>\n",
    "<tr>\n",
    "<td>fake.country()</td>\n",
    "<td>국가명</td>\n",
    "</tr>\n",
    "<tr>\n",
    "<td>fake.company()</td>\n",
    "<td>회사명</td>\n",
    "</tr>\n",
    "<tr>\n",
    "<td>fake.job()</td>\n",
    "<td>직업명</td>\n",
    "</tr>\n",
    "<tr>\n",
    "<td>fake.phone_number()</td>\n",
    "<td>휴대전화 번호</td>\n",
    "</tr>\n",
    "<tr>\n",
    "<td>fake.email()</td>\n",
    "<td>이메일 주소</td>\n",
    "</tr>\n",
    "<tr>\n",
    "<td>fake.user_name()</td>\n",
    "<td>사용자명</td>\n",
    "</tr>\n",
    "<tr>\n",
    "<td>fake.pyint(min_value=0, max_value=100)</td>\n",
    "<td>0부터 100 사이의 임의의 숫자</td>\n",
    "</tr>\n",
    "<tr>\n",
    "<td>fake.ipv4_private()</td>\n",
    "<td>IP 주소</td>\n",
    "</tr>\n",
    "<tr>\n",
    "<td>fake.text()</td>\n",
    "<td>임의의 문장 (한글 임의의 문장은 <code>fake.catch_phrase()</code> 사용)</td>\n",
    "</tr>\n",
    "<tr>\n",
    "<td>fake.color_name()</td>\n",
    "<td>색상명</td>\n",
    "</tr>\n",
    "</tbody>\n",
    "</table>"
   ]
  },
  {
   "cell_type": "code",
   "execution_count": 148,
   "id": "e22fb7cb-f9bf-44a0-99d5-93348b742524",
   "metadata": {},
   "outputs": [
    {
     "name": "stdout",
     "output_type": "stream",
     "text": [
      "1위:  REBEL HEART / IVE (아이브)\n"
     ]
    }
   ],
   "source": [
    "# 멜론 차트 뽑기 (1위만)\n",
    "import requests as req\n",
    "from bs4 import BeautifulSoup as bs\n",
    "url = \"https://www.melon.com/chart/index.htm\"\n",
    "headers ={'User-Agent':'Mozilla/5.0 (Windows NT 10.0; Win64; x64) AppleWebKit/537.36 (KHTML, like Gecko) Chrome/133.0.0.0 Safari/537.36'}\n",
    "web = req.get(url, headers = headers)\n",
    "soup = bs(web.content, 'html.parser')\n",
    "\n",
    "title = soup.select_one('.wrap_song_info')\n",
    "atitle = title.select_one('a')\n",
    "\n",
    "name = title.select_one('.checkEllipsis')\n",
    "aname = name.select_one('a')\n",
    "print(\"1위: \", atitle.text, '/', aname.text)"
   ]
  },
  {
   "cell_type": "code",
   "execution_count": 151,
   "id": "b837b61d-9192-4d28-af37-9cdc17eb209b",
   "metadata": {},
   "outputs": [
    {
     "name": "stdout",
     "output_type": "stream",
     "text": [
      "1위: REBEL HEART / IVE (아이브)\n",
      "2위: HOME SWEET HOME (feat. 태양, 대성) / G-DRAGON\n",
      "3위: 나는 반딧불 / 황가람\n",
      "4위: Whiplash / aespa\n",
      "5위: APT. / 로제 (ROSÉ)\n",
      "6위: 오늘만 I LOVE YOU / Bruno Mars\n",
      "7위: Drowning / BOYNEXTDOOR\n",
      "8위: ATTITUDE / WOODZ\n",
      "9위: toxic till the end / IVE (아이브)\n",
      "10위: Dash / 로제 (ROSÉ)\n",
      "11위: POWER / PLAVE\n",
      "12위: HAPPY / G-DRAGON\n",
      "13위: 내게 사랑이 뭐냐고 물어본다면 / DAY6 (데이식스)\n",
      "14위: RIZZ / 로이킴\n",
      "15위: DRIP / PLAVE\n",
      "16위: Chroma Drift / BABYMONSTER\n",
      "17위: Island / PLAVE\n",
      "18위: 소나기 / PLAVE\n",
      "19위: 12:32 (A to T) / 이클립스 (ECLIPSE)\n",
      "20위: 너와의 모든 지금 / PLAVE\n",
      "\n"
     ]
    }
   ],
   "source": [
    "# 멜론 차트 뽑기 (20위까지)\n",
    "import requests as req\n",
    "from bs4 import BeautifulSoup as bs\n",
    "url = \"https://www.melon.com/chart/index.htm\"\n",
    "headers ={'User-Agent':'Mozilla/5.0 (Windows NT 10.0; Win64; x64) AppleWebKit/537.36 (KHTML, like Gecko) Chrome/133.0.0.0 Safari/537.36'}\n",
    "web = req.get(url, headers = headers)\n",
    "soup = bs(web.content, 'html.parser')\n",
    "\n",
    "title = soup.select('.rank01')[:20]\n",
    "name = soup.select('.checkEllipsis a')[:20]\n",
    "str = ''\n",
    "for i, (t, n) in enumerate(zip(title,name),1):\n",
    "    str += f\"{i}위: {t.text.strip()} / {n.text}\\n\"\n",
    "print(str)"
   ]
  },
  {
   "cell_type": "code",
   "execution_count": 33,
   "id": "12897e1f-4c63-41e4-8e46-f8883a769615",
   "metadata": {},
   "outputs": [],
   "source": [
    "# !pip install html5lib"
   ]
  },
  {
   "cell_type": "code",
   "execution_count": 19,
   "id": "61b4f83f-7db9-4ecb-8183-e88053febfb4",
   "metadata": {},
   "outputs": [
    {
     "name": "stdout",
     "output_type": "stream",
     "text": [
      "================\n",
      "월 2025.02.17\n",
      "----------------\n",
      "정식-5,500원 \n",
      "강황밥\n",
      "김치콩나물국\n",
      "돈육바싹불고기\n",
      "모듬잡채\n",
      "멸치새우견과볶음\n",
      "상추겉절이\n",
      "포기김치\n",
      "\n",
      "================\n",
      "화 2025.02.18\n",
      "----------------\n",
      "정식-5,500원 \n",
      "백미밥\n",
      "물만두국\n",
      "순살닭매콤조림\n",
      "쫄면야채무침\n",
      "파래무무침\n",
      "참나물겉절이\n",
      "포기김치\n",
      "\n",
      "================\n",
      "수 2025.02.19\n",
      "----------------\n",
      "정식-5,500원 \n",
      "백미밥\n",
      "모듬어묵국\n",
      "함박스테이크/치즈/소스\n",
      "스파게티/소스\n",
      "치커리유자청샐러드\n",
      "콩나물무침\n",
      "포기김치\n",
      "\n",
      "================\n",
      "목 2025.02.20\n",
      "----------------\n",
      "정식-5,500원 \n",
      "잡곡밥\n",
      "홍합미역국\n",
      "순살치킨/맛초킹소스\n",
      "꼬시레기두부무침\n",
      "잡채어묵조림\n",
      "상추겉절이\n",
      "포기김치\n",
      "\n",
      "================\n",
      "금 2025.02.21\n",
      "----------------\n",
      "정식-5,500원 \n",
      "백미밥\n",
      "국수\n",
      "깐풍기/소스\n",
      "알감자버터구이\n",
      "도토리묵김치무침\n",
      "열무겉절이\n",
      "포기김치\n",
      "\n"
     ]
    }
   ],
   "source": [
    "# 부산대 식단\n",
    "import requests as req\n",
    "from bs4 import BeautifulSoup as bs\n",
    "url = \"https://www.pusan.ac.kr/kor/CMS/MenuMgr/menuListOnBuilding.do?mCode=MN202\"\n",
    "headers ={'User-Agent':'Mozilla/5.0 (Windows NT 10.0; Win64; x64) AppleWebKit/537.36 (KHTML, like Gecko) Chrome/133.0.0.0 Safari/537.36'}\n",
    "web = req.get(url, headers = headers)\n",
    "soup = bs(web.content, 'html5lib')\n",
    "menucard = soup.select('.menu-tbl')\n",
    "won = soup.select('.menu-tit01')\n",
    "menu = soup.select('h3.menu-tit01+p')\n",
    "day = soup.select('.day')\n",
    "date = soup.select('.date')\n",
    "for d, dd, w, m in zip(day, date, won, menu):\n",
    "    print(\"=\"*16)\n",
    "    print(d.text, dd.text)\n",
    "    print(\"-\"*16)\n",
    "    print(w.text, \"\\n\" + m.text)"
   ]
  },
  {
   "cell_type": "code",
   "execution_count": 86,
   "id": "74588635-77b4-4b02-9c68-1b0ce8c0dbf6",
   "metadata": {},
   "outputs": [
    {
     "name": "stdout",
     "output_type": "stream",
     "text": [
      "1 삼성전자 58,400\n",
      "2 SK하이닉스 216,000\n",
      "3 LG에너지솔루션 372,500\n",
      "4 삼성바이오로직스 1,136,000\n",
      "5 현대차 202,000\n",
      "6 삼성전자우 49,150\n",
      "7 셀트리온 180,500\n",
      "8 기아 93,900\n",
      "9 NAVER 219,500\n",
      "10 KB금융 82,300\n",
      "\n"
     ]
    }
   ],
   "source": [
    "# 주식 차트 뽑기\n",
    "import requests as req\n",
    "from bs4 import BeautifulSoup as bs\n",
    "url = \"https://finance.naver.com/sise/sise_market_sum.naver\"\n",
    "headers ={'User-Agent':'Mozilla/5.0 (Windows NT 10.0; Win64; x64) AppleWebKit/537.36 (KHTML, like Gecko) Chrome/133.0.0.0 Safari/537.36'}\n",
    "web = req.get(url, headers = headers)\n",
    "soup = bs(web.content, 'html.parser')\n",
    "title = soup.select('a.tltle')[:10]\n",
    "money = soup.select('td.number:nth-child(3)')[:10]\n",
    "str = ''\n",
    "for i, (t, m) in enumerate(zip(title, money), 1):\n",
    "    str += f\"{i} {t.text.strip()} {m.text.strip()}\\n\"\n",
    "print(str)"
   ]
  },
  {
   "cell_type": "code",
   "execution_count": 80,
   "id": "2159472a-1db5-4d0a-a587-4c6eb4d79584",
   "metadata": {},
   "outputs": [
    {
     "name": "stdout",
     "output_type": "stream",
     "text": [
      "1위: 미키 17\n",
      "2위: 캡틴 아메리카: 브레이브 뉴 월드\n",
      "3위: 그 시절, 우리가 좋아했던 소녀\n",
      "4위: 퇴마록\n",
      "5위: 패딩턴: 페루에 가다!\n",
      "6위: 써니데이\n",
      "7위: 괜찮아 괜찮아 괜찮아!\n",
      "8위: 백수아파트\n",
      "9위: 브루탈리스트\n",
      "10위: 말할 수 없는 비밀\n",
      "11위: 첫 번째 키스\n",
      "12위: 서브스턴스\n",
      "13위: 엘리: 몬스터 패밀리\n",
      "14위: 히트맨2\n",
      "15위: 히어\n",
      "16위: 명탐정 코난: 14번째 표적\n",
      "17위: 은혼 일국경성편 온 씨어터\n",
      "18위: 컴플리트 언노운\n",
      "19위: 검은 수녀들\n",
      "20위: 데드데드 데몬즈 디디디디 디스트럭션: 파트2\n",
      "\n"
     ]
    }
   ],
   "source": [
    "# 영화 순위 뽑기\n",
    "import requests as req\n",
    "from bs4 import BeautifulSoup as bs\n",
    "url = \"https://m.moviechart.co.kr/rank/realtime/index/image\"\n",
    "headers ={'User-Agent':'Mozilla/5.0 (Windows NT 10.0; Win64; x64) AppleWebKit/537.36 (KHTML, like Gecko) Chrome/133.0.0.0 Safari/537.36'}\n",
    "web = req.get(url, headers = headers)\n",
    "soup = bs(web.content, 'html.parser')\n",
    "title = soup.select('.movie-title h3 a')\n",
    "str = ''\n",
    "for i, (t) in enumerate(title, 1):\n",
    "    str += f\"{i}위: {t.text.strip()}\\n\"\n",
    "print(str)"
   ]
  },
  {
   "cell_type": "code",
   "execution_count": 9,
   "id": "9a562ee5-9df2-469c-b01f-393238ff9090",
   "metadata": {},
   "outputs": [],
   "source": [
    "# !pip install python-telegram-bot\n",
    "# !pip install asyncio\n",
    "# !pip install dotenv"
   ]
  },
  {
   "cell_type": "code",
   "execution_count": 6,
   "id": "87000e44-cee9-48b4-92a1-7a44a3157fa8",
   "metadata": {},
   "outputs": [
    {
     "name": "stdout",
     "output_type": "stream",
     "text": [
      "okokokok\n"
     ]
    }
   ],
   "source": [
    "import asyncio \n",
    "import nest_asyncio #주피터랩용 \n",
    "from dotenv import load_dotenv\n",
    "import os\n",
    "\n",
    "from telegram import Update\n",
    "from telegram.ext import Application, CommandHandler, MessageHandler, filters, CallbackContext\n",
    "nest_asyncio.apply() #주피터랩용 \n",
    "load_dotenv()\n",
    "TELEGRAM_TOKEN =os.getenv(\"TELEGRAM_TOKEN\")\n",
    "\n",
    "\n",
    "# async def hello(update: Update, context: ContextTypes.DEFAULT_TYPE) -> None:\n",
    "#     await update.message.reply_text(f'Hello {update.effective_user.first_name}')\n",
    "\n",
    "# app = ApplicationBuilder().token(\"TELEGRAM_TOKEN\").build()\n",
    "\n",
    "# app.add_handler(CommandHandler(\"hello\", hello))\n",
    "\n",
    "# app.run_polling()\n",
    "\n",
    "print(TELEGRAM_TOKEN)"
   ]
  },
  {
   "cell_type": "code",
   "execution_count": null,
   "id": "82584dc6-f469-4e04-b76b-0866b7e87bbd",
   "metadata": {},
   "outputs": [],
   "source": [
    "import asyncio\n",
    "import nest_asyncio # 주피터랩용\n",
    "from dotenv import load_dotenv\n",
    "import os\n",
    "# .env 파일 로드\n",
    "load_dotenv()\n",
    "\n",
    "from telegram import Update\n",
    "from telegram.ext import Application, CommandHandler, MessageHandler, filters, CallbackContext\n",
    "nest_asyncio.apply() # 주피터랩용\n",
    "\n",
    "TELEGRAM_TOKEN =os.getenv(\"TELEGRAM_TOKEN\")\n",
    "async def start( update, context):\n",
    "    await context.bot.send_message(chat_id=update.effective_chat.id, text=\"봇이 가동되었습니다!\")\n",
    "\n",
    "async def handle_message(update , context ):\n",
    "    user_message = update.message.text.lower()  # Text -> text\n",
    "\n",
    "    if \"선생님\" in user_message:\n",
    "        response = \"수업열심히 해봅시다!\"\n",
    "    elif \"날씨\" in user_message:\n",
    "        response = \"오늘은 추워요~~\"\n",
    "    print(response)\n",
    "\n",
    "    #응답 메세지 전송\n",
    "    await context.bot.send_message(chat_id=update.effective_chat.id, text=response)\n",
    "\n",
    "async def main():\n",
    "    application = Application.builder().token(TELEGRAM_TOKEN).build()\n",
    "    await application.initialize() # 초기화 필수\n",
    "\n",
    "    # 핸들러 추가\n",
    "    application.add_handler(CommandHandler(\"start\", start))\n",
    "    application.add_handler(MessageHandler(filters.TEXT & ~filters.COMMAND, handle_message))\n",
    "    \n",
    "    await application.start()\n",
    "    print(\"봇이 실행중 입니다.\")\n",
    "\n",
    "    # await application.updater.start_polling()\n",
    "    application.run_polling()\n",
    "\n",
    "if __name__ == \"__main__\":\n",
    "    asyncio.run(main()"
   ]
  },
  {
   "cell_type": "code",
   "execution_count": 10,
   "id": "ea9208f2-5c61-4d1d-8814-ed7f5d032dd2",
   "metadata": {},
   "outputs": [
    {
     "name": "stdout",
     "output_type": "stream",
     "text": [
      "□  (종합) 대기 매우 건조, 기온 낮아 춥겠음, 강풍 및 풍랑 유의\n",
      "○  (오늘, 21일) 구름많다가 오후에 맑아짐\n",
      "○  (내일, 22일) 대체로 맑음\n",
      "○  (모레, 23일) 대체로 맑겠으나, 경남서부내륙 가끔 구름많음\n",
      "○  (글피, 24일) 대체로 맑음\n"
     ]
    }
   ],
   "source": [
    "import requests as req\n",
    "from bs4 import BeautifulSoup as bs  # 정적 웹사이트용\n",
    "url = \"https://www.weather.go.kr/w/weather/forecast/short-term.do?stnId=159\"\n",
    "web = req.get(url)\n",
    "soup = bs(web.content, 'html.parser')\n",
    "summary = soup.select(\"p.summary\")  # 배열로 가져옴\n",
    "for s in summary:\n",
    "    print(s.text.replace('○', '\\n○'))"
   ]
  },
  {
   "cell_type": "code",
   "execution_count": 42,
   "id": "6d845064-339e-4631-9264-cc444b8f1716",
   "metadata": {},
   "outputs": [
    {
     "name": "stdout",
     "output_type": "stream",
     "text": [
      "예보요소: 최저기온 / 최고기온\n",
      "평년(오늘): -5.1 ~ 2.1 / 9.0 ~ 11.7\n",
      "어제(20일): -9.7 ~ -2.0 / 4.4 ~ 8.8\n",
      "오늘(21일): - / 3 ~ 7\n",
      "내일(22일): -7 ~ -3 / 4 ~ 7\n",
      "모레(23일): -8 ~ -3 / 1 ~ 5\n",
      "글피(24일): -9 ~ -4 / 5 ~ 8\n"
     ]
    }
   ],
   "source": [
    "table = soup.select(\".table-col\")[0]\n",
    "data = table.select('tr')\n",
    "header = data[0].select('th')\n",
    "line1 = ['최저기온'] + data[1].select('td')\n",
    "line2 = ['최고기온'] + data[2].select('td')\n",
    "raw_data = []\n",
    "for h, l1, l2 in zip(header, line1, line2):\n",
    "    try:\n",
    "        out = h.text + \": \" + l1.text + \" / \" + l2.text\n",
    "    except:\n",
    "        out = h.text + \": \" + l1 + \" / \" + l2\n",
    "    finally:\n",
    "        print(out)\n",
    "        raw_data.append(out)"
   ]
  },
  {
   "cell_type": "code",
   "execution_count": 33,
   "id": "d389d91b-fe2a-434a-b0c5-def95e031635",
   "metadata": {},
   "outputs": [],
   "source": [
    "# !pip install pandas"
   ]
  },
  {
   "cell_type": "code",
   "execution_count": 57,
   "id": "b7f1d1b3-a3b3-4799-8790-e80435b92aee",
   "metadata": {},
   "outputs": [],
   "source": [
    "import pandas as pd\n",
    "# print(raw_data)\n",
    "parsed_data = []\n",
    "for entry in raw_data[1:]:\n",
    "    data, temps = (entry.split(\":\"))\n",
    "    low_temp, high_temp = temps.split('/')\n",
    "    parsed_data.append([data.strip(), low_temp.strip(), high_temp.strip()])\n",
    "# 데이터프레임 생성\n",
    "df = pd.DataFrame(parsed_data, columns=[\"날짜\", \"최저기온\", \"최고기온\"])\n",
    "# df.to_csv('weather.csv', index=False, encoding='utf-8-sig')\n",
    "df.to_csv('weather_x.csv', index=False, encoding='utf-8-sig')"
   ]
  },
  {
   "cell_type": "code",
   "execution_count": 62,
   "id": "cebdec4e-3ad1-42ef-9101-b653a1a2931c",
   "metadata": {},
   "outputs": [
    {
     "data": {
      "text/html": [
       "<div>\n",
       "<style scoped>\n",
       "    .dataframe tbody tr th:only-of-type {\n",
       "        vertical-align: middle;\n",
       "    }\n",
       "\n",
       "    .dataframe tbody tr th {\n",
       "        vertical-align: top;\n",
       "    }\n",
       "\n",
       "    .dataframe thead th {\n",
       "        text-align: right;\n",
       "    }\n",
       "</style>\n",
       "<table border=\"1\" class=\"dataframe\">\n",
       "  <thead>\n",
       "    <tr style=\"text-align: right;\">\n",
       "      <th></th>\n",
       "      <th>날짜</th>\n",
       "      <th>최저기온</th>\n",
       "      <th>최고기온</th>\n",
       "    </tr>\n",
       "  </thead>\n",
       "  <tbody>\n",
       "    <tr>\n",
       "      <th>0</th>\n",
       "      <td>평년(오늘)</td>\n",
       "      <td>-5.1 ~ 2.1</td>\n",
       "      <td>9.0 ~ 11.7</td>\n",
       "    </tr>\n",
       "    <tr>\n",
       "      <th>1</th>\n",
       "      <td>어제(20일)</td>\n",
       "      <td>-9.7 ~ -2.0</td>\n",
       "      <td>4.4 ~ 8.8</td>\n",
       "    </tr>\n",
       "    <tr>\n",
       "      <th>2</th>\n",
       "      <td>오늘(21일)</td>\n",
       "      <td>-</td>\n",
       "      <td>3 ~ 7</td>\n",
       "    </tr>\n",
       "    <tr>\n",
       "      <th>3</th>\n",
       "      <td>내일(22일)</td>\n",
       "      <td>-7 ~ -3</td>\n",
       "      <td>4 ~ 7</td>\n",
       "    </tr>\n",
       "    <tr>\n",
       "      <th>4</th>\n",
       "      <td>모레(23일)</td>\n",
       "      <td>-8 ~ -3</td>\n",
       "      <td>1 ~ 5</td>\n",
       "    </tr>\n",
       "    <tr>\n",
       "      <th>5</th>\n",
       "      <td>글피(24일)</td>\n",
       "      <td>-9 ~ -4</td>\n",
       "      <td>5 ~ 8</td>\n",
       "    </tr>\n",
       "  </tbody>\n",
       "</table>\n",
       "</div>"
      ],
      "text/plain": [
       "        날짜          최저기온         최고기온\n",
       "0   평년(오늘)   -5.1 ~ 2.1    9.0 ~ 11.7\n",
       "1  어제(20일)  -9.7 ~ -2.0     4.4 ~ 8.8\n",
       "2  오늘(21일)            -         3 ~ 7\n",
       "3  내일(22일)      -7 ~ -3         4 ~ 7\n",
       "4  모레(23일)      -8 ~ -3         1 ~ 5\n",
       "5  글피(24일)      -9 ~ -4         5 ~ 8"
      ]
     },
     "execution_count": 62,
     "metadata": {},
     "output_type": "execute_result"
    }
   ],
   "source": [
    "df = pd.DataFrame([entry.split(':')[0].strip(), *entry.split(':')[1].strip().split('/')] for entry in raw_data[1:])\n",
    "# df = pd.DataFrame(parsed_data, columns=[\"날짜\", \"최저기온\", \"최고기온\"])\n",
    "df.columns=[\"날짜\", \"최저기온\", \"최고기온\"]\n",
    "df"
   ]
  },
  {
   "cell_type": "code",
   "execution_count": null,
   "id": "164330e4-7c2f-4112-b6d9-1486a76c18c9",
   "metadata": {},
   "outputs": [],
   "source": []
  }
 ],
 "metadata": {
  "kernelspec": {
   "display_name": "Python 3 (ipykernel)",
   "language": "python",
   "name": "python3"
  },
  "language_info": {
   "codemirror_mode": {
    "name": "ipython",
    "version": 3
   },
   "file_extension": ".py",
   "mimetype": "text/x-python",
   "name": "python",
   "nbconvert_exporter": "python",
   "pygments_lexer": "ipython3",
   "version": "3.13.1"
  }
 },
 "nbformat": 4,
 "nbformat_minor": 5
}
