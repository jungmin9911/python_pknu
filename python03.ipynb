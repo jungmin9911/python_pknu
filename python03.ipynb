{
 "cells": [
  {
   "cell_type": "markdown",
   "id": "365ef76f-5cd6-470a-b16e-3fe9ce70a04b",
   "metadata": {},
   "source": [
    "# 제어문"
   ]
  },
  {
   "cell_type": "markdown",
   "id": "cd78b25f-50f2-47a4-8ee8-faa6da2d31d5",
   "metadata": {},
   "source": [
    "## if문"
   ]
  },
  {
   "cell_type": "code",
   "execution_count": 21,
   "id": "762d7aa5-c175-4df9-ae17-236397076a40",
   "metadata": {},
   "outputs": [
    {
     "name": "stdout",
     "output_type": "stream",
     "text": [
      "항상 동작합니다\n",
      "5가 큽니다\n"
     ]
    }
   ],
   "source": [
    "if True:\n",
    "    print(\"항상 동작합니다\")\n",
    "if  False:\n",
    "    print(\"이건 동작할까요?\")\n",
    "if 5 > 2:\n",
    "    print(\"5가 큽니다\")\n",
    "if 4 > 10:\n",
    "    print(\"나올까요?\")"
   ]
  },
  {
   "cell_type": "code",
   "execution_count": 39,
   "id": "e0fbf489-0792-4b49-bd9b-7f8576fb5b02",
   "metadata": {},
   "outputs": [
    {
     "name": "stdout",
     "output_type": "stream",
     "text": [
      "택시를\n",
      "타고\n",
      "가라\n"
     ]
    }
   ],
   "source": [
    "if True:\n",
    "    print(\"택시를\")\n",
    "    print(\"타고\")\n",
    "    print(\"가라\")"
   ]
  },
  {
   "cell_type": "code",
   "execution_count": 42,
   "id": "dd36e89d-a1e3-41d5-b25d-217d312bdef7",
   "metadata": {},
   "outputs": [
    {
     "name": "stdin",
     "output_type": "stream",
     "text": [
      "얼마나 가지고 있습니까? 222\n"
     ]
    },
    {
     "name": "stdout",
     "output_type": "stream",
     "text": [
      "걸어가세요\n"
     ]
    }
   ],
   "source": [
    "mymoney = int(input('얼마나 가지고 있습니까?'))\n",
    "if mymoney >= 3000:\n",
    "    print('택시타고 가세요')\n",
    "# if mymoney <3000:\n",
    "else:\n",
    "    print('걸어가세요')"
   ]
  },
  {
   "cell_type": "code",
   "execution_count": 70,
   "id": "65cd368d-7912-4a79-a9af-b01da2f11a9c",
   "metadata": {},
   "outputs": [
    {
     "name": "stdout",
     "output_type": "stream",
     "text": [
      "==== and 연산 ====\n",
      "True\n",
      "False\n",
      "False\n",
      "False\n",
      "==== o r 연산 ====\n",
      "True\n",
      "True\n",
      "True\n",
      "False\n",
      "==== not 연산 ====\n",
      "True\n",
      "False\n",
      "True\n"
     ]
    }
   ],
   "source": [
    "# and, or, not\n",
    "print(\"==== and 연산 ====\") #하나라도 False면 False\n",
    "print(True and True)\n",
    "print(True and False)\n",
    "print(False and True)\n",
    "print(False and False)\n",
    "print(\"==== o r 연산 ====\") #하나라도 True면 True\n",
    "print(True or True)\n",
    "print(True or False)\n",
    "print(False or True)\n",
    "print(False or False)\n",
    "print(\"==== not 연산 ====\") #반대로 출력\n",
    "print(True)\n",
    "print(not True)\n",
    "print(not False)"
   ]
  },
  {
   "cell_type": "code",
   "execution_count": 47,
   "id": "61ef9a0f-6885-47bf-807e-0b47b0006417",
   "metadata": {},
   "outputs": [
    {
     "name": "stdout",
     "output_type": "stream",
     "text": [
      "만납시다\n"
     ]
    }
   ],
   "source": [
    "이상형 = True\n",
    "똑똑 = True\n",
    "if 이상형 and 똑똑 :\n",
    "    print(\"만납시다\")\n",
    "else:\n",
    "    print(\"반가워요\")"
   ]
  },
  {
   "cell_type": "code",
   "execution_count": 46,
   "id": "d3e14300-12cd-41b3-bb96-d13200e31afe",
   "metadata": {},
   "outputs": [
    {
     "name": "stdout",
     "output_type": "stream",
     "text": [
      "만납시다\n"
     ]
    }
   ],
   "source": [
    "이상형 = False\n",
    "다정 = True\n",
    "if 이상형 or 다정 :\n",
    "    print(\"만납시다\")\n",
    "else:\n",
    "    print(\"반가워요\")"
   ]
  },
  {
   "cell_type": "code",
   "execution_count": 50,
   "id": "208f1b76-496e-4d94-90ef-a6c82e7ebb6e",
   "metadata": {},
   "outputs": [
    {
     "name": "stdout",
     "output_type": "stream",
     "text": [
      "잘가요\n"
     ]
    }
   ],
   "source": [
    "주사 = True\n",
    "if not 주사:\n",
    "    print(\"만납시다\")\n",
    "else:\n",
    "    print(\"잘가요\")"
   ]
  },
  {
   "cell_type": "code",
   "execution_count": 51,
   "id": "50bb4156-ce18-49c4-9f42-45e08bd3cb08",
   "metadata": {},
   "outputs": [
    {
     "name": "stdout",
     "output_type": "stream",
     "text": [
      "택시를 타고 가라\n"
     ]
    }
   ],
   "source": [
    "# 예제 p.127\n",
    "money = 2000\n",
    "card = True\n",
    "if money >= 3000 or card:\n",
    "    print(\"택시를 타고 가라\")\n",
    "else:\n",
    "    print(\"걸어가라\")"
   ]
  },
  {
   "cell_type": "code",
   "execution_count": 56,
   "id": "1c13b2b2-f07c-458b-8323-be64d87b63aa",
   "metadata": {},
   "outputs": [
    {
     "name": "stdout",
     "output_type": "stream",
     "text": [
      "A회사 불합격입니다\n",
      "B회사 합격입니다\n",
      "C회사 합격입니다\n"
     ]
    }
   ],
   "source": [
    "me = 'Python'\n",
    "comA = ['JAVA', 'CSS', 'Javascript', 'C', 'MySQL']\n",
    "comB = ['JAVA', 'Python', 'Javascript', 'C', 'MySQL']\n",
    "comC = ['JAVA', 'Python', 'HTML', 'MySQL']\n",
    "if me in comA:\n",
    "    print(\"A회사 합격입니다\")\n",
    "else:\n",
    "    print(\"A회사 불합격입니다\")\n",
    "if me in comB:\n",
    "    print(\"B회사 합격입니다\")\n",
    "else:\n",
    "    print(\"B회사 불합격입니다\")\n",
    "if me in comC:\n",
    "    print(\"C회사 합격입니다\")\n",
    "else:\n",
    "    print(\"C회사 불합격입니다\")"
   ]
  },
  {
   "cell_type": "code",
   "execution_count": 65,
   "id": "ed9a501a-5918-4f4c-9286-94368c14468c",
   "metadata": {},
   "outputs": [
    {
     "name": "stdin",
     "output_type": "stream",
     "text": [
      "점수를 입력해주세요 : 72\n"
     ]
    },
    {
     "name": "stdout",
     "output_type": "stream",
     "text": [
      "C\n",
      "C학점입니다\n",
      "C학점입니다\n"
     ]
    }
   ],
   "source": [
    "score = int(input(\"점수를 입력해주세요 :\"))\n",
    "if 90<=score:\n",
    "    print(\"A\")\n",
    "elif 80<=score<90:\n",
    "    print(\"B\")\n",
    "elif 70<=score<80:\n",
    "    print(\"C\")\n",
    "elif 60<=score<70:\n",
    "    print(\"D\")\n",
    "else:\n",
    "    print(\"F\")\n",
    "# 강사님 풀이 (if만 사용할 경우)\n",
    "if 90<=score:  grade = \"A\"\n",
    "if 80<=score<90:  grade = \"B\"\n",
    "if 70<=score<80:  grade = \"C\"\n",
    "if 60<=score<70:  grade = \"D\"\n",
    "print(f\"{grade}학점입니다\")\n",
    "# 강사님 풀이 (if, elif, else 사용할 경우)\n",
    "if 90<=score:  grade = \"A\"\n",
    "elif 80<=score<90:  grade = \"B\"\n",
    "elif 70<=score<80:  grade = \"C\"\n",
    "elif 60<=score<70:  grade = \"D\"\n",
    "else : grade = \"F\"\n",
    "print(f\"{grade}학점입니다\")\n",
    "# input으로 값 받을때, or 어쩌고 해놓으면 어쩌고가 기본값\n",
    "# ex. int(input(\"aa\" or 95))  --->  95가 기본값"
   ]
  },
  {
   "cell_type": "code",
   "execution_count": 67,
   "id": "afa13957-9deb-46e2-ad6d-13e9b09160b2",
   "metadata": {},
   "outputs": [
    {
     "name": "stdin",
     "output_type": "stream",
     "text": [
      "현재 기온을 입력해주세요 : 2\n"
     ]
    },
    {
     "name": "stdout",
     "output_type": "stream",
     "text": [
      "현재 계절은 겨울입니다 ❄️\n"
     ]
    }
   ],
   "source": [
    "temp = int(input(\"현재 기온을 입력해주세요 :\"))\n",
    "if 25<=temp:  season = \"여름입니다 ⛱️\"\n",
    "elif 15<=temp<25:  season = \"봄입니다 🌸\"\n",
    "elif 10<=temp<15:  season = \"가을입니다 🍂\"\n",
    "else:  season = \"겨울입니다 ❄️\"\n",
    "print(f\"현재 계절은 {season}\")"
   ]
  },
  {
   "cell_type": "markdown",
   "id": "079e9445-4ec8-43a7-8c0d-12a13ffee861",
   "metadata": {},
   "source": [
    "## while문"
   ]
  },
  {
   "cell_type": "code",
   "execution_count": 36,
   "id": "4e586235-1302-4c72-99b0-cbc392b4d875",
   "metadata": {},
   "outputs": [
    {
     "name": "stdout",
     "output_type": "stream",
     "text": [
      "1 나 화났어\n",
      "2 나 화났어\n",
      "3 나 화났어\n",
      "4 나 화났어\n",
      "5 나 화났어\n",
      "6 나 화났어\n",
      "7 나 화났어\n",
      "8 나 화났어\n",
      "9 나 화났어\n",
      "10 나 화났어\n"
     ]
    }
   ],
   "source": [
    "num = 1\n",
    "while True:\n",
    "    print(num, \"나 화났어\")\n",
    "    num += 1\n",
    "    if num > 10:\n",
    "        break    "
   ]
  },
  {
   "cell_type": "code",
   "execution_count": 38,
   "id": "2da06717-98cc-412d-8e3d-3e5ad48500d2",
   "metadata": {},
   "outputs": [
    {
     "name": "stdout",
     "output_type": "stream",
     "text": [
      "10 나 화났어\n",
      "9 나 화났어\n",
      "8 나 화났어\n",
      "7 나 화났어\n",
      "6 나 화났어\n",
      "5 나 화났어\n",
      "4 나 화났어\n",
      "3 나 화났어\n",
      "2 나 화났어\n",
      "1 나 화났어\n"
     ]
    }
   ],
   "source": [
    "num = 10\n",
    "while num:\n",
    "    print(num, \"나 화났어\")\n",
    "    num -= 1"
   ]
  },
  {
   "cell_type": "code",
   "execution_count": 72,
   "id": "7c214215-edf6-4cb3-8603-2886c956a634",
   "metadata": {},
   "outputs": [
    {
     "name": "stdout",
     "output_type": "stream",
     "text": [
      "나무를 1번 찍었습니다\n",
      "나무를 2번 찍었습니다\n",
      "나무를 3번 찍었습니다\n",
      "나무를 4번 찍었습니다\n",
      "나무를 5번 찍었습니다\n",
      "나무를 6번 찍었습니다\n",
      "나무를 7번 찍었습니다\n",
      "나무를 8번 찍었습니다\n",
      "나무를 9번 찍었습니다\n",
      "나무를 10번 찍었습니다\n",
      "나무 넘어갑니다\n",
      "======================\n",
      "나무를 1번 찍었습니다\n",
      "나무를 2번 찍었습니다\n",
      "나무를 3번 찍었습니다\n",
      "나무를 4번 찍었습니다\n",
      "나무를 5번 찍었습니다\n",
      "나무를 6번 찍었습니다\n",
      "나무를 7번 찍었습니다\n",
      "나무를 8번 찍었습니다\n",
      "나무를 9번 찍었습니다\n",
      "나무를 10번 찍었습니다\n",
      "나무 넘어갑니다\n"
     ]
    }
   ],
   "source": [
    "# 예제\n",
    "treeHit = 0\n",
    "while treeHit < 10:\n",
    "    treeHit = treeHit + 1\n",
    "    print(\"나무를 %d번 찍었습니다\" %treeHit)\n",
    "    if treeHit == 10:\n",
    "        print(\"나무 넘어갑니다\")\n",
    "print(\"=\"*22)\n",
    "# 활용\n",
    "namu = 10\n",
    "while namu:\n",
    "    namu -= 1\n",
    "    print(f\"나무를 {10-namu}번 찍었습니다\")\n",
    "print(\"나무 넘어갑니다\")"
   ]
  },
  {
   "cell_type": "code",
   "execution_count": 1,
   "id": "55b83021-d83c-4b8b-8023-9554ae3a3e34",
   "metadata": {},
   "outputs": [
    {
     "name": "stdout",
     "output_type": "stream",
     "text": [
      "시스템이 종료되었습니다.\n"
     ]
    }
   ],
   "source": [
    "from IPython.display import clear_output\n",
    "prompt = \"\"\"\n",
    "선택해주세요\n",
    "    1. Add\n",
    "    2. Del\n",
    "    3. List\n",
    "    4. Quit\n",
    "\"\"\"\n",
    "number = 0\n",
    "while number != 4:\n",
    "    print(prompt)\n",
    "    number = int(input())\n",
    "    clear_output(wait=True)  #이전 질문 지우기\n",
    "print(\"시스템이 종료되었습니다.\")"
   ]
  },
  {
   "cell_type": "code",
   "execution_count": 108,
   "id": "86a8424f-6646-4622-812d-daf19ccb5a93",
   "metadata": {},
   "outputs": [],
   "source": [
    "# random 주사위\n",
    "import random as r\n",
    "# ran = r.random() * 100000000\n",
    "box = [] # 초기화"
   ]
  },
  {
   "cell_type": "code",
   "execution_count": 54,
   "id": "fd0610a0-3486-4996-b29a-a5c73842c911",
   "metadata": {},
   "outputs": [
    {
     "name": "stdout",
     "output_type": "stream",
     "text": [
      "[6, 4]\n"
     ]
    }
   ],
   "source": [
    "ran = r.randint(1, 6)  # 1부터 10까지\n",
    "box.append(ran)\n",
    "print(box)"
   ]
  },
  {
   "cell_type": "code",
   "execution_count": 109,
   "id": "ff8d1401-a258-4889-8c7a-a3dbf724f936",
   "metadata": {},
   "outputs": [
    {
     "name": "stdout",
     "output_type": "stream",
     "text": [
      "[3, 6, 2, 5, 5, 2, 2, 6, 4, 6, 2, 1, 5, 2, 4, 5, 2, 4, 3, 2, 6, 3, 1, 5, 6, 5, 1, 5, 1, 2, 6, 3, 4, 3, 2, 3, 5, 2, 3, 1, 4, 1, 6, 1, 1, 4, 1, 2, 2, 1, 5, 2, 6, 3, 5, 4, 1, 3, 6, 1, 4, 4, 4, 6, 4, 4, 1, 5, 6, 5, 2, 1, 5, 1, 4, 3, 5, 4, 6, 1, 3, 4, 3, 2, 4, 6, 1, 4, 5, 6, 2, 5, 6, 6, 3, 2, 4, 2, 3, 4] 100\n",
      "100회 정상 진행\n",
      "1 등장 횟수 : 17 (17.00%)\n",
      "2 등장 횟수 : 18 (18.00%)\n",
      "3 등장 횟수 : 14 (14.00%)\n",
      "4 등장 횟수 : 19 (19.00%)\n",
      "5 등장 횟수 : 16 (16.00%)\n",
      "6 등장 횟수 : 16 (16.00%)\n"
     ]
    }
   ],
   "source": [
    "num = 0\n",
    "range = 100\n",
    "while num < range:\n",
    "    num += 1\n",
    "    ran = r.randint(1, 6)\n",
    "    box.append(ran)\n",
    "print(box, len(box))\n",
    "\n",
    "# 검증 프로그램\n",
    "if range == len(box):\n",
    "    print(f\"{range}회 정상 진행\")\n",
    "else:\n",
    "    print(f\"횟수 이상 발생. (전체 {range}회 중 {len(box)}회 진행)\")\n",
    "# 리스트의 특정한 숫자를 몇개인지 찾아내는 함수 써서 각 숫자마다 몇번나왔는지 띄우기\n",
    "# print(\"1 등장 횟수 :\", box.count(1))\n",
    "# print(\"2 등장 횟수 :\", box.count(2))\n",
    "# print(\"3 등장 횟수 :\", box.count(3))\n",
    "# print(\"4 등장 횟수 :\", box.count(4))\n",
    "# print(\"5 등장 횟수 :\", box.count(5))\n",
    "# print(\"6 등장 횟수 :\", box.count(6))\n",
    "num2 = 1\n",
    "while num2 < 7:\n",
    "    print(f\"{num2} 등장 횟수 : {box.count(num2)} ({box.count(num2)/range*100:.2f}%)\")\n",
    "    num2 += 1\n",
    "# 가장 많이, 또는 가장 적게 출력된 수 출력\n",
    "print(\"가장 많이 출력된 수\", max())\n",
    "print(\"가장 적게 출력된 수\", min())"
   ]
  },
  {
   "cell_type": "markdown",
   "id": "1a02f682-1c37-4703-a107-a8b61c836a89",
   "metadata": {},
   "source": [
    "## for문"
   ]
  },
  {
   "cell_type": "code",
   "execution_count": 111,
   "id": "be567ebd-77ff-43ee-a003-fc66475831e6",
   "metadata": {},
   "outputs": [
    {
     "name": "stdout",
     "output_type": "stream",
     "text": [
      "one\n",
      "two\n",
      "three\n"
     ]
    }
   ],
   "source": [
    "# 기본 for문\n",
    "test_list = ['one', 'two', 'three']\n",
    "for i in test_list:\n",
    "    print(i)"
   ]
  },
  {
   "cell_type": "code",
   "execution_count": 126,
   "id": "e72346af-22bd-4686-a552-2ef19d75e09f",
   "metadata": {},
   "outputs": [
    {
     "name": "stdout",
     "output_type": "stream",
     "text": [
      "1 2 11\n",
      "3 4 22\n",
      "5 6 33\n"
     ]
    }
   ],
   "source": [
    "# 다양한 for문의 사용\n",
    "# iterate over - 멤버들을 한 번에 하나씩 돌려줄 수 있는 객체, 순회 가능한 객체 : 이터러블\n",
    "a = [(1,2,11), (3,4,22), (5,6,33)]\n",
    "for (i, j, k) in a:\n",
    "    print(i, j, k)"
   ]
  },
  {
   "cell_type": "code",
   "execution_count": 128,
   "id": "cb557bed-232d-4753-80c4-3dfcc3bbbbd2",
   "metadata": {},
   "outputs": [
    {
     "name": "stdout",
     "output_type": "stream",
     "text": [
      "1번 학생은 불합격입니다\n",
      "2번 학생은 합격입니다\n",
      "3번 학생은 불합격입니다\n",
      "4번 학생은 합격입니다\n",
      "5번 학생은 불합격입니다\n"
     ]
    }
   ],
   "source": [
    "marks = [90, 25, 67, 45, 80]\n",
    "\n",
    "number = 0\n",
    "for mark in marks:\n",
    "    number = number + 1\n",
    "    # continue    # 처음으로\n",
    "    if mark < 60:\n",
    "        print(\"%d번 학생은 합격입니다\" %number)\n",
    "    else:\n",
    "        print(\"%d번 학생은 불합격입니다\" %number)"
   ]
  },
  {
   "cell_type": "code",
   "execution_count": 140,
   "id": "477a3ba8-1c8f-4719-a3f2-ee06adf2784f",
   "metadata": {},
   "outputs": [
    {
     "name": "stdout",
     "output_type": "stream",
     "text": [
      "1\n",
      "3\n",
      "5\n",
      "7\n",
      "9\n"
     ]
    }
   ],
   "source": [
    "list = [1, 2, 3, 4, 5, 6, 7, 8, 9, 10]\n",
    "a = []\n",
    "for i in list:\n",
    "    if i%2 == 0:\n",
    "        continue\n",
    "    print(i)"
   ]
  },
  {
   "cell_type": "code",
   "execution_count": 3,
   "id": "e77fac1d-4165-4296-aaa5-82a0fa0ad16d",
   "metadata": {},
   "outputs": [
    {
     "name": "stdin",
     "output_type": "stream",
     "text": [
      "돈을 넣어주세요 : 5000\n"
     ]
    },
    {
     "name": "stdout",
     "output_type": "stream",
     "text": [
      "거스름돈 4700를 주고 커피를 줍니다\n"
     ]
    },
    {
     "name": "stdin",
     "output_type": "stream",
     "text": [
      "돈을 넣어주세요 : 100\n"
     ]
    },
    {
     "name": "stdout",
     "output_type": "stream",
     "text": [
      "돈을 다시 돌려주고 커피를 주지 않습니다\n",
      "남은 커피의 양은 9개 입니다\n"
     ]
    },
    {
     "name": "stdin",
     "output_type": "stream",
     "text": [
      "돈을 넣어주세요 : 300\n"
     ]
    },
    {
     "name": "stdout",
     "output_type": "stream",
     "text": [
      "커피를 줍니다.\n"
     ]
    },
    {
     "name": "stdin",
     "output_type": "stream",
     "text": [
      "돈을 넣어주세요 : 300\n"
     ]
    },
    {
     "name": "stdout",
     "output_type": "stream",
     "text": [
      "커피를 줍니다.\n"
     ]
    },
    {
     "name": "stdin",
     "output_type": "stream",
     "text": [
      "돈을 넣어주세요 : 300\n"
     ]
    },
    {
     "name": "stdout",
     "output_type": "stream",
     "text": [
      "커피를 줍니다.\n"
     ]
    },
    {
     "name": "stdin",
     "output_type": "stream",
     "text": [
      "돈을 넣어주세요 : 300\n"
     ]
    },
    {
     "name": "stdout",
     "output_type": "stream",
     "text": [
      "커피를 줍니다.\n"
     ]
    },
    {
     "name": "stdin",
     "output_type": "stream",
     "text": [
      "돈을 넣어주세요 : 300\n"
     ]
    },
    {
     "name": "stdout",
     "output_type": "stream",
     "text": [
      "커피를 줍니다.\n"
     ]
    },
    {
     "name": "stdin",
     "output_type": "stream",
     "text": [
      "돈을 넣어주세요 : 300\n"
     ]
    },
    {
     "name": "stdout",
     "output_type": "stream",
     "text": [
      "커피를 줍니다.\n"
     ]
    },
    {
     "name": "stdin",
     "output_type": "stream",
     "text": [
      "돈을 넣어주세요 : 300\n"
     ]
    },
    {
     "name": "stdout",
     "output_type": "stream",
     "text": [
      "커피를 줍니다.\n"
     ]
    },
    {
     "name": "stdin",
     "output_type": "stream",
     "text": [
      "돈을 넣어주세요 : 300\n"
     ]
    },
    {
     "name": "stdout",
     "output_type": "stream",
     "text": [
      "커피를 줍니다.\n"
     ]
    },
    {
     "name": "stdin",
     "output_type": "stream",
     "text": [
      "돈을 넣어주세요 : 300\n"
     ]
    },
    {
     "name": "stdout",
     "output_type": "stream",
     "text": [
      "커피를 줍니다.\n",
      "커피가 다 떨어졌습니다. 판매를 중지합니다\n"
     ]
    }
   ],
   "source": [
    "# 예제\n",
    "coffee = 10\n",
    "while True:\n",
    "    money = int(input(\"돈을 넣어주세요 :\"))\n",
    "    if money == 300:\n",
    "        print(\"커피를 줍니다.\")\n",
    "        coffee = coffee - 1\n",
    "    elif money > 300:\n",
    "        print(\"거스름돈 %d를 주고 커피를 줍니다\" %(money - 300))\n",
    "        coffee = coffee - 1\n",
    "    else:\n",
    "        print(\"돈을 다시 돌려주고 커피를 주지 않습니다\")\n",
    "        print(\"남은 커피의 양은 %d개 입니다\" %coffee)\n",
    "    if coffee == 0:\n",
    "        print(\"커피가 다 떨어졌습니다. 판매를 중지합니다\")\n",
    "        break"
   ]
  },
  {
   "cell_type": "markdown",
   "id": "260dfa56-ec40-485f-ac45-77720c5c0328",
   "metadata": {},
   "source": [
    "### range 함수"
   ]
  },
  {
   "cell_type": "code",
   "execution_count": 4,
   "id": "35f6bffa-e212-4f37-8666-87b012d93b94",
   "metadata": {},
   "outputs": [
    {
     "name": "stdout",
     "output_type": "stream",
     "text": [
      "range(0, 10)\n"
     ]
    }
   ],
   "source": [
    "# range 함수\n",
    "a = range(10)\n",
    "print(a)"
   ]
  },
  {
   "cell_type": "code",
   "execution_count": 8,
   "id": "67dea8e7-874a-46ce-b999-1bc174617488",
   "metadata": {},
   "outputs": [
    {
     "name": "stdout",
     "output_type": "stream",
     "text": [
      "10\n",
      "9\n",
      "8\n",
      "7\n",
      "6\n",
      "5\n",
      "4\n",
      "3\n",
      "2\n",
      "1\n"
     ]
    }
   ],
   "source": [
    "# for n in range(0, 10):\n",
    "#     print(n)\n",
    "for n in range(10, 0, -1): # range(시작, 끝, 스텝)\n",
    "    print(n)"
   ]
  },
  {
   "cell_type": "code",
   "execution_count": 13,
   "id": "caaa4cae-3dec-4cc6-b3f8-0c455c38fe59",
   "metadata": {},
   "outputs": [
    {
     "name": "stdout",
     "output_type": "stream",
     "text": [
      "[1, 3, 5, 7, 9, 11, 13, 15, 17, 19, 21, 23, 25, 27, 29, 31, 33, 35, 37, 39, 41, 43, 45, 47, 49, 51, 53, 55, 57, 59, 61, 63, 65, 67, 69, 71, 73, 75, 77, 79, 81, 83, 85, 87, 89, 91, 93, 95, 97, 99]\n"
     ]
    }
   ],
   "source": [
    "la = list(range(1, 100, 2))\n",
    "print(la)\n",
    "# odd 홀수\n",
    "# even 짝수"
   ]
  },
  {
   "cell_type": "code",
   "execution_count": 14,
   "id": "f6000664-5117-40d9-a1ed-d8d160b766ec",
   "metadata": {},
   "outputs": [
    {
     "name": "stdout",
     "output_type": "stream",
     "text": [
      "0\n",
      "2\n",
      "4\n",
      "6\n",
      "8\n"
     ]
    }
   ],
   "source": [
    "for even in range(0, 10, 2):\n",
    "    print(even)"
   ]
  },
  {
   "cell_type": "code",
   "execution_count": 21,
   "id": "2befe14a-8fea-4ef2-9083-fe8c807c4309",
   "metadata": {},
   "outputs": [
    {
     "name": "stdout",
     "output_type": "stream",
     "text": [
      "1부터 10까지 합 : 55\n",
      "1부터 130까지 합 : 8515\n"
     ]
    }
   ],
   "source": [
    "# 예제\n",
    "# 1부터 10까지 모두 더한 값\n",
    "sum = 0\n",
    "for num in range(1,11):\n",
    "    sum += num\n",
    "print(f\"1부터 10까지 합 : {sum}\")\n",
    "# 1부터 130까지 모두 더한 값\n",
    "sum2 = 0\n",
    "for num in range(1,131):\n",
    "    sum2 += num\n",
    "print(f\"1부터 130까지 합 : {sum2}\")"
   ]
  },
  {
   "cell_type": "code",
   "execution_count": 22,
   "id": "fb648576-18ec-432e-8ea2-3186c451faf0",
   "metadata": {},
   "outputs": [
    {
     "name": "stdout",
     "output_type": "stream",
     "text": [
      "1번 학생 축하합니다. 합격입니다\n",
      "3번 학생 축하합니다. 합격입니다\n",
      "5번 학생 축하합니다. 합격입니다\n"
     ]
    }
   ],
   "source": [
    "marks = [90,25, 67, 45, 80]\n",
    "for number in range(len(marks)):\n",
    "    if marks[number] < 60:\n",
    "        continue    # 점수가 60점 미만이면 맨 처음으로 돌아간다\n",
    "    print(\"%d번 학생 축하합니다. 합격입니다\" %(number + 1))"
   ]
  },
  {
   "cell_type": "code",
   "execution_count": 30,
   "id": "c6143aca-2a87-4ec7-be3b-607eca0a15b2",
   "metadata": {},
   "outputs": [
    {
     "name": "stdout",
     "output_type": "stream",
     "text": [
      "     March 2025\n",
      "Su Mo Tu We Th Fr Sa\n",
      "                   1\n",
      " 2  3  4  5  6  7  8\n",
      " 9 10 11 12 13 14 15\n",
      "16 17 18 19 20 21 22\n",
      "23 24 25 26 27 28 29\n",
      "30 31\n",
      "\n"
     ]
    }
   ],
   "source": [
    "# 연습\n",
    "import calendar\n",
    "c = calendar.TextCalendar(calendar.SUNDAY)\n",
    "print(c.formatmonth(2025, 3))"
   ]
  },
  {
   "cell_type": "code",
   "execution_count": 5,
   "id": "c3cb0841-ae0e-4fa2-a69d-c52ac5e6d1fc",
   "metadata": {},
   "outputs": [
    {
     "name": "stdout",
     "output_type": "stream",
     "text": [
      "■■■■■■■■■■■"
     ]
    }
   ],
   "source": [
    "# 테스트 타이머\n",
    "import time as t\n",
    "for x in range(11):\n",
    "    print(f'■', end='')\n",
    "    t.sleep(1)"
   ]
  },
  {
   "cell_type": "code",
   "execution_count": 51,
   "id": "f604b114-f16b-495f-abe0-4e181b368057",
   "metadata": {},
   "outputs": [
    {
     "name": "stdout",
     "output_type": "stream",
     "text": [
      "<class 'list'>\n",
      "<class 'tuple'>\n"
     ]
    }
   ],
   "source": [
    "#리스트 속도 측정\n",
    "import time as t\n",
    "lt = []\n",
    "tp = []\n",
    "length = 100*1000*1000\n",
    "for x in range(length):\n",
    "    lt.append(x)\n",
    "for t in range(length):\n",
    "    tp.append(t)\n",
    "tp = tuple(tp)\n",
    "print(type(lt))\n",
    "print(type(tp))"
   ]
  },
  {
   "cell_type": "code",
   "execution_count": 52,
   "id": "40cf4fde-88a7-4172-9763-8b64a3f67bff",
   "metadata": {},
   "outputs": [
    {
     "name": "stdout",
     "output_type": "stream",
     "text": [
      "4.155039548873901\n"
     ]
    }
   ],
   "source": [
    "import time as t\n",
    "start = t.time()\n",
    "for x in lt:\n",
    "    lts = [1, 2, 3, 4, 5]\n",
    "print(t.time() - start)"
   ]
  },
  {
   "cell_type": "code",
   "execution_count": 53,
   "id": "7469add4-b4c0-45f9-9fb7-7608639085d5",
   "metadata": {},
   "outputs": [
    {
     "name": "stdout",
     "output_type": "stream",
     "text": [
      "2.177011489868164\n"
     ]
    }
   ],
   "source": [
    "import time as t\n",
    "start = t.time()\n",
    "for x in tp:\n",
    "    tps = (1, 2, 3, 4, 5)\n",
    "print(t.time() - start)"
   ]
  },
  {
   "cell_type": "code",
   "execution_count": 58,
   "id": "aec2e729-8459-4387-adf5-77bfc1f71dc8",
   "metadata": {},
   "outputs": [
    {
     "name": "stdout",
     "output_type": "stream",
     "text": [
      "Collecting tqdm\n",
      "  Downloading tqdm-4.67.1-py3-none-any.whl.metadata (57 kB)\n",
      "Requirement already satisfied: colorama in c:\\users\\admin\\appdata\\local\\programs\\python\\python313\\lib\\site-packages (from tqdm) (0.4.6)\n",
      "Downloading tqdm-4.67.1-py3-none-any.whl (78 kB)\n",
      "Installing collected packages: tqdm\n",
      "Successfully installed tqdm-4.67.1\n"
     ]
    }
   ],
   "source": [
    "# !(느낌표) 뒤에 어쩌고 쓰면 cmd 명령문? 실행 가능\n",
    "# !dir\n",
    "# !pip -V\n",
    "# !pip list    모듈 리스트\n",
    "# !pip install tqdm    tqdm이라는 모듈 설치\n",
    "# %%cmd    기능 바로 사용가능"
   ]
  },
  {
   "cell_type": "code",
   "execution_count": 64,
   "id": "abc0cff5-4f07-4884-bc84-f434772a5d9b",
   "metadata": {},
   "outputs": [
    {
     "name": "stderr",
     "output_type": "stream",
     "text": [
      "100%|████████████████████████████████████████████████████████████████████████████████| 100/100 [00:10<00:00,  9.78it/s]\n"
     ]
    }
   ],
   "source": [
    "from tqdm import tqdm\n",
    "import time as tt\n",
    "for x in tqdm(range(100)):\n",
    "    pass\n",
    "    tt.sleep(0.1)"
   ]
  },
  {
   "cell_type": "code",
   "execution_count": 103,
   "id": "b4bc165b-5ecb-4364-bb12-3d144f3f7c09",
   "metadata": {},
   "outputs": [
    {
     "name": "stdout",
     "output_type": "stream",
     "text": [
      "최대가 152817000 / 최소가 149809000 / 시작가 152630000 / 변화폭 3008000.0\n",
      "상승장\n"
     ]
    }
   ],
   "source": [
    "# 비트코인 시세로 상승장 하강장 구분하기\n",
    "# 하루(24시간) 기준\n",
    "import requests as req\n",
    "url = 'https://api.bithumb.com/public/ticker/ALL_KRW'\n",
    "gdata = req.get(url).json()\n",
    "btc = gdata['data']['BTC']\n",
    "maxp = btc['max_price'] # 최대값\n",
    "minp = btc['min_price'] # 최소값\n",
    "openp = btc['opening_price'] # 시작가\n",
    "bandp = float(maxp) - float(minp) # 변화폭\n",
    "a = float(openp) + bandp # 시작가 + 변화폭\n",
    "\n",
    "print(f'최대가 {maxp} / 최소가 {minp} / 시작가 {openp} / 변화폭 {bandp}')\n",
    "if a > float(maxp) :  # 시작가 + 변화폭 > 최대가 ---> 상승장\n",
    "    print('상승장')\n",
    "else:\n",
    "    print('하강장')"
   ]
  },
  {
   "cell_type": "code",
   "execution_count": 104,
   "id": "f5338573-7c1f-460a-8880-d5296149990b",
   "metadata": {},
   "outputs": [
    {
     "name": "stdout",
     "output_type": "stream",
     "text": [
      "149960000\n"
     ]
    }
   ],
   "source": [
    "# 1분 캔들 기준\n",
    "import requests as req\n",
    "url = 'https://api.bithumb.com/v1/candles/minutes/1?market=KRW-BTC&count=1'\n",
    "btc_data = req.get(url).json()\n",
    "print(btc_data[0]['trade_price']) # 1분 거래가"
   ]
  },
  {
   "cell_type": "code",
   "execution_count": 126,
   "id": "a8d38b51-aa3c-40be-8f97-fabc001db048",
   "metadata": {},
   "outputs": [
    {
     "name": "stdout",
     "output_type": "stream",
     "text": [
      "2단========\n",
      "2 x 1 = 2\n",
      "2 x 2 = 4\n",
      "2 x 3 = 6\n",
      "2 x 4 = 8\n",
      "2 x 5 = 10\n",
      "2 x 6 = 12\n",
      "2 x 7 = 14\n",
      "2 x 8 = 16\n",
      "2 x 9 = 18\n",
      "\n",
      "\n",
      "3단========\n",
      "3 x 1 = 3\n",
      "3 x 2 = 6\n",
      "3 x 3 = 9\n",
      "3 x 4 = 12\n",
      "3 x 5 = 15\n",
      "3 x 6 = 18\n",
      "3 x 7 = 21\n",
      "3 x 8 = 24\n",
      "3 x 9 = 27\n",
      "\n",
      "\n",
      "4단========\n",
      "4 x 1 = 4\n",
      "4 x 2 = 8\n",
      "4 x 3 = 12\n",
      "4 x 4 = 16\n",
      "4 x 5 = 20\n",
      "4 x 6 = 24\n",
      "4 x 7 = 28\n",
      "4 x 8 = 32\n",
      "4 x 9 = 36\n",
      "\n",
      "\n",
      "5단========\n",
      "5 x 1 = 5\n",
      "5 x 2 = 10\n",
      "5 x 3 = 15\n",
      "5 x 4 = 20\n",
      "5 x 5 = 25\n",
      "5 x 6 = 30\n",
      "5 x 7 = 35\n",
      "5 x 8 = 40\n",
      "5 x 9 = 45\n",
      "\n",
      "\n",
      "6단========\n",
      "6 x 1 = 6\n",
      "6 x 2 = 12\n",
      "6 x 3 = 18\n",
      "6 x 4 = 24\n",
      "6 x 5 = 30\n",
      "6 x 6 = 36\n",
      "6 x 7 = 42\n",
      "6 x 8 = 48\n",
      "6 x 9 = 54\n",
      "\n",
      "\n",
      "7단========\n",
      "7 x 1 = 7\n",
      "7 x 2 = 14\n",
      "7 x 3 = 21\n",
      "7 x 4 = 28\n",
      "7 x 5 = 35\n",
      "7 x 6 = 42\n",
      "7 x 7 = 49\n",
      "7 x 8 = 56\n",
      "7 x 9 = 63\n",
      "\n",
      "\n",
      "8단========\n",
      "8 x 1 = 8\n",
      "8 x 2 = 16\n",
      "8 x 3 = 24\n",
      "8 x 4 = 32\n",
      "8 x 5 = 40\n",
      "8 x 6 = 48\n",
      "8 x 7 = 56\n",
      "8 x 8 = 64\n",
      "8 x 9 = 72\n",
      "\n",
      "\n",
      "9단========\n",
      "9 x 1 = 9\n",
      "9 x 2 = 18\n",
      "9 x 3 = 27\n",
      "9 x 4 = 36\n",
      "9 x 5 = 45\n",
      "9 x 6 = 54\n",
      "9 x 7 = 63\n",
      "9 x 8 = 72\n",
      "9 x 9 = 81\n",
      "\n",
      "\n"
     ]
    }
   ],
   "source": [
    "for i in range(2,10):\n",
    "    print(f'{i}단========')\n",
    "    for j in range(1, 10):\n",
    "        print(f'{i} x {j} = {i*j}')\n",
    "    print('\\n')"
   ]
  },
  {
   "cell_type": "markdown",
   "id": "14fd5fc3-6ca7-44d4-bca0-f111dc742257",
   "metadata": {},
   "source": [
    "### 리스트 컴프리헨션"
   ]
  },
  {
   "cell_type": "code",
   "execution_count": 131,
   "id": "0c636915-6bd7-41ab-9a69-6962c2f9c2b8",
   "metadata": {},
   "outputs": [
    {
     "name": "stdout",
     "output_type": "stream",
     "text": [
      "[3, 6, 9, 12]\n"
     ]
    }
   ],
   "source": [
    "# 일반 for문으로 리스트에 값 넣기\n",
    "a = [1, 2, 3, 4]\n",
    "result = []\n",
    "for num in a:\n",
    "    result.append(num*3)\n",
    "print(result)"
   ]
  },
  {
   "cell_type": "code",
   "execution_count": 132,
   "id": "6caec542-247b-4581-8085-d7c55e341b4e",
   "metadata": {},
   "outputs": [
    {
     "data": {
      "text/plain": [
       "[3, 6, 9, 12]"
      ]
     },
     "execution_count": 132,
     "metadata": {},
     "output_type": "execute_result"
    }
   ],
   "source": [
    "# 리스트 컴프리헨션\n",
    "[num*3 for num in a]"
   ]
  },
  {
   "cell_type": "code",
   "execution_count": 138,
   "id": "84ab122c-06db-4dac-acae-f203bcb38de5",
   "metadata": {},
   "outputs": [
    {
     "data": {
      "text/plain": [
       "[0, 1, 2, 3, 4, 5, 6, 7, 8, 9]"
      ]
     },
     "execution_count": 138,
     "metadata": {},
     "output_type": "execute_result"
    }
   ],
   "source": [
    "# 테스트1\n",
    "# 일반 리스트 출력\n",
    "# list(range(10))\n",
    "[x for x in range(10)]"
   ]
  },
  {
   "cell_type": "code",
   "execution_count": 139,
   "id": "89e91430-3835-4a91-9900-817e53b19380",
   "metadata": {},
   "outputs": [
    {
     "name": "stdout",
     "output_type": "stream",
     "text": [
      "[0, 2, 4, 6, 8]\n"
     ]
    }
   ],
   "source": [
    "# 테스트2\n",
    "# if문으로 리스트 출력\n",
    "res = []\n",
    "for x in range(10):\n",
    "    if x%2 == 0:\n",
    "        res.append(x)\n",
    "print(res)"
   ]
  },
  {
   "cell_type": "code",
   "execution_count": 145,
   "id": "2aee5eb8-1650-40f4-bd9a-31c19336f0f2",
   "metadata": {},
   "outputs": [
    {
     "data": {
      "text/plain": [
       "[0, 6, 12, 18, 24]"
      ]
     },
     "execution_count": 145,
     "metadata": {},
     "output_type": "execute_result"
    }
   ],
   "source": [
    "# 리스트 컴프리헨션\n",
    "[x*3 for x in range(10) if x%2==0]"
   ]
  },
  {
   "cell_type": "code",
   "execution_count": 153,
   "id": "9307bc0f-8f8d-472d-9ee0-0855a2e6c276",
   "metadata": {},
   "outputs": [
    {
     "name": "stdout",
     "output_type": "stream",
     "text": [
      "[2, 4, 6, 8, 10, 12, 14, 16, 18, 3, 6, 9, 12, 15, 18, 21, 24, 27, 4, 8, 12, 16, 20, 24, 28, 32, 36, 5, 10, 15, 20, 25, 30, 35, 40, 45, 6, 12, 18, 24, 30, 36, 42, 48, 54, 7, 14, 21, 28, 35, 42, 49, 56, 63, 8, 16, 24, 32, 40, 48, 56, 64, 72, 9, 18, 27, 36, 45, 54, 63, 72, 81]\n"
     ]
    }
   ],
   "source": [
    "# 리스트 컴프리헨션으로 2단부터 9단까지 결과값만\n",
    "result = [i*j for i in range(2,10) for j in range(1,10)]\n",
    "print(result)"
   ]
  },
  {
   "cell_type": "code",
   "execution_count": 154,
   "id": "73e29e01-f7ce-49ae-a834-c65671cd9319",
   "metadata": {},
   "outputs": [
    {
     "name": "stdout",
     "output_type": "stream",
     "text": [
      "2 x 1 = 2\n",
      "2 x 2 = 4\n",
      "2 x 3 = 6\n",
      "2 x 4 = 8\n",
      "2 x 5 = 10\n",
      "2 x 6 = 12\n",
      "2 x 7 = 14\n",
      "2 x 8 = 16\n",
      "2 x 9 = 18\n",
      "3 x 1 = 3\n",
      "3 x 2 = 6\n",
      "3 x 3 = 9\n",
      "3 x 4 = 12\n",
      "3 x 5 = 15\n",
      "3 x 6 = 18\n",
      "3 x 7 = 21\n",
      "3 x 8 = 24\n",
      "3 x 9 = 27\n",
      "4 x 1 = 4\n",
      "4 x 2 = 8\n",
      "4 x 3 = 12\n",
      "4 x 4 = 16\n",
      "4 x 5 = 20\n",
      "4 x 6 = 24\n",
      "4 x 7 = 28\n",
      "4 x 8 = 32\n",
      "4 x 9 = 36\n",
      "5 x 1 = 5\n",
      "5 x 2 = 10\n",
      "5 x 3 = 15\n",
      "5 x 4 = 20\n",
      "5 x 5 = 25\n",
      "5 x 6 = 30\n",
      "5 x 7 = 35\n",
      "5 x 8 = 40\n",
      "5 x 9 = 45\n",
      "6 x 1 = 6\n",
      "6 x 2 = 12\n",
      "6 x 3 = 18\n",
      "6 x 4 = 24\n",
      "6 x 5 = 30\n",
      "6 x 6 = 36\n",
      "6 x 7 = 42\n",
      "6 x 8 = 48\n",
      "6 x 9 = 54\n",
      "7 x 1 = 7\n",
      "7 x 2 = 14\n",
      "7 x 3 = 21\n",
      "7 x 4 = 28\n",
      "7 x 5 = 35\n",
      "7 x 6 = 42\n",
      "7 x 7 = 49\n",
      "7 x 8 = 56\n",
      "7 x 9 = 63\n",
      "8 x 1 = 8\n",
      "8 x 2 = 16\n",
      "8 x 3 = 24\n",
      "8 x 4 = 32\n",
      "8 x 5 = 40\n",
      "8 x 6 = 48\n",
      "8 x 7 = 56\n",
      "8 x 8 = 64\n",
      "8 x 9 = 72\n",
      "9 x 1 = 9\n",
      "9 x 2 = 18\n",
      "9 x 3 = 27\n",
      "9 x 4 = 36\n",
      "9 x 5 = 45\n",
      "9 x 6 = 54\n",
      "9 x 7 = 63\n",
      "9 x 8 = 72\n",
      "9 x 9 = 81\n"
     ]
    }
   ],
   "source": [
    "# 리스트 컴프리헨션으로 2단부터 9단까지 \n",
    "# [f'{i} x {j} = {i*j}' for i in range(2,10) for j in range(1,10)]\n",
    "for a in [f'{i} x {j} = {i*j}' for i in range(2,10) for j in range(1,10)]:\n",
    "    print(a)"
   ]
  },
  {
   "cell_type": "code",
   "execution_count": 175,
   "id": "f2a83276-34d5-4fc9-997e-58dca7f90a9a",
   "metadata": {},
   "outputs": [
    {
     "name": "stdout",
     "output_type": "stream",
     "text": [
      "[15, 30, 31, 31, 34, 41]\n"
     ]
    }
   ],
   "source": [
    "# 로또 생성기\n",
    "# 1. 6가지 숫자 선택\n",
    "# 2. 중복 불가\n",
    "# 3. 오름차순으로 정리\n",
    "# 4. 10만회 돌리고 각각 카운팅\n",
    "# 5. 각 번호별 퍼센트(소숫점 두자리)\n",
    "# 6. 제일 높게 나온 확률 순서대로 번호 3개 추천\n",
    "import random as r\n",
    "num = 0\n",
    "lotto = []\n",
    "for i in range(0,6):\n",
    "    num += 1\n",
    "    ran = r.randint(1, 45)\n",
    "    lotto.append(ran)\n",
    "    set(lotto)\n",
    "lotto.sort()\n",
    "print(lotto)"
   ]
  },
  {
   "cell_type": "code",
   "execution_count": null,
   "id": "4e3d38bb-2ab9-466e-9e56-c0a8df653469",
   "metadata": {},
   "outputs": [],
   "source": []
  }
 ],
 "metadata": {
  "kernelspec": {
   "display_name": "Python 3 (ipykernel)",
   "language": "python",
   "name": "python3"
  },
  "language_info": {
   "codemirror_mode": {
    "name": "ipython",
    "version": 3
   },
   "file_extension": ".py",
   "mimetype": "text/x-python",
   "name": "python",
   "nbconvert_exporter": "python",
   "pygments_lexer": "ipython3",
   "version": "3.13.1"
  }
 },
 "nbformat": 4,
 "nbformat_minor": 5
}
