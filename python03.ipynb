{
 "cells": [
  {
   "cell_type": "markdown",
   "id": "365ef76f-5cd6-470a-b16e-3fe9ce70a04b",
   "metadata": {},
   "source": [
    "# 제어문"
   ]
  },
  {
   "cell_type": "markdown",
   "id": "cd78b25f-50f2-47a4-8ee8-faa6da2d31d5",
   "metadata": {},
   "source": [
    "## if문"
   ]
  },
  {
   "cell_type": "code",
   "execution_count": 21,
   "id": "762d7aa5-c175-4df9-ae17-236397076a40",
   "metadata": {},
   "outputs": [
    {
     "name": "stdout",
     "output_type": "stream",
     "text": [
      "항상 동작합니다\n",
      "5가 큽니다\n"
     ]
    }
   ],
   "source": [
    "if True:\n",
    "    print(\"항상 동작합니다\")\n",
    "if  False:\n",
    "    print(\"이건 동작할까요?\")\n",
    "if 5 > 2:\n",
    "    print(\"5가 큽니다\")\n",
    "if 4 > 10:\n",
    "    print(\"나올까요?\")"
   ]
  },
  {
   "cell_type": "code",
   "execution_count": 39,
   "id": "e0fbf489-0792-4b49-bd9b-7f8576fb5b02",
   "metadata": {},
   "outputs": [
    {
     "name": "stdout",
     "output_type": "stream",
     "text": [
      "택시를\n",
      "타고\n",
      "가라\n"
     ]
    }
   ],
   "source": [
    "if True:\n",
    "    print(\"택시를\")\n",
    "    print(\"타고\")\n",
    "    print(\"가라\")"
   ]
  },
  {
   "cell_type": "code",
   "execution_count": 42,
   "id": "dd36e89d-a1e3-41d5-b25d-217d312bdef7",
   "metadata": {},
   "outputs": [
    {
     "name": "stdin",
     "output_type": "stream",
     "text": [
      "얼마나 가지고 있습니까? 222\n"
     ]
    },
    {
     "name": "stdout",
     "output_type": "stream",
     "text": [
      "걸어가세요\n"
     ]
    }
   ],
   "source": [
    "mymoney = int(input('얼마나 가지고 있습니까?'))\n",
    "if mymoney >= 3000:\n",
    "    print('택시타고 가세요')\n",
    "# if mymoney <3000:\n",
    "else:\n",
    "    print('걸어가세요')"
   ]
  },
  {
   "cell_type": "code",
   "execution_count": 70,
   "id": "65cd368d-7912-4a79-a9af-b01da2f11a9c",
   "metadata": {},
   "outputs": [
    {
     "name": "stdout",
     "output_type": "stream",
     "text": [
      "==== and 연산 ====\n",
      "True\n",
      "False\n",
      "False\n",
      "False\n",
      "==== o r 연산 ====\n",
      "True\n",
      "True\n",
      "True\n",
      "False\n",
      "==== not 연산 ====\n",
      "True\n",
      "False\n",
      "True\n"
     ]
    }
   ],
   "source": [
    "# and, or, not\n",
    "print(\"==== and 연산 ====\") #하나라도 False면 False\n",
    "print(True and True)\n",
    "print(True and False)\n",
    "print(False and True)\n",
    "print(False and False)\n",
    "print(\"==== o r 연산 ====\") #하나라도 True면 True\n",
    "print(True or True)\n",
    "print(True or False)\n",
    "print(False or True)\n",
    "print(False or False)\n",
    "print(\"==== not 연산 ====\") #반대로 출력\n",
    "print(True)\n",
    "print(not True)\n",
    "print(not False)"
   ]
  },
  {
   "cell_type": "code",
   "execution_count": 47,
   "id": "61ef9a0f-6885-47bf-807e-0b47b0006417",
   "metadata": {},
   "outputs": [
    {
     "name": "stdout",
     "output_type": "stream",
     "text": [
      "만납시다\n"
     ]
    }
   ],
   "source": [
    "이상형 = True\n",
    "똑똑 = True\n",
    "if 이상형 and 똑똑 :\n",
    "    print(\"만납시다\")\n",
    "else:\n",
    "    print(\"반가워요\")"
   ]
  },
  {
   "cell_type": "code",
   "execution_count": 46,
   "id": "d3e14300-12cd-41b3-bb96-d13200e31afe",
   "metadata": {},
   "outputs": [
    {
     "name": "stdout",
     "output_type": "stream",
     "text": [
      "만납시다\n"
     ]
    }
   ],
   "source": [
    "이상형 = False\n",
    "다정 = True\n",
    "if 이상형 or 다정 :\n",
    "    print(\"만납시다\")\n",
    "else:\n",
    "    print(\"반가워요\")"
   ]
  },
  {
   "cell_type": "code",
   "execution_count": 50,
   "id": "208f1b76-496e-4d94-90ef-a6c82e7ebb6e",
   "metadata": {},
   "outputs": [
    {
     "name": "stdout",
     "output_type": "stream",
     "text": [
      "잘가요\n"
     ]
    }
   ],
   "source": [
    "주사 = True\n",
    "if not 주사:\n",
    "    print(\"만납시다\")\n",
    "else:\n",
    "    print(\"잘가요\")"
   ]
  },
  {
   "cell_type": "code",
   "execution_count": 51,
   "id": "50bb4156-ce18-49c4-9f42-45e08bd3cb08",
   "metadata": {},
   "outputs": [
    {
     "name": "stdout",
     "output_type": "stream",
     "text": [
      "택시를 타고 가라\n"
     ]
    }
   ],
   "source": [
    "# 예제 p.127\n",
    "money = 2000\n",
    "card = True\n",
    "if money >= 3000 or card:\n",
    "    print(\"택시를 타고 가라\")\n",
    "else:\n",
    "    print(\"걸어가라\")"
   ]
  },
  {
   "cell_type": "code",
   "execution_count": 56,
   "id": "1c13b2b2-f07c-458b-8323-be64d87b63aa",
   "metadata": {},
   "outputs": [
    {
     "name": "stdout",
     "output_type": "stream",
     "text": [
      "A회사 불합격입니다\n",
      "B회사 합격입니다\n",
      "C회사 합격입니다\n"
     ]
    }
   ],
   "source": [
    "me = 'Python'\n",
    "comA = ['JAVA', 'CSS', 'Javascript', 'C', 'MySQL']\n",
    "comB = ['JAVA', 'Python', 'Javascript', 'C', 'MySQL']\n",
    "comC = ['JAVA', 'Python', 'HTML', 'MySQL']\n",
    "if me in comA:\n",
    "    print(\"A회사 합격입니다\")\n",
    "else:\n",
    "    print(\"A회사 불합격입니다\")\n",
    "if me in comB:\n",
    "    print(\"B회사 합격입니다\")\n",
    "else:\n",
    "    print(\"B회사 불합격입니다\")\n",
    "if me in comC:\n",
    "    print(\"C회사 합격입니다\")\n",
    "else:\n",
    "    print(\"C회사 불합격입니다\")"
   ]
  },
  {
   "cell_type": "code",
   "execution_count": 65,
   "id": "ed9a501a-5918-4f4c-9286-94368c14468c",
   "metadata": {},
   "outputs": [
    {
     "name": "stdin",
     "output_type": "stream",
     "text": [
      "점수를 입력해주세요 : 72\n"
     ]
    },
    {
     "name": "stdout",
     "output_type": "stream",
     "text": [
      "C\n",
      "C학점입니다\n",
      "C학점입니다\n"
     ]
    }
   ],
   "source": [
    "score = int(input(\"점수를 입력해주세요 :\"))\n",
    "if 90<=score:\n",
    "    print(\"A\")\n",
    "elif 80<=score<90:\n",
    "    print(\"B\")\n",
    "elif 70<=score<80:\n",
    "    print(\"C\")\n",
    "elif 60<=score<70:\n",
    "    print(\"D\")\n",
    "else:\n",
    "    print(\"F\")\n",
    "# 강사님 풀이 (if만 사용할 경우)\n",
    "if 90<=score:  grade = \"A\"\n",
    "if 80<=score<90:  grade = \"B\"\n",
    "if 70<=score<80:  grade = \"C\"\n",
    "if 60<=score<70:  grade = \"D\"\n",
    "print(f\"{grade}학점입니다\")\n",
    "# 강사님 풀이 (if, elif, else 사용할 경우)\n",
    "if 90<=score:  grade = \"A\"\n",
    "elif 80<=score<90:  grade = \"B\"\n",
    "elif 70<=score<80:  grade = \"C\"\n",
    "elif 60<=score<70:  grade = \"D\"\n",
    "else : grade = \"F\"\n",
    "print(f\"{grade}학점입니다\")\n",
    "# input으로 값 받을때, or 어쩌고 해놓으면 어쩌고가 기본값\n",
    "# ex. int(input(\"aa\" or 95))  --->  95가 기본값"
   ]
  },
  {
   "cell_type": "code",
   "execution_count": 67,
   "id": "afa13957-9deb-46e2-ad6d-13e9b09160b2",
   "metadata": {},
   "outputs": [
    {
     "name": "stdin",
     "output_type": "stream",
     "text": [
      "현재 기온을 입력해주세요 : 2\n"
     ]
    },
    {
     "name": "stdout",
     "output_type": "stream",
     "text": [
      "현재 계절은 겨울입니다 ❄️\n"
     ]
    }
   ],
   "source": [
    "temp = int(input(\"현재 기온을 입력해주세요 :\"))\n",
    "if 25<=temp:  season = \"여름입니다 ⛱️\"\n",
    "elif 15<=temp<25:  season = \"봄입니다 🌸\"\n",
    "elif 10<=temp<15:  season = \"가을입니다 🍂\"\n",
    "else:  season = \"겨울입니다 ❄️\"\n",
    "print(f\"현재 계절은 {season}\")"
   ]
  },
  {
   "cell_type": "markdown",
   "id": "079e9445-4ec8-43a7-8c0d-12a13ffee861",
   "metadata": {},
   "source": [
    "## while문"
   ]
  },
  {
   "cell_type": "code",
   "execution_count": 36,
   "id": "4e586235-1302-4c72-99b0-cbc392b4d875",
   "metadata": {},
   "outputs": [
    {
     "name": "stdout",
     "output_type": "stream",
     "text": [
      "1 나 화났어\n",
      "2 나 화났어\n",
      "3 나 화났어\n",
      "4 나 화났어\n",
      "5 나 화났어\n",
      "6 나 화났어\n",
      "7 나 화났어\n",
      "8 나 화났어\n",
      "9 나 화났어\n",
      "10 나 화났어\n"
     ]
    }
   ],
   "source": [
    "num = 1\n",
    "while True:\n",
    "    print(num, \"나 화났어\")\n",
    "    num += 1\n",
    "    if num > 10:\n",
    "        break    "
   ]
  },
  {
   "cell_type": "code",
   "execution_count": 38,
   "id": "2da06717-98cc-412d-8e3d-3e5ad48500d2",
   "metadata": {},
   "outputs": [
    {
     "name": "stdout",
     "output_type": "stream",
     "text": [
      "10 나 화났어\n",
      "9 나 화났어\n",
      "8 나 화났어\n",
      "7 나 화났어\n",
      "6 나 화났어\n",
      "5 나 화났어\n",
      "4 나 화났어\n",
      "3 나 화났어\n",
      "2 나 화났어\n",
      "1 나 화났어\n"
     ]
    }
   ],
   "source": [
    "num = 10\n",
    "while num:\n",
    "    print(num, \"나 화났어\")\n",
    "    num -= 1"
   ]
  },
  {
   "cell_type": "code",
   "execution_count": 72,
   "id": "7c214215-edf6-4cb3-8603-2886c956a634",
   "metadata": {},
   "outputs": [
    {
     "name": "stdout",
     "output_type": "stream",
     "text": [
      "나무를 1번 찍었습니다\n",
      "나무를 2번 찍었습니다\n",
      "나무를 3번 찍었습니다\n",
      "나무를 4번 찍었습니다\n",
      "나무를 5번 찍었습니다\n",
      "나무를 6번 찍었습니다\n",
      "나무를 7번 찍었습니다\n",
      "나무를 8번 찍었습니다\n",
      "나무를 9번 찍었습니다\n",
      "나무를 10번 찍었습니다\n",
      "나무 넘어갑니다\n",
      "======================\n",
      "나무를 1번 찍었습니다\n",
      "나무를 2번 찍었습니다\n",
      "나무를 3번 찍었습니다\n",
      "나무를 4번 찍었습니다\n",
      "나무를 5번 찍었습니다\n",
      "나무를 6번 찍었습니다\n",
      "나무를 7번 찍었습니다\n",
      "나무를 8번 찍었습니다\n",
      "나무를 9번 찍었습니다\n",
      "나무를 10번 찍었습니다\n",
      "나무 넘어갑니다\n"
     ]
    }
   ],
   "source": [
    "# 예제\n",
    "treeHit = 0\n",
    "while treeHit < 10:\n",
    "    treeHit = treeHit + 1\n",
    "    print(\"나무를 %d번 찍었습니다\" %treeHit)\n",
    "    if treeHit == 10:\n",
    "        print(\"나무 넘어갑니다\")\n",
    "print(\"=\"*22)\n",
    "# 활용\n",
    "namu = 10\n",
    "while namu:\n",
    "    namu -= 1\n",
    "    print(f\"나무를 {10-namu}번 찍었습니다\")\n",
    "print(\"나무 넘어갑니다\")"
   ]
  },
  {
   "cell_type": "code",
   "execution_count": 1,
   "id": "55b83021-d83c-4b8b-8023-9554ae3a3e34",
   "metadata": {},
   "outputs": [
    {
     "name": "stdout",
     "output_type": "stream",
     "text": [
      "시스템이 종료되었습니다.\n"
     ]
    }
   ],
   "source": [
    "from IPython.display import clear_output\n",
    "prompt = \"\"\"\n",
    "선택해주세요\n",
    "    1. Add\n",
    "    2. Del\n",
    "    3. List\n",
    "    4. Quit\n",
    "\"\"\"\n",
    "number = 0\n",
    "while number != 4:\n",
    "    print(prompt)\n",
    "    number = int(input())\n",
    "    clear_output(wait=True)  #이전 질문 지우기\n",
    "print(\"시스템이 종료되었습니다.\")"
   ]
  },
  {
   "cell_type": "code",
   "execution_count": null,
   "id": "86a8424f-6646-4622-812d-daf19ccb5a93",
   "metadata": {},
   "outputs": [],
   "source": []
  }
 ],
 "metadata": {
  "kernelspec": {
   "display_name": "Python 3 (ipykernel)",
   "language": "python",
   "name": "python3"
  },
  "language_info": {
   "codemirror_mode": {
    "name": "ipython",
    "version": 3
   },
   "file_extension": ".py",
   "mimetype": "text/x-python",
   "name": "python",
   "nbconvert_exporter": "python",
   "pygments_lexer": "ipython3",
   "version": "3.13.1"
  }
 },
 "nbformat": 4,
 "nbformat_minor": 5
}
