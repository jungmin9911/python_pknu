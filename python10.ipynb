{
 "cells": [
  {
   "cell_type": "code",
   "execution_count": 1,
   "id": "a7b2c58e-986d-4d1c-b8eb-e47ee98f8c6d",
   "metadata": {},
   "outputs": [],
   "source": [
    "# with open('./drive/MyDrive/ReadME.md','w') as f:\n",
    "#     data = f.write('*반가워요.')\n",
    "#     print(\"저장되었습니다.\")\n",
    "# !pwd"
   ]
  },
  {
   "cell_type": "markdown",
   "id": "6ddc10a5-602f-4e8f-a64b-04ffcc0fe33e",
   "metadata": {},
   "source": [
    "# 넘파이(numpy)"
   ]
  },
  {
   "cell_type": "markdown",
   "id": "1e18b9d6-4d3d-473c-aaad-aa8648f80167",
   "metadata": {},
   "source": [
    "- ndim : 축의 개수\n",
    "- shape : 배열의 차원정보\n",
    "- size : 배열안에 있는 원소의 총 개수\n",
    "- dtype : 배열 원소의 자료형"
   ]
  },
  {
   "cell_type": "markdown",
   "id": "b40eb6dc-9369-428d-adca-9cf81d0d68aa",
   "metadata": {},
   "source": [
    "## 1차원과 속성들"
   ]
  },
  {
   "cell_type": "code",
   "execution_count": 2,
   "id": "355d725a-65db-4ef5-9346-298b6c82dbb9",
   "metadata": {},
   "outputs": [
    {
     "name": "stdout",
     "output_type": "stream",
     "text": [
      "[0 1 2 3 4] <class 'numpy.ndarray'>\n",
      "1\n",
      "(5,)\n",
      "5\n",
      "int64\n",
      "3\n",
      "[2 3]\n"
     ]
    }
   ],
   "source": [
    "# pip install numpy\n",
    "import numpy as np\n",
    "narry = np.array(range(5))\n",
    "print(narry,type(narry))\n",
    "print(narry.ndim)\n",
    "print(narry.shape)\n",
    "print(narry.size)\n",
    "print(narry.dtype)\n",
    "print(narry[3])\n",
    "print(narry[2:4]) #    <= x <"
   ]
  },
  {
   "cell_type": "code",
   "execution_count": 3,
   "id": "8a01fcc5-382a-4e27-87ba-76943f69896a",
   "metadata": {},
   "outputs": [
    {
     "name": "stdout",
     "output_type": "stream",
     "text": [
      "[1 2 3 4] int64\n",
      "['1' '2' 'a' 'b'] <U21\n",
      "['1' '2' '3' '4'] <U1\n"
     ]
    }
   ],
   "source": [
    "narr1 = np.array([1,2,3,4]) # int64\n",
    "narr2 = np.array([1,2,'a','b'])\n",
    "narr3 = np.array([1,2,3,4],dtype='str')\n",
    "print(narr1,narr1.dtype)\n",
    "print(narr2,narr2.dtype)\n",
    "print(narr3,narr3.dtype)"
   ]
  },
  {
   "cell_type": "code",
   "execution_count": 4,
   "id": "c343463c-26e0-4c1d-9e31-ca6b0f6329d1",
   "metadata": {},
   "outputs": [
    {
     "name": "stdout",
     "output_type": "stream",
     "text": [
      "[[0 0]\n",
      " [0 0]] 2 int64 (2, 2) 4 <class 'numpy.ndarray'>\n",
      "[[1. 1.]\n",
      " [1. 1.]] 2 float64 (2, 2) 4 <class 'numpy.ndarray'>\n",
      "[[3 3 3]\n",
      " [3 3 3]\n",
      " [3 3 3]] 2 int64 (3, 3) 9 <class 'numpy.ndarray'>\n",
      "[['number' 'number' 'number']\n",
      " ['number' 'number' 'number']\n",
      " ['number' 'number' 'number']] 2 <U6 (3, 3) 9 <class 'numpy.ndarray'>\n",
      "[[1. 0. 0.]\n",
      " [0. 1. 0.]\n",
      " [0. 0. 1.]] 2 float64 (3, 3) 9 <class 'numpy.ndarray'>\n",
      "[ 0 20 40 60 80] 1 int64 (5,) 5 <class 'numpy.ndarray'>\n",
      "[ 0 20 40 60 80] 1 int64 (5,) 5 <class 'numpy.ndarray'>\n"
     ]
    }
   ],
   "source": [
    "narr4 = np.zeros((2,2),dtype='int64')\n",
    "narr5 = np.ones((2,2))\n",
    "narr6 = np.full((3,3),3)\n",
    "narr7 = np.full((3,3),'number')\n",
    "narr8 = np.eye(3)\n",
    "narr9 = np.linspace(0,100,5,endpoint=False,dtype='int64')\n",
    "narr10 = np.arange(0,100,20)\n",
    "print(narr4,narr4.ndim,narr4.dtype,narr4.shape,narr4.size,type(narr4))\n",
    "print(narr5,narr5.ndim,narr5.dtype,narr5.shape,narr5.size,type(narr5))\n",
    "print(narr6,narr6.ndim,narr6.dtype,narr6.shape,narr6.size,type(narr6))\n",
    "print(narr7,narr7.ndim,narr7.dtype,narr7.shape,narr7.size,type(narr7))\n",
    "print(narr8,narr8.ndim,narr8.dtype,narr8.shape,narr8.size,type(narr8))\n",
    "print(narr9,narr9.ndim,narr9.dtype,narr9.shape,narr9.size,type(narr9))\n",
    "print(narr10,narr10.ndim,narr10.dtype,narr10.shape,narr10.size,type(narr10))\n"
   ]
  },
  {
   "cell_type": "markdown",
   "id": "2e4cc405-4d16-4cfc-b206-18ddd62f499d",
   "metadata": {},
   "source": [
    "## 2차원 배열"
   ]
  },
  {
   "cell_type": "code",
   "execution_count": 5,
   "id": "9ad61bdb-83b8-4cbc-931d-275fd60a4eb0",
   "metadata": {},
   "outputs": [
    {
     "name": "stdout",
     "output_type": "stream",
     "text": [
      "[2, 3, 4, 5, 6, 7, 8, 9]\n",
      "[2 3 4 5 6 7 8 9]\n"
     ]
    },
    {
     "data": {
      "text/plain": [
       "array([0, 1, 2, 3, 4, 5, 6, 7, 8, 9])"
      ]
     },
     "execution_count": 5,
     "metadata": {},
     "output_type": "execute_result"
    }
   ],
   "source": [
    "print(list(range(2,10)))\n",
    "print(np.arange(2,10))\n",
    "range(10)\n",
    "np.arange(10)"
   ]
  },
  {
   "cell_type": "code",
   "execution_count": 6,
   "id": "e3ee0a66-19ec-4842-a1d2-61c97959b84b",
   "metadata": {},
   "outputs": [
    {
     "name": "stdout",
     "output_type": "stream",
     "text": [
      "[[0 0]\n",
      " [0 0]] 2 int64 (2, 2) 4 <class 'numpy.ndarray'>\n"
     ]
    }
   ],
   "source": [
    "arr1 = np.array([[0,0],[0,0]])\n",
    "print(arr1,arr1.ndim, arr1.dtype, arr1.shape, arr1.size, type(arr1))"
   ]
  },
  {
   "cell_type": "code",
   "execution_count": 7,
   "id": "3e588d1d-031e-4c4b-b939-1f7d90fee51f",
   "metadata": {},
   "outputs": [
    {
     "name": "stdout",
     "output_type": "stream",
     "text": [
      "차원: 2 / 데이터타입: int64 / 형태: (3, 3) / 크기: 9 <class 'numpy.ndarray'> [[1 2 3]\n",
      " [4 5 6]\n",
      " [7 8 9]]\n",
      "차원: 2 / 데이터타입: int64 / 형태: (3, 3) / 크기: 9 <class 'numpy.ndarray'> [[1 2 3]\n",
      " [4 5 6]\n",
      " [7 8 9]]\n",
      "차원: 2 / 데이터타입: int64 / 형태: (2, 5) / 크기: 10 <class 'numpy.ndarray'> [[ 1  2  3  4  5]\n",
      " [ 6  7  8  9 10]]\n",
      "차원: 2 / 데이터타입: int64 / 형태: (5, 2) / 크기: 10 <class 'numpy.ndarray'> [[ 1  2]\n",
      " [ 3  4]\n",
      " [ 5  6]\n",
      " [ 7  8]\n",
      " [ 9 10]]\n",
      "차원: 3 / 데이터타입: int64 / 형태: (3, 3, 3) / 크기: 27 <class 'numpy.ndarray'> [[[ 1  2  3]\n",
      "  [ 4  5  6]\n",
      "  [ 7  8  9]]\n",
      "\n",
      " [[10 11 12]\n",
      "  [13 14 15]\n",
      "  [16 17 18]]\n",
      "\n",
      " [[19 20 21]\n",
      "  [22 23 24]\n",
      "  [25 26 27]]]\n"
     ]
    }
   ],
   "source": [
    "arr2 = np.array([1,2,3,4,5,6,7,8,9]).reshape(3,3)\n",
    "arr3 = np.arange(1,10).reshape(3,3)\n",
    "arr4 = np.arange(1,11).reshape(2,5)\n",
    "arr5 = np.arange(1,11).reshape(5,2)\n",
    "arr6 = np.arange(1,28).reshape(3,3,3)\n",
    "print('차원:',arr2.ndim,'/ 데이터타입:', arr2.dtype,'/ 형태:', arr2.shape, '/ 크기:',arr2.size, type(arr2),arr2)\n",
    "print('차원:',arr3.ndim,'/ 데이터타입:', arr3.dtype,'/ 형태:', arr3.shape, '/ 크기:',arr3.size, type(arr3),arr3)\n",
    "print('차원:',arr4.ndim,'/ 데이터타입:', arr4.dtype,'/ 형태:', arr4.shape, '/ 크기:',arr4.size, type(arr4),arr4)\n",
    "print('차원:',arr5.ndim,'/ 데이터타입:', arr5.dtype,'/ 형태:', arr5.shape, '/ 크기:',arr5.size, type(arr5),arr5)\n",
    "print('차원:',arr6.ndim,'/ 데이터타입:', arr6.dtype,'/ 형태:', arr6.shape, '/ 크기:',arr6.size, type(arr6),arr6)"
   ]
  },
  {
   "cell_type": "code",
   "execution_count": 8,
   "id": "fe521dc2-1d9b-48f5-a087-e19d43f36351",
   "metadata": {},
   "outputs": [
    {
     "name": "stdout",
     "output_type": "stream",
     "text": [
      "[[ 1  2  3  4  5  6  7]\n",
      " [ 8  9 10 11 12 13 14]\n",
      " [15 16 17 18 19 20 21]]\n",
      "=======================\n",
      "[[1]\n",
      " [2]\n",
      " [3]\n",
      " [4]\n",
      " [5]\n",
      " [6]\n",
      " [7]]\n",
      "=======================\n",
      "[[ 1  2]\n",
      " [ 3  4]\n",
      " [ 5  6]\n",
      " [ 7  8]\n",
      " [ 9 10]]\n",
      "=======================\n",
      "[[ 1  2  3  4  5  6  7]\n",
      " [ 8  9 10 11 12 13 14]\n",
      " [15 16 17 18 19 20 21]]\n",
      "=======================\n",
      "[[[ 1]\n",
      "  [ 2]\n",
      "  [ 3]]\n",
      "\n",
      " [[ 4]\n",
      "  [ 5]\n",
      "  [ 6]]\n",
      "\n",
      " [[ 7]\n",
      "  [ 8]\n",
      "  [ 9]]\n",
      "\n",
      " [[10]\n",
      "  [11]\n",
      "  [12]]]\n"
     ]
    }
   ],
   "source": [
    "t1 = np.arange(1,22).reshape(3,7)\n",
    "t2 = np.arange(1,8).reshape(7,1)\n",
    "t3 = np.arange(1,11).reshape(5,2)\n",
    "t4 = np.arange(1,22).reshape(3,7)\n",
    "t5 = np.arange(1,13).reshape(4,3,1)\n",
    "print(t1)\n",
    "print(\"=\"*23)\n",
    "print(t2)\n",
    "print(\"=\"*23)\n",
    "print(t3)\n",
    "print(\"=\"*23)\n",
    "print(t4)\n",
    "print(\"=\"*23)\n",
    "print(t5)"
   ]
  },
  {
   "cell_type": "code",
   "execution_count": 9,
   "id": "23c1d574-6d53-41e8-989c-7ef830d77bf7",
   "metadata": {},
   "outputs": [
    {
     "name": "stdout",
     "output_type": "stream",
     "text": [
      "[10 11 12]\n",
      "[[ 1  2  3  4  5  6  7]\n",
      " [ 8  9 10 11 12 13 14]\n",
      " [15 16 17 18 19 20 21]]\n",
      "[[10 11]\n",
      " [17 18]]\n",
      "[[12 13]\n",
      " [19 20]]\n",
      "[[False  True False  True False  True False]\n",
      " [ True False  True False  True False  True]\n",
      " [False  True False  True False  True False]]\n"
     ]
    }
   ],
   "source": [
    "# test\n",
    "print(t1[1][2:5])\n",
    "print(t4)\n",
    "print(t4[1:3,2:4])\n",
    "print(t4[1:3,4:6])\n",
    "print(t4 % 2 == 0)"
   ]
  },
  {
   "cell_type": "code",
   "execution_count": 10,
   "id": "1ca1d201-3202-4941-8b80-38cb5e58d738",
   "metadata": {},
   "outputs": [
    {
     "name": "stdout",
     "output_type": "stream",
     "text": [
      "덧셈: [ 7  9 11 13 15]\n",
      "뺄셈: [5 5 5 5 5]\n",
      "곱셈: [ 6 14 24 36 50]\n",
      "나눗셈: [6.         3.5        2.66666667 2.25       2.        ]\n"
     ]
    }
   ],
   "source": [
    "# np 배열 연산 // shape 가 같을 경우 원소별 연산이 가능\n",
    "np1 = np.array([6,7,8,9,10])\n",
    "np2 = np.array([1,2,3,4,5])\n",
    "print(\"덧셈:\",np1 + np2)\n",
    "print(\"뺄셈:\",np1 - np2)\n",
    "print(\"곱셈:\",np1 * np2)\n",
    "print(\"나눗셈:\",np1 / np2)"
   ]
  },
  {
   "cell_type": "code",
   "execution_count": 11,
   "id": "eb7c9ab8-99b5-4077-b1d0-76211c01c14b",
   "metadata": {},
   "outputs": [
    {
     "name": "stdout",
     "output_type": "stream",
     "text": [
      "[16 17 18 19 20]\n"
     ]
    }
   ],
   "source": [
    "# 브로드캐스팅\n",
    "np3 = np1 + 10\n",
    "print(np3)"
   ]
  },
  {
   "cell_type": "code",
   "execution_count": 12,
   "id": "27808561-e32e-4617-91ef-6a7fc3e95738",
   "metadata": {},
   "outputs": [
    {
     "name": "stdout",
     "output_type": "stream",
     "text": [
      "[[1 2 3]\n",
      " [4 5 6]\n",
      " [7 8 9]]\n",
      "[11 22 33]\n",
      "=====스칼라와 연산=====\n",
      "[[1 2 3]\n",
      " [4 5 6]\n",
      " [7 8 9]]\n",
      "[[ 4  5  6]\n",
      " [ 7  8  9]\n",
      " [10 11 12]]\n",
      "[[ 2  4  6]\n",
      " [ 8 10 12]\n",
      " [14 16 18]]\n",
      "=====2D 와 1D 의 연산=====\n",
      "[11 22 33]\n",
      "[[12 24 36]\n",
      " [15 27 39]\n",
      " [18 30 42]]\n",
      "[[ 11  44  99]\n",
      " [ 44 110 198]\n",
      " [ 77 176 297]]\n"
     ]
    }
   ],
   "source": [
    "br1 = np.arange(1,10).reshape(3,3)\n",
    "br2 = np.array([11,22,33]) #.reshape(1,3)\n",
    "print(br1)\n",
    "print(br2)\n",
    "# 스칼라와 연산\n",
    "print(\"=====스칼라와 연산=====\")\n",
    "print(br1)\n",
    "print(br1+3)\n",
    "print(br1*2)\n",
    "# 2D 와 1D 의 연산\n",
    "print(\"=====2D 와 1D 의 연산=====\")\n",
    "print(br2)\n",
    "print(br1+br2)\n",
    "print(br1*br2)"
   ]
  },
  {
   "cell_type": "code",
   "execution_count": 13,
   "id": "e328bce9-6a20-483e-98b2-6a97df76e4a8",
   "metadata": {},
   "outputs": [
    {
     "name": "stdout",
     "output_type": "stream",
     "text": [
      "[[1 2 3]\n",
      " [4 5 6]\n",
      " [7 8 9]]\n",
      "[1 2 3 4 5 6 7 8 9]\n",
      "[1 2 3 4 5 6 7 8 9]\n"
     ]
    }
   ],
   "source": [
    "# flatten 처리\n",
    "ff = np.arange(1,10).reshape(3,3)\n",
    "print(ff)\n",
    "print(ff.reshape(9))\n",
    "print(ff.flatten())"
   ]
  },
  {
   "cell_type": "markdown",
   "id": "f1a2404c-7e3a-46c5-9745-ec56d0ae0926",
   "metadata": {},
   "source": [
    "## Random number 발생"
   ]
  },
  {
   "cell_type": "markdown",
   "id": "3c45f097-048f-4664-8cd6-9063a3b7a781",
   "metadata": {},
   "source": [
    "- np.random.randint() : 균일 분포의 정수 난수\n",
    "- np.random.rand() : 0부터 1사이의 균일 분포 난수 생성\n",
    "- np.random.randn() : 표준 정규 분포 난수 생성\n",
    "- np.random.normal() : 정규 분포 난수 생성"
   ]
  },
  {
   "cell_type": "code",
   "execution_count": 14,
   "id": "ee40135d-8bc8-425c-8514-ab0d0762f106",
   "metadata": {},
   "outputs": [
    {
     "data": {
      "text/plain": [
       "array([[[109, 192,  77],\n",
       "        [114, 254, 154],\n",
       "        [142, 102,  34]],\n",
       "\n",
       "       [[ 11, 174, 145],\n",
       "        [ 55,   1,  95],\n",
       "        [138, 180,  71]],\n",
       "\n",
       "       [[210,  72,  70],\n",
       "        [248,   5, 250],\n",
       "        [176,  72,  58]]], dtype=int32)"
      ]
     },
     "execution_count": 14,
     "metadata": {},
     "output_type": "execute_result"
    }
   ],
   "source": [
    "# randomint\n",
    "import numpy as np\n",
    "x = np.random.randint(0,255,size=(3,3,3))\n",
    "x"
   ]
  },
  {
   "cell_type": "code",
   "execution_count": 15,
   "id": "200b5f17-6e28-4661-968a-7cf89bcc939e",
   "metadata": {},
   "outputs": [
    {
     "name": "stdout",
     "output_type": "stream",
     "text": [
      "평균값: 118.85185185185185 표준편차: 73.01075704797748 최소값: 1 최대값: 254\n"
     ]
    }
   ],
   "source": [
    "print('평균값:',np.mean(x),'표준편차:',np.std(x),'최소값:',x.min(),'최대값:',x.max())"
   ]
  },
  {
   "cell_type": "code",
   "execution_count": 16,
   "id": "832f0e01-a90b-4498-a772-947d27cff959",
   "metadata": {},
   "outputs": [
    {
     "name": "stdout",
     "output_type": "stream",
     "text": [
      "27\n"
     ]
    }
   ],
   "source": [
    "print(len(x.flatten()))"
   ]
  },
  {
   "cell_type": "code",
   "execution_count": 17,
   "id": "0cced427-538c-4cfb-a53c-ad25ae154a4e",
   "metadata": {},
   "outputs": [
    {
     "name": "stdout",
     "output_type": "stream",
     "text": [
      "27\n",
      "22\n"
     ]
    }
   ],
   "source": [
    "y = np.array([0,1,2,3,4,6,34,2,0,23,3,1,2,3,0,0,12,3,5,34,3,3,23,0,1,2,3]).reshape(3,3,3)\n",
    "print(len(y.flatten()))\n",
    "print(np.count_nonzero(y))"
   ]
  },
  {
   "cell_type": "code",
   "execution_count": 22,
   "id": "4663a67a-98f3-4855-a25a-1be16ace3165",
   "metadata": {},
   "outputs": [
    {
     "data": {
      "text/plain": [
       "array([[0.35440215, 0.57812244, 0.32764114, 0.8116618 , 0.49390061],\n",
       "       [0.28397121, 0.12024567, 0.28592382, 0.11210813, 0.91607747],\n",
       "       [0.64051858, 0.1942363 , 0.0552804 , 0.66078443, 0.59857743],\n",
       "       [0.89745936, 0.04173478, 0.34387122, 0.63506375, 0.01464071],\n",
       "       [0.9343131 , 0.62262257, 0.83540958, 0.18543834, 0.70086724],\n",
       "       [0.32943071, 0.31009106, 0.87650136, 0.20076256, 0.77488361],\n",
       "       [0.1142548 , 0.86327545, 0.57066241, 0.95294421, 0.81849395],\n",
       "       [0.49194016, 0.43265381, 0.04259633, 0.94967613, 0.62728508],\n",
       "       [0.44327967, 0.98961473, 0.61245035, 0.84486816, 0.10039108],\n",
       "       [0.69242255, 0.48615348, 0.28421341, 0.48042039, 0.87727524]])"
      ]
     },
     "execution_count": 22,
     "metadata": {},
     "output_type": "execute_result"
    }
   ],
   "source": [
    "# size = (10,5)\n",
    "x = np.random.rand(10,5)\n",
    "x"
   ]
  },
  {
   "cell_type": "code",
   "execution_count": 26,
   "id": "b8d54438-9c21-4cd0-962c-fbbd6f3ae8da",
   "metadata": {},
   "outputs": [
    {
     "name": "stdout",
     "output_type": "stream",
     "text": [
      "[[ 8.08161048  6.7660075   3.26272772  8.33813323  5.29538523]\n",
      " [ 5.63548811  7.34592456  5.78950581  5.36052461  9.63899356]\n",
      " [10.46372268  5.25893036 -0.74447171  5.31786039 12.02867846]\n",
      " [ 3.09926016  9.19521121  9.87596635  3.65028926  4.54109011]\n",
      " [10.5181167   1.90674813  2.06104555  8.21982004  5.82529731]\n",
      " [11.28828786  4.53534731 -0.94381645  1.90190043 -0.82608805]\n",
      " [ 6.48875118 -0.9444344   8.38231168  3.65139153  6.42990569]\n",
      " [ 2.2111234   1.36358983  5.66644099  2.06012529 -1.0095638 ]\n",
      " [ 4.46661069  1.94016382  9.16125199  1.49949192 -0.30003513]\n",
      " [ 3.73493323  6.13001557  5.15587579  5.63793655 -2.17955502]]\n",
      "4.8446765540627315 3.5576205080897183 -2.1795550171153 12.028678459083782\n"
     ]
    }
   ],
   "source": [
    "x = np.random.normal(5,3,(10,5))  # 평균이 , 표준편차 3\n",
    "print(x)\n",
    "print(np.mean(x), np.std(x), x.min(), x.max())"
   ]
  },
  {
   "cell_type": "code",
   "execution_count": 27,
   "id": "376173df-e7e3-4e4e-922c-6e2d76176e6b",
   "metadata": {},
   "outputs": [
    {
     "name": "stdout",
     "output_type": "stream",
     "text": [
      "[[ 1.94854147 -1.34122991  0.16616229  0.03099945 -1.09042658]\n",
      " [-0.09420555  0.48536077  1.28802829 -0.26516332 -0.69906524]\n",
      " [-0.38189607 -0.74609176 -0.17649478  1.48184502  0.15134686]\n",
      " [ 0.23592649 -1.34033435  1.8489522   2.24144969 -1.6932407 ]\n",
      " [-0.06164161  1.60636594  1.1379711  -0.50990587 -1.32475414]\n",
      " [-0.90573393 -0.55340525 -1.28672386  1.34703358  0.63692363]\n",
      " [-0.29802278  0.57139607 -1.46363108 -1.34937723 -1.0937861 ]\n",
      " [ 1.04169278 -0.28677169 -0.58712807 -1.19081197 -0.60851357]\n",
      " [-0.01303402 -0.04377329  0.56370367 -0.71092853 -0.30161286]\n",
      " [ 0.31485667 -1.24575124 -1.3313076  -0.90731259  0.51045976]]\n",
      "-0.12586119589487788 0.9979303619558947 -1.6932407002833416 2.24144969417631\n"
     ]
    }
   ],
   "source": [
    "x = np.random.randn(10,5)\n",
    "print(x)\n",
    "print(np.mean(x), np.std(x), x.min(), x.max())"
   ]
  },
  {
   "cell_type": "code",
   "execution_count": 28,
   "id": "ff67d964-a353-4b7e-88cc-ba0f5e28911e",
   "metadata": {},
   "outputs": [
    {
     "name": "stdout",
     "output_type": "stream",
     "text": [
      "x의 개수 14\n",
      "x의 개수 11\n",
      "0의 개수 3\n"
     ]
    }
   ],
   "source": [
    "x = np.array([3,4,45,43,65,0,0,0,24362,6,45,6,432,562])\n",
    "print(\"x의 개수\", len(x))\n",
    "print(\"x의 개수\", np.count_nonzero(x))\n",
    "print(\"0의 개수\", len(x) - np.count_nonzero(x))"
   ]
  },
  {
   "cell_type": "code",
   "execution_count": 32,
   "id": "3bd2cfe2-fbc7-4c72-a33a-ddca75537987",
   "metadata": {},
   "outputs": [
    {
     "name": "stdout",
     "output_type": "stream",
     "text": [
      "1826.642857142857\n",
      "1826.642857142857\n",
      "39093356.8010204\n",
      "39093356.8010204\n",
      "6252.468056777291\n",
      "6252.468056777291\n",
      "24362\n",
      "0\n",
      "24.5\n"
     ]
    }
   ],
   "source": [
    "print(np.mean(x))\n",
    "print(x.mean())\n",
    "print(np.var(x))\n",
    "print(x.var())\n",
    "print(np.std(x))\n",
    "print(x.std())\n",
    "print(x.max())\n",
    "print(x.min())\n",
    "print(np.median(x))"
   ]
  },
  {
   "cell_type": "code",
   "execution_count": 33,
   "id": "48049aa8-8cc4-4975-b533-a7e7ca5dd6be",
   "metadata": {
    "scrolled": true
   },
   "outputs": [
    {
     "name": "stdout",
     "output_type": "stream",
     "text": [
      "0.0\n",
      "3.25\n",
      "24.5\n",
      "60.0\n",
      "24362.0\n"
     ]
    }
   ],
   "source": [
    "print(np.percentile(x,0))  # 최소값\n",
    "print(np.percentile(x,25))  # 제 1사분위수\n",
    "print(np.percentile(x,50))  # 중앙값, 제 2사분위수\n",
    "print(np.percentile(x,75))  # 제 3사분위수\n",
    "print(np.percentile(x,100))  # 최대값"
   ]
  },
  {
   "cell_type": "markdown",
   "id": "4a54284a-2abd-4fa9-ac38-d4f498508eaf",
   "metadata": {},
   "source": [
    "# 판다스(pandas)"
   ]
  },
  {
   "cell_type": "markdown",
   "id": "d30243d8-d9cb-4101-9258-b5a486b76327",
   "metadata": {},
   "source": [
    "- 시리즈(series)\n",
    "- 데이터프레임(dataframe)"
   ]
  },
  {
   "cell_type": "code",
   "execution_count": 19,
   "id": "5f5ba0cb-8ece-41c2-8cfb-7205bb6b4a46",
   "metadata": {},
   "outputs": [],
   "source": [
    "import numpy as np\n",
    "import pandas as pd"
   ]
  },
  {
   "cell_type": "code",
   "execution_count": 22,
   "id": "ba44b08b-dfd2-40a9-8ef2-ec5f3a9a86d2",
   "metadata": {},
   "outputs": [
    {
     "name": "stdout",
     "output_type": "stream",
     "text": [
      "0     1\n",
      "1     2\n",
      "2     3\n",
      "3     4\n",
      "4     5\n",
      "5     6\n",
      "6     7\n",
      "7     8\n",
      "8     9\n",
      "9    10\n",
      "dtype: int64\n"
     ]
    }
   ],
   "source": [
    "data1 = np.arange(1,11)\n",
    "# print(data1)\n",
    "data2 = pd.Series(data1)\n",
    "print(data2)"
   ]
  },
  {
   "cell_type": "code",
   "execution_count": 31,
   "id": "8840510d-ed71-47cf-8fa1-b2aa54626501",
   "metadata": {},
   "outputs": [
    {
     "name": "stdout",
     "output_type": "stream",
     "text": [
      "0    1.0\n",
      "1    2.0\n",
      "2    3.0\n",
      "3    4.0\n",
      "4    5.0\n",
      "5    6.0\n",
      "6    7.0\n",
      "dtype: float64\n"
     ]
    }
   ],
   "source": [
    "data3 = pd.Series([1,2,3,4,5,6,7], dtype=\"float\")\n",
    "print(data3)"
   ]
  },
  {
   "cell_type": "code",
   "execution_count": 33,
   "id": "369babcc-c8ba-4a90-8281-fa06c4ba41a0",
   "metadata": {},
   "outputs": [
    {
     "name": "stdout",
     "output_type": "stream",
     "text": [
      "a    1\n",
      "b    2\n",
      "c    3\n",
      "d    4\n",
      "dtype: int64\n"
     ]
    }
   ],
   "source": [
    "# 판다스 시리즈의 인덱스설정\n",
    "data3 = pd.Series([1,2,3,4], index=['a','b','c','d'])\n",
    "print(data3)"
   ]
  },
  {
   "cell_type": "code",
   "execution_count": 48,
   "id": "277d4f64-5f06-4e12-bf37-212d7b758d36",
   "metadata": {},
   "outputs": [
    {
     "name": "stdout",
     "output_type": "stream",
     "text": [
      "korea      5182\n",
      "japan     12622\n",
      "china    141178\n",
      "usa       32976\n",
      "dtype: int64 Index(['korea', 'japan', 'china', 'usa'], dtype='object') [  5182  12622 141178  32976]\n",
      "1 (4,) 4\n",
      "32976\n",
      "32976\n"
     ]
    }
   ],
   "source": [
    "# 판다수 시리즈 딕셔너리데이터\n",
    "population_dict = {\n",
    "    'korea':5182,\n",
    "    'japan':12622,\n",
    "    'china':141178,\n",
    "    'usa':32976\n",
    "}\n",
    "# population_dict.keys()\n",
    "# population_dict.values()\n",
    "# population_dict.items()\n",
    "country = pd.Series(population_dict)\n",
    "print(country, country.index, country.values)\n",
    "print(country.ndim, country.shape, country.size)\n",
    "# 시리즈 원소에 접근방법\n",
    "print(country.loc['usa'])\n",
    "print(country.iloc[3])"
   ]
  },
  {
   "cell_type": "code",
   "execution_count": 50,
   "id": "ab6d03a9-1d91-4ed3-97c4-73653ecc4a4a",
   "metadata": {},
   "outputs": [
    {
     "data": {
      "text/html": [
       "<div>\n",
       "<style scoped>\n",
       "    .dataframe tbody tr th:only-of-type {\n",
       "        vertical-align: middle;\n",
       "    }\n",
       "\n",
       "    .dataframe tbody tr th {\n",
       "        vertical-align: top;\n",
       "    }\n",
       "\n",
       "    .dataframe thead th {\n",
       "        text-align: right;\n",
       "    }\n",
       "</style>\n",
       "<table border=\"1\" class=\"dataframe\">\n",
       "  <thead>\n",
       "    <tr style=\"text-align: right;\">\n",
       "      <th></th>\n",
       "      <th>A</th>\n",
       "      <th>B</th>\n",
       "      <th>C</th>\n",
       "    </tr>\n",
       "  </thead>\n",
       "  <tbody>\n",
       "    <tr>\n",
       "      <th>a</th>\n",
       "      <td>1</td>\n",
       "      <td>2</td>\n",
       "      <td>3</td>\n",
       "    </tr>\n",
       "    <tr>\n",
       "      <th>b</th>\n",
       "      <td>4</td>\n",
       "      <td>5</td>\n",
       "      <td>6</td>\n",
       "    </tr>\n",
       "    <tr>\n",
       "      <th>c</th>\n",
       "      <td>7</td>\n",
       "      <td>8</td>\n",
       "      <td>9</td>\n",
       "    </tr>\n",
       "  </tbody>\n",
       "</table>\n",
       "</div>"
      ],
      "text/plain": [
       "   A  B  C\n",
       "a  1  2  3\n",
       "b  4  5  6\n",
       "c  7  8  9"
      ]
     },
     "execution_count": 50,
     "metadata": {},
     "output_type": "execute_result"
    }
   ],
   "source": [
    "# 판다스 데이터 프레임\n",
    "df = pd.DataFrame([[1,2,3],[4,5,6],[7,8,9]], index=['a','b','c'],columns=['A','B','C'])\n",
    "df"
   ]
  },
  {
   "cell_type": "code",
   "execution_count": 67,
   "id": "534cfc72-ceea-4db0-9c88-5dca81aea2cb",
   "metadata": {},
   "outputs": [
    {
     "name": "stdout",
     "output_type": "stream",
     "text": [
      "인구수 시리즈 데이터 : \n",
      "korea      5182\n",
      "japan     12622\n",
      "china    141178\n",
      "usa       32976\n",
      "dtype: int64\n",
      "GDP 시리즈 데이터 : \n",
      "korea     169320000\n",
      "japan     516700000\n",
      "china     140925000\n",
      "usa      2041280000\n",
      "dtype: int64\n",
      "=========================\n",
      "데이터 프레임 생성 : \n",
      "Index(['korea', 'japan', 'china', 'usa'], dtype='object', name='Country') Index(['population', 'gdp'], dtype='object', name='Info')\n",
      "[[      5182  169320000]\n",
      " [     12622  516700000]\n",
      " [    141178  140925000]\n",
      " [     32976 2041280000]] (4, 2) 8 2\n"
     ]
    }
   ],
   "source": [
    "# 테스트\n",
    "import numpy as np\n",
    "import pandas as pd\n",
    "\n",
    "# 두개의 시리즈 데이터\n",
    "print(\"인구수 시리즈 데이터 : \")\n",
    "population_dict = {\n",
    "    'korea':5182,\n",
    "    'japan':12622,\n",
    "    'china':141178,\n",
    "    'usa':32976\n",
    "}\n",
    "population = pd.Series(population_dict)\n",
    "print(population)\n",
    "\n",
    "print(\"GDP 시리즈 데이터 : \")\n",
    "GDP_dict = {\n",
    "    'korea':169320000,\n",
    "    'japan':516700000,\n",
    "    'china':140925000,\n",
    "    'usa':2041280000\n",
    "}\n",
    "GDP = pd.Series(GDP_dict)\n",
    "print(GDP)\n",
    "print('='*25)\n",
    "print(\"데이터 프레임 생성 : \")\n",
    "country = pd.DataFrame({'population':population, 'gdp':GDP})\n",
    "country.index.name = 'Country'    # d인덱스 이름을 지정\n",
    "country.columns.name = \"Info\"\n",
    "print(country.index, country.columns)\n",
    "print(country.values, country.shape, country.size, country.ndim)"
   ]
  },
  {
   "cell_type": "code",
   "execution_count": 134,
   "id": "b99da307-45a6-45cc-82b3-b6f1e0e191df",
   "metadata": {},
   "outputs": [
    {
     "data": {
      "text/plain": [
       "(Info\n",
       " population       141178.0\n",
       " gdp           140925000.0\n",
       " gdp_per        998.207936\n",
       " Name: china, dtype: object,\n",
       " Info\n",
       " population         12622.0\n",
       " gdp            516700000.0\n",
       " gdp_per       40936.460149\n",
       " Name: japan, dtype: object)"
      ]
     },
     "execution_count": 134,
     "metadata": {},
     "output_type": "execute_result"
    }
   ],
   "source": [
    "country.loc['korea'], country.loc['usa']\n",
    "country.iloc[2], country.iloc[1]"
   ]
  },
  {
   "cell_type": "code",
   "execution_count": 74,
   "id": "01777263-6dc2-420b-9780-ed2da6397bff",
   "metadata": {},
   "outputs": [
    {
     "data": {
      "text/html": [
       "<div>\n",
       "<style scoped>\n",
       "    .dataframe tbody tr th:only-of-type {\n",
       "        vertical-align: middle;\n",
       "    }\n",
       "\n",
       "    .dataframe tbody tr th {\n",
       "        vertical-align: top;\n",
       "    }\n",
       "\n",
       "    .dataframe thead th {\n",
       "        text-align: right;\n",
       "    }\n",
       "</style>\n",
       "<table border=\"1\" class=\"dataframe\">\n",
       "  <thead>\n",
       "    <tr style=\"text-align: right;\">\n",
       "      <th>Info</th>\n",
       "      <th>population</th>\n",
       "    </tr>\n",
       "    <tr>\n",
       "      <th>Country</th>\n",
       "      <th></th>\n",
       "    </tr>\n",
       "  </thead>\n",
       "  <tbody>\n",
       "    <tr>\n",
       "      <th>korea</th>\n",
       "      <td>5182</td>\n",
       "    </tr>\n",
       "    <tr>\n",
       "      <th>japan</th>\n",
       "      <td>12622</td>\n",
       "    </tr>\n",
       "  </tbody>\n",
       "</table>\n",
       "</div>"
      ],
      "text/plain": [
       "Info     population\n",
       "Country            \n",
       "korea          5182\n",
       "japan         12622"
      ]
     },
     "execution_count": 74,
     "metadata": {},
     "output_type": "execute_result"
    }
   ],
   "source": [
    "country.iloc[0:2, :1]"
   ]
  },
  {
   "cell_type": "code",
   "execution_count": 84,
   "id": "b8ac0bb8-86a6-4835-a28a-a478e1e584ba",
   "metadata": {},
   "outputs": [
    {
     "data": {
      "text/html": [
       "<div>\n",
       "<style scoped>\n",
       "    .dataframe tbody tr th:only-of-type {\n",
       "        vertical-align: middle;\n",
       "    }\n",
       "\n",
       "    .dataframe tbody tr th {\n",
       "        vertical-align: top;\n",
       "    }\n",
       "\n",
       "    .dataframe thead th {\n",
       "        text-align: right;\n",
       "    }\n",
       "</style>\n",
       "<table border=\"1\" class=\"dataframe\">\n",
       "  <thead>\n",
       "    <tr style=\"text-align: right;\">\n",
       "      <th>Info</th>\n",
       "      <th>population</th>\n",
       "      <th>gdp</th>\n",
       "      <th>gdp_per</th>\n",
       "    </tr>\n",
       "    <tr>\n",
       "      <th>Country</th>\n",
       "      <th></th>\n",
       "      <th></th>\n",
       "      <th></th>\n",
       "    </tr>\n",
       "  </thead>\n",
       "  <tbody>\n",
       "    <tr>\n",
       "      <th>korea</th>\n",
       "      <td>5182</td>\n",
       "      <td>169320000</td>\n",
       "      <td>32674.642995</td>\n",
       "    </tr>\n",
       "    <tr>\n",
       "      <th>japan</th>\n",
       "      <td>12622</td>\n",
       "      <td>516700000</td>\n",
       "      <td>40936.460149</td>\n",
       "    </tr>\n",
       "    <tr>\n",
       "      <th>china</th>\n",
       "      <td>141178</td>\n",
       "      <td>140925000</td>\n",
       "      <td>998.207936</td>\n",
       "    </tr>\n",
       "    <tr>\n",
       "      <th>usa</th>\n",
       "      <td>32976</td>\n",
       "      <td>2041280000</td>\n",
       "      <td>61901.989326</td>\n",
       "    </tr>\n",
       "  </tbody>\n",
       "</table>\n",
       "</div>"
      ],
      "text/plain": [
       "Info     population         gdp       gdp_per\n",
       "Country                                      \n",
       "korea          5182   169320000  32674.642995\n",
       "japan         12622   516700000  40936.460149\n",
       "china        141178   140925000    998.207936\n",
       "usa           32976  2041280000  61901.989326"
      ]
     },
     "execution_count": 84,
     "metadata": {},
     "output_type": "execute_result"
    }
   ],
   "source": [
    "# 컬럼추가\n",
    "# country['test'] = [11,22,33,44]\n",
    "# country = country.drop('test', axis=1)  # 컬럼삭제\n",
    "gdpper = country['gdp'] / country['population']\n",
    "country['gdp_per'] = gdpper\n",
    "country"
   ]
  },
  {
   "cell_type": "code",
   "execution_count": 107,
   "id": "8fb8066a-8d81-4950-9c6c-6c7d31a88c57",
   "metadata": {},
   "outputs": [
    {
     "data": {
      "text/html": [
       "<div>\n",
       "<style scoped>\n",
       "    .dataframe tbody tr th:only-of-type {\n",
       "        vertical-align: middle;\n",
       "    }\n",
       "\n",
       "    .dataframe tbody tr th {\n",
       "        vertical-align: top;\n",
       "    }\n",
       "\n",
       "    .dataframe thead th {\n",
       "        text-align: right;\n",
       "    }\n",
       "</style>\n",
       "<table border=\"1\" class=\"dataframe\">\n",
       "  <thead>\n",
       "    <tr style=\"text-align: right;\">\n",
       "      <th>Info</th>\n",
       "      <th>population</th>\n",
       "      <th>gdp</th>\n",
       "      <th>gdp_per</th>\n",
       "    </tr>\n",
       "    <tr>\n",
       "      <th>Country</th>\n",
       "      <th></th>\n",
       "      <th></th>\n",
       "      <th></th>\n",
       "    </tr>\n",
       "  </thead>\n",
       "  <tbody>\n",
       "    <tr>\n",
       "      <th>korea</th>\n",
       "      <td>5182.0</td>\n",
       "      <td>1.693200e+08</td>\n",
       "      <td>32674.642995</td>\n",
       "    </tr>\n",
       "    <tr>\n",
       "      <th>japan</th>\n",
       "      <td>12622.0</td>\n",
       "      <td>5.167000e+08</td>\n",
       "      <td>40936.460149</td>\n",
       "    </tr>\n",
       "    <tr>\n",
       "      <th>china</th>\n",
       "      <td>141178.0</td>\n",
       "      <td>1.409250e+08</td>\n",
       "      <td>998.207936</td>\n",
       "    </tr>\n",
       "    <tr>\n",
       "      <th>usa</th>\n",
       "      <td>32976.0</td>\n",
       "      <td>2.041280e+09</td>\n",
       "      <td>61901.989326</td>\n",
       "    </tr>\n",
       "    <tr>\n",
       "      <th>india</th>\n",
       "      <td>142222.0</td>\n",
       "      <td>1.505050e+08</td>\n",
       "      <td>1058.239935</td>\n",
       "    </tr>\n",
       "  </tbody>\n",
       "</table>\n",
       "</div>"
      ],
      "text/plain": [
       "Info     population           gdp       gdp_per\n",
       "Country                                        \n",
       "korea        5182.0  1.693200e+08  32674.642995\n",
       "japan       12622.0  5.167000e+08  40936.460149\n",
       "china      141178.0  1.409250e+08    998.207936\n",
       "usa         32976.0  2.041280e+09  61901.989326\n",
       "india      142222.0  1.505050e+08   1058.239935"
      ]
     },
     "execution_count": 107,
     "metadata": {},
     "output_type": "execute_result"
    }
   ],
   "source": [
    "# 행추가\n",
    "country.loc['india'] = [142222, 150505000, 'NaN']\n",
    "country.loc['india', 'gdp_per'] = country.loc['india', 'gdp'] / country.loc['india', 'population']\n",
    "country"
   ]
  },
  {
   "cell_type": "code",
   "execution_count": 108,
   "id": "5dac39c5-d564-4aab-862a-1a2485f2ca00",
   "metadata": {},
   "outputs": [
    {
     "data": {
      "text/html": [
       "<div>\n",
       "<style scoped>\n",
       "    .dataframe tbody tr th:only-of-type {\n",
       "        vertical-align: middle;\n",
       "    }\n",
       "\n",
       "    .dataframe tbody tr th {\n",
       "        vertical-align: top;\n",
       "    }\n",
       "\n",
       "    .dataframe thead th {\n",
       "        text-align: right;\n",
       "    }\n",
       "</style>\n",
       "<table border=\"1\" class=\"dataframe\">\n",
       "  <thead>\n",
       "    <tr style=\"text-align: right;\">\n",
       "      <th>Info</th>\n",
       "      <th>population</th>\n",
       "      <th>gdp</th>\n",
       "      <th>gdp_per</th>\n",
       "    </tr>\n",
       "    <tr>\n",
       "      <th>Country</th>\n",
       "      <th></th>\n",
       "      <th></th>\n",
       "      <th></th>\n",
       "    </tr>\n",
       "  </thead>\n",
       "  <tbody>\n",
       "    <tr>\n",
       "      <th>korea</th>\n",
       "      <td>5182.0</td>\n",
       "      <td>1.693200e+08</td>\n",
       "      <td>32674.642995</td>\n",
       "    </tr>\n",
       "    <tr>\n",
       "      <th>japan</th>\n",
       "      <td>12622.0</td>\n",
       "      <td>5.167000e+08</td>\n",
       "      <td>40936.460149</td>\n",
       "    </tr>\n",
       "    <tr>\n",
       "      <th>china</th>\n",
       "      <td>141178.0</td>\n",
       "      <td>1.409250e+08</td>\n",
       "      <td>998.207936</td>\n",
       "    </tr>\n",
       "    <tr>\n",
       "      <th>usa</th>\n",
       "      <td>32976.0</td>\n",
       "      <td>2.041280e+09</td>\n",
       "      <td>61901.989326</td>\n",
       "    </tr>\n",
       "    <tr>\n",
       "      <th>india</th>\n",
       "      <td>142222.0</td>\n",
       "      <td>1.505050e+08</td>\n",
       "      <td>1058.239935</td>\n",
       "    </tr>\n",
       "    <tr>\n",
       "      <th>africa</th>\n",
       "      <td>123456.0</td>\n",
       "      <td>7.777777e+06</td>\n",
       "      <td>63.000397</td>\n",
       "    </tr>\n",
       "  </tbody>\n",
       "</table>\n",
       "</div>"
      ],
      "text/plain": [
       "Info     population           gdp       gdp_per\n",
       "Country                                        \n",
       "korea        5182.0  1.693200e+08  32674.642995\n",
       "japan       12622.0  5.167000e+08  40936.460149\n",
       "china      141178.0  1.409250e+08    998.207936\n",
       "usa         32976.0  2.041280e+09  61901.989326\n",
       "india      142222.0  1.505050e+08   1058.239935\n",
       "africa     123456.0  7.777777e+06     63.000397"
      ]
     },
     "execution_count": 108,
     "metadata": {},
     "output_type": "execute_result"
    }
   ],
   "source": [
    "# 행추가 방법2\n",
    "africa = pd.Series(data = [123456,7777777], index = ['population', 'gdp'])\n",
    "country.loc['africa'] = africa\n",
    "country.loc['africa', 'gdp_per'] = country.loc['africa', 'gdp'] / country.loc['africa', 'population']\n",
    "country"
   ]
  },
  {
   "cell_type": "code",
   "execution_count": 105,
   "id": "ad54ab60-5de6-4df0-a53d-d93d014156fc",
   "metadata": {},
   "outputs": [
    {
     "data": {
      "text/html": [
       "<div>\n",
       "<style scoped>\n",
       "    .dataframe tbody tr th:only-of-type {\n",
       "        vertical-align: middle;\n",
       "    }\n",
       "\n",
       "    .dataframe tbody tr th {\n",
       "        vertical-align: top;\n",
       "    }\n",
       "\n",
       "    .dataframe thead th {\n",
       "        text-align: right;\n",
       "    }\n",
       "</style>\n",
       "<table border=\"1\" class=\"dataframe\">\n",
       "  <thead>\n",
       "    <tr style=\"text-align: right;\">\n",
       "      <th>Info</th>\n",
       "      <th>population</th>\n",
       "      <th>gdp</th>\n",
       "      <th>gdp_per</th>\n",
       "    </tr>\n",
       "    <tr>\n",
       "      <th>Country</th>\n",
       "      <th></th>\n",
       "      <th></th>\n",
       "      <th></th>\n",
       "    </tr>\n",
       "  </thead>\n",
       "  <tbody>\n",
       "    <tr>\n",
       "      <th>korea</th>\n",
       "      <td>False</td>\n",
       "      <td>False</td>\n",
       "      <td>False</td>\n",
       "    </tr>\n",
       "    <tr>\n",
       "      <th>japan</th>\n",
       "      <td>False</td>\n",
       "      <td>False</td>\n",
       "      <td>False</td>\n",
       "    </tr>\n",
       "    <tr>\n",
       "      <th>china</th>\n",
       "      <td>False</td>\n",
       "      <td>False</td>\n",
       "      <td>False</td>\n",
       "    </tr>\n",
       "    <tr>\n",
       "      <th>usa</th>\n",
       "      <td>False</td>\n",
       "      <td>False</td>\n",
       "      <td>False</td>\n",
       "    </tr>\n",
       "    <tr>\n",
       "      <th>india</th>\n",
       "      <td>False</td>\n",
       "      <td>False</td>\n",
       "      <td>False</td>\n",
       "    </tr>\n",
       "    <tr>\n",
       "      <th>africa</th>\n",
       "      <td>False</td>\n",
       "      <td>False</td>\n",
       "      <td>False</td>\n",
       "    </tr>\n",
       "  </tbody>\n",
       "</table>\n",
       "</div>"
      ],
      "text/plain": [
       "Info     population    gdp  gdp_per\n",
       "Country                            \n",
       "korea         False  False    False\n",
       "japan         False  False    False\n",
       "china         False  False    False\n",
       "usa           False  False    False\n",
       "india         False  False    False\n",
       "africa        False  False    False"
      ]
     },
     "execution_count": 105,
     "metadata": {},
     "output_type": "execute_result"
    }
   ],
   "source": [
    "# 결속값(NaN) 확인\n",
    "country.isnull() #.sum()"
   ]
  },
  {
   "cell_type": "code",
   "execution_count": 109,
   "id": "c548c687-eed7-4d96-acfa-f60f96896a21",
   "metadata": {},
   "outputs": [
    {
     "data": {
      "text/html": [
       "<div>\n",
       "<style scoped>\n",
       "    .dataframe tbody tr th:only-of-type {\n",
       "        vertical-align: middle;\n",
       "    }\n",
       "\n",
       "    .dataframe tbody tr th {\n",
       "        vertical-align: top;\n",
       "    }\n",
       "\n",
       "    .dataframe thead th {\n",
       "        text-align: right;\n",
       "    }\n",
       "</style>\n",
       "<table border=\"1\" class=\"dataframe\">\n",
       "  <thead>\n",
       "    <tr style=\"text-align: right;\">\n",
       "      <th>Info</th>\n",
       "      <th>population</th>\n",
       "      <th>gdp</th>\n",
       "      <th>gdp_per</th>\n",
       "    </tr>\n",
       "    <tr>\n",
       "      <th>Country</th>\n",
       "      <th></th>\n",
       "      <th></th>\n",
       "      <th></th>\n",
       "    </tr>\n",
       "  </thead>\n",
       "  <tbody>\n",
       "    <tr>\n",
       "      <th>korea</th>\n",
       "      <td>5182.0</td>\n",
       "      <td>1.693200e+08</td>\n",
       "      <td>32674.642995</td>\n",
       "    </tr>\n",
       "    <tr>\n",
       "      <th>japan</th>\n",
       "      <td>12622.0</td>\n",
       "      <td>5.167000e+08</td>\n",
       "      <td>40936.460149</td>\n",
       "    </tr>\n",
       "    <tr>\n",
       "      <th>china</th>\n",
       "      <td>141178.0</td>\n",
       "      <td>1.409250e+08</td>\n",
       "      <td>998.207936</td>\n",
       "    </tr>\n",
       "    <tr>\n",
       "      <th>usa</th>\n",
       "      <td>32976.0</td>\n",
       "      <td>2.041280e+09</td>\n",
       "      <td>61901.989326</td>\n",
       "    </tr>\n",
       "    <tr>\n",
       "      <th>india</th>\n",
       "      <td>142222.0</td>\n",
       "      <td>1.505050e+08</td>\n",
       "      <td>1058.239935</td>\n",
       "    </tr>\n",
       "  </tbody>\n",
       "</table>\n",
       "</div>"
      ],
      "text/plain": [
       "Info     population           gdp       gdp_per\n",
       "Country                                        \n",
       "korea        5182.0  1.693200e+08  32674.642995\n",
       "japan       12622.0  5.167000e+08  40936.460149\n",
       "china      141178.0  1.409250e+08    998.207936\n",
       "usa         32976.0  2.041280e+09  61901.989326\n",
       "india      142222.0  1.505050e+08   1058.239935"
      ]
     },
     "execution_count": 109,
     "metadata": {},
     "output_type": "execute_result"
    }
   ],
   "source": [
    "# 열제거 drop(이름, axis=0)\n",
    "country = country.drop('africa', axis=0) # inplace = True\n",
    "country"
   ]
  },
  {
   "cell_type": "code",
   "execution_count": 115,
   "id": "14de74a8-6dd2-4d22-8b45-ac80ca929998",
   "metadata": {},
   "outputs": [
    {
     "data": {
      "text/html": [
       "<div>\n",
       "<style scoped>\n",
       "    .dataframe tbody tr th:only-of-type {\n",
       "        vertical-align: middle;\n",
       "    }\n",
       "\n",
       "    .dataframe tbody tr th {\n",
       "        vertical-align: top;\n",
       "    }\n",
       "\n",
       "    .dataframe thead th {\n",
       "        text-align: right;\n",
       "    }\n",
       "</style>\n",
       "<table border=\"1\" class=\"dataframe\">\n",
       "  <thead>\n",
       "    <tr style=\"text-align: right;\">\n",
       "      <th>Info</th>\n",
       "      <th>population</th>\n",
       "      <th>gdp</th>\n",
       "      <th>gdp_per</th>\n",
       "    </tr>\n",
       "    <tr>\n",
       "      <th>Country</th>\n",
       "      <th></th>\n",
       "      <th></th>\n",
       "      <th></th>\n",
       "    </tr>\n",
       "  </thead>\n",
       "  <tbody>\n",
       "    <tr>\n",
       "      <th>china</th>\n",
       "      <td>141178.0</td>\n",
       "      <td>140925000.0</td>\n",
       "      <td>998.207936</td>\n",
       "    </tr>\n",
       "    <tr>\n",
       "      <th>india</th>\n",
       "      <td>142222.0</td>\n",
       "      <td>150505000.0</td>\n",
       "      <td>1058.239935</td>\n",
       "    </tr>\n",
       "  </tbody>\n",
       "</table>\n",
       "</div>"
      ],
      "text/plain": [
       "Info     population          gdp      gdp_per\n",
       "Country                                      \n",
       "china      141178.0  140925000.0   998.207936\n",
       "india      142222.0  150505000.0  1058.239935"
      ]
     },
     "execution_count": 115,
     "metadata": {},
     "output_type": "execute_result"
    }
   ],
   "source": [
    "# 테스트1 조건\n",
    "country[country['population'] > 140000]"
   ]
  },
  {
   "cell_type": "code",
   "execution_count": 116,
   "id": "dce004f2-2c93-4160-a22a-7aed289534fe",
   "metadata": {},
   "outputs": [
    {
     "data": {
      "text/html": [
       "<div>\n",
       "<style scoped>\n",
       "    .dataframe tbody tr th:only-of-type {\n",
       "        vertical-align: middle;\n",
       "    }\n",
       "\n",
       "    .dataframe tbody tr th {\n",
       "        vertical-align: top;\n",
       "    }\n",
       "\n",
       "    .dataframe thead th {\n",
       "        text-align: right;\n",
       "    }\n",
       "</style>\n",
       "<table border=\"1\" class=\"dataframe\">\n",
       "  <thead>\n",
       "    <tr style=\"text-align: right;\">\n",
       "      <th>Info</th>\n",
       "      <th>population</th>\n",
       "    </tr>\n",
       "    <tr>\n",
       "      <th>Country</th>\n",
       "      <th></th>\n",
       "    </tr>\n",
       "  </thead>\n",
       "  <tbody>\n",
       "    <tr>\n",
       "      <th>japan</th>\n",
       "      <td>12622.0</td>\n",
       "    </tr>\n",
       "    <tr>\n",
       "      <th>usa</th>\n",
       "      <td>32976.0</td>\n",
       "    </tr>\n",
       "  </tbody>\n",
       "</table>\n",
       "</div>"
      ],
      "text/plain": [
       "Info     population\n",
       "Country            \n",
       "japan       12622.0\n",
       "usa         32976.0"
      ]
     },
     "execution_count": 116,
     "metadata": {},
     "output_type": "execute_result"
    }
   ],
   "source": [
    "# 테스트2 조건, 슬라이싱 (loc, iloc 필수)\n",
    "country[(country['population'] > 10000) & (country['population'] < 100000)].loc[:,:'population']"
   ]
  },
  {
   "cell_type": "code",
   "execution_count": 168,
   "id": "d1e34d4b-1dac-499b-9e68-a3587a89a955",
   "metadata": {},
   "outputs": [
    {
     "data": {
      "text/html": [
       "<div>\n",
       "<style scoped>\n",
       "    .dataframe tbody tr th:only-of-type {\n",
       "        vertical-align: middle;\n",
       "    }\n",
       "\n",
       "    .dataframe tbody tr th {\n",
       "        vertical-align: top;\n",
       "    }\n",
       "\n",
       "    .dataframe thead th {\n",
       "        text-align: right;\n",
       "    }\n",
       "</style>\n",
       "<table border=\"1\" class=\"dataframe\">\n",
       "  <thead>\n",
       "    <tr style=\"text-align: right;\">\n",
       "      <th></th>\n",
       "      <th>국어</th>\n",
       "      <th>수학</th>\n",
       "      <th>영어</th>\n",
       "    </tr>\n",
       "  </thead>\n",
       "  <tbody>\n",
       "    <tr>\n",
       "      <th>홍길동</th>\n",
       "      <td>80</td>\n",
       "      <td>70</td>\n",
       "      <td>80</td>\n",
       "    </tr>\n",
       "    <tr>\n",
       "      <th>박철수</th>\n",
       "      <td>60</td>\n",
       "      <td>70</td>\n",
       "      <td>80</td>\n",
       "    </tr>\n",
       "    <tr>\n",
       "      <th>김영희</th>\n",
       "      <td>70</td>\n",
       "      <td>90</td>\n",
       "      <td>80</td>\n",
       "    </tr>\n",
       "  </tbody>\n",
       "</table>\n",
       "</div>"
      ],
      "text/plain": [
       "     국어  수학  영어\n",
       "홍길동  80  70  80\n",
       "박철수  60  70  80\n",
       "김영희  70  90  80"
      ]
     },
     "execution_count": 168,
     "metadata": {},
     "output_type": "execute_result"
    }
   ],
   "source": [
    "# 문제1\n",
    "import pandas as pd\n",
    "score = pd.DataFrame([[80,70,80],[60,70,80],[70,90,80]], index=['홍길동','박철수','김영희'],columns=['국어','수학','영어'])\n",
    "score"
   ]
  },
  {
   "cell_type": "code",
   "execution_count": 169,
   "id": "597963a9-3c34-485f-af79-184e4973340d",
   "metadata": {},
   "outputs": [
    {
     "data": {
      "text/html": [
       "<div>\n",
       "<style scoped>\n",
       "    .dataframe tbody tr th:only-of-type {\n",
       "        vertical-align: middle;\n",
       "    }\n",
       "\n",
       "    .dataframe tbody tr th {\n",
       "        vertical-align: top;\n",
       "    }\n",
       "\n",
       "    .dataframe thead th {\n",
       "        text-align: right;\n",
       "    }\n",
       "</style>\n",
       "<table border=\"1\" class=\"dataframe\">\n",
       "  <thead>\n",
       "    <tr style=\"text-align: right;\">\n",
       "      <th></th>\n",
       "      <th>국어</th>\n",
       "      <th>수학</th>\n",
       "    </tr>\n",
       "  </thead>\n",
       "  <tbody>\n",
       "    <tr>\n",
       "      <th>박철수</th>\n",
       "      <td>60</td>\n",
       "      <td>70</td>\n",
       "    </tr>\n",
       "  </tbody>\n",
       "</table>\n",
       "</div>"
      ],
      "text/plain": [
       "     국어  수학\n",
       "박철수  60  70"
      ]
     },
     "execution_count": 169,
     "metadata": {},
     "output_type": "execute_result"
    }
   ],
   "source": [
    "# 문제2\n",
    "# 박철수의 국어와 수학 점수만 출력하라\n",
    "score.iloc[1:2, :2]"
   ]
  },
  {
   "cell_type": "code",
   "execution_count": 170,
   "id": "97990fb7-ef16-4891-bf92-813b9d48958f",
   "metadata": {},
   "outputs": [
    {
     "data": {
      "text/html": [
       "<div>\n",
       "<style scoped>\n",
       "    .dataframe tbody tr th:only-of-type {\n",
       "        vertical-align: middle;\n",
       "    }\n",
       "\n",
       "    .dataframe tbody tr th {\n",
       "        vertical-align: top;\n",
       "    }\n",
       "\n",
       "    .dataframe thead th {\n",
       "        text-align: right;\n",
       "    }\n",
       "</style>\n",
       "<table border=\"1\" class=\"dataframe\">\n",
       "  <thead>\n",
       "    <tr style=\"text-align: right;\">\n",
       "      <th></th>\n",
       "      <th>국어</th>\n",
       "      <th>수학</th>\n",
       "      <th>영어</th>\n",
       "    </tr>\n",
       "  </thead>\n",
       "  <tbody>\n",
       "    <tr>\n",
       "      <th>홍길동</th>\n",
       "      <td>80</td>\n",
       "      <td>70</td>\n",
       "      <td>80</td>\n",
       "    </tr>\n",
       "    <tr>\n",
       "      <th>박철수</th>\n",
       "      <td>60</td>\n",
       "      <td>70</td>\n",
       "      <td>80</td>\n",
       "    </tr>\n",
       "    <tr>\n",
       "      <th>김영희</th>\n",
       "      <td>70</td>\n",
       "      <td>90</td>\n",
       "      <td>80</td>\n",
       "    </tr>\n",
       "  </tbody>\n",
       "</table>\n",
       "</div>"
      ],
      "text/plain": [
       "     국어  수학  영어\n",
       "홍길동  80  70  80\n",
       "박철수  60  70  80\n",
       "김영희  70  90  80"
      ]
     },
     "execution_count": 170,
     "metadata": {},
     "output_type": "execute_result"
    }
   ],
   "source": [
    "# 문제 3\n",
    "# 수학이 70점 이상인 사람 모든 행을 출력하라\n",
    "score[score['수학'] >= 70]"
   ]
  },
  {
   "cell_type": "code",
   "execution_count": 171,
   "id": "610fbd07-1f2c-424d-9db5-a4568581a304",
   "metadata": {},
   "outputs": [
    {
     "data": {
      "text/html": [
       "<div>\n",
       "<style scoped>\n",
       "    .dataframe tbody tr th:only-of-type {\n",
       "        vertical-align: middle;\n",
       "    }\n",
       "\n",
       "    .dataframe tbody tr th {\n",
       "        vertical-align: top;\n",
       "    }\n",
       "\n",
       "    .dataframe thead th {\n",
       "        text-align: right;\n",
       "    }\n",
       "</style>\n",
       "<table border=\"1\" class=\"dataframe\">\n",
       "  <thead>\n",
       "    <tr style=\"text-align: right;\">\n",
       "      <th></th>\n",
       "      <th>국어</th>\n",
       "      <th>수학</th>\n",
       "      <th>영어</th>\n",
       "      <th>평균</th>\n",
       "    </tr>\n",
       "  </thead>\n",
       "  <tbody>\n",
       "    <tr>\n",
       "      <th>홍길동</th>\n",
       "      <td>80</td>\n",
       "      <td>70</td>\n",
       "      <td>80</td>\n",
       "      <td>76.666667</td>\n",
       "    </tr>\n",
       "    <tr>\n",
       "      <th>박철수</th>\n",
       "      <td>60</td>\n",
       "      <td>70</td>\n",
       "      <td>80</td>\n",
       "      <td>70.000000</td>\n",
       "    </tr>\n",
       "    <tr>\n",
       "      <th>김영희</th>\n",
       "      <td>70</td>\n",
       "      <td>90</td>\n",
       "      <td>80</td>\n",
       "      <td>80.000000</td>\n",
       "    </tr>\n",
       "  </tbody>\n",
       "</table>\n",
       "</div>"
      ],
      "text/plain": [
       "     국어  수학  영어         평균\n",
       "홍길동  80  70  80  76.666667\n",
       "박철수  60  70  80  70.000000\n",
       "김영희  70  90  80  80.000000"
      ]
     },
     "execution_count": 171,
     "metadata": {},
     "output_type": "execute_result"
    }
   ],
   "source": [
    "# 문제 4\n",
    "# 모든 과목의 평균점수를 마지막 컬럼에 넣고\n",
    "# \"평균\"이라는 이름으로 만들어 넣어라\n",
    "avg = (score['국어'] + score['수학'] + score['영어']) / 3\n",
    "score['평균'] = avg\n",
    "score"
   ]
  },
  {
   "cell_type": "code",
   "execution_count": 174,
   "id": "79b793d3-0a90-4f71-8362-eb1b03d47880",
   "metadata": {},
   "outputs": [
    {
     "data": {
      "text/html": [
       "<div>\n",
       "<style scoped>\n",
       "    .dataframe tbody tr th:only-of-type {\n",
       "        vertical-align: middle;\n",
       "    }\n",
       "\n",
       "    .dataframe tbody tr th {\n",
       "        vertical-align: top;\n",
       "    }\n",
       "\n",
       "    .dataframe thead th {\n",
       "        text-align: right;\n",
       "    }\n",
       "</style>\n",
       "<table border=\"1\" class=\"dataframe\">\n",
       "  <thead>\n",
       "    <tr style=\"text-align: right;\">\n",
       "      <th></th>\n",
       "      <th>국어</th>\n",
       "      <th>수학</th>\n",
       "      <th>영어</th>\n",
       "      <th>평균</th>\n",
       "    </tr>\n",
       "  </thead>\n",
       "  <tbody>\n",
       "    <tr>\n",
       "      <th>홍길동</th>\n",
       "      <td>80</td>\n",
       "      <td>70</td>\n",
       "      <td>80</td>\n",
       "      <td>76.666667</td>\n",
       "    </tr>\n",
       "    <tr>\n",
       "      <th>박철수</th>\n",
       "      <td>60</td>\n",
       "      <td>70</td>\n",
       "      <td>80</td>\n",
       "      <td>70.000000</td>\n",
       "    </tr>\n",
       "    <tr>\n",
       "      <th>김영희</th>\n",
       "      <td>70</td>\n",
       "      <td>90</td>\n",
       "      <td>80</td>\n",
       "      <td>80.000000</td>\n",
       "    </tr>\n",
       "    <tr>\n",
       "      <th>최자바</th>\n",
       "      <td>55</td>\n",
       "      <td>95</td>\n",
       "      <td>70</td>\n",
       "      <td>73.333333</td>\n",
       "    </tr>\n",
       "  </tbody>\n",
       "</table>\n",
       "</div>"
      ],
      "text/plain": [
       "     국어  수학  영어         평균\n",
       "홍길동  80  70  80  76.666667\n",
       "박철수  60  70  80  70.000000\n",
       "김영희  70  90  80  80.000000\n",
       "최자바  55  95  70  73.333333"
      ]
     },
     "execution_count": 174,
     "metadata": {},
     "output_type": "execute_result"
    }
   ],
   "source": [
    "# 문제 5\n",
    "# 전학 온 학생을 추가하라 (최자바 55 95 70)\n",
    "score.loc['최자바'] = [55, 95, 70, \"NaN\"]\n",
    "score['평균'] = (score['국어'] + score['수학'] + score['영어']) / 3\n",
    "score"
   ]
  },
  {
   "cell_type": "code",
   "execution_count": 175,
   "id": "cee897aa-91c6-467d-8256-d22e0a0145e8",
   "metadata": {},
   "outputs": [
    {
     "data": {
      "text/html": [
       "<div>\n",
       "<style scoped>\n",
       "    .dataframe tbody tr th:only-of-type {\n",
       "        vertical-align: middle;\n",
       "    }\n",
       "\n",
       "    .dataframe tbody tr th {\n",
       "        vertical-align: top;\n",
       "    }\n",
       "\n",
       "    .dataframe thead th {\n",
       "        text-align: right;\n",
       "    }\n",
       "</style>\n",
       "<table border=\"1\" class=\"dataframe\">\n",
       "  <thead>\n",
       "    <tr style=\"text-align: right;\">\n",
       "      <th></th>\n",
       "      <th>국어</th>\n",
       "      <th>수학</th>\n",
       "      <th>영어</th>\n",
       "      <th>평균</th>\n",
       "    </tr>\n",
       "  </thead>\n",
       "  <tbody>\n",
       "    <tr>\n",
       "      <th>홍길동</th>\n",
       "      <td>80</td>\n",
       "      <td>70</td>\n",
       "      <td>80</td>\n",
       "      <td>76.666667</td>\n",
       "    </tr>\n",
       "    <tr>\n",
       "      <th>박철수</th>\n",
       "      <td>60</td>\n",
       "      <td>70</td>\n",
       "      <td>80</td>\n",
       "      <td>70.000000</td>\n",
       "    </tr>\n",
       "    <tr>\n",
       "      <th>김영희</th>\n",
       "      <td>70</td>\n",
       "      <td>90</td>\n",
       "      <td>80</td>\n",
       "      <td>80.000000</td>\n",
       "    </tr>\n",
       "    <tr>\n",
       "      <th>최자바</th>\n",
       "      <td>55</td>\n",
       "      <td>95</td>\n",
       "      <td>70</td>\n",
       "      <td>73.333333</td>\n",
       "    </tr>\n",
       "  </tbody>\n",
       "</table>\n",
       "</div>"
      ],
      "text/plain": [
       "     국어  수학  영어         평균\n",
       "홍길동  80  70  80  76.666667\n",
       "박철수  60  70  80  70.000000\n",
       "김영희  70  90  80  80.000000\n",
       "최자바  55  95  70  73.333333"
      ]
     },
     "execution_count": 175,
     "metadata": {},
     "output_type": "execute_result"
    }
   ],
   "source": [
    "score"
   ]
  },
  {
   "cell_type": "code",
   "execution_count": null,
   "id": "a2289e75-86c0-40be-abd6-fa3a8cb755ee",
   "metadata": {},
   "outputs": [],
   "source": [
    "# 리스폰에 튜플로 저장하는 방법\n",
    "data =[\n",
    "    ('홍길동', 80, 70 80),\n",
    "    ('박철수', 80, 70 80),\n",
    "    ('김영희 리스폰에 튜플로 저장하는 방법\n",
    "data =[\n",
    "    ('홍길동', 80, 70 80),\n",
    "    ('박철수', 80, 70 80),\n",
    "    ('김영희', 80, 70 80),\n",
    "]\n",
    "df = pd.DataFramge(data, columns-['이름', '국어', '수학', '영어'])\n",
    "df"
   ]
  }
 ],
 "metadata": {
  "kernelspec": {
   "display_name": "Python 3 (ipykernel)",
   "language": "python",
   "name": "python3"
  },
  "language_info": {
   "codemirror_mode": {
    "name": "ipython",
    "version": 3
   },
   "file_extension": ".py",
   "mimetype": "text/x-python",
   "name": "python",
   "nbconvert_exporter": "python",
   "pygments_lexer": "ipython3",
   "version": "3.13.1"
  }
 },
 "nbformat": 4,
 "nbformat_minor": 5
}
