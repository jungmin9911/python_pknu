{
 "cells": [
  {
   "cell_type": "code",
   "execution_count": 2,
   "id": "073a0d53-1cfc-46fb-b501-2613c634ea83",
   "metadata": {},
   "outputs": [],
   "source": [
    "# !pip install pymongo"
   ]
  },
  {
   "cell_type": "code",
   "execution_count": 5,
   "id": "1328c752-9b79-4845-8000-1cdc0335d2d2",
   "metadata": {},
   "outputs": [
    {
     "name": "stdout",
     "output_type": "stream",
     "text": [
      "{'ok': 1.0}\n",
      "MongoDB 서버에 성공적으로 연결되었습니다.\n"
     ]
    }
   ],
   "source": [
    "from pymongo import MongoClient\n",
    "client = MongoClient(\"mongodb://mongodb:27017\")\n",
    "\n",
    "try:\n",
    "    print(client.admin.command('ping'))\n",
    "    print(\"MongoDB 서버에 성공적으로 연결되었습니다.\")\n",
    "except Exception as e:\n",
    "    print(\"MongoDB 서버 연결 실패 : \", e)"
   ]
  },
  {
   "cell_type": "code",
   "execution_count": 6,
   "id": "4688c98c-7c0d-44d0-8b96-b185034da43c",
   "metadata": {},
   "outputs": [
    {
     "name": "stdout",
     "output_type": "stream",
     "text": [
      "사용할 데이터베이스 선택됨\n",
      "사용할 컬렉션 선택됨\n"
     ]
    }
   ],
   "source": [
    "# 사용할 데이터베이스 선택\n",
    "db = client[\"mdb\"]\n",
    "print(\"사용할 데이터베이스 선택됨\")\n",
    "\n",
    "# 사용할 컬렉션 선택\n",
    "collection = db[\"c1\"]\n",
    "print(\"사용할 컬렉션 선택됨\")"
   ]
  },
  {
   "cell_type": "code",
   "execution_count": 7,
   "id": "b81c35a7-cfe2-459e-a890-5d9d76bd22da",
   "metadata": {},
   "outputs": [
    {
     "name": "stdout",
     "output_type": "stream",
     "text": [
      "Inserted ID: InsertOneResult(ObjectId('67f5df6978695bdf248871b4'), acknowledged=True)\n"
     ]
    }
   ],
   "source": [
    "# 단일 문서 삽입\n",
    "user = {\"name\":\"Alice\", \"age\":25, \"city\":\"Seoul\"}\n",
    "insert_result = collection.insert_one(user)\n",
    "print(\"Inserted ID:\", insert_result)"
   ]
  },
  {
   "cell_type": "code",
   "execution_count": 8,
   "id": "b98cbf17-e2c2-418b-b6e2-a08e1acd8281",
   "metadata": {},
   "outputs": [
    {
     "name": "stdout",
     "output_type": "stream",
     "text": [
      "Insert_IDs: InsertManyResult([ObjectId('67f5dfdf78695bdf248871b5'), ObjectId('67f5dfdf78695bdf248871b6'), ObjectId('67f5dfdf78695bdf248871b7')], acknowledged=True)\n"
     ]
    }
   ],
   "source": [
    "# 여러개 문서 삽입\n",
    "user = [\n",
    "    {\"name\":\"Bob\", \"age\":30, \"city\":\"Busan\"},\n",
    "    {\"name\":\"John\", \"age\":35, \"city\":\"Seoul\"},\n",
    "    {\"name\":\"wendy\", \"age\":25, \"city\":\"Deagu\"}\n",
    "]\n",
    "insert_results = collection.insert_many(user)\n",
    "print(\"Insert_IDs:\", insert_results)\n",
    "# MongoDB Compass 들어가서 확인해보면 생성되어있음"
   ]
  },
  {
   "cell_type": "code",
   "execution_count": 11,
   "id": "d497a49e-22b9-4c29-99a8-0c42a0bbf8f6",
   "metadata": {},
   "outputs": [
    {
     "name": "stdout",
     "output_type": "stream",
     "text": [
      "{'_id': ObjectId('67f5cb17706d7ebf9d6b140c'), 'name': 'superman', 'etc': '힘이 셈'}\n",
      "{'_id': ObjectId('67f5cb8b706d7ebf9d6b140d'), 'name': 'coolboy', 'age': 17, 'etc': '잘생김', 'prop': '미성년자'}\n",
      "{'_id': ObjectId('67f5cb8b706d7ebf9d6b140e'), 'name': 'cutegirl', 'age': 20, 'gender': 'female'}\n",
      "{'_id': ObjectId('67f5da636d294d1a354a35b1'), 'name': 'coffee', 'age': 12}\n",
      "{'_id': ObjectId('67f5df6978695bdf248871b4'), 'name': 'Alice', 'age': 25, 'city': 'Seoul'}\n",
      "{'_id': ObjectId('67f5dfdf78695bdf248871b5'), 'name': 'Bob', 'age': 30, 'city': 'Busan'}\n",
      "{'_id': ObjectId('67f5dfdf78695bdf248871b6'), 'name': 'John', 'age': 35, 'city': 'Seoul'}\n",
      "{'_id': ObjectId('67f5dfdf78695bdf248871b7'), 'name': 'wendy', 'age': 25, 'city': 'Deagu'}\n"
     ]
    }
   ],
   "source": [
    "# 여러개의 문서 조회\n",
    "users = collection.find()\n",
    "for u in users:\n",
    "    print(u)"
   ]
  },
  {
   "cell_type": "code",
   "execution_count": 14,
   "id": "e601e215-d318-4bcf-bd03-7afebf9c6e02",
   "metadata": {},
   "outputs": [
    {
     "name": "stdout",
     "output_type": "stream",
     "text": [
      "{'_id': ObjectId('67f5dfdf78695bdf248871b7'), 'name': 'wendy', 'age': 25, 'city': 'Deagu'}\n"
     ]
    }
   ],
   "source": [
    "# 단일 문서 조회\n",
    "user = collection.find_one({\"name\":\"wendy\"})\n",
    "print(user)"
   ]
  },
  {
   "cell_type": "code",
   "execution_count": 15,
   "id": "df7b462e-befa-40ee-98a6-4ceb0b4fc1f8",
   "metadata": {},
   "outputs": [
    {
     "name": "stdout",
     "output_type": "stream",
     "text": [
      "{'name': 'Alice', 'age': 25, 'city': 'Seoul'}\n",
      "{'name': 'Bob', 'age': 30, 'city': 'Busan'}\n",
      "{'name': 'John', 'age': 35, 'city': 'Seoul'}\n",
      "{'name': 'wendy', 'age': 25, 'city': 'Deagu'}\n"
     ]
    }
   ],
   "source": [
    "# 특정 조건을 만족하는 문서 조회\n",
    "filters = {\"age\":{\"$gt\":20}}  # 나이가 20보다 큰 문서 찾기\n",
    "filtered = collection.find(filters, {\"_id\":0})\n",
    "for f in filtered:\n",
    "    print(f)"
   ]
  },
  {
   "cell_type": "code",
   "execution_count": 16,
   "id": "b14054e7-79f8-4859-8eab-801eea5ab3f1",
   "metadata": {},
   "outputs": [
    {
     "name": "stdout",
     "output_type": "stream",
     "text": [
      "수정됨 UpdateResult({'n': 1, 'nModified': 1, 'ok': 1.0, 'updatedExisting': True}, acknowledged=True)\n"
     ]
    }
   ],
   "source": [
    "# 특정 문서 한 개 수정\n",
    "update = collection.update_one({\"name\":\"Alice\"}, {'$set':{\"age\":26}})\n",
    "print(\"수정됨\", update)"
   ]
  },
  {
   "cell_type": "code",
   "execution_count": 17,
   "id": "126b8a8a-0f8b-48b1-8808-b001765e0e61",
   "metadata": {},
   "outputs": [
    {
     "name": "stdout",
     "output_type": "stream",
     "text": [
      "수정됨s: UpdateResult({'n': 0, 'nModified': 0, 'ok': 1.0, 'updatedExisting': False}, acknowledged=True)\n"
     ]
    }
   ],
   "source": [
    "# 특정 문서 여러개 수정\n",
    "# A로 시작하는 이름은 5살 증가시켜라\n",
    "updates = collection.update_many({\"name\":\"^A\"}, {\"$inc\":{\"age\":5}})\n",
    "# updates = collection.update_many({\"name\":\"\\/^A\\/\"}, {\"$inc\":{\"age\":5}})\n",
    "print(\"수정됨s:\", updates)"
   ]
  },
  {
   "cell_type": "code",
   "execution_count": 19,
   "id": "714338bd-5eb4-4412-b9f8-3ac6300b5d34",
   "metadata": {},
   "outputs": [
    {
     "name": "stdout",
     "output_type": "stream",
     "text": [
      "DeleteResult({'n': 0, 'ok': 1.0}, acknowledged=True)\n"
     ]
    }
   ],
   "source": [
    "# 특정 문서 한개 삭제\n",
    "delete = collection.delete_one({\"etx\":\"잘생김\"})\n",
    "print(delete)"
   ]
  },
  {
   "cell_type": "code",
   "execution_count": 21,
   "id": "e281711b-4695-4013-946e-8186803456d1",
   "metadata": {},
   "outputs": [
    {
     "name": "stdout",
     "output_type": "stream",
     "text": [
      "DeleteResult({'n': 2, 'ok': 1.0}, acknowledged=True)\n"
     ]
    }
   ],
   "source": [
    "# 특정 문서 여러개 문서 삭제\n",
    "deletes = collection.delete_many({\"name\":{\"$regex\":\"e$\"}})\n",
    "# 정규식 e로 끝나는 이름을 모두 삭제\n",
    "print(deletes)"
   ]
  },
  {
   "cell_type": "code",
   "execution_count": 24,
   "id": "7acf9dfd-6186-4e42-823b-d45b36e9b843",
   "metadata": {},
   "outputs": [],
   "source": [
    "import json\n",
    "\n",
    "with open('./photo.json') as f:\n",
    "    data = json.load(f)"
   ]
  },
  {
   "cell_type": "code",
   "execution_count": 26,
   "id": "17ad2ed4-f81b-436f-ae05-0f1c6057eb1b",
   "metadata": {},
   "outputs": [
    {
     "name": "stdout",
     "output_type": "stream",
     "text": [
      "사용할 데이터베이스 선택됨\n",
      "사용할 컬렉션 선택됨\n"
     ]
    }
   ],
   "source": [
    "# 사용할 데이터베이스 선택\n",
    "db2 = client[\"jdb\"]\n",
    "print(\"사용할 데이터베이스 선택됨\")\n",
    "\n",
    "# 사용할 컬렉션 선택\n",
    "collection2 = db[\"j1\"]\n",
    "print(\"사용할 컬렉션 선택됨\")"
   ]
  },
  {
   "cell_type": "code",
   "execution_count": 30,
   "id": "c6154954-624b-4ed4-a0ff-891ca2ecef2f",
   "metadata": {},
   "outputs": [
    {
     "name": "stdout",
     "output_type": "stream",
     "text": [
      "로드완료\n"
     ]
    }
   ],
   "source": [
    "# collection2.insert_many(data)\n",
    "# 한번 돌렸더니 또 안 들어가서 그냥 주석처리함\n",
    "print(\"로드완료\")"
   ]
  },
  {
   "cell_type": "code",
   "execution_count": 31,
   "id": "de99f4ff-84cb-46f0-8ff0-e5403f4d6995",
   "metadata": {},
   "outputs": [
    {
     "name": "stdout",
     "output_type": "stream",
     "text": [
      "https://via.placeholder.com/600/92c952\n",
      "https://via.placeholder.com/600/771796\n",
      "https://via.placeholder.com/600/24f355\n",
      "https://via.placeholder.com/600/d32776\n",
      "https://via.placeholder.com/600/f66b97\n",
      "https://via.placeholder.com/600/56a8c2\n",
      "https://via.placeholder.com/600/b0f7cc\n",
      "https://via.placeholder.com/600/54176f\n",
      "https://via.placeholder.com/600/51aa97\n",
      "https://via.placeholder.com/600/810b14\n",
      "https://via.placeholder.com/600/1ee8a4\n",
      "https://via.placeholder.com/600/66b7d2\n",
      "https://via.placeholder.com/600/197d29\n",
      "https://via.placeholder.com/600/61a65\n",
      "https://via.placeholder.com/600/f9cee5\n",
      "https://via.placeholder.com/600/fdf73e\n",
      "https://via.placeholder.com/600/9c184f\n",
      "https://via.placeholder.com/600/1fe46f\n",
      "https://via.placeholder.com/600/56acb2\n",
      "https://via.placeholder.com/600/8985dc\n",
      "https://via.placeholder.com/600/5e12c6\n",
      "https://via.placeholder.com/600/45601a\n",
      "https://via.placeholder.com/600/e924e6\n",
      "https://via.placeholder.com/600/8f209a\n",
      "https://via.placeholder.com/600/5e3a73\n",
      "https://via.placeholder.com/600/474645\n",
      "https://via.placeholder.com/600/c984bf\n",
      "https://via.placeholder.com/600/392537\n",
      "https://via.placeholder.com/600/602b9e\n",
      "https://via.placeholder.com/600/372c93\n"
     ]
    }
   ],
   "source": [
    "out = collection2.find({'id':{'$lte':30}})\n",
    "for o in out:\n",
    "    print(o[\"url\"])"
   ]
  },
  {
   "cell_type": "code",
   "execution_count": null,
   "id": "c4af702c-e75a-4e33-83ba-ee491eaebbf3",
   "metadata": {},
   "outputs": [],
   "source": []
  }
 ],
 "metadata": {
  "kernelspec": {
   "display_name": "Python 3 (ipykernel)",
   "language": "python",
   "name": "python3"
  },
  "language_info": {
   "codemirror_mode": {
    "name": "ipython",
    "version": 3
   },
   "file_extension": ".py",
   "mimetype": "text/x-python",
   "name": "python",
   "nbconvert_exporter": "python",
   "pygments_lexer": "ipython3",
   "version": "3.10.12"
  }
 },
 "nbformat": 4,
 "nbformat_minor": 5
}
