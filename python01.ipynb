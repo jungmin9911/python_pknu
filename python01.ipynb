{
 "cells": [
  {
   "cell_type": "markdown",
   "id": "aebb52a0-3807-4c83-a84e-c77ea26f73d5",
   "metadata": {},
   "source": [
    "# 주피터랩 단축키\n",
    "- a : 위 셀 추가\n",
    "- b : 아래 셀 추가\n",
    "- Ctrl + shift + 위 방향키 : 셀 위로 이동\n",
    "- Ctrl + shift + 아래 방향키 : 셀 아래로 이동\n",
    "- shift + enter : 셀 실행\n",
    "- dd : 셀 삭제\n",
    "- x : 셀 잘라내기\n",
    "- c : 셀 복사\n",
    "- v : 셀 붙여넣기\n",
    "- z : undo\n",
    "- shift + z : redo"
   ]
  },
  {
   "cell_type": "markdown",
   "id": "c424c853-3ebd-4c56-bd44-418d3f34a8fd",
   "metadata": {},
   "source": [
    "# print기초"
   ]
  },
  {
   "cell_type": "code",
   "execution_count": 6,
   "id": "0d129b9d-7a4f-4130-9490-721229b83dfc",
   "metadata": {},
   "outputs": [
    {
     "name": "stdout",
     "output_type": "stream",
     "text": [
      "사실은 두번째\n"
     ]
    }
   ],
   "source": [
    "#print('주피터랩에 처음이에요') # 주석처리\n",
    "print('사실은 두번째')"
   ]
  },
  {
   "cell_type": "code",
   "execution_count": 2,
   "id": "87a00c6c-fde5-495e-af3b-877872049427",
   "metadata": {},
   "outputs": [
    {
     "name": "stdout",
     "output_type": "stream",
     "text": [
      "690\n"
     ]
    }
   ],
   "source": [
    "print(123+567)"
   ]
  },
  {
   "cell_type": "code",
   "execution_count": 20,
   "id": "2b135773-3a14-4939-814a-8486bc33990c",
   "metadata": {},
   "outputs": [
    {
     "name": "stdout",
     "output_type": "stream",
     "text": [
      "배고프다배고프다\n",
      "근데말입니다."
     ]
    }
   ],
   "source": [
    "import time as t\n",
    "\n",
    "print('배고프다', end='') #end='' 줄바꾸기 하지않음\n",
    "print('배고프다', end='\\n') #\\n 줄바꾸기\n",
    "print('배고...', end='\\r') #\\r 덮어쓰기\n",
    "t.sleep(1) #1초 후에\n",
    "print('근데', end='말입니다.')"
   ]
  },
  {
   "cell_type": "code",
   "execution_count": 22,
   "id": "3be8cb01-f77d-463b-827e-3f9ec232bb4d",
   "metadata": {},
   "outputs": [
    {
     "name": "stdout",
     "output_type": "stream",
     "text": [
      "1-2-3-4-5\n"
     ]
    }
   ],
   "source": [
    "print(1,2,3,4,5,sep='-')"
   ]
  },
  {
   "cell_type": "markdown",
   "id": "9529e3dc-665e-4802-9f7f-568626d6dd0c",
   "metadata": {},
   "source": [
    "# 자료형"
   ]
  },
  {
   "cell_type": "markdown",
   "id": "a01bac53-4b15-48ec-bd8b-4d3b6d4d562b",
   "metadata": {},
   "source": [
    "## 숫자형 자료형"
   ]
  },
  {
   "cell_type": "code",
   "execution_count": 32,
   "id": "8774ee26-3472-41fe-bd38-9f68b32c8349",
   "metadata": {},
   "outputs": [
    {
     "name": "stdout",
     "output_type": "stream",
     "text": [
      "덧셈 877\n",
      "=============\n",
      "뺄셈 677\n",
      "=============\n",
      "곱셈 77700\n",
      "=============\n",
      "나눗셈 7.77\n",
      "=============\n",
      "몫 7\n",
      "=============\n",
      "나머지 77\n",
      "=============\n",
      "제곱 603729\n",
      "=============\n"
     ]
    }
   ],
   "source": [
    "# 사칙연산 예\n",
    "sachik = 777\n",
    "\n",
    "print('덧셈', sachik + 100, end='\\n=============\\n')\n",
    "print('뺄셈', sachik - 100, end='\\n=============\\n')\n",
    "print('곱셈', sachik * 100, end='\\n=============\\n')\n",
    "print('나눗셈', sachik / 100, end='\\n=============\\n')\n",
    "print('몫', sachik // 100, end='\\n=============\\n')\n",
    "print('나머지', sachik % 100, end='\\n=============\\n')\n",
    "print('제곱', sachik ** 2, end='\\n=============\\n')"
   ]
  },
  {
   "cell_type": "code",
   "execution_count": 23,
   "id": "f30991b2-685e-4b31-a0ec-10775dcfcab6",
   "metadata": {},
   "outputs": [
    {
     "name": "stdout",
     "output_type": "stream",
     "text": [
      "123 -178 0\n"
     ]
    }
   ],
   "source": [
    "# 정수형\n",
    "a = 123\n",
    "b =-178\n",
    "c = 0\n",
    "print(a,b,c)"
   ]
  },
  {
   "cell_type": "code",
   "execution_count": 34,
   "id": "2f03c050-c652-49b9-96c6-ce29fd5a9a97",
   "metadata": {},
   "outputs": [
    {
     "name": "stdout",
     "output_type": "stream",
     "text": [
      "1.2 -3.14 4.24e-10\n"
     ]
    }
   ],
   "source": [
    "# 실수형\n",
    "aa = 1.2\n",
    "bb = -3.14\n",
    "cc = 4.24e-10\n",
    "print(aa,bb,cc)"
   ]
  },
  {
   "cell_type": "code",
   "execution_count": 117,
   "id": "eef7c0d5-a916-42fd-9940-4996b0d40fa1",
   "metadata": {},
   "outputs": [
    {
     "name": "stdout",
     "output_type": "stream",
     "text": [
      "15\n",
      "127 2748\n"
     ]
    }
   ],
   "source": [
    "# 2진수(bin)\n",
    "aaa = 0b1111\n",
    "print(aaa)\n",
    "# 8진수(oct)와 16진수(hex)\n",
    "bbb = 0o177\n",
    "ccc = 0xabc\n",
    "print(bbb,ccc)"
   ]
  },
  {
   "cell_type": "code",
   "execution_count": 40,
   "id": "e751b43b-60bb-4cf9-b31e-e3339428f828",
   "metadata": {},
   "outputs": [
    {
     "name": "stdout",
     "output_type": "stream",
     "text": [
      "a + b = 7\n",
      "a - b = -1\n",
      "a * b = 12\n",
      "a / b = 0.75\n"
     ]
    }
   ],
   "source": [
    "# 책 p.48\n",
    "a = 3\n",
    "b = 4\n",
    "print('a + b =',a+b)\n",
    "print('a - b =',a-b)\n",
    "print('a * b =',a*b)\n",
    "print('a / b =',a/b)"
   ]
  },
  {
   "cell_type": "code",
   "execution_count": 63,
   "id": "0455d037-d484-4536-8138-11577a947545",
   "metadata": {},
   "outputs": [],
   "source": [
    "# 복합연산자\n",
    "# +=, -=, *=, /=, //=, %=, **=\n",
    "a = 1"
   ]
  },
  {
   "cell_type": "code",
   "execution_count": 60,
   "id": "12c62a20-31d6-4e6c-ace8-04406698e1cc",
   "metadata": {},
   "outputs": [
    {
     "name": "stdout",
     "output_type": "stream",
     "text": [
      "2\n"
     ]
    }
   ],
   "source": [
    "a += 1\n",
    "print(a)"
   ]
  },
  {
   "cell_type": "code",
   "execution_count": 61,
   "id": "7561c4c0-0a68-45a7-a065-625a1a20b6c9",
   "metadata": {},
   "outputs": [
    {
     "name": "stdout",
     "output_type": "stream",
     "text": [
      "1\n"
     ]
    }
   ],
   "source": [
    "a -= 1\n",
    "print(a)"
   ]
  },
  {
   "cell_type": "markdown",
   "id": "c338b723-4b7c-41e1-8b1b-ad65d1405a70",
   "metadata": {},
   "source": [
    "## 문자형 자료형"
   ]
  },
  {
   "cell_type": "markdown",
   "id": "404db6c5-9fbc-40f9-a503-4b4b4c9c7196",
   "metadata": {},
   "source": [
    "### 문자열 연산하기"
   ]
  },
  {
   "cell_type": "code",
   "execution_count": 69,
   "id": "ce98730e-932c-47a6-aeec-699108e8da74",
   "metadata": {},
   "outputs": [
    {
     "name": "stdout",
     "output_type": "stream",
     "text": [
      "문자형입니다\n",
      "\n",
      "이것은 여러줄 문자열 처리입니다\n",
      "ㅇㅇ\n",
      "네네\n",
      "\n"
     ]
    },
    {
     "data": {
      "text/plain": [
       "'\\n이것도\\n여러줄\\n문자열 처리\\n'"
      ]
     },
     "execution_count": 69,
     "metadata": {},
     "output_type": "execute_result"
    }
   ],
   "source": [
    "# 주석처리입니다\n",
    "str1 = '문자형입니다'\n",
    "print(str1)\n",
    "\n",
    "str2 = '''\n",
    "이것은 여러줄 문자열 처리입니다\n",
    "ㅇㅇ\n",
    "네네\n",
    "'''\n",
    "print(str2)\n",
    "\n",
    "\"\"\"\n",
    "이것도\n",
    "여러줄\n",
    "문자열 처리\n",
    "\"\"\"\n",
    "\n",
    "#주석처리 단축키 컨트롤 + 슬래시"
   ]
  },
  {
   "cell_type": "code",
   "execution_count": 74,
   "id": "895731fa-f80b-4926-a17a-c41e8db61d1f",
   "metadata": {},
   "outputs": [
    {
     "name": "stdout",
     "output_type": "stream",
     "text": [
      "Python's favorite food is perl\n"
     ]
    }
   ],
   "source": [
    "#food = \"Python's favorite food is perl\"\n",
    "food = 'Python\\'s favorite food is perl'\n",
    "print(food)\n",
    "#점프 투 파이썬 p.54\n",
    "#따옴표 안에 따옴표를 넣어 출력하고싶을 때, 역슬래시 사용\n",
    "#\\n, \\t, \\\\, \\', \\\" 등도 있음"
   ]
  },
  {
   "cell_type": "code",
   "execution_count": 76,
   "id": "ec6cf013-de5d-42c0-922d-80c3200fda40",
   "metadata": {},
   "outputs": [
    {
     "name": "stdout",
     "output_type": "stream",
     "text": [
      "Life is too short\n",
      "You need python\n"
     ]
    }
   ],
   "source": [
    "multiline = \"Life is too short\\nYou need python\"\n",
    "print(multiline)"
   ]
  },
  {
   "cell_type": "code",
   "execution_count": 77,
   "id": "a5159fc5-ef5d-424e-b037-5385a6bced63",
   "metadata": {},
   "outputs": [
    {
     "name": "stdout",
     "output_type": "stream",
     "text": [
      "\n",
      "Life is too short\n",
      "You need python\n",
      "\n"
     ]
    }
   ],
   "source": [
    "multiline = '''\n",
    "Life is too short\n",
    "You need python\n",
    "'''\n",
    "print(multiline)"
   ]
  },
  {
   "cell_type": "markdown",
   "id": "f8206b18-b898-4451-b873-bf21a4ee297f",
   "metadata": {},
   "source": [
    "<table>\n",
    "<thead>\n",
    "<tr>\n",
    "<th>코드</th>\n",
    "<th>설명</th>\n",
    "</tr>\n",
    "</thead>\n",
    "<tbody>\n",
    "<tr>\n",
    "<td><code>\\n</code></td>\n",
    "<td>문자열 안에서 줄을 바꿀 때 사용</td>\n",
    "</tr>\n",
    "<tr>\n",
    "<td><code>\\t</code></td>\n",
    "<td>문자열 사이에 탭 간격을 줄 때 사용</td>\n",
    "</tr>\n",
    "<tr>\n",
    "<td><code>\\\\</code></td>\n",
    "<td><code>\\</code>를 그대로 표현할 때 사용</td>\n",
    "</tr>\n",
    "<tr>\n",
    "<td><code>\\'</code></td>\n",
    "<td>작은따옴표(')를 그대로 표현할 때 사용</td>\n",
    "</tr>\n",
    "<tr>\n",
    "<td><code>\\\"</code></td>\n",
    "<td>큰따옴표(\")를 그대로 표현할 때 사용</td>\n",
    "</tr>\n",
    "<tr>\n",
    "<td><code>\\r</code></td>\n",
    "<td>캐리지 리턴(줄 바꿈 문자, 커서를 현재 줄의 가장 앞으로 이동)</td>\n",
    "</tr>\n",
    "<tr>\n",
    "<td><code>\\f</code></td>\n",
    "<td>폼 피드(줄 바꿈 문자, 커서를 현재 줄의 다음 줄로 이동)</td>\n",
    "</tr>\n",
    "<tr>\n",
    "<td><code>\\a</code></td>\n",
    "<td>벨 소리(출력할 때 PC 스피커에서 '삑' 소리가 난다)</td>\n",
    "</tr>\n",
    "<tr>\n",
    "<td><code>\\b</code></td>\n",
    "<td>백 스페이스</td>\n",
    "</tr>\n",
    "<tr>\n",
    "<td><code>\\000</code></td>\n",
    "<td>널 문자</td>\n",
    "</tr>\n",
    "</tbody>\n",
    "</table>"
   ]
  },
  {
   "cell_type": "code",
   "execution_count": 79,
   "id": "6579dc7a-c40e-40f5-b47d-c06b88ec9b07",
   "metadata": {},
   "outputs": [
    {
     "name": "stdout",
     "output_type": "stream",
     "text": [
      "Python is fun!\n"
     ]
    }
   ],
   "source": [
    "# 문자열 연산하기\n",
    "head = \"Python\"\n",
    "tail = \" is fun!\"\n",
    "print(head + tail)"
   ]
  },
  {
   "cell_type": "code",
   "execution_count": 80,
   "id": "a7b6be6b-9e50-4a63-9816-31cb16fa3bc1",
   "metadata": {},
   "outputs": [
    {
     "name": "stdout",
     "output_type": "stream",
     "text": [
      "python python python python python \n"
     ]
    }
   ],
   "source": [
    "a = \"python\" + \" \"\n",
    "print(a * 5)"
   ]
  },
  {
   "cell_type": "code",
   "execution_count": 114,
   "id": "1bfb539d-7e23-4310-a9ce-b8bdabe83ab1",
   "metadata": {},
   "outputs": [
    {
     "name": "stdout",
     "output_type": "stream",
     "text": [
      "====================\n",
      "      영 수 증\n",
      "====================\n",
      "아메리카노 : 16500원\n",
      "라떼 : 7200원\n",
      "허브티 : 12000원\n",
      "====================\n",
      " 114\n"
     ]
    }
   ],
   "source": [
    "# 숫자 계산\n",
    "p1 = 5500 * 3\n",
    "p2 = 7200 * 1\n",
    "p3 = 6000 * 2\n",
    "\n",
    "# 문자열 계산\n",
    "m1 = \"아메리카노 : \" + str(p1) + \"원\" + \"\\n\"\n",
    "m2 = \"라떼 : \" + str(p2) + \"원\" + \"\\n\"\n",
    "m3 = \"허브티 : \" + str(p3) + \"원\"\n",
    "title = \"      \" + \"영 수 증\" + \"\\n\"\n",
    "\n",
    "# 출력 조합\n",
    "# print(\"=\" * 20)\n",
    "# print(title)\n",
    "# print(\"=\" * 20)\n",
    "# print(m1+m2+m3)\n",
    "# print(\"=\" * 20)\n",
    "cut = \"=\" * 20 + \"\\n\"\n",
    "mult = cut + title + cut + m1 + m2 + m3 + \"\\n\" + cut\n",
    "\n",
    "# 출력\n",
    "print(mult, len(mult))"
   ]
  },
  {
   "cell_type": "code",
   "execution_count": 116,
   "id": "d9121c71-20c3-42da-ac8d-450ed76aa350",
   "metadata": {},
   "outputs": [
    {
     "name": "stdout",
     "output_type": "stream",
     "text": [
      "17\n"
     ]
    }
   ],
   "source": [
    "a = \"Life is too short\"\n",
    "print(len(a)) #len() 길이"
   ]
  },
  {
   "cell_type": "markdown",
   "id": "5ecce0a1-9057-4e6c-95d2-5ec8a16d1b6c",
   "metadata": {},
   "source": [
    "### 문자열 인덱싱과 슬라이싱"
   ]
  },
  {
   "cell_type": "code",
   "execution_count": 127,
   "id": "b58f05d3-af08-440f-927a-c5cd4371f2e0",
   "metadata": {},
   "outputs": [
    {
     "name": "stdout",
     "output_type": "stream",
     "text": [
      "Life\n",
      "L i f e\n",
      "t o o\n"
     ]
    }
   ],
   "source": [
    "print(a[0] + a[1] + a[2] + a[3])\n",
    "print(a[0], a[1], a[2], a[3])\n",
    "print(a[8], a[9], a[10])"
   ]
  },
  {
   "cell_type": "code",
   "execution_count": 126,
   "id": "ba5850a1-b835-4811-8465-9ca347515f40",
   "metadata": {},
   "outputs": [
    {
     "name": "stdout",
     "output_type": "stream",
     "text": [
      "t r\n"
     ]
    }
   ],
   "source": [
    "print(a[-1], a[-2])"
   ]
  },
  {
   "cell_type": "code",
   "execution_count": 132,
   "id": "318fd16f-690b-4567-8235-c745841df961",
   "metadata": {},
   "outputs": [
    {
     "name": "stdout",
     "output_type": "stream",
     "text": [
      "too\n",
      "need\n"
     ]
    }
   ],
   "source": [
    "a = \"Life is too short, You need Python\"\n",
    "\n",
    "# too 출력하기\n",
    "print(a[8:11]) # 8 <= a < 11\n",
    "print(a[23:27])"
   ]
  },
  {
   "cell_type": "code",
   "execution_count": 154,
   "id": "d8a647a2-7b6e-48ba-aca0-0bf6a0fa0244",
   "metadata": {},
   "outputs": [
    {
     "name": "stdout",
     "output_type": "stream",
     "text": [
      "Life is too short, You need\n",
      "Life is too short, You need\n"
     ]
    }
   ],
   "source": [
    "print(a[0:27]) \n",
    "print(a[:27]) #0은 생략 가능"
   ]
  },
  {
   "cell_type": "code",
   "execution_count": 136,
   "id": "76f0e5b7-e92c-4acf-a88b-70971a4f8a73",
   "metadata": {},
   "outputs": [
    {
     "name": "stdout",
     "output_type": "stream",
     "text": [
      "Python\n"
     ]
    }
   ],
   "source": [
    "print(a[28:])"
   ]
  },
  {
   "cell_type": "code",
   "execution_count": 142,
   "id": "e0ea1155-1916-4680-b419-b475699118c3",
   "metadata": {},
   "outputs": [
    {
     "name": "stdout",
     "output_type": "stream",
     "text": [
      "nohtyP deen uoY ,trohs oot si efiL\n"
     ]
    }
   ],
   "source": [
    "print(a[::-1])"
   ]
  },
  {
   "cell_type": "code",
   "execution_count": 153,
   "id": "4276743e-43c9-4588-8827-a9133eabb87e",
   "metadata": {},
   "outputs": [
    {
     "name": "stdout",
     "output_type": "stream",
     "text": [
      "2025년 02월 03일 오늘은 화창하다!\n"
     ]
    }
   ],
   "source": [
    "today = \"20250203 오늘은 화창하다\"\n",
    "year = today[:4]\n",
    "month = today[4:6]\n",
    "day = today[6:8]\n",
    "weather = today[9:]\n",
    "print(year + \"년 \" + month + \"월 \" + day + \"일 \" + weather + \"!\")"
   ]
  },
  {
   "cell_type": "code",
   "execution_count": 199,
   "id": "1fa6fb59-2bb2-4aae-9eca-a530a69a6a62",
   "metadata": {},
   "outputs": [
    {
     "name": "stdout",
     "output_type": "stream",
     "text": [
      "한국서 돈벌고 '나 몰라라' 코스트코… 연회비 인상률은 미국의 2배\n",
      "한국서 돈벌고 '나 몰라라' 코스트코… 연회비 인상률은 미국의 3배\n"
     ]
    }
   ],
   "source": [
    "import requests\n",
    "url = 'https://v.daum.net/v/20250203151815463'\n",
    "res = requests.get(url).text\n",
    "print(res[374:411])\n",
    "print(res[374:409] + \"3\" + res[410:411])\n",
    "# 강사님 풀이\n",
    "# result = res[374:411]\n",
    "# out = result[:-2] + '3' + result[-1]\n",
    "# print(out)"
   ]
  },
  {
   "cell_type": "code",
   "execution_count": 200,
   "id": "038e7f7c-88b3-4428-96cc-b7739f229d57",
   "metadata": {},
   "outputs": [
    {
     "name": "stdout",
     "output_type": "stream",
     "text": [
      "대빵의 톡쏘는 일상 : 네이버 블로그\n"
     ]
    }
   ],
   "source": [
    "import requests\n",
    "url = 'https://blog.naver.com/droad777'\n",
    "res = requests.get(url).text\n",
    "print(\"대빵의\" + res[898:915])"
   ]
  },
  {
   "cell_type": "markdown",
   "id": "69540186-61d1-4270-a181-f05aa22d2079",
   "metadata": {},
   "source": [
    "### 문자열 포매팅"
   ]
  },
  {
   "cell_type": "code",
   "execution_count": 10,
   "id": "221b6be8-b2e0-4e5b-938b-22c5b69700bd",
   "metadata": {},
   "outputs": [
    {
     "name": "stdout",
     "output_type": "stream",
     "text": [
      "I eat 3 apples.\n",
      "I eat 5 apples.\n",
      "I eat five apples.\n"
     ]
    }
   ],
   "source": [
    "print(\"I eat 3 apples.\")\n",
    "print(\"I eat %d apples.\" %5)\n",
    "print(\"I eat %s apples.\" %\"five\")"
   ]
  },
  {
   "cell_type": "markdown",
   "id": "1262177e-47ab-4873-b582-4f03296b2a52",
   "metadata": {},
   "source": [
    "<table>\n",
    "<thead>\n",
    "<tr>\n",
    "<th>코드</th>\n",
    "<th>설명</th>\n",
    "</tr>\n",
    "</thead>\n",
    "<tbody>\n",
    "<tr>\n",
    "<td>%s</td>\n",
    "<td>문자열(String)</td>\n",
    "</tr>\n",
    "<tr>\n",
    "<td>%c</td>\n",
    "<td>문자 1개(character)</td>\n",
    "</tr>\n",
    "<tr>\n",
    "<td>%d</td>\n",
    "<td>정수(Integer)</td>\n",
    "</tr>\n",
    "<tr>\n",
    "<td>%f</td>\n",
    "<td>부동소수(floating-point)</td>\n",
    "</tr>\n",
    "<tr>\n",
    "<td>%o</td>\n",
    "<td>8진수</td>\n",
    "</tr>\n",
    "<tr>\n",
    "<td>%x</td>\n",
    "<td>16진수</td>\n",
    "</tr>\n",
    "<tr>\n",
    "<td>%%</td>\n",
    "<td>Literal % (문자 <code>%</code> 자체)</td>\n",
    "</tr>\n",
    "</tbody>\n",
    "</table>"
   ]
  },
  {
   "cell_type": "code",
   "execution_count": 13,
   "id": "8a067215-6a59-44ee-8aab-016b40262b58",
   "metadata": {},
   "outputs": [
    {
     "name": "stdout",
     "output_type": "stream",
     "text": [
      "사람 몸의 수분은 60% 이다\n"
     ]
    }
   ],
   "source": [
    "print(\"사람 몸의 수분은 %d%% 이다\" %60)"
   ]
  },
  {
   "cell_type": "code",
   "execution_count": 18,
   "id": "7a80d92a-c8c1-4a32-8145-e0ff4019409a",
   "metadata": {},
   "outputs": [
    {
     "name": "stdout",
     "output_type": "stream",
     "text": [
      "10진수로 123은 123이다\n",
      "10진수로 123은 16진수로 7b이고, 8진수로 173이다.\n"
     ]
    }
   ],
   "source": [
    "print(\"10진수로 %d은 %d이다\" %(123, 123))\n",
    "print(\"10진수로 %d은 16진수로 %x이고, 8진수로 %o이다.\" %(123, 123, 123))\n",
    "print(\"10진수로 %d은 16진수로 %x이고, 8진수로 %o이다.\" %(255, 255, 255))"
   ]
  },
  {
   "cell_type": "code",
   "execution_count": 23,
   "id": "a3c78429-8dc6-44aa-9f2c-f5c3280e3270",
   "metadata": {},
   "outputs": [
    {
     "name": "stdout",
     "output_type": "stream",
     "text": [
      "        hi\n",
      "hi        \n"
     ]
    }
   ],
   "source": [
    "# 정렬과 공백\n",
    "print(\"%10s\" %\"hi\")\n",
    "print(\"%-10s\" %\"hi\")"
   ]
  },
  {
   "attachments": {
    "7536275d-7f09-43c2-b259-cff186b94ffa.png": {
     "image/png": "[encoded data removed]"
    }
   },
   "cell_type": "markdown",
   "id": "c87a38ea-ab1b-4da1-b256-96dcd3b2b638",
   "metadata": {},
   "source": [
    "<img src=\"attachment:7536275d-7f09-43c2-b259-cff186b94ffa.png\" width=350>"
   ]
  },
  {
   "cell_type": "code",
   "execution_count": 24,
   "id": "c965865c-869f-4b5c-bb38-d9da484823a5",
   "metadata": {},
   "outputs": [],
   "source": [
    "# 정렬과 공백(음수일 때 왼쪽 정렬)"
   ]
  },
  {
   "cell_type": "code",
   "execution_count": 25,
   "id": "88003938-deaf-4735-be68-92603483302f",
   "metadata": {},
   "outputs": [
    {
     "name": "stdout",
     "output_type": "stream",
     "text": [
      "hi        jane\n"
     ]
    }
   ],
   "source": [
    "print(\"%-10sjane\" %\"hi\")"
   ]
  },
  {
   "cell_type": "code",
   "execution_count": 31,
   "id": "a6bba968-16b0-46bb-b9ad-c9520057ae58",
   "metadata": {},
   "outputs": [
    {
     "name": "stdout",
     "output_type": "stream",
     "text": [
      "3\n",
      "3.141592\n",
      "3.141592\n",
      "3.1416\n",
      "    3.1416\n"
     ]
    }
   ],
   "source": [
    "# 소숫점 표현하기\n",
    "print(\"%d\" %3.141592) #정수\n",
    "print(\"%s\" %3.141592) #문자열\n",
    "print(\"%f\" %3.141592) #부동소수\n",
    "print(\"%.4f\" %3.141592) #4자리수까지 표현\n",
    "print(\"%10.4f\" %3.141592)"
   ]
  },
  {
   "attachments": {
    "e9bd04b9-aced-44d4-8e1e-3be7981bf575.png": {
     "image/png": "[encoded data removed]"
    }
   },
   "cell_type": "markdown",
   "id": "cf9d65db-f8f9-431c-acb5-8dca6c5e661b",
   "metadata": {},
   "source": [
    "<img src=\"attachment:e9bd04b9-aced-44d4-8e1e-3be7981bf575.png\" width=350>"
   ]
  },
  {
   "cell_type": "markdown",
   "id": "8c1cb233-97a1-4a13-b394-b7e1e45d6801",
   "metadata": {},
   "source": [
    "### format 함수를 사용한 포매팅"
   ]
  },
  {
   "cell_type": "code",
   "execution_count": 32,
   "id": "39c3f768-3fbf-4a3b-935f-cab1307bf125",
   "metadata": {},
   "outputs": [
    {
     "name": "stdout",
     "output_type": "stream",
     "text": [
      "I eat 3 apples.\n"
     ]
    }
   ],
   "source": [
    "print(\"I eat {0} apples.\".format(3))"
   ]
  },
  {
   "cell_type": "code",
   "execution_count": 37,
   "id": "68ac01de-5909-45a9-a042-d9c32c635cc0",
   "metadata": {},
   "outputs": [
    {
     "name": "stdout",
     "output_type": "stream",
     "text": [
      "I eat three of 10 apples.\n",
      "I eat three of 10 apples.\n"
     ]
    }
   ],
   "source": [
    "# 변수로 대입하기\n",
    "total = 10\n",
    "ea = \"three\"\n",
    "print(\"I eat {0} of {1} apples.\".format(ea, total))\n",
    "print(\"I eat {ea} of {total} apples.\".format(ea=\"three\", total=10))"
   ]
  },
  {
   "cell_type": "code",
   "execution_count": 38,
   "id": "30c10877-6426-430f-8959-9e4831125350",
   "metadata": {},
   "outputs": [
    {
     "name": "stdout",
     "output_type": "stream",
     "text": [
      "I ate 10 apples. so I was sick for 3 days\n"
     ]
    }
   ],
   "source": [
    "# 인덱스와 이름을 혼용해서 넣기\n",
    "print(\"I ate {0} apples. so I was sick for {day} days\".format(10, day=3))"
   ]
  },
  {
   "cell_type": "code",
   "execution_count": 52,
   "id": "7a9b607d-4018-46aa-8059-9c09def21e14",
   "metadata": {},
   "outputs": [
    {
     "name": "stdout",
     "output_type": "stream",
     "text": [
      "일  반 : hi\n",
      "오른쪽 :         hi\n",
      "왼  쪽 : hi        \n",
      "가운데 :     hi    \n"
     ]
    }
   ],
   "source": [
    "print(\"일  반 : {0}\".format(\"hi\"))\n",
    "print(\"오른쪽 : {0:>10}\".format(\"hi\"))\n",
    "print(\"왼  쪽 : {0:<10}\".format(\"hi\"))\n",
    "print(\"가운데 : {0:^10}\".format(\"hi\"))"
   ]
  },
  {
   "cell_type": "code",
   "execution_count": 54,
   "id": "0af769f3-553c-4567-b527-51490fd02ed1",
   "metadata": {},
   "outputs": [
    {
     "name": "stdout",
     "output_type": "stream",
     "text": [
      "====hi====\n",
      "hi!!!!!!!!\n"
     ]
    }
   ],
   "source": [
    "# 정렬 + 공백채우기\n",
    "print(\"{0:=^10}\".format(\"hi\"))\n",
    "print(\"{0:!<10}\".format(\"hi\"))"
   ]
  },
  {
   "cell_type": "code",
   "execution_count": 56,
   "id": "e4567878-399b-4f7f-801c-16436faae7c4",
   "metadata": {},
   "outputs": [
    {
     "name": "stdout",
     "output_type": "stream",
     "text": [
      "              3.1416\n"
     ]
    }
   ],
   "source": [
    "# 소수점 표현하기\n",
    "pi = 3.141592\n",
    "print(\"{0:20.4f}\".format(pi))"
   ]
  },
  {
   "cell_type": "code",
   "execution_count": 68,
   "id": "7f587084-e256-47d9-a4db-7a676bbebf72",
   "metadata": {},
   "outputs": [
    {
     "name": "stdout",
     "output_type": "stream",
     "text": [
      "중괄호은 { 과 } 입니다.\n"
     ]
    }
   ],
   "source": [
    "# 이스케이프 처리\n",
    "print(\"{0}은 {{ 과 }} 입니다.\".format(\"중괄호\"))\n",
    "# 따옴표 안에서 중괄호 표현시 2번 입력하면 됨. (퍼센트랑 마찬가지)"
   ]
  },
  {
   "cell_type": "code",
   "execution_count": 67,
   "id": "0ad14bfb-23be-48c0-b95f-1f04352428a9",
   "metadata": {},
   "outputs": [
    {
     "name": "stdout",
     "output_type": "stream",
     "text": [
      "123\n",
      "1111011\n",
      "01111011\n"
     ]
    }
   ],
   "source": [
    "# 2진수 처리\n",
    "print(\"{0}\".format(123))\n",
    "print(\"{0:b}\".format(123))\n",
    "# 예제\n",
    "# 0111 1011 출력하기\n",
    "print(\"{0:0>8b}\".format(123))"
   ]
  },
  {
   "cell_type": "markdown",
   "id": "b025a51d-3180-4ba3-97a0-de4af04903ab",
   "metadata": {},
   "source": [
    "### f 문자열 포매팅"
   ]
  },
  {
   "cell_type": "code",
   "execution_count": 72,
   "id": "fb20a890-cacb-47a9-bfb1-52f45cd14e1c",
   "metadata": {},
   "outputs": [
    {
     "name": "stdout",
     "output_type": "stream",
     "text": [
      "나의 이름은 배트맨 입니다. 나이는 30 입니다.\n",
      "내년이면 31살이 됩니다.\n"
     ]
    }
   ],
   "source": [
    "# \" \".format() => f\" \"\n",
    "name = \"배트맨\"\n",
    "age = 30\n",
    "print(f\"나의 이름은 {name} 입니다. 나이는 {age} 입니다.\")\n",
    "print(f\"내년이면 {age+1}살이 됩니다.\")"
   ]
  },
  {
   "cell_type": "code",
   "execution_count": 78,
   "id": "b4237711-a71e-4a32-ae81-9ba4e908154d",
   "metadata": {},
   "outputs": [
    {
     "name": "stdout",
     "output_type": "stream",
     "text": [
      "나의 이름은 홍길동입니다. 나이는 30살입니다. 성별은 female입니다.\n"
     ]
    }
   ],
   "source": [
    "d = {\"name\" : \"홍길동\", \"age\" : 30, \"gen\" : \"female\"}\n",
    "print(f\"나의 이름은 {d[\"name\"]}입니다. 나이는 {d[\"age\"]}살입니다. 성별은 {d[\"gen\"]}입니다.\")"
   ]
  },
  {
   "cell_type": "code",
   "execution_count": 85,
   "id": "36c064c4-1a09-4221-8e87-32bad634640c",
   "metadata": {},
   "outputs": [
    {
     "name": "stdout",
     "output_type": "stream",
     "text": [
      "hi        \n",
      "        hi\n",
      "    hi    \n",
      "====hi====\n",
      "hi!!!!!!!!\n"
     ]
    }
   ],
   "source": [
    "print(f'{\"hi\":<10}')\n",
    "print(f'{\"hi\":>10}')\n",
    "print(f'{\"hi\":^10}')\n",
    "print(f'{\"hi\":=^10}')\n",
    "print(f'{\"hi\":!<10}')"
   ]
  },
  {
   "cell_type": "code",
   "execution_count": 88,
   "id": "afc73dfb-cca1-4ce1-9e07-f83739cec4af",
   "metadata": {},
   "outputs": [
    {
     "name": "stdout",
     "output_type": "stream",
     "text": [
      "3.4213\n",
      "    3.4213\n",
      "{and}\n"
     ]
    }
   ],
   "source": [
    "y = 3.42134234\n",
    "print(f'{y:0.4f}')\n",
    "print(f'{y:10.4f}')\n",
    "print(f'{{and}}')"
   ]
  },
  {
   "cell_type": "markdown",
   "id": "fa5fbbe6-cf44-4d36-9d9b-7ea5675f70a1",
   "metadata": {},
   "source": [
    "### 문자열 관련 함수들"
   ]
  },
  {
   "cell_type": "code",
   "execution_count": 97,
   "id": "f670fc3b-546c-45d6-a95f-6a8548698f00",
   "metadata": {},
   "outputs": [
    {
     "data": {
      "text/plain": [
       "2"
      ]
     },
     "execution_count": 97,
     "metadata": {},
     "output_type": "execute_result"
    }
   ],
   "source": [
    "# 문자 개수 세기 count\n",
    "# a = \"hobby\"\n",
    "# a.count('b')    ∴2\n",
    "\"hobby\".count('b')"
   ]
  },
  {
   "cell_type": "code",
   "execution_count": 96,
   "id": "05af3e68-b5c8-4c61-b8b2-f7cac0e4eb7a",
   "metadata": {},
   "outputs": [
    {
     "name": "stdout",
     "output_type": "stream",
     "text": [
      "한국서 돈벌고 '나 몰라라' 코스트코… 연회비 인상률은 미국의 3배\n",
      "2\n"
     ]
    }
   ],
   "source": [
    "import requests\n",
    "url = 'https://v.daum.net/v/20250203151815463'\n",
    "res = requests.get(url).text\n",
    "result = res[374:411]\n",
    "out = result[:-2] + '3' + result[-1]\n",
    "print(out)\n",
    "print(out.count('코'))"
   ]
  },
  {
   "cell_type": "code",
   "execution_count": 103,
   "id": "9f58dc16-73bb-46dc-85dc-a5a6da5d9449",
   "metadata": {},
   "outputs": [
    {
     "name": "stdout",
     "output_type": "stream",
     "text": [
      "한국서 돈벌고 '나 몰라라' 코스트코… 연회비 인상률은 미국의 3배\n",
      "22\n",
      "-1\n"
     ]
    }
   ],
   "source": [
    "# 위치 알려주기 1-find\n",
    "print(out)\n",
    "print(out.find('연'))\n",
    "print(out.find('밥'))"
   ]
  },
  {
   "cell_type": "code",
   "execution_count": 101,
   "id": "cd22eaa1-58ee-4ab4-9553-5c1a5c702827",
   "metadata": {},
   "outputs": [
    {
     "name": "stdout",
     "output_type": "stream",
     "text": [
      "374\n"
     ]
    }
   ],
   "source": [
    "import requests\n",
    "url = 'https://v.daum.net/v/20250203151815463'\n",
    "res = requests.get(url).text\n",
    "print(res.find('한'))"
   ]
  },
  {
   "cell_type": "code",
   "execution_count": 123,
   "id": "673038a9-471c-4fa9-bac2-f2dea4c98acd",
   "metadata": {},
   "outputs": [
    {
     "name": "stdout",
     "output_type": "stream",
     "text": [
      "41529\n",
      "좋아하는 노래 제목 :  toxic till the end\n"
     ]
    }
   ],
   "source": [
    "import requests\n",
    "url = 'https://music.apple.com/kr/playlist/%EC%98%A4%EB%8A%98%EC%9D%98-top-100-%EB%8C%80%ED%95%9C%EB%AF%BC%EA%B5%AD/pl.d3d10c32fbc540b38e266367dc8cb00c'\n",
    "res = requests.get(url).text\n",
    "print(res.find('toxic till the end')) # 찾고자하는 단어 없으면 오류발생\n",
    "print(\"좋아하는 노래 제목 : \", res[41529:41547])"
   ]
  },
  {
   "cell_type": "code",
   "execution_count": 131,
   "id": "12b724aa-61a4-4d26-a95e-a8e035864513",
   "metadata": {},
   "outputs": [
    {
     "name": "stdout",
     "output_type": "stream",
     "text": [
      "a,b,c,d,e,f,g\n",
      "a,b,c,d\n"
     ]
    }
   ],
   "source": [
    "# dir(str) 사용가능 함수? 리스트\n",
    "# 문자열 삽입 join\n",
    "print(\",\".join('abcdefg'))\n",
    "print(\",\".join(['a', 'b', 'c', 'd']))"
   ]
  },
  {
   "cell_type": "code",
   "execution_count": 136,
   "id": "04485130-1df6-421b-aff6-53f5cd7a82fa",
   "metadata": {},
   "outputs": [
    {
     "name": "stdout",
     "output_type": "stream",
     "text": [
      "변환 전 hi\n",
      "변환 후 HI\n",
      "변환 전 HI\n",
      "변환 후 hi\n"
     ]
    }
   ],
   "source": [
    "# 소문자를 대문자로 바꾸기 upper\n",
    "a = \"hi\"\n",
    "print(\"변환 전\", a)\n",
    "print(\"변환 후\", a.upper())\n",
    "# 대문자를 소문자로 바꾸기 lower\n",
    "b = \"HI\"\n",
    "print(\"변환 전\", b)\n",
    "print(\"변환 후\", b.lower())"
   ]
  },
  {
   "cell_type": "code",
   "execution_count": 139,
   "id": "5643f5cc-b2a3-4ced-80c7-db1c742060a9",
   "metadata": {},
   "outputs": [
    {
     "name": "stdout",
     "output_type": "stream",
     "text": [
      "Life is Egg\n",
      "LIFE IS EGG\n",
      "life is egg\n"
     ]
    }
   ],
   "source": [
    "# 연습\n",
    "v = \"Life is Egg\"\n",
    "big = v.upper()\n",
    "small = v.lower()\n",
    "print(v)\n",
    "print(big)\n",
    "print(small)"
   ]
  },
  {
   "cell_type": "code",
   "execution_count": 145,
   "id": "3209f89e-f903-46a0-864b-fae66fa6c1ff",
   "metadata": {},
   "outputs": [
    {
     "name": "stdout",
     "output_type": "stream",
     "text": [
      "      hi  \n",
      "hi  \n",
      "      hi\n",
      "hi\n"
     ]
    }
   ],
   "source": [
    "# 공백 지우기\n",
    "a = \"      hi  \"\n",
    "aa = a.lstrip() # 왼쪽 공백 지우기\n",
    "bb = a.rstrip() # 오른쪽 공백 지우기\n",
    "cc = a.strip() # 양쪽 공백 지우기\n",
    "print(a)\n",
    "print(aa)\n",
    "print(bb)\n",
    "print(cc)"
   ]
  },
  {
   "cell_type": "code",
   "execution_count": 146,
   "id": "9213cf43-88bf-4c81-b9b4-c22f0ee132da",
   "metadata": {},
   "outputs": [
    {
     "name": "stdout",
     "output_type": "stream",
     "text": [
      "         hi         \n",
      "hi         \n",
      "         hi\n",
      "hi\n"
     ]
    }
   ],
   "source": [
    "f = f\"{'hi':^20}\"\n",
    "f1 = f.lstrip()\n",
    "f2 = f.rstrip()\n",
    "f3 = f.strip()\n",
    "print(f)\n",
    "print(f1)\n",
    "print(f2)\n",
    "print(f3)"
   ]
  },
  {
   "cell_type": "code",
   "execution_count": 148,
   "id": "8f6c9d15-2870-4430-b377-9db4b661ea47",
   "metadata": {},
   "outputs": [
    {
     "name": "stdout",
     "output_type": "stream",
     "text": [
      "Life is Egg\n",
      "Life is Beautiful\n"
     ]
    }
   ],
   "source": [
    "# 문자열 바꾸기 replace **\n",
    "a = \"Life is Egg\"\n",
    "c = a.replace(\"Egg\", \"Beautiful\")\n",
    "print(a)\n",
    "print(c)"
   ]
  },
  {
   "cell_type": "code",
   "execution_count": 151,
   "id": "b3fb3e23-f549-40ac-a899-1773d1e19d52",
   "metadata": {},
   "outputs": [
    {
     "name": "stdout",
     "output_type": "stream",
     "text": [
      "['Life', 'is', 'Egg']\n",
      "['a', 'b', 'c', 'd']\n"
     ]
    }
   ],
   "source": [
    "# 문자열 나누기 split *\n",
    "a = \"Life is Egg\"\n",
    "print(a.split())\n",
    "b = \"a:b:c:d\"\n",
    "print(b.split(':'))"
   ]
  },
  {
   "cell_type": "code",
   "execution_count": 154,
   "id": "fbebd431-81ed-4d82-861c-f20380e10cc2",
   "metadata": {},
   "outputs": [
    {
     "name": "stdout",
     "output_type": "stream",
     "text": [
      "['abcdefghi']\n",
      "a=b=c=d=e=f=g=h=i\n",
      "['a', 'b', 'c', 'd', 'e', 'f', 'g', 'h', 'i']\n",
      "a b c d e f g h i\n"
     ]
    }
   ],
   "source": [
    "# 연습\n",
    "ex = \"abcdefghi\"\n",
    "ex2 = ex.split()\n",
    "print(ex2)\n",
    "ex_join = \"=\".join(ex)\n",
    "print(ex_join)\n",
    "ex_split = ex_join.split(\"=\")\n",
    "print(ex_split)\n",
    "ex_replace = ex_join.replace(\"=\",\" \")\n",
    "print(ex_replace)"
   ]
  },
  {
   "cell_type": "code",
   "execution_count": null,
   "id": "37f68262-1030-4091-bc9b-c6cfe59ce262",
   "metadata": {},
   "outputs": [],
   "source": []
  }
 ],
 "metadata": {
  "kernelspec": {
   "display_name": "Python 3 (ipykernel)",
   "language": "python",
   "name": "python3"
  },
  "language_info": {
   "codemirror_mode": {
    "name": "ipython",
    "version": 3
   },
   "file_extension": ".py",
   "mimetype": "text/x-python",
   "name": "python",
   "nbconvert_exporter": "python",
   "pygments_lexer": "ipython3",
   "version": "3.13.1"
  }
 },
 "nbformat": 4,
 "nbformat_minor": 5
}
