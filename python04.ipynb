{
 "cells": [
  {
   "cell_type": "markdown",
   "id": "3099316a-ba5c-4dba-97df-a882262ece1e",
   "metadata": {},
   "source": [
    "# 함수"
   ]
  },
  {
   "cell_type": "code",
   "execution_count": 4,
   "id": "f6fea316-fd22-422e-9e41-c86b29ed198e",
   "metadata": {},
   "outputs": [
    {
     "name": "stdout",
     "output_type": "stream",
     "text": [
      "7\n"
     ]
    }
   ],
   "source": [
    "def 덧셈(a, b):\n",
    "    return a + b\n",
    "c = 덧셈(3, 4)\n",
    "print(c)"
   ]
  },
  {
   "cell_type": "code",
   "execution_count": 10,
   "id": "bdcd5337-98c3-4e31-8239-e1bf71478001",
   "metadata": {},
   "outputs": [
    {
     "name": "stdout",
     "output_type": "stream",
     "text": [
      "[7, 9, 11, 16, 22, 30, 32, 37, 38, 40] 10\n"
     ]
    }
   ],
   "source": [
    "import random\n",
    "def 로또(rge, num):    # 함수명(파라미터(매개변수))\n",
    "    box = []\n",
    "    while len(box) < rge:    #len(box) < 파라미터(매개변수)\n",
    "        ran = random.randint(1, num)    #random.randint(1, 파라미터(매개변수))\n",
    "        if not ran in box:\n",
    "            box.append(ran)\n",
    "    box.sort()\n",
    "    print(box, len(box))\n",
    "로또(10, 45)    # 실행할 함수명(파라미터(매개변수)에 넣을 값)"
   ]
  },
  {
   "cell_type": "code",
   "execution_count": 20,
   "id": "af0d89be-0292-4fda-84af-a2f1d0bbefd3",
   "metadata": {},
   "outputs": [
    {
     "name": "stdout",
     "output_type": "stream",
     "text": [
      "2단========\n",
      "2 x 1 = 2\n",
      "2 x 2 = 4\n",
      "2 x 3 = 6\n",
      "2 x 4 = 8\n",
      "2 x 5 = 10\n",
      "2 x 6 = 12\n",
      "2 x 7 = 14\n",
      "2 x 8 = 16\n",
      "2 x 9 = 18\n",
      "\n"
     ]
    }
   ],
   "source": [
    "def gugu(end = 9):    # 디폴트값 9\n",
    "    data = ''\n",
    "    for i in range(2,end + 1):  \n",
    "        print(f'{i}단========')\n",
    "        for j in range(1, 10):\n",
    "            data += (f'{i} x {j} = {i*j}') + '\\n'\n",
    "    return data\n",
    "print(gugu(2))"
   ]
  },
  {
   "cell_type": "markdown",
   "id": "293bef53-c1aa-4e03-9329-46b6c52572a6",
   "metadata": {},
   "source": [
    "## 입력값과 리턴값에 따른 함수의 형태"
   ]
  },
  {
   "cell_type": "markdown",
   "id": "1f925cf5-59e0-461c-ad43-986b647e9124",
   "metadata": {},
   "source": [
    "### 일반적인 함수"
   ]
  },
  {
   "cell_type": "code",
   "execution_count": 21,
   "id": "e8fb7318-328f-43e7-b897-9eb3b68dba51",
   "metadata": {},
   "outputs": [],
   "source": [
    "def add(a, b):\n",
    "    result = a + b\n",
    "    return result"
   ]
  },
  {
   "cell_type": "code",
   "execution_count": 23,
   "id": "78c10545-eaac-4e98-bec9-28d52cff535d",
   "metadata": {},
   "outputs": [
    {
     "name": "stdout",
     "output_type": "stream",
     "text": [
      "87\n"
     ]
    }
   ],
   "source": [
    "a = add(77, 10)\n",
    "print(a)"
   ]
  },
  {
   "cell_type": "code",
   "execution_count": 24,
   "id": "410c8878-5bfc-4c2a-b9ae-d1ac0a386a17",
   "metadata": {},
   "outputs": [],
   "source": [
    "# 입력값이 없는 함수\n",
    "def say():\n",
    "    return '안녕'"
   ]
  },
  {
   "cell_type": "code",
   "execution_count": 25,
   "id": "14b5eada-ef0a-470f-8559-68122685b775",
   "metadata": {},
   "outputs": [
    {
     "name": "stdout",
     "output_type": "stream",
     "text": [
      "안녕\n"
     ]
    }
   ],
   "source": [
    "a = say()\n",
    "print(a)"
   ]
  },
  {
   "cell_type": "code",
   "execution_count": 26,
   "id": "18dbd310-b31b-4d40-a714-0f907a6c9971",
   "metadata": {},
   "outputs": [],
   "source": [
    "# 리턴값이 없는 함수\n",
    "def add(a,b):\n",
    "    print(\"%d, %d의 합은 %d입니다\" %(a, b, a+b))"
   ]
  },
  {
   "cell_type": "code",
   "execution_count": 27,
   "id": "87bd6a30-d539-4765-a8c8-f88ecb72e9b5",
   "metadata": {},
   "outputs": [
    {
     "name": "stdout",
     "output_type": "stream",
     "text": [
      "11, 21의 합은 32입니다\n"
     ]
    }
   ],
   "source": [
    "add(11, 21)"
   ]
  },
  {
   "cell_type": "code",
   "execution_count": 30,
   "id": "8a32f712-c4c1-44a1-b941-1806c9242507",
   "metadata": {},
   "outputs": [],
   "source": [
    "# 입력값과 리턴값이 없는 함수\n",
    "def say():\n",
    "    print(\"안녕!\")\n",
    "    print(\"안녕안녕\")\n",
    "    print(\"빠이~\")"
   ]
  },
  {
   "cell_type": "code",
   "execution_count": 31,
   "id": "1ad44363-03ae-4fbe-aa79-8c242ea16a0b",
   "metadata": {},
   "outputs": [
    {
     "name": "stdout",
     "output_type": "stream",
     "text": [
      "안녕!\n",
      "안녕안녕\n",
      "빠이~\n"
     ]
    }
   ],
   "source": [
    "say()"
   ]
  },
  {
   "cell_type": "code",
   "execution_count": 36,
   "id": "71f097a9-8d0a-40f1-b3c2-c02926a57ae4",
   "metadata": {},
   "outputs": [],
   "source": [
    "# 테스트\n",
    "import time as t\n",
    "def disp():\n",
    "    print(\"안녕!\\r\", end=\"\")\n",
    "    t.sleep(2)\n",
    "    print(\"안녕안녕\\r\", end=\"\")\n",
    "    t.sleep(2)\n",
    "    print(\"빠이~       \", end=\"\")\n",
    "    t.sleep(2)"
   ]
  },
  {
   "cell_type": "code",
   "execution_count": 37,
   "id": "e21b64c1-7d63-4cd7-8229-2ed50e9fe091",
   "metadata": {},
   "outputs": [
    {
     "name": "stdout",
     "output_type": "stream",
     "text": [
      "빠이~       "
     ]
    }
   ],
   "source": [
    "disp()"
   ]
  },
  {
   "cell_type": "code",
   "execution_count": 38,
   "id": "9d0cfe80-df2d-4bd9-ae7e-30efde4f5a6c",
   "metadata": {},
   "outputs": [],
   "source": [
    "# 매개변수를 지정하여 호출하기\n",
    "def sub(a, b):\n",
    "    return a-b"
   ]
  },
  {
   "cell_type": "code",
   "execution_count": 39,
   "id": "d5ba3b24-41ef-4bb6-b586-95a986901d0d",
   "metadata": {},
   "outputs": [
    {
     "name": "stdout",
     "output_type": "stream",
     "text": [
      "4\n"
     ]
    }
   ],
   "source": [
    "# result = sub(a=7, b=3)\n",
    "result = sub(a=7, b=3)\n",
    "print(result)"
   ]
  },
  {
   "cell_type": "code",
   "execution_count": 48,
   "id": "99b60510-04ef-4a89-9714-7fc83ae19331",
   "metadata": {},
   "outputs": [],
   "source": [
    "# !pip install matplotlib"
   ]
  },
  {
   "cell_type": "code",
   "execution_count": 69,
   "id": "2b2d3140-ec8e-44a2-9293-f05267cda37a",
   "metadata": {},
   "outputs": [],
   "source": [
    "# 테스트 : 함수 random 주사위\n",
    "import random as r\n",
    "import matplotlib.pyplot as plt\n",
    "def dice(target = 250000):\n",
    "    box = []\n",
    "    num = 0\n",
    "    results = {}\n",
    "    while num < target:\n",
    "        num += 1\n",
    "        ran = r.randint(1, 45)\n",
    "        box.append(ran)\n",
    "    if target == len(box):\n",
    "        print(f\"{target}회 정상 진행\")\n",
    "    else:\n",
    "        print(f\"횟수 이상 발생. (전체 {target}회 중 {len(box)}회 진행)\")\n",
    "    for n in range(1, 45):\n",
    "        results[n] = box.count(n)\n",
    "        print(f\"{n} 등장 횟수 : {box.count(n)} ({box.count(n)/target*100:.2f}%)\")\n",
    "    print(results)\n",
    "    color = [\"skyblue\", \"pink\"]\n",
    "    plt.bar(results.keys(), results.values(), color = color)\n",
    "    plt.show()"
   ]
  },
  {
   "cell_type": "code",
   "execution_count": 70,
   "id": "df0adc94-fdd3-4c38-a99f-a0f2456dee15",
   "metadata": {},
   "outputs": [
    {
     "name": "stdout",
     "output_type": "stream",
     "text": [
      "250000회 정상 진행\n",
      "1 등장 횟수 : 5640 (2.26%)\n",
      "2 등장 횟수 : 5461 (2.18%)\n",
      "3 등장 횟수 : 5494 (2.20%)\n",
      "4 등장 횟수 : 5540 (2.22%)\n",
      "5 등장 횟수 : 5513 (2.21%)\n",
      "6 등장 횟수 : 5501 (2.20%)\n",
      "7 등장 횟수 : 5816 (2.33%)\n",
      "8 등장 횟수 : 5566 (2.23%)\n",
      "9 등장 횟수 : 5579 (2.23%)\n",
      "10 등장 횟수 : 5423 (2.17%)\n",
      "11 등장 횟수 : 5553 (2.22%)\n",
      "12 등장 횟수 : 5597 (2.24%)\n",
      "13 등장 횟수 : 5446 (2.18%)\n",
      "14 등장 횟수 : 5485 (2.19%)\n",
      "15 등장 횟수 : 5712 (2.28%)\n",
      "16 등장 횟수 : 5458 (2.18%)\n",
      "17 등장 횟수 : 5582 (2.23%)\n",
      "18 등장 횟수 : 5488 (2.20%)\n",
      "19 등장 횟수 : 5423 (2.17%)\n",
      "20 등장 횟수 : 5589 (2.24%)\n",
      "21 등장 횟수 : 5563 (2.23%)\n",
      "22 등장 횟수 : 5470 (2.19%)\n",
      "23 등장 횟수 : 5527 (2.21%)\n",
      "24 등장 횟수 : 5523 (2.21%)\n",
      "25 등장 횟수 : 5601 (2.24%)\n",
      "26 등장 횟수 : 5725 (2.29%)\n",
      "27 등장 횟수 : 5649 (2.26%)\n",
      "28 등장 횟수 : 5491 (2.20%)\n",
      "29 등장 횟수 : 5577 (2.23%)\n",
      "30 등장 횟수 : 5555 (2.22%)\n",
      "31 등장 횟수 : 5584 (2.23%)\n",
      "32 등장 횟수 : 5560 (2.22%)\n",
      "33 등장 횟수 : 5579 (2.23%)\n",
      "34 등장 횟수 : 5585 (2.23%)\n",
      "35 등장 횟수 : 5563 (2.23%)\n",
      "36 등장 횟수 : 5646 (2.26%)\n",
      "37 등장 횟수 : 5607 (2.24%)\n",
      "38 등장 횟수 : 5551 (2.22%)\n",
      "39 등장 횟수 : 5523 (2.21%)\n",
      "40 등장 횟수 : 5561 (2.22%)\n",
      "41 등장 횟수 : 5529 (2.21%)\n",
      "42 등장 횟수 : 5542 (2.22%)\n",
      "43 등장 횟수 : 5623 (2.25%)\n",
      "44 등장 횟수 : 5464 (2.19%)\n",
      "{1: 5640, 2: 5461, 3: 5494, 4: 5540, 5: 5513, 6: 5501, 7: 5816, 8: 5566, 9: 5579, 10: 5423, 11: 5553, 12: 5597, 13: 5446, 14: 5485, 15: 5712, 16: 5458, 17: 5582, 18: 5488, 19: 5423, 20: 5589, 21: 5563, 22: 5470, 23: 5527, 24: 5523, 25: 5601, 26: 5725, 27: 5649, 28: 5491, 29: 5577, 30: 5555, 31: 5584, 32: 5560, 33: 5579, 34: 5585, 35: 5563, 36: 5646, 37: 5607, 38: 5551, 39: 5523, 40: 5561, 41: 5529, 42: 5542, 43: 5623, 44: 5464}\n"
     ]
    },
    {
     "data": {
      "image/png": "[encoded data removed]",
      "text/plain": [
       "<Figure size 640x480 with 1 Axes>"
      ]
     },
     "metadata": {},
     "output_type": "display_data"
    }
   ],
   "source": [
    "dice()"
   ]
  },
  {
   "cell_type": "code",
   "execution_count": 71,
   "id": "dee47c7e-aa0f-4556-a1ad-aa21404c7a4a",
   "metadata": {},
   "outputs": [],
   "source": [
    "# 여러개의 입력값을 받는 함수 만들기\n",
    "def add_many(*args):\n",
    "    result = 0\n",
    "    for i in args:\n",
    "        result = result + i\n",
    "    return result"
   ]
  },
  {
   "cell_type": "code",
   "execution_count": 74,
   "id": "70b5ae50-457d-487a-b15d-d217099b4502",
   "metadata": {},
   "outputs": [
    {
     "name": "stdout",
     "output_type": "stream",
     "text": [
      "3\n"
     ]
    }
   ],
   "source": [
    "print(add_many((1,2)))"
   ]
  },
  {
   "cell_type": "code",
   "execution_count": 79,
   "id": "23f95df4-2671-4220-93dc-97e3e531c37c",
   "metadata": {},
   "outputs": [],
   "source": [
    "def add_mul(choice, *args):\n",
    "    if choice == \"add\":\n",
    "        result = 0\n",
    "        for i in args:\n",
    "            result = result + i\n",
    "    elif choice == \"mul\":\n",
    "        result = 1\n",
    "        for i in args:\n",
    "            result = result * i\n",
    "    elif choice == \"sub\":\n",
    "        result = 1\n",
    "        for i in args:\n",
    "            result = result - i\n",
    "    elif choice == \"div\":\n",
    "        result = 1\n",
    "        for i in args:\n",
    "            result = result / i\n",
    "    else:\n",
    "        print(\"정확한 명령어를 넣어주세요\")\n",
    "    return result"
   ]
  },
  {
   "cell_type": "code",
   "execution_count": 80,
   "id": "d78204e8-c231-400d-a2e5-2bcc622be67f",
   "metadata": {},
   "outputs": [
    {
     "name": "stdout",
     "output_type": "stream",
     "text": [
      "15\n",
      "24\n",
      "-12\n",
      "0.00011111111111111112\n"
     ]
    }
   ],
   "source": [
    "print(add_mul('add', 1, 2, 3, 4, 5))\n",
    "print(add_mul('mul', 2, 3, 4))\n",
    "print(add_mul('sub', 7, 4, 1, 1))\n",
    "print(add_mul('div', 300, 3, 10))"
   ]
  },
  {
   "cell_type": "code",
   "execution_count": 85,
   "id": "cbcadf45-e098-4bc4-a6f2-9626758493ec",
   "metadata": {},
   "outputs": [
    {
     "name": "stdout",
     "output_type": "stream",
     "text": [
      "{'name': '홍길동', 'age': 21, 'address': '대한민국'}\n"
     ]
    }
   ],
   "source": [
    "# 키워드 매개변수 kwargs\n",
    "def print_kwargs(**kwargs):\n",
    "    print(kwargs)\n",
    "print_kwargs(name='홍길동', age=21, address='대한민국')"
   ]
  },
  {
   "cell_type": "code",
   "execution_count": 86,
   "id": "ea94ea5a-ed9a-46e8-a07c-d355015326eb",
   "metadata": {},
   "outputs": [
    {
     "name": "stdout",
     "output_type": "stream",
     "text": [
      "{'name': '홍길동', 'age': 21, 'address': '대한민국'}\n"
     ]
    }
   ],
   "source": [
    "def print_kwargs(kwargs):\n",
    "    print(kwargs)\n",
    "print_kwargs({'name':'홍길동', 'age':21, 'address':'대한민국'})"
   ]
  },
  {
   "cell_type": "code",
   "execution_count": 89,
   "id": "b3bf8015-700b-4a0e-8a5b-efa6081bf869",
   "metadata": {},
   "outputs": [],
   "source": [
    "# test\n",
    "def test():\n",
    "    print('저야 영광이죠~')\n",
    "    if True:\n",
    "        return\n",
    "    print('집에 가고싶어~')"
   ]
  },
  {
   "cell_type": "code",
   "execution_count": 88,
   "id": "ad6de48d-4db9-46f7-8c79-23979be1259d",
   "metadata": {},
   "outputs": [
    {
     "name": "stdout",
     "output_type": "stream",
     "text": [
      "저야 영광이죠~\n"
     ]
    }
   ],
   "source": [
    "test()"
   ]
  },
  {
   "cell_type": "code",
   "execution_count": 90,
   "id": "87c82898-93bf-4507-a3bc-4a5489dfdcd8",
   "metadata": {},
   "outputs": [
    {
     "name": "stdout",
     "output_type": "stream",
     "text": [
      "35 286\n"
     ]
    }
   ],
   "source": [
    "# test2\n",
    "def test2(a, b):\n",
    "    return a+b, a*b\n",
    "add_result, mul_result = test2(13, 22)\n",
    "print(add_result, mul_result)"
   ]
  },
  {
   "cell_type": "code",
   "execution_count": 94,
   "id": "fd0b73b6-e4ec-4151-bebf-73f7edf224c8",
   "metadata": {},
   "outputs": [],
   "source": [
    "def say_nick(nick):\n",
    "    if nick == \"바보\":\n",
    "        return  # 즉시 빠져나감\n",
    "    print(\"나의 별명은 %s입니다\" %nick)"
   ]
  },
  {
   "cell_type": "code",
   "execution_count": 95,
   "id": "a013bc7e-2f74-4efc-b235-4d292e974e4e",
   "metadata": {},
   "outputs": [
    {
     "name": "stdout",
     "output_type": "stream",
     "text": [
      "나의 별명은 야호입니다\n"
     ]
    }
   ],
   "source": [
    "say_nick(\"야호\")"
   ]
  },
  {
   "cell_type": "markdown",
   "id": "0279382d-347f-4052-a473-4dba2052cf2e",
   "metadata": {},
   "source": [
    "## 함수 안에서 선언한 변수의 효력 범위"
   ]
  },
  {
   "cell_type": "code",
   "execution_count": 4,
   "id": "c02d80e6-d9cc-49c0-a12a-aa1d6bbe393b",
   "metadata": {},
   "outputs": [
    {
     "name": "stdout",
     "output_type": "stream",
     "text": [
      "1\n"
     ]
    }
   ],
   "source": [
    "# 테스트 1\n",
    "a = 1\n",
    "def test1(a):\n",
    "    a = a + 1\n",
    "test1(a)\n",
    "print(a)"
   ]
  },
  {
   "cell_type": "code",
   "execution_count": 13,
   "id": "14e0d5a4-585d-4795-afa5-c2e749de1fb7",
   "metadata": {},
   "outputs": [],
   "source": [
    "# 테스트 2\n",
    "def test2(b):\n",
    "    b = b + 1    # 함수 안에서 사용된 변수는 함수 안에서만 사용가능\n",
    "test2(3)\n",
    "# print(b)    # 에러발생"
   ]
  },
  {
   "cell_type": "code",
   "execution_count": 11,
   "id": "0fff980f-abc7-4c00-944d-67e98292ff3e",
   "metadata": {},
   "outputs": [
    {
     "name": "stdout",
     "output_type": "stream",
     "text": [
      "2\n"
     ]
    }
   ],
   "source": [
    "# 테스트 3\n",
    "c = 1\n",
    "def test3(c):\n",
    "    c = c + 1\n",
    "    return c\n",
    "c = test3(c) # c = c + 1\n",
    "print(c)"
   ]
  },
  {
   "cell_type": "code",
   "execution_count": 14,
   "id": "64d561ca-c91a-4565-bf78-4f6822f0318b",
   "metadata": {},
   "outputs": [
    {
     "name": "stdout",
     "output_type": "stream",
     "text": [
      "2\n"
     ]
    }
   ],
   "source": [
    "# 테스트 4\n",
    "d = 1\n",
    "def test4():\n",
    "    global d    # 함수 내부의 값 외부에 전달\n",
    "    d = d + 1\n",
    "test4()\n",
    "print(d)"
   ]
  },
  {
   "cell_type": "markdown",
   "id": "4465c21c-fccd-427e-8910-6eea6fedddb5",
   "metadata": {},
   "source": [
    "## lambda 예약어 (익명함수)"
   ]
  },
  {
   "cell_type": "code",
   "execution_count": 19,
   "id": "2c3330a4-e802-4d8d-a787-d37ce9442e73",
   "metadata": {},
   "outputs": [],
   "source": [
    "# 함수 생성할때 사용하는 예약어 (def와 동일)\n",
    "# 함수를 한줄로 간결하게 작성할때 사용\n",
    "# 리스트 컴프레이션이랑 잘 맞음\n",
    "# 함수이름 = lambda 매개변수1, 매개변수2, ... : 매개변수를_이용한_표현식"
   ]
  },
  {
   "cell_type": "code",
   "execution_count": 16,
   "id": "38df1b27-dfaa-42e1-9849-ecea88bfea28",
   "metadata": {},
   "outputs": [
    {
     "name": "stdout",
     "output_type": "stream",
     "text": [
      "7\n"
     ]
    }
   ],
   "source": [
    "def test(a, b): \n",
    "    return a + b\n",
    "add = lambda a, b : a + b\n",
    "print(add(3,4))"
   ]
  },
  {
   "cell_type": "code",
   "execution_count": 18,
   "id": "6e4494aa-7669-482b-9dd8-6de9378f87dd",
   "metadata": {},
   "outputs": [
    {
     "name": "stdout",
     "output_type": "stream",
     "text": [
      "[0, 1, 2, 3, 4, 5, 6, 7, 8, 9]\n"
     ]
    }
   ],
   "source": [
    "a1 = [x for x in range(10)]\n",
    "print(a1)"
   ]
  },
  {
   "cell_type": "code",
   "execution_count": 23,
   "id": "0480d3c1-42c0-4108-9652-b74543023ac0",
   "metadata": {},
   "outputs": [
    {
     "name": "stdout",
     "output_type": "stream",
     "text": [
      "[0, 2, 4, 6, 8, 10, 12, 14, 16, 18]\n"
     ]
    }
   ],
   "source": [
    "a2 = [(lambda x : x*2)(x) for x in range(10)]\n",
    "print(a2)"
   ]
  },
  {
   "cell_type": "code",
   "execution_count": 24,
   "id": "fde84641-874a-4917-9a53-c8f2b44be59e",
   "metadata": {},
   "outputs": [
    {
     "name": "stdout",
     "output_type": "stream",
     "text": [
      "[0, 1, 4, 9, 16, 25, 36, 49, 64, 81]\n"
     ]
    }
   ],
   "source": [
    "# 응용예제\n",
    "a3 = [0, 1, 2, 3, 4, 5, 6, 7, 8, 9]\n",
    "p = list(map(lambda x: x**2, a3))\n",
    "print(p)"
   ]
  },
  {
   "cell_type": "markdown",
   "id": "6bda89b1-1a25-4703-8b52-92d626195f7e",
   "metadata": {},
   "source": [
    "# 파일 읽고 쓰기"
   ]
  },
  {
   "cell_type": "markdown",
   "id": "91087ca5-f0e9-4271-8920-01727ca7adc7",
   "metadata": {},
   "source": [
    "## 파일 생성하기"
   ]
  },
  {
   "cell_type": "code",
   "execution_count": 31,
   "id": "2433d9ad-b1ee-43c1-8a12-a910d825ddb7",
   "metadata": {},
   "outputs": [],
   "source": [
    "# 파일 생성하기1\n",
    "f = open(\"새파일생성.txt\", \"w\")\n",
    "f.close()"
   ]
  },
  {
   "cell_type": "markdown",
   "id": "37249211-0fb1-46a2-a5cd-1cedebe2992d",
   "metadata": {},
   "source": [
    "<table>\n",
    "<thead>\n",
    "<tr>\n",
    "<th>파일열기모드</th>\n",
    "<th>설명</th>\n",
    "</tr>\n",
    "</thead>\n",
    "<tbody>\n",
    "<tr>\n",
    "<td>r</td>\n",
    "<td>읽기 모드: 파일을 읽기만 할 때 사용한다.</td>\n",
    "</tr>\n",
    "<tr>\n",
    "<td>w</td>\n",
    "<td>쓰기 모드: 파일에 내용을 쓸 때 사용한다.</td>\n",
    "</tr>\n",
    "<tr>\n",
    "<td>a</td>\n",
    "<td>추가 모드: 파일의 마지막에 새로운 내용을 추가할 때 사용한다.</td>\n",
    "</tr>\n",
    "</tbody>\n",
    "</table>"
   ]
  },
  {
   "cell_type": "code",
   "execution_count": 34,
   "id": "e855dd0c-42a3-4bf2-bf63-c58feacdc31b",
   "metadata": {},
   "outputs": [],
   "source": [
    "# 파일 생성하기2 + 경로\n",
    "path = \"./testfile/\"\n",
    "f = open(path + \"새파일생성2.txt\", \"w\")\n",
    "f.close()"
   ]
  },
  {
   "cell_type": "code",
   "execution_count": 39,
   "id": "beb1d483-6e84-44b8-a828-ab2ebb09e833",
   "metadata": {},
   "outputs": [],
   "source": [
    "# 파일을 쓰기 모드로 열어 내용 쓰기\n",
    "path = \"./testfile/\"\n",
    "f = open(path + \"새파일생성3.txt\", \"w\", encoding=\"utf-8\")\n",
    "for n in range(10):\n",
    "    f.write(f'{n+1}번째 한글도 잘 돼요\\n')\n",
    "f.close()"
   ]
  },
  {
   "cell_type": "code",
   "execution_count": 44,
   "id": "2c73b14a-0c1c-462b-a30c-ff6f6a9427a8",
   "metadata": {},
   "outputs": [],
   "source": [
    "# 실습\n",
    "# 하위 testfile 폴더 내에 lotto.txt 라는 파일이름으로\n",
    "# 텍스트 문서에 로또 번호 6개를 1000개 추천하여 입력\n",
    "# 한 줄에 6개씩 1000줄\n",
    "import random as r\n",
    "\n",
    "path = \"./testfile/\"\n",
    "f = open(path + \"lotto.txt\", \"w\", encoding = \"utf-8\")\n",
    "\n",
    "num = 0\n",
    "lotto = []\n",
    "all_lotto = []\n",
    "while num < 10:\n",
    "    num += 1\n",
    "    for i in range(0,6):\n",
    "        ran = r.randint(1, 45)\n",
    "        if ran not in lotto:\n",
    "            lotto.append(ran)\n",
    "        else:\n",
    "            aran = r.randint(1,45)\n",
    "            lotto.append(aran)\n",
    "    all_lotto.append(lotto)\n",
    "    lotto = []\n",
    "    f.write((f'{num}회 {all_lotto[num-1]}\\n'))\n",
    "f.close()"
   ]
  },
  {
   "cell_type": "code",
   "execution_count": 67,
   "id": "ff4ee124-be6a-4874-b91c-7235dbb4e45d",
   "metadata": {},
   "outputs": [],
   "source": [
    "# readline + while\n",
    "def diary(name):\n",
    "    path = \"./testfile/\"\n",
    "    f = open(path + name + \".txt\", \"a\", encoding=\"utf-8\")\n",
    "    while True:    # while 1: 해도 됨\n",
    "        inp = input(\"작성하고싶은 내용\")\n",
    "        if inp == '그만': break\n",
    "        f.write(inp + '\\n')\n",
    "    f.close()"
   ]
  },
  {
   "cell_type": "code",
   "execution_count": 68,
   "id": "aeba5bc5-2a4c-4e16-a810-a8155c63d8ad",
   "metadata": {},
   "outputs": [
    {
     "name": "stdin",
     "output_type": "stream",
     "text": [
      "작성하고싶은 내용 ㅇㅂㅇ\n",
      "작성하고싶은 내용 ㅇㅂㅇㅁㅁ\n",
      "작성하고싶은 내용 집\n",
      "작성하고싶은 내용 잠옴\n",
      "작성하고싶은 내용 그마ㄴ\n",
      "작성하고싶은 내용 그만\n"
     ]
    }
   ],
   "source": [
    "diary('20250211일기')"
   ]
  },
  {
   "cell_type": "markdown",
   "id": "6ac03a37-78d6-4fc9-92bb-230deb557054",
   "metadata": {},
   "source": [
    "## 파일을 읽는 방법"
   ]
  },
  {
   "cell_type": "code",
   "execution_count": 89,
   "id": "8e7cab3b-72b6-405d-99e7-2581d7032f72",
   "metadata": {},
   "outputs": [],
   "source": [
    "# 1. readline 함수\n",
    "# 2. readlines 함수\n",
    "# 3. read 함수\n",
    "# 4. for 함수"
   ]
  },
  {
   "cell_type": "code",
   "execution_count": 49,
   "id": "26b153c5-4a5c-4a5f-84db-0def0d2e23af",
   "metadata": {},
   "outputs": [],
   "source": [
    "path = \"./testfile/\"\n",
    "f = open(path + \"새파일생성4.txt\", \"w\", encoding=\"utf-8\")\n",
    "for n in range(10):\n",
    "    f.write(f'{n+1}번째 한글도 잘 돼요\\n')\n",
    "f.close()"
   ]
  },
  {
   "cell_type": "code",
   "execution_count": 58,
   "id": "6285fe6a-cf65-4a81-be77-d18894a557e6",
   "metadata": {},
   "outputs": [
    {
     "name": "stdout",
     "output_type": "stream",
     "text": [
      "1번째 한글도 잘 돼요\n",
      "\n",
      "2번째 한글도 잘 돼요\n",
      "\n",
      "3번째 한글도 잘 돼요\n",
      "\n",
      "4번째 한글도 잘 돼요\n",
      "\n",
      "5번째 한글도 잘 돼요\n",
      "\n",
      "6번째 한글도 잘 돼요\n",
      "\n",
      "7번째 한글도 잘 돼요\n",
      "\n",
      "8번째 한글도 잘 돼요\n",
      "\n",
      "9번째 한글도 잘 돼요\n",
      "\n",
      "10번째 한글도 잘 돼요\n",
      "\n"
     ]
    }
   ],
   "source": [
    "# 1. readline\n",
    "# 한줄만 읽는 함수\n",
    "f = open(path + \"새파일생성4.txt\", \"r\", encoding=\"utf-8\")\n",
    "# line = f.readline()\n",
    "# print(line)\n",
    "# line = f.readline()\n",
    "# print(line)\n",
    "# line = f.readline()\n",
    "# print(line)\n",
    "# line = f.readline()\n",
    "# print(line)\n",
    "while True:\n",
    "    line = f.readline()\n",
    "    if not line: break\n",
    "    print(line)\n",
    "f.close()"
   ]
  },
  {
   "cell_type": "code",
   "execution_count": 80,
   "id": "740b5b30-ac13-41e1-9cfa-cef77b0c3579",
   "metadata": {},
   "outputs": [
    {
     "name": "stdout",
     "output_type": "stream",
     "text": [
      "['1번째 한글도 잘 돼요\\n', '2번째 한글도 잘 돼요\\n', '3번째 한글도 잘 돼요\\n', '4번째 한글도 잘 돼요\\n', '5번째 한글도 잘 돼요\\n', '6번째 한글도 잘 돼요\\n', '7번째 한글도 잘 돼요\\n', '8번째 한글도 잘 돼요\\n', '9번째 한글도 잘 돼요\\n', '10번째 한글도 잘 돼요\\n'] <class 'list'>\n",
      "1번째 한글도 잘 돼요\n",
      "2번째 한글도 잘 돼요\n",
      "3번째 한글도 잘 돼요\n",
      "4번째 한글도 잘 돼요\n",
      "5번째 한글도 잘 돼요\n",
      "6번째 한글도 잘 돼요\n",
      "7번째 한글도 잘 돼요\n",
      "8번째 한글도 잘 돼요\n",
      "9번째 한글도 잘 돼요\n",
      "10번째 한글도 잘 돼요\n"
     ]
    }
   ],
   "source": [
    "# readlines, print\n",
    "path = \"./testfile/\"\n",
    "f = open(path + \"새파일생성4.txt\", \"r\", encoding=\"utf-8\")\n",
    "lines = f.readlines()\n",
    "print(lines, type(lines))    # 대괄호로 묶어서 출력됨, 리스트형\n",
    "for i in lines:\n",
    "    print(i, end='')\n",
    "f.close()"
   ]
  },
  {
   "cell_type": "code",
   "execution_count": 87,
   "id": "ee887279-0235-4b58-80b8-ed661487b452",
   "metadata": {},
   "outputs": [
    {
     "name": "stdout",
     "output_type": "stream",
     "text": [
      "1번째 한글도 잘 돼요\n",
      "2번째 한글도 잘 돼요\n",
      "3번째 한글도 잘 돼요\n",
      "4번째 한글도 잘 돼요\n",
      "5번째 한글도 잘 돼요\n",
      "6번째 한글도 잘 돼요\n",
      "7번째 한글도 잘 돼요\n",
      "8번째 한글도 잘 돼요\n",
      "9번째 한글도 잘 돼요\n",
      "10번째 한글도 잘 돼요\n"
     ]
    }
   ],
   "source": [
    "# 2. readlines + strip() => list 타입\n",
    "path = \"./testfile/\"\n",
    "f = open(path + \"새파일생성4.txt\", \"r\", encoding=\"utf-8\")\n",
    "lines = f.readlines()\n",
    "for i in lines:\n",
    "    i = i.strip()    # \\n을 지움(줄바꿈 없앰)\n",
    "    print(i)\n",
    "f.close()"
   ]
  },
  {
   "cell_type": "code",
   "execution_count": 96,
   "id": "cd5de252-3263-40fa-8d40-1e0a562ef078",
   "metadata": {},
   "outputs": [],
   "source": [
    "# 테스트\n",
    "path = \"./testfile/\"\n",
    "f = open(\"파일이름.txt\", \"w\")\n",
    "f.write(\"내용작성\")\n",
    "f.close()"
   ]
  },
  {
   "cell_type": "code",
   "execution_count": 88,
   "id": "13070c03-68bf-45ef-8bba-226328f565f1",
   "metadata": {},
   "outputs": [
    {
     "name": "stdout",
     "output_type": "stream",
     "text": [
      "1번째 한글도 잘 돼요\n",
      "2번째 한글도 잘 돼요\n",
      "3번째 한글도 잘 돼요\n",
      "4번째 한글도 잘 돼요\n",
      "5번째 한글도 잘 돼요\n",
      "6번째 한글도 잘 돼요\n",
      "7번째 한글도 잘 돼요\n",
      "8번째 한글도 잘 돼요\n",
      "9번째 한글도 잘 돼요\n",
      "10번째 한글도 잘 돼요\n",
      " <class 'str'>\n"
     ]
    }
   ],
   "source": [
    "# 3. read 함수 사용하기 => str 타입\n",
    "path = \"./testfile/\"\n",
    "f = open(path + \"새파일생성4.txt\", \"r\", encoding=\"utf-8\")\n",
    "data = f.read()\n",
    "print(data, type(data))\n",
    "f.close()"
   ]
  },
  {
   "cell_type": "code",
   "execution_count": 90,
   "id": "cc5c0b54-13a2-4ff5-b20c-6f96f1fce08e",
   "metadata": {},
   "outputs": [
    {
     "name": "stdout",
     "output_type": "stream",
     "text": [
      "1번째 한글도 잘 돼요\n",
      "\n",
      "2번째 한글도 잘 돼요\n",
      "\n",
      "3번째 한글도 잘 돼요\n",
      "\n",
      "4번째 한글도 잘 돼요\n",
      "\n",
      "5번째 한글도 잘 돼요\n",
      "\n",
      "6번째 한글도 잘 돼요\n",
      "\n",
      "7번째 한글도 잘 돼요\n",
      "\n",
      "8번째 한글도 잘 돼요\n",
      "\n",
      "9번째 한글도 잘 돼요\n",
      "\n",
      "10번째 한글도 잘 돼요\n",
      "\n"
     ]
    }
   ],
   "source": [
    "# 4. for를 이용하여 출력하기\n",
    "path = \"./testfile/\"\n",
    "f = open(path + \"새파일생성4.txt\", \"r\", encoding=\"utf-8\")\n",
    "for line in f:\n",
    "    print(line)\n",
    "f.close()"
   ]
  },
  {
   "cell_type": "code",
   "execution_count": 93,
   "id": "8c7aa562-e9d7-4a79-a24b-78662fc7b50d",
   "metadata": {},
   "outputs": [
    {
     "name": "stdout",
     "output_type": "stream",
     "text": [
      "1번째 한글도 잘 돼요\n",
      "\n",
      "2번째 한글도 잘 돼요\n",
      "\n",
      "3번째 한글도 잘 돼요\n",
      "\n",
      "4번째 한글도 잘 돼요\n",
      "\n",
      "5번째 한글도 잘 돼요\n",
      "\n",
      "6번째 한글도 잘 돼요\n",
      "\n",
      "7번째 한글도 잘 돼요\n",
      "\n",
      "8번째 한글도 잘 돼요\n",
      "\n",
      "9번째 한글도 잘 돼요\n",
      "\n",
      "10번째 한글도 잘 돼요\n",
      "\n"
     ]
    }
   ],
   "source": [
    "# with문과 함께 사용하기, 자동으로 열고 닫기\n",
    "path = \"./testfile/\"\n",
    "with open(path + \"새파일생성4.txt\", \"r\", encoding=\"utf-8\") as f:\n",
    "    for line in f:\n",
    "        print(line)\n",
    "    # close 필요없음"
   ]
  },
  {
   "cell_type": "code",
   "execution_count": 97,
   "id": "8ae322a8-88d0-4d1f-9512-67923226ff00",
   "metadata": {},
   "outputs": [],
   "source": [
    "# 예제 p.182\n",
    "path = \"./testfile/\"\n",
    "with open(\"foo.txt\", \"w\") as f:\n",
    "    f.write(\"Life id too short, you need python\")"
   ]
  },
  {
   "cell_type": "markdown",
   "id": "940914ea-87d5-4c13-81a7-c35595acd04a",
   "metadata": {},
   "source": [
    "## 프로그램의 입출력"
   ]
  },
  {
   "cell_type": "code",
   "execution_count": 100,
   "id": "13d1245d-90f6-4743-ad2f-46ad2a45a860",
   "metadata": {},
   "outputs": [
    {
     "name": "stdout",
     "output_type": "stream",
     "text": [
      "C:\\Users\\Admin\\AppData\\Local\\Programs\\Python\\Python313\\Lib\\site-packages\\ipykernel_launcher.py\n",
      "-f\n",
      "C:\\Users\\Admin\\AppData\\Roaming\\jupyter\\runtime\\kernel-4c6af138-bbb3-4064-8eb0-3bb9bbc9ed12.json\n"
     ]
    }
   ],
   "source": [
    "import sys\n",
    "args = sys.argv\n",
    "for i in args:\n",
    "    print(i)"
   ]
  },
  {
   "cell_type": "code",
   "execution_count": null,
   "id": "c2b2bb5c-9dce-4604-8b94-742422b7bdd6",
   "metadata": {},
   "outputs": [],
   "source": []
  }
 ],
 "metadata": {
  "kernelspec": {
   "display_name": "Python 3 (ipykernel)",
   "language": "python",
   "name": "python3"
  },
  "language_info": {
   "codemirror_mode": {
    "name": "ipython",
    "version": 3
   },
   "file_extension": ".py",
   "mimetype": "text/x-python",
   "name": "python",
   "nbconvert_exporter": "python",
   "pygments_lexer": "ipython3",
   "version": "3.13.1"
  }
 },
 "nbformat": 4,
 "nbformat_minor": 5
}
