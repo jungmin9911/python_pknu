{
 "cells": [
  {
   "cell_type": "markdown",
   "id": "3099316a-ba5c-4dba-97df-a882262ece1e",
   "metadata": {},
   "source": [
    "# 함수"
   ]
  },
  {
   "cell_type": "code",
   "execution_count": 4,
   "id": "f6fea316-fd22-422e-9e41-c86b29ed198e",
   "metadata": {},
   "outputs": [
    {
     "name": "stdout",
     "output_type": "stream",
     "text": [
      "7\n"
     ]
    }
   ],
   "source": [
    "def 덧셈(a, b):\n",
    "    return a + b\n",
    "c = 덧셈(3, 4)\n",
    "print(c)"
   ]
  },
  {
   "cell_type": "code",
   "execution_count": 10,
   "id": "bdcd5337-98c3-4e31-8239-e1bf71478001",
   "metadata": {},
   "outputs": [
    {
     "name": "stdout",
     "output_type": "stream",
     "text": [
      "[7, 9, 11, 16, 22, 30, 32, 37, 38, 40] 10\n"
     ]
    }
   ],
   "source": [
    "import random\n",
    "def 로또(rge, num):    # 함수명(파라미터(매개변수))\n",
    "    box = []\n",
    "    while len(box) < rge:    #len(box) < 파라미터(매개변수)\n",
    "        ran = random.randint(1, num)    #random.randint(1, 파라미터(매개변수))\n",
    "        if not ran in box:\n",
    "            box.append(ran)\n",
    "    box.sort()\n",
    "    print(box, len(box))\n",
    "로또(10, 45)    # 실행할 함수명(파라미터(매개변수)에 넣을 값)"
   ]
  },
  {
   "cell_type": "code",
   "execution_count": 20,
   "id": "af0d89be-0292-4fda-84af-a2f1d0bbefd3",
   "metadata": {},
   "outputs": [
    {
     "name": "stdout",
     "output_type": "stream",
     "text": [
      "2단========\n",
      "2 x 1 = 2\n",
      "2 x 2 = 4\n",
      "2 x 3 = 6\n",
      "2 x 4 = 8\n",
      "2 x 5 = 10\n",
      "2 x 6 = 12\n",
      "2 x 7 = 14\n",
      "2 x 8 = 16\n",
      "2 x 9 = 18\n",
      "\n"
     ]
    }
   ],
   "source": [
    "def gugu(end = 9):    # 디폴트값 9\n",
    "    data = ''\n",
    "    for i in range(2,end + 1):  \n",
    "        print(f'{i}단========')\n",
    "        for j in range(1, 10):\n",
    "            data += (f'{i} x {j} = {i*j}') + '\\n'\n",
    "    return data\n",
    "print(gugu(2))"
   ]
  },
  {
   "cell_type": "markdown",
   "id": "293bef53-c1aa-4e03-9329-46b6c52572a6",
   "metadata": {},
   "source": [
    "## 입력값과 리턴값에 따른 함수의 형태"
   ]
  },
  {
   "cell_type": "markdown",
   "id": "1f925cf5-59e0-461c-ad43-986b647e9124",
   "metadata": {},
   "source": [
    "### 일반적인 함수"
   ]
  },
  {
   "cell_type": "code",
   "execution_count": 21,
   "id": "e8fb7318-328f-43e7-b897-9eb3b68dba51",
   "metadata": {},
   "outputs": [],
   "source": [
    "def add(a, b):\n",
    "    result = a + b\n",
    "    return result"
   ]
  },
  {
   "cell_type": "code",
   "execution_count": 23,
   "id": "78c10545-eaac-4e98-bec9-28d52cff535d",
   "metadata": {},
   "outputs": [
    {
     "name": "stdout",
     "output_type": "stream",
     "text": [
      "87\n"
     ]
    }
   ],
   "source": [
    "a = add(77, 10)\n",
    "print(a)"
   ]
  },
  {
   "cell_type": "code",
   "execution_count": 24,
   "id": "410c8878-5bfc-4c2a-b9ae-d1ac0a386a17",
   "metadata": {},
   "outputs": [],
   "source": [
    "# 입력값이 없는 함수\n",
    "def say():\n",
    "    return '안녕'"
   ]
  },
  {
   "cell_type": "code",
   "execution_count": 25,
   "id": "14b5eada-ef0a-470f-8559-68122685b775",
   "metadata": {},
   "outputs": [
    {
     "name": "stdout",
     "output_type": "stream",
     "text": [
      "안녕\n"
     ]
    }
   ],
   "source": [
    "a = say()\n",
    "print(a)"
   ]
  },
  {
   "cell_type": "code",
   "execution_count": 26,
   "id": "18dbd310-b31b-4d40-a714-0f907a6c9971",
   "metadata": {},
   "outputs": [],
   "source": [
    "# 리턴값이 없는 함수\n",
    "def add(a,b):\n",
    "    print(\"%d, %d의 합은 %d입니다\" %(a, b, a+b))"
   ]
  },
  {
   "cell_type": "code",
   "execution_count": 27,
   "id": "87bd6a30-d539-4765-a8c8-f88ecb72e9b5",
   "metadata": {},
   "outputs": [
    {
     "name": "stdout",
     "output_type": "stream",
     "text": [
      "11, 21의 합은 32입니다\n"
     ]
    }
   ],
   "source": [
    "add(11, 21)"
   ]
  },
  {
   "cell_type": "code",
   "execution_count": 30,
   "id": "8a32f712-c4c1-44a1-b941-1806c9242507",
   "metadata": {},
   "outputs": [],
   "source": [
    "# 입력값과 리턴값이 없는 함수\n",
    "def say():\n",
    "    print(\"안녕!\")\n",
    "    print(\"안녕안녕\")\n",
    "    print(\"빠이~\")"
   ]
  },
  {
   "cell_type": "code",
   "execution_count": 31,
   "id": "1ad44363-03ae-4fbe-aa79-8c242ea16a0b",
   "metadata": {},
   "outputs": [
    {
     "name": "stdout",
     "output_type": "stream",
     "text": [
      "안녕!\n",
      "안녕안녕\n",
      "빠이~\n"
     ]
    }
   ],
   "source": [
    "say()"
   ]
  },
  {
   "cell_type": "code",
   "execution_count": 36,
   "id": "71f097a9-8d0a-40f1-b3c2-c02926a57ae4",
   "metadata": {},
   "outputs": [],
   "source": [
    "# 테스트\n",
    "import time as t\n",
    "def disp():\n",
    "    print(\"안녕!\\r\", end=\"\")\n",
    "    t.sleep(2)\n",
    "    print(\"안녕안녕\\r\", end=\"\")\n",
    "    t.sleep(2)\n",
    "    print(\"빠이~       \", end=\"\")\n",
    "    t.sleep(2)"
   ]
  },
  {
   "cell_type": "code",
   "execution_count": 37,
   "id": "e21b64c1-7d63-4cd7-8229-2ed50e9fe091",
   "metadata": {},
   "outputs": [
    {
     "name": "stdout",
     "output_type": "stream",
     "text": [
      "빠이~       "
     ]
    }
   ],
   "source": [
    "disp()"
   ]
  },
  {
   "cell_type": "code",
   "execution_count": null,
   "id": "9d0cfe80-df2d-4bd9-ae7e-30efde4f5a6c",
   "metadata": {},
   "outputs": [],
   "source": [
    "# 매개변수를 지정하여 호출하기\n",
    "def sub(a, b):\n",
    "    return a-b"
   ]
  }
 ],
 "metadata": {
  "kernelspec": {
   "display_name": "Python 3 (ipykernel)",
   "language": "python",
   "name": "python3"
  },
  "language_info": {
   "codemirror_mode": {
    "name": "ipython",
    "version": 3
   },
   "file_extension": ".py",
   "mimetype": "text/x-python",
   "name": "python",
   "nbconvert_exporter": "python",
   "pygments_lexer": "ipython3",
   "version": "3.13.1"
  }
 },
 "nbformat": 4,
 "nbformat_minor": 5
}
