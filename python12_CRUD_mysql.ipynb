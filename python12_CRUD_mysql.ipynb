{
 "cells": [
  {
   "cell_type": "code",
   "execution_count": 1,
   "id": "3c320495-0bed-47a8-a745-36256dd8d241",
   "metadata": {
    "scrolled": true
   },
   "outputs": [],
   "source": [
    "# !ping MONGODB"
   ]
  },
  {
   "cell_type": "code",
   "execution_count": 2,
   "id": "4b396258-5703-4e95-a761-6b80ae8939cc",
   "metadata": {},
   "outputs": [
    {
     "name": "stdout",
     "output_type": "stream",
     "text": [
      "eth0: flags=4163<UP,BROADCAST,RUNNING,MULTICAST>  mtu 1500\n",
      "        inet 172.18.0.4  netmask 255.255.0.0  broadcast 172.18.255.255\n",
      "        ether da:36:0c:ba:25:3d  txqueuelen 0  (Ethernet)\n",
      "        RX packets 64599  bytes 41775982 (41.7 MB)\n",
      "        RX errors 0  dropped 0  overruns 0  frame 0\n",
      "        TX packets 47282  bytes 20846866 (20.8 MB)\n",
      "        TX errors 0  dropped 0 overruns 0  carrier 0  collisions 0\n",
      "\n",
      "lo: flags=73<UP,LOOPBACK,RUNNING>  mtu 65536\n",
      "        inet 127.0.0.1  netmask 255.0.0.0\n",
      "        inet6 ::1  prefixlen 128  scopeid 0x10<host>\n",
      "        loop  txqueuelen 1000  (Local Loopback)\n",
      "        RX packets 1667  bytes 525635 (525.6 KB)\n",
      "        RX errors 0  dropped 0  overruns 0  frame 0\n",
      "        TX packets 1667  bytes 525635 (525.6 KB)\n",
      "        TX errors 0  dropped 0 overruns 0  carrier 0  collisions 0\n",
      "\n"
     ]
    }
   ],
   "source": [
    "!ifconfig"
   ]
  },
  {
   "cell_type": "code",
   "execution_count": 3,
   "id": "5bf5fd2d-1662-4b14-98ab-b2c46ab89629",
   "metadata": {},
   "outputs": [],
   "source": [
    "# !ping 172.18.0.4"
   ]
  },
  {
   "cell_type": "code",
   "execution_count": 4,
   "id": "f745484e-198f-4629-af67-e3d919aa18a6",
   "metadata": {},
   "outputs": [],
   "source": [
    "# !pip install mysql-connector-python"
   ]
  },
  {
   "cell_type": "code",
   "execution_count": 5,
   "id": "3057a09e-dbe2-4d89-941c-4694b6519d4f",
   "metadata": {},
   "outputs": [
    {
     "name": "stdout",
     "output_type": "stream",
     "text": [
      "MySQL 서버에 성공적으로 연결되었습니다.\n",
      "연결중...\n"
     ]
    }
   ],
   "source": [
    "import mysql.connector\n",
    "\n",
    "try:\n",
    "    conn = mysql.connector.connect(\n",
    "        host = \"mysql\",  # MySQL 서버주소\n",
    "        user = \"root\",\n",
    "        password = \"1234\"\n",
    "    )\n",
    "    if conn.is_connected():\n",
    "        print(\"MySQL 서버에 성공적으로 연결되었습니다.\")\n",
    "except mysql.connector.Error as err:\n",
    "    print(\"MySQL 연결 실패 : \", err)\n",
    "finally:\n",
    "    if conn.is_connected():\n",
    "        print(\"연결중...\")"
   ]
  },
  {
   "cell_type": "code",
   "execution_count": 6,
   "id": "c10342e4-4ec4-4b14-a273-c84a0b74d307",
   "metadata": {},
   "outputs": [],
   "source": [
    "# 커서 생성\n",
    "cursor = conn.cursor()\n",
    "que = \"CREATE DATABASE IF NOT EXISTS judb\"\n",
    "cursor.execute(que)\n",
    "conn.close()"
   ]
  },
  {
   "cell_type": "code",
   "execution_count": 7,
   "id": "c321cae4-d2a6-4346-a48a-415d74f4a177",
   "metadata": {},
   "outputs": [
    {
     "name": "stdout",
     "output_type": "stream",
     "text": [
      "MySQL 연결 성공\n"
     ]
    }
   ],
   "source": [
    "# MySQL에 연결\n",
    "conn = mysql.connector.connect(\n",
    "        host = \"mysql\",\n",
    "        user = \"root\",\n",
    "        password = \"1234\",\n",
    "        database = \"judb\"    # 사용할 데이터 베이스\n",
    "    )\n",
    "cursor = conn.cursor()\n",
    "print(\"MySQL 연결 성공\")"
   ]
  },
  {
   "cell_type": "code",
   "execution_count": 8,
   "id": "e49ffdb2-4563-4d8b-b601-cae32e45233f",
   "metadata": {},
   "outputs": [
    {
     "name": "stdout",
     "output_type": "stream",
     "text": [
      "테이블 생성완료\n"
     ]
    }
   ],
   "source": [
    "# 테이블 생성\n",
    "query = \"CREATE TABLE IF NOT EXISTS users(id INT AUTO_INCREMENT PRIMARY KEY, name VARCHAR(100), age INT, city VARCHAR(50))\"\n",
    "cursor.execute(query)\n",
    "print(\"테이블 생성완료\")"
   ]
  },
  {
   "attachments": {
    "94c2c569-eecb-4014-9455-58e43ffba7fe.png": {
     "image/png": "[encoded data removed]"
    }
   },
   "cell_type": "markdown",
   "id": "0a1239b4-1392-4a8a-a5dc-0cd2ca422caf",
   "metadata": {},
   "source": [
    "<img src=\"attachment:94c2c569-eecb-4014-9455-58e43ffba7fe.png\">"
   ]
  },
  {
   "cell_type": "code",
   "execution_count": 9,
   "id": "2b6ad004-f53d-4c95-abf6-0dc084a85f23",
   "metadata": {},
   "outputs": [
    {
     "name": "stdout",
     "output_type": "stream",
     "text": [
      "1개의 데이터 삽입 완료, ID :  5\n"
     ]
    }
   ],
   "source": [
    "# 단일 데이터 삽입\n",
    "sql = \"INSERT INTO users (name, age, city) VALUES (%s, %s, %s)\"\n",
    "values = (\"Alice\", 25, \"Seoul\")\n",
    "cursor.execute(sql, values)\n",
    "conn.commit()\n",
    "print(\"1개의 데이터 삽입 완료, ID : \", cursor.lastrowid)"
   ]
  },
  {
   "cell_type": "code",
   "execution_count": 10,
   "id": "a773811b-7c98-4cb8-92cd-bddb719c0950",
   "metadata": {},
   "outputs": [
    {
     "name": "stdout",
     "output_type": "stream",
     "text": [
      "여러개의 데이터 삽입 완료\n"
     ]
    }
   ],
   "source": [
    "# 여러개의 데이터 삽입\n",
    "m_values = [(\"Superman\", 33, \"Busan\"), (\"Cutegirl\", 17, \"Incheon\"), (\"Coolboy\", 22, \"Jeju\")]\n",
    "cursor.executemany(sql, m_values)\n",
    "conn.commit()\n",
    "print(\"여러개의 데이터 삽입 완료\")"
   ]
  },
  {
   "cell_type": "code",
   "execution_count": 20,
   "id": "a26733a4-184c-43e2-8ba1-5656d0d7ca09",
   "metadata": {},
   "outputs": [
    {
     "name": "stdout",
     "output_type": "stream",
     "text": [
      "(1, 'Alice', 25, 'Seoul')\n",
      "(2, 'Superman', 33, 'Busan')\n",
      "(3, 'Cutegirl', 17, 'Incheon')\n",
      "(4, 'Coolboy', 22, 'Jeju')\n"
     ]
    }
   ],
   "source": [
    "# 모든 데이터 조회\n",
    "que = \"SELECT * FROM users\"\n",
    "cursor.execute(que)\n",
    "users = cursor.fetchall()\n",
    "# print(users)\n",
    "for user in users:\n",
    "    print(user)"
   ]
  },
  {
   "cell_type": "code",
   "execution_count": 23,
   "id": "9c0922b5-9f6e-4e0b-a2b6-5b9c5e10704a",
   "metadata": {},
   "outputs": [
    {
     "name": "stdout",
     "output_type": "stream",
     "text": [
      "(1, 'Alice', 25, 'Seoul')\n",
      "(2, 'Superman', 33, 'Busan')\n"
     ]
    }
   ],
   "source": [
    "# 특정 조건 데이터 조회(24살 이상만 조회)\n",
    "que = \"SELECT * FROM users\"\n",
    "filters = \" WHERE age >= 24\"\n",
    "cursor.execute(que+filters)\n",
    "\n",
    "filtered = cursor.fetchall()\n",
    "for f in filtered:\n",
    "    print(f)"
   ]
  },
  {
   "cell_type": "code",
   "execution_count": 24,
   "id": "51d292fd-9bf4-4369-a4a3-93cb3102e4c1",
   "metadata": {},
   "outputs": [
    {
     "name": "stdout",
     "output_type": "stream",
     "text": [
      "수정된 행 개수 :  1\n"
     ]
    }
   ],
   "source": [
    "# 특정 사용자의 나이 수정\n",
    "sql = \"UPDATE users SET age = %s WHERE name = %s\"\n",
    "values = (19, \"Alice\")\n",
    "cursor.execute(sql, values)\n",
    "conn.commit()\n",
    "print(\"수정된 행 개수 : \", cursor.rowcount)"
   ]
  },
  {
   "cell_type": "code",
   "execution_count": 25,
   "id": "dbfbf03c-16ac-42e0-8296-9b8e87dab862",
   "metadata": {},
   "outputs": [
    {
     "name": "stdout",
     "output_type": "stream",
     "text": [
      "('jeju',)에 해당하는 목록을 삭제하였습니다.\n"
     ]
    }
   ],
   "source": [
    "# 특정 사용자 삭제\n",
    "que = \"DELETE FROM users WHERE city = %s\"\n",
    "filters = (\"jeju\",)\n",
    "cursor.execute(que, filters)\n",
    "conn.commit()\n",
    "print(f\"{filters}에 해당하는 목록을 삭제하였습니다.\")"
   ]
  }
 ],
 "metadata": {
  "kernelspec": {
   "display_name": "Python 3 (ipykernel)",
   "language": "python",
   "name": "python3"
  },
  "language_info": {
   "codemirror_mode": {
    "name": "ipython",
    "version": 3
   },
   "file_extension": ".py",
   "mimetype": "text/x-python",
   "name": "python",
   "nbconvert_exporter": "python",
   "pygments_lexer": "ipython3",
   "version": "3.13.1"
  }
 },
 "nbformat": 4,
 "nbformat_minor": 5
}
