{
 "cells": [
  {
   "cell_type": "markdown",
   "id": "7f096252-7e2d-4ef7-83c8-ca6eac8d6380",
   "metadata": {},
   "source": [
    "# 온라인 쇼핑몰 매출관계 분석"
   ]
  },
  {
   "cell_type": "markdown",
   "id": "1feebda8-35d9-4128-89f7-7a14353639a9",
   "metadata": {},
   "source": [
    "- 국가통계포털 https://kosis.kr/index/index.do\n",
    "- 온라인쇼핑몰 판매매체별 / 상품군별거래액\n",
    "- 합계등을 제외하고 선택(전기전자통신 2020년 전후로 분리되어서 미리 합침)\n",
    "- 행렬전환"
   ]
  },
  {
   "cell_type": "code",
   "execution_count": 2,
   "id": "d727954e-dce3-4520-9303-2aa39ed314a7",
   "metadata": {},
   "outputs": [],
   "source": [
    "import matplotlib\n",
    "import matplotlib.pyplot as plt\n",
    "import matplotlib.font_manager as fm\n",
    "# import matplotlib.dates as mdates\n",
    "import pandas as pd\n",
    "from datetime import datetime"
   ]
  },
  {
   "cell_type": "code",
   "execution_count": 4,
   "id": "7a22aa32-b711-4551-abe9-ee1aab2f1e47",
   "metadata": {},
   "outputs": [],
   "source": [
    "# font 설정 D2Coding\n",
    "d2_path = \"./ref/D2Coding-Ver1.3.2-20180524.ttf\"\n",
    "fm.fontManager.addfont(d2_path)\n",
    "matplotlib.rcParams[\"font.family\"] = \"D2Coding\""
   ]
  },
  {
   "cell_type": "code",
   "execution_count": 17,
   "id": "3a8015c6-3978-467e-99cb-5e89aeb80df3",
   "metadata": {},
   "outputs": [
    {
     "data": {
      "text/html": [
       "<div>\n",
       "<style scoped>\n",
       "    .dataframe tbody tr th:only-of-type {\n",
       "        vertical-align: middle;\n",
       "    }\n",
       "\n",
       "    .dataframe tbody tr th {\n",
       "        vertical-align: top;\n",
       "    }\n",
       "\n",
       "    .dataframe thead th {\n",
       "        text-align: right;\n",
       "    }\n",
       "</style>\n",
       "<table border=\"1\" class=\"dataframe\">\n",
       "  <thead>\n",
       "    <tr style=\"text-align: right;\">\n",
       "      <th></th>\n",
       "      <th>category</th>\n",
       "      <th>date</th>\n",
       "      <th>internet</th>\n",
       "      <th>mobile</th>\n",
       "    </tr>\n",
       "  </thead>\n",
       "  <tbody>\n",
       "    <tr>\n",
       "      <th>0</th>\n",
       "      <td>컴퓨터 및 주변기기</td>\n",
       "      <td>2017.01</td>\n",
       "      <td>288391</td>\n",
       "      <td>133993</td>\n",
       "    </tr>\n",
       "    <tr>\n",
       "      <th>1</th>\n",
       "      <td>컴퓨터 및 주변기기</td>\n",
       "      <td>2017.02</td>\n",
       "      <td>329143</td>\n",
       "      <td>146200</td>\n",
       "    </tr>\n",
       "    <tr>\n",
       "      <th>2</th>\n",
       "      <td>컴퓨터 및 주변기기</td>\n",
       "      <td>2017.03</td>\n",
       "      <td>322089</td>\n",
       "      <td>151262</td>\n",
       "    </tr>\n",
       "    <tr>\n",
       "      <th>3</th>\n",
       "      <td>컴퓨터 및 주변기기</td>\n",
       "      <td>2017.04</td>\n",
       "      <td>251604</td>\n",
       "      <td>116675</td>\n",
       "    </tr>\n",
       "    <tr>\n",
       "      <th>4</th>\n",
       "      <td>컴퓨터 및 주변기기</td>\n",
       "      <td>2017.05</td>\n",
       "      <td>241871</td>\n",
       "      <td>109053</td>\n",
       "    </tr>\n",
       "  </tbody>\n",
       "</table>\n",
       "</div>"
      ],
      "text/plain": [
       "     category     date  internet  mobile\n",
       "0  컴퓨터 및 주변기기  2017.01    288391  133993\n",
       "1  컴퓨터 및 주변기기  2017.02    329143  146200\n",
       "2  컴퓨터 및 주변기기  2017.03    322089  151262\n",
       "3  컴퓨터 및 주변기기  2017.04    251604  116675\n",
       "4  컴퓨터 및 주변기기  2017.05    241871  109053"
      ]
     },
     "execution_count": 17,
     "metadata": {},
     "output_type": "execute_result"
    }
   ],
   "source": [
    "file_path = \"./ref/온라인쇼핑몰_판매매체별_상품군별거래액.csv\"\n",
    "ori = pd.read_csv(file_path, encoding=\"EUC-KR\")\n",
    "ori.columns = [\"category\", \"date\", \"internet\", \"mobile\"]\n",
    "ori.head()"
   ]
  },
  {
   "cell_type": "code",
   "execution_count": 18,
   "id": "3ec6e039-40cd-48af-a2fe-e6b82bc2bc43",
   "metadata": {},
   "outputs": [
    {
     "name": "stdout",
     "output_type": "stream",
     "text": [
      "수정전\n",
      "2203       2024.08\n",
      "2204       2024.09\n",
      "2205       2024.10\n",
      "2206    2024.11 p)\n",
      "2207    2024.12 p)\n",
      "Name: date, dtype: object\n",
      "수정전\n",
      "2203    2024.08\n",
      "2204    2024.09\n",
      "2205    2024.10\n",
      "2206    2024.11\n",
      "2207    2024.12\n",
      "Name: date, dtype: object\n"
     ]
    }
   ],
   "source": [
    "print(\"수정전\")\n",
    "print(ori['date'].tail())\n",
    "ori['date'] = ori['date'].map(lambda x: x.rstrip(' p)'))\n",
    "print(\"수정전\")\n",
    "print(ori['date'].tail())"
   ]
  },
  {
   "cell_type": "code",
   "execution_count": 21,
   "id": "aa1d44f9-b2cf-4574-bc07-8fb5368a1bda",
   "metadata": {},
   "outputs": [
    {
     "data": {
      "text/html": [
       "<div>\n",
       "<style scoped>\n",
       "    .dataframe tbody tr th:only-of-type {\n",
       "        vertical-align: middle;\n",
       "    }\n",
       "\n",
       "    .dataframe tbody tr th {\n",
       "        vertical-align: top;\n",
       "    }\n",
       "\n",
       "    .dataframe thead th {\n",
       "        text-align: right;\n",
       "    }\n",
       "</style>\n",
       "<table border=\"1\" class=\"dataframe\">\n",
       "  <thead>\n",
       "    <tr style=\"text-align: right;\">\n",
       "      <th></th>\n",
       "      <th>category</th>\n",
       "      <th>date</th>\n",
       "      <th>internet</th>\n",
       "      <th>mobile</th>\n",
       "    </tr>\n",
       "  </thead>\n",
       "  <tbody>\n",
       "    <tr>\n",
       "      <th>0</th>\n",
       "      <td>컴퓨터 및 주변기기</td>\n",
       "      <td>2017-01-01</td>\n",
       "      <td>288391</td>\n",
       "      <td>133993</td>\n",
       "    </tr>\n",
       "    <tr>\n",
       "      <th>1</th>\n",
       "      <td>컴퓨터 및 주변기기</td>\n",
       "      <td>2017-02-01</td>\n",
       "      <td>329143</td>\n",
       "      <td>146200</td>\n",
       "    </tr>\n",
       "    <tr>\n",
       "      <th>2</th>\n",
       "      <td>컴퓨터 및 주변기기</td>\n",
       "      <td>2017-03-01</td>\n",
       "      <td>322089</td>\n",
       "      <td>151262</td>\n",
       "    </tr>\n",
       "    <tr>\n",
       "      <th>3</th>\n",
       "      <td>컴퓨터 및 주변기기</td>\n",
       "      <td>2017-04-01</td>\n",
       "      <td>251604</td>\n",
       "      <td>116675</td>\n",
       "    </tr>\n",
       "    <tr>\n",
       "      <th>4</th>\n",
       "      <td>컴퓨터 및 주변기기</td>\n",
       "      <td>2017-05-01</td>\n",
       "      <td>241871</td>\n",
       "      <td>109053</td>\n",
       "    </tr>\n",
       "  </tbody>\n",
       "</table>\n",
       "</div>"
      ],
      "text/plain": [
       "     category       date  internet  mobile\n",
       "0  컴퓨터 및 주변기기 2017-01-01    288391  133993\n",
       "1  컴퓨터 및 주변기기 2017-02-01    329143  146200\n",
       "2  컴퓨터 및 주변기기 2017-03-01    322089  151262\n",
       "3  컴퓨터 및 주변기기 2017-04-01    251604  116675\n",
       "4  컴퓨터 및 주변기기 2017-05-01    241871  109053"
      ]
     },
     "execution_count": 21,
     "metadata": {},
     "output_type": "execute_result"
    }
   ],
   "source": [
    "ori['date'] = pd.to_datetime(ori[\"date\"], format = '%Y.%m')\n",
    "ori.dtypes\n",
    "ori.head()"
   ]
  },
  {
   "cell_type": "code",
   "execution_count": 38,
   "id": "013dc12f-6555-4830-8eb6-97490834495e",
   "metadata": {},
   "outputs": [
    {
     "data": {
      "text/html": [
       "<div>\n",
       "<style scoped>\n",
       "    .dataframe tbody tr th:only-of-type {\n",
       "        vertical-align: middle;\n",
       "    }\n",
       "\n",
       "    .dataframe tbody tr th {\n",
       "        vertical-align: top;\n",
       "    }\n",
       "\n",
       "    .dataframe thead th {\n",
       "        text-align: right;\n",
       "    }\n",
       "</style>\n",
       "<table border=\"1\" class=\"dataframe\">\n",
       "  <thead>\n",
       "    <tr style=\"text-align: right;\">\n",
       "      <th></th>\n",
       "      <th>category</th>\n",
       "      <th>date</th>\n",
       "      <th>internet</th>\n",
       "      <th>mobile</th>\n",
       "    </tr>\n",
       "  </thead>\n",
       "  <tbody>\n",
       "    <tr>\n",
       "      <th>1550</th>\n",
       "      <td>애완용품</td>\n",
       "      <td>2018-03-01</td>\n",
       "      <td>22960</td>\n",
       "      <td>45674</td>\n",
       "    </tr>\n",
       "    <tr>\n",
       "      <th>1142</th>\n",
       "      <td>음·식료품</td>\n",
       "      <td>2024-03-01</td>\n",
       "      <td>644042</td>\n",
       "      <td>2134090</td>\n",
       "    </tr>\n",
       "    <tr>\n",
       "      <th>1634</th>\n",
       "      <td>여행 및 교통서비스</td>\n",
       "      <td>2017-03-01</td>\n",
       "      <td>510654</td>\n",
       "      <td>561942</td>\n",
       "    </tr>\n",
       "    <tr>\n",
       "      <th>1928</th>\n",
       "      <td>음식서비스</td>\n",
       "      <td>2017-09-01</td>\n",
       "      <td>30106</td>\n",
       "      <td>209012</td>\n",
       "    </tr>\n",
       "    <tr>\n",
       "      <th>2011</th>\n",
       "      <td>음식서비스</td>\n",
       "      <td>2024-08-01</td>\n",
       "      <td>35334</td>\n",
       "      <td>2685944</td>\n",
       "    </tr>\n",
       "  </tbody>\n",
       "</table>\n",
       "</div>"
      ],
      "text/plain": [
       "        category       date  internet   mobile\n",
       "1550        애완용품 2018-03-01     22960    45674\n",
       "1142       음·식료품 2024-03-01    644042  2134090\n",
       "1634  여행 및 교통서비스 2017-03-01    510654   561942\n",
       "1928       음식서비스 2017-09-01     30106   209012\n",
       "2011       음식서비스 2024-08-01     35334  2685944"
      ]
     },
     "execution_count": 38,
     "metadata": {},
     "output_type": "execute_result"
    }
   ],
   "source": [
    "ex1_data = ori.copy()\n",
    "# ex1_data[ex1_data['category'] == '음식서비스'] # '컴퓨터 및 주변기기'\n",
    "obj = ['컴퓨터 및 주변기기', '의복', '신발', '가방', '음식서비스', '음·식료품', '애완용품', '여행 및 교통서비스']\n",
    "ex1_data = ex1_data[ex1_data['category'].isin(obj)]\n",
    "ex1_data.sample(5)"
   ]
  },
  {
   "cell_type": "code",
   "execution_count": 59,
   "id": "a67c70c4-4222-4a7a-9b6a-82b8fb0300c5",
   "metadata": {},
   "outputs": [
    {
     "data": {
      "image/png": "[encoded data removed]",
      "text/plain": [
       "<Figure size 1000x500 with 1 Axes>"
      ]
     },
     "metadata": {},
     "output_type": "display_data"
    }
   ],
   "source": [
    "fig, ax = plt.subplots(figsize=(10,5))\n",
    "category = obj\n",
    "for cate in category:\n",
    "    category_data = ex1_data[ex1_data['category'] == cate]\n",
    "    x_data = category_data['internet']\n",
    "    y_data = category_data['mobile']\n",
    "    ax.scatter(x_data, y_data, s = 20, label = cate)\n",
    "\n",
    "ax.set_xlabel(\"인터넷쇼핑\")\n",
    "ax.set_ylabel(\"모바일쇼핑\")\n",
    "ax.legend(loc=\"best\")\n",
    "ax.plot([0,1000000], [0,1000000], 'r-', alpha=0.8)\n",
    "plt.show()\n",
    "# print(category_data, x_data, y_data)"
   ]
  },
  {
   "cell_type": "code",
   "execution_count": null,
   "id": "6bc040b2-420f-4402-9fd4-84bd5ff53efe",
   "metadata": {},
   "outputs": [],
   "source": []
  }
 ],
 "metadata": {
  "kernelspec": {
   "display_name": "Python 3 (ipykernel)",
   "language": "python",
   "name": "python3"
  },
  "language_info": {
   "codemirror_mode": {
    "name": "ipython",
    "version": 3
   },
   "file_extension": ".py",
   "mimetype": "text/x-python",
   "name": "python",
   "nbconvert_exporter": "python",
   "pygments_lexer": "ipython3",
   "version": "3.13.1"
  }
 },
 "nbformat": 4,
 "nbformat_minor": 5
}
