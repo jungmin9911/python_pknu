{
 "cells": [
  {
   "cell_type": "markdown",
   "id": "0a7c8094-2141-4663-a0c3-060814d373f6",
   "metadata": {},
   "source": [
    "# 클래스"
   ]
  },
  {
   "cell_type": "code",
   "execution_count": 2,
   "id": "75769b72-5286-452c-bada-6cd919706dc3",
   "metadata": {},
   "outputs": [
    {
     "name": "stdout",
     "output_type": "stream",
     "text": [
      "[1, 2, 3, 4] <class 'list'>\n",
      "(11, 22, 33, 44) <class 'tuple'>\n"
     ]
    }
   ],
   "source": [
    "what = [1, 2, 3, 4]\n",
    "who = 11, 22, 33, 44\n",
    "print(what, type(what))\n",
    "print(who, type(who))"
   ]
  },
  {
   "cell_type": "code",
   "execution_count": 5,
   "id": "f3c281e0-a1f6-487e-95c0-725f38f12eb6",
   "metadata": {},
   "outputs": [
    {
     "name": "stdout",
     "output_type": "stream",
     "text": [
      "3\n",
      "7\n",
      "3\n",
      "10\n"
     ]
    }
   ],
   "source": [
    "result1 = 0\n",
    "result2 = 0\n",
    "def add1(num):\n",
    "    global result1\n",
    "    result1 += num\n",
    "    return result1\n",
    "def add2(num):\n",
    "    global result2\n",
    "    result2 += num\n",
    "    return result2\n",
    "print(add1(3))\n",
    "print(add1(4))\n",
    "print(add2(3))\n",
    "print(add2(7))"
   ]
  },
  {
   "cell_type": "markdown",
   "id": "6abc92e6-3089-4d15-ac95-6962f6d99afd",
   "metadata": {},
   "source": [
    "<strong>클래스(Class)</strong> : 클래스는 객체의 설계도나 청사진과 같은 개념입니다. 속성과 메서드를 정의하여 객체의 구조와 동작을 설명합니다<br>\n",
    "<strong>인스턴스(Instance)</strong> : 클래스에 정의된 속성과 메서드를 바탕으로 생성된 실제 객체를 인스턴스라고 합니다. 즉, 클래스의 구체적인 구현물입니다."
   ]
  },
  {
   "cell_type": "code",
   "execution_count": 13,
   "id": "170f0f53-95cb-4e52-abc0-18bf5443fb3a",
   "metadata": {},
   "outputs": [
    {
     "name": "stdout",
     "output_type": "stream",
     "text": [
      "1: 1\n",
      "1: 2\n",
      "1: 3\n",
      "2: 1\n",
      "2: 2\n",
      "2: 3\n",
      "2: 4\n",
      "2: 5\n"
     ]
    }
   ],
   "source": [
    "class Calculator:\n",
    "    def __init__(self):\n",
    "        self.result = 0\n",
    "    def add(self, num):\n",
    "        self.result += num\n",
    "        return self.result\n",
    "    def sub(self, num):\n",
    "        self.result -= num\n",
    "        return self.result\n",
    "\n",
    "# 인스턴스화\n",
    "cal1 = Calculator()  # [1, 2, 3, 4, 5]\n",
    "cal2 = Calculator()  # ['a', 'b']\n",
    "print('1:', cal1.add(1))\n",
    "print('1:', cal1.add(1))\n",
    "print('1:', cal1.add(1))\n",
    "print('2:', cal2.add(1))\n",
    "print('2:', cal2.add(1))\n",
    "print('2:', cal2.add(1))\n",
    "print('2:', cal2.add(1))\n",
    "print('2:', cal2.add(1))"
   ]
  },
  {
   "cell_type": "code",
   "execution_count": 45,
   "id": "9b19962f-b194-4176-bfef-2fa78f6dc0c0",
   "metadata": {},
   "outputs": [],
   "source": [
    "class Dduck:\n",
    "    def __init__(self, won, ea):    # 언더바 2개 들어간 거 : 외부에서 접근못함\n",
    "        self.won = won\n",
    "        self.ea = ea\n",
    "    def dduk(self):\n",
    "        result = self.won * self.ea\n",
    "        print(f\"배가 고파서 떡볶이를 {result}원어치 먹었다\")\n",
    "    def odeng(self):\n",
    "        result = self.won * 2 * self.ea\n",
    "        print(f\"배가 고파서 오뎅을 {result}원어치 먹었다\")\n",
    "    def sundae(self):\n",
    "        result = self.won * 2 * self.ea \n",
    "        print(f\"배가 고파서 순대를 {result}원어치 먹었다\")"
   ]
  },
  {
   "cell_type": "code",
   "execution_count": 56,
   "id": "c5820848-f729-4fee-b96d-f2369a407e53",
   "metadata": {},
   "outputs": [],
   "source": [
    "# 인스턴스화\n",
    "성훈 = Dduck(2000,3)\n",
    "희성 = Dduck(3000,2)\n",
    "기윤 = Dduck(1500,6)"
   ]
  },
  {
   "cell_type": "code",
   "execution_count": 58,
   "id": "92330e49-cbcc-4dfd-98e5-2a3dac680742",
   "metadata": {},
   "outputs": [
    {
     "name": "stdout",
     "output_type": "stream",
     "text": [
      "배가 고파서 떡볶이를 6000원어치 먹었다\n",
      "배가 고파서 오뎅을 12000원어치 먹었다\n",
      "배가 고파서 떡볶이를 6000원어치 먹었다\n",
      "배가 고파서 오뎅을 12000원어치 먹었다\n",
      "배가 고파서 떡볶이를 9000원어치 먹었다\n",
      "배가 고파서 오뎅을 18000원어치 먹었다\n"
     ]
    }
   ],
   "source": [
    "# 메서드 실행\n",
    "성훈.dduk()\n",
    "성훈.odeng()\n",
    "\n",
    "희성.dduk()\n",
    "희성.odeng()\n",
    "\n",
    "기윤.dduk()\n",
    "기윤.odeng()"
   ]
  },
  {
   "cell_type": "code",
   "execution_count": 59,
   "id": "887be8a5-f73e-4167-ac11-50b4d039d570",
   "metadata": {},
   "outputs": [],
   "source": [
    "# 인스턴스 값 초기화 (?)\n",
    "성훈.__init__(3300,2)"
   ]
  },
  {
   "cell_type": "code",
   "execution_count": 51,
   "id": "7295113f-c92e-4266-a6d7-87692e58b620",
   "metadata": {},
   "outputs": [
    {
     "name": "stdout",
     "output_type": "stream",
     "text": [
      "배가 고파서 떡볶이를 6600원어치 먹었다\n",
      "배가 고파서 오뎅을 13200원어치 먹었다\n"
     ]
    }
   ],
   "source": [
    "성훈.dduk()\n",
    "성훈.odeng()"
   ]
  },
  {
   "cell_type": "code",
   "execution_count": 60,
   "id": "e9857885-0b5b-4720-a501-cfece529bef5",
   "metadata": {},
   "outputs": [],
   "source": [
    "# 연습\n",
    "정민 = Dduck(2000,4)"
   ]
  },
  {
   "cell_type": "code",
   "execution_count": 53,
   "id": "c033538a-d8e4-42be-b232-4d6a85777505",
   "metadata": {},
   "outputs": [
    {
     "name": "stdout",
     "output_type": "stream",
     "text": [
      "배가 고파서 떡볶이를 8000원어치 먹었다\n",
      "배가 고파서 오뎅을 16000원어치 먹었다\n",
      "배가 고파서 순대를 16000원어치 먹었다\n"
     ]
    }
   ],
   "source": [
    "정민.dduk()\n",
    "정민.odeng()\n",
    "정민.sundae()"
   ]
  },
  {
   "cell_type": "code",
   "execution_count": 54,
   "id": "7e3b7539-8eca-41f2-b349-9d5028937944",
   "metadata": {},
   "outputs": [],
   "source": [
    "정민.__init__(3000,4)"
   ]
  },
  {
   "cell_type": "code",
   "execution_count": 55,
   "id": "6a58561b-17fc-4e05-873f-1532480056fc",
   "metadata": {},
   "outputs": [
    {
     "name": "stdout",
     "output_type": "stream",
     "text": [
      "배가 고파서 떡볶이를 12000원어치 먹었다\n",
      "배가 고파서 오뎅을 24000원어치 먹었다\n",
      "배가 고파서 순대를 24000원어치 먹었다\n"
     ]
    }
   ],
   "source": [
    "정민.dduk()\n",
    "정민.odeng()\n",
    "정민.sundae()"
   ]
  },
  {
   "cell_type": "markdown",
   "id": "5c27e174-122a-42aa-82e0-af4a4262efee",
   "metadata": {},
   "source": [
    "### 예제"
   ]
  },
  {
   "cell_type": "code",
   "execution_count": 66,
   "id": "07d234e6-f5f4-4805-b83a-2997b6613025",
   "metadata": {},
   "outputs": [
    {
     "name": "stdout",
     "output_type": "stream",
     "text": [
      "방가방가1 저는 고전 인사입니다\n",
      "방가방가2 저는 고전 인사입니다\n",
      "방가방가3 저는 고전 인사입니다\n",
      "==============================\n",
      "\n",
      "이것은 예로부터 전해오는 고전 인사함수입니다.\n",
      "\n",
      "==============================\n",
      "Help on function test in module __main__:\n",
      "\n",
      "test()\n",
      "    이것은 예로부터 전해오는 고전 인사함수입니다.\n",
      "\n"
     ]
    }
   ],
   "source": [
    "# 테스트1\n",
    "def test():\n",
    "    \"\"\"\n",
    "    이것은 예로부터 전해오는 고전 인사함수입니다.\n",
    "    \"\"\"\n",
    "    print(\"방가방가1 저는 고전 인사입니다\")\n",
    "    print(\"방가방가2 저는 고전 인사입니다\")\n",
    "    print(\"방가방가3 저는 고전 인사입니다\")\n",
    "test()\n",
    "print(\"=\"*30)\n",
    "print(test.__doc__)\n",
    "print(\"=\"*30)\n",
    "help(test)"
   ]
  },
  {
   "cell_type": "code",
   "execution_count": 13,
   "id": "8aaccbb3-9942-485f-a7e0-eec7e496509b",
   "metadata": {},
   "outputs": [
    {
     "name": "stdout",
     "output_type": "stream",
     "text": [
      "Car:HD, Color:Blue\n",
      "Car:HD, Color:Blue\n",
      "Car:kia, Color:white\n"
     ]
    }
   ],
   "source": [
    "# 테스트2\n",
    "# class의 self 없이 함수 만들기\n",
    "def set_car(name, color):\n",
    "    return {\"name\":name, \"color\":color}\n",
    "# print(set_car(\"HD\", \"Blue\"))\n",
    "def get_car_info(car):\n",
    "    return f\"Car:{car['name']}, Color:{car['color']}\"\n",
    "\n",
    "# 자동차를 생성\n",
    "car = set_car(\"HD\", \"Blue\")\n",
    "print(get_car_info(car))\n",
    "# 자동차 정보를 생성\n",
    "print(get_car_info(car))\n",
    "\n",
    "print(get_car_info(set_car(\"kia\", \"white\")))"
   ]
  },
  {
   "cell_type": "code",
   "execution_count": 14,
   "id": "c59abdd6-f522-470e-9ab1-183a0265ec62",
   "metadata": {},
   "outputs": [
    {
     "name": "stdout",
     "output_type": "stream",
     "text": [
      "Car:HD, Color:Yellow\n",
      "Car:kia, Color:White\n"
     ]
    }
   ],
   "source": [
    "# 테스트3\n",
    "class Car:\n",
    "    def set_car(name, color):\n",
    "        return {'name':name, 'color':color}\n",
    "    def get_car_info(car):\n",
    "        return f\"Car:{car['name']}, Color:{car['color']}\"        \n",
    "\n",
    "car1 = Car.set_car(\"HD\", \"Yellow\")\n",
    "car2 = Car.set_car(\"kia\", \"White\")\n",
    "print(Car.get_car_info(car1))\n",
    "print(Car.get_car_info(car2))"
   ]
  },
  {
   "cell_type": "code",
   "execution_count": 16,
   "id": "7b5c2f6c-e33c-4093-b86c-6495aaa8ea36",
   "metadata": {},
   "outputs": [
    {
     "name": "stdout",
     "output_type": "stream",
     "text": [
      "Car:HD, Color:Yellow\n",
      "Car:Kia, Color:Gray\n"
     ]
    }
   ],
   "source": [
    "# 테스트4\n",
    "class Car:\n",
    "    def __init__(self,name,color):  # 생성자\n",
    "        self.name = name\n",
    "        self.color = color\n",
    "    def get_car_info(self):\n",
    "        return f\"Car:{self.name}, Color:{self.color}\"\n",
    "\n",
    "car1 = Car(\"HD\", \"Yellow\")\n",
    "car2 = Car(\"Kia\", \"Gray\")\n",
    "\n",
    "print(car1.get_car_info())\n",
    "print(car2.get_car_info())"
   ]
  },
  {
   "cell_type": "code",
   "execution_count": 23,
   "id": "fae45a9f-5ac9-4cac-bb2d-2e0a78a7517f",
   "metadata": {},
   "outputs": [],
   "source": [
    "# 테스트5\n",
    "class Car:\n",
    "    def __init__(self,name,color):  # 생성자\n",
    "        self.name = name\n",
    "        self.color = color\n",
    "        self.speed = 0  # 초기값\n",
    "    def get_car_info(self):\n",
    "        return f\"Car:{self.name}, Color:{self.color}\"\n",
    "    def acc(self, amount):\n",
    "        self.speed += amount  # 속도 증가\n",
    "        return f\"{self.color}색 {self.name}자동차 속도 올려요. 현재 속도는 {self.speed}km/h\""
   ]
  },
  {
   "cell_type": "code",
   "execution_count": 34,
   "id": "f1030dcb-020c-46d5-8cc1-a669f936d5cd",
   "metadata": {},
   "outputs": [
    {
     "name": "stdout",
     "output_type": "stream",
     "text": [
      "Car:HD, Color:Yellow\n",
      "Car:Kia, Color:Gray\n",
      "Yellow색 HD자동차 속도 올려요. 현재 속도는 30km/h\n",
      "Gray색 Kia자동차 속도 올려요. 현재 속도는 50km/h\n",
      "Yellow색 HD자동차 속도 올려요. 현재 속도는 40km/h\n"
     ]
    }
   ],
   "source": [
    "car1 = Car(\"HD\", \"Yellow\")\n",
    "car2 = Car(\"Kia\", \"Gray\")\n",
    "\n",
    "print(car1.get_car_info())\n",
    "print(car2.get_car_info())\n",
    "\n",
    "print(car1.acc(30))\n",
    "print(car2.acc(50))\n",
    "print(car1.acc(10))"
   ]
  },
  {
   "cell_type": "code",
   "execution_count": 48,
   "id": "25e956a9-74d6-4c91-8150-d1280aca02ad",
   "metadata": {},
   "outputs": [
    {
     "name": "stdout",
     "output_type": "stream",
     "text": [
      "Yellow색 HD자동차 속도 올려요. 현재 속도는 51km/h\n",
      "Yellow색 HD자동차 속도 올려요. 현재 속도는 52km/h\n",
      "Yellow색 HD자동차 속도 올려요. 현재 속도는 53km/h\n",
      "Yellow색 HD자동차 속도 올려요. 현재 속도는 54km/h\n",
      "Yellow색 HD자동차 속도 올려요. 현재 속도는 55km/h\n",
      "Yellow색 HD자동차 속도 올려요. 현재 속도는 56km/h\n",
      "Yellow색 HD자동차 속도 올려요. 현재 속도는 57km/h\n",
      "Yellow색 HD자동차 속도 올려요. 현재 속도는 58km/h\n",
      "Yellow색 HD자동차 속도 올려요. 현재 속도는 59km/h\n",
      "Yellow색 HD자동차 속도 올려요. 현재 속도는 60km/h\n",
      "100km/h 속도 유지중...\n"
     ]
    }
   ],
   "source": [
    "# 테스트 연습\n",
    "import time as t\n",
    "for n in range(10):\n",
    "    print(car1.acc(1))\n",
    "    t.sleep(1)\n",
    "print(\"100km/h 속도 유지중...\")"
   ]
  },
  {
   "cell_type": "code",
   "execution_count": 56,
   "id": "ea328945-187d-48b4-bf14-33b579b2fc79",
   "metadata": {},
   "outputs": [],
   "source": [
    "# 테스트6 - 상속\n",
    "class Mycar(Car):\n",
    "    def turbo(self):\n",
    "        self.speed += 50\n",
    "        return(f\"내차가 나른다!! 터보! {self.speed}km/h\")\n",
    "    def acc(self):\n",
    "        self.speed += 30  # 속도가 증가\n",
    "        return f\"{self.name}의 {self.speed}!!\""
   ]
  },
  {
   "cell_type": "code",
   "execution_count": 57,
   "id": "270f151c-da49-4662-b7fe-be4d8857486c",
   "metadata": {},
   "outputs": [
    {
     "name": "stdout",
     "output_type": "stream",
     "text": [
      "Gray색 kia자동차 속도 올려요. 현재 속도는 10km/h\n",
      "mycar의 30!!\n"
     ]
    }
   ],
   "source": [
    "my = Mycar(\"mycar\",\"black\")\n",
    "car0 = Car(\"kia\", \"Gray\")\n",
    "print(car0.acc(10))\n",
    "print(my.acc())"
   ]
  },
  {
   "cell_type": "code",
   "execution_count": 58,
   "id": "f2b6b776-e5a8-4d2b-8f26-fe500591e5f0",
   "metadata": {},
   "outputs": [
    {
     "name": "stdout",
     "output_type": "stream",
     "text": [
      "내차가 나른다!! 터보! 80km/h\n",
      "내차가 나른다!! 터보! 130km/h\n"
     ]
    }
   ],
   "source": [
    "print(my.turbo())\n",
    "print(my.turbo())"
   ]
  },
  {
   "cell_type": "markdown",
   "id": "02b72ca3-a100-4ced-98e2-0cacf0a7a58f",
   "metadata": {},
   "source": [
    "<strong>객체지향프로그래밍(OOP, Object-Oriented)</strong>\n",
    "<ul>\n",
    "    <li>객체지향의 핵심</li>\n",
    "    <li>캡슐화(위 예제에서 __speed = 0, 외부에서 직접 접근못함)</li>\n",
    "    <li>상속(위 예제에서 Mycar가 Car의 기능을 상속받음)</li>\n",
    "    <li>다형성(위 예제에서 acc(), 같은 기능이지만 기능이 다른 것)</li>\n",
    "    <li>클래스(위 예제에서 class Car)</li>\n",
    "    <li>객체(위 예제에서 car1 = Car(\"HD\", \"black\"))</li>\n",
    "</ul>\n",
    "OOP의 장점 : 코드의 재사용성, 유지보수가 용이, 작성시 효율성<br><br>\n",
    "\n",
    "<strong>인스턴스</strong>\n"
   ]
  },
  {
   "cell_type": "code",
   "execution_count": 74,
   "id": "d5dcdc45-bee6-4b5d-a35d-95f1e8a59a56",
   "metadata": {},
   "outputs": [],
   "source": [
    "# 테스트7\n",
    "class pet:\n",
    "    def __init__(self, name, spacies):\n",
    "        \"\"\"펫을 생성\"\"\"\n",
    "        self.name = name\n",
    "        self.spacies = spacies\n",
    "        self.hunger = 50    # 초기 배고픔 수치 (0~100)\n",
    "    def feed(self):\n",
    "        \"\"\"밥을 주면 배고픔 감소\"\"\"\n",
    "        if self.hunger > 10:\n",
    "            self.hunger -= 10\n",
    "            return f\"{self.name}에게 밥을 줬습니다. (배고픔 : {self.hunger})\"\n",
    "    def play(self):\n",
    "        \"\"\"놀아주면 배고픔이 증가\"\"\"\n",
    "        if self.hunger <80:\n",
    "            self.hunger += 20\n",
    "        # else:\n",
    "        #     self.hunger = 100\n",
    "        #     print(\"배고픔\")\n",
    "        return f\"{self.name}와 아주 잘 놀아줬어요~ (배고픔 : {self.hunger})\""
   ]
  },
  {
   "cell_type": "code",
   "execution_count": 80,
   "id": "a03bcae0-ec2f-4b3b-9013-8dd40f5bff3e",
   "metadata": {},
   "outputs": [
    {
     "name": "stdout",
     "output_type": "stream",
     "text": [
      "뽀삐에게 밥을 줬습니다. (배고픔 : 40)\n",
      "뽀삐에게 밥을 줬습니다. (배고픔 : 30)\n",
      "초코와 아주 잘 놀아줬어요~ (배고픔 : 70)\n",
      "초코와 아주 잘 놀아줬어요~ (배고픔 : 90)\n",
      "초코와 아주 잘 놀아줬어요~ (배고픔 : 90)\n",
      "뽀삐와 아주 잘 놀아줬어요~ (배고픔 : 50)\n",
      "뽀삐와 아주 잘 놀아줬어요~ (배고픔 : 70)\n",
      "컁이와 아주 잘 놀아줬어요~ (배고픔 : 70)\n",
      "컁이와 아주 잘 놀아줬어요~ (배고픔 : 90)\n",
      "컁이에게 밥을 줬습니다. (배고픔 : 80)\n"
     ]
    }
   ],
   "source": [
    "# 펫 생성\n",
    "dog1 = pet(\"뽀삐\", \"말티즈\")\n",
    "dog2 = pet(\"초코\", \"요크\")\n",
    "cat = pet(\"컁이\", \"나만 고양이 없어\")\n",
    "print(dog1.feed())\n",
    "print(dog1.feed())\n",
    "print(dog2.play())\n",
    "print(dog2.play())\n",
    "print(dog2.play())\n",
    "print(dog1.play())\n",
    "print(dog1.play())\n",
    "print(cat.play())\n",
    "print(cat.play())\n",
    "print(cat.feed())"
   ]
  },
  {
   "cell_type": "code",
   "execution_count": 86,
   "id": "935555c9-24a4-4ff9-814d-5910dd98b45c",
   "metadata": {},
   "outputs": [],
   "source": [
    "class Bacteria:\n",
    "    def __init__(self, initial_population, growth_rate):\n",
    "        \"\"\"세균 초기화\"\"\"\n",
    "        self.population = initial_population\n",
    "        self.growth_rate = growth_rate\n",
    "        self.time = 0    # 시작시간\n",
    "    def grow(self, hours):\n",
    "        \"\"\"일정 시간이 지나면 세균이 증식함\"\"\"\n",
    "        self.time += hours\n",
    "        self.population *= self.growth_rate**hours\n",
    "        return f\"{self.time} 시간 후 세균 수 : {int(self.population):.0f}마리\"\n",
    "    def check(self):\n",
    "        \"\"\"현재 세균 수 확인\"\"\"\n",
    "        return f\"현재 세균 수 : {int(self.population)}마리\""
   ]
  },
  {
   "cell_type": "code",
   "execution_count": 87,
   "id": "2c37897d-f3fc-479c-b59c-cbff9a84c2b0",
   "metadata": {},
   "outputs": [],
   "source": [
    "bacteria = Bacteria(100, 2)"
   ]
  },
  {
   "cell_type": "code",
   "execution_count": 88,
   "id": "67f7ccbf-b0a7-4301-83e8-4b15a60b02f6",
   "metadata": {},
   "outputs": [
    {
     "name": "stdout",
     "output_type": "stream",
     "text": [
      "1 시간 후 세균 수 : 200마리\n",
      "3 시간 후 세균 수 : 800마리\n",
      "6 시간 후 세균 수 : 6400마리\n"
     ]
    }
   ],
   "source": [
    "print(bacteria.grow(1))\n",
    "print(bacteria.grow(2))\n",
    "print(bacteria.grow(3))"
   ]
  },
  {
   "cell_type": "code",
   "execution_count": 125,
   "id": "86071de5-5c3a-4b38-9731-02c0b883b2b7",
   "metadata": {},
   "outputs": [
    {
     "name": "stdout",
     "output_type": "stream",
     "text": [
      "철수님의 잔고는 50000원 입니다.\n",
      "영희님의 잔고는 200000원 입니다.\n",
      "철수님의 잔고는 900000원 입니다.\n"
     ]
    }
   ],
   "source": [
    "# 테스트9 - 은행예금 캡슐화 예제, 클래스 변수\n",
    "class BankAccount:\n",
    "    interest_rate = 0.02    # 클래스 변수\n",
    "    def __init__(self, owner, balance):\n",
    "        self.owner = owner\n",
    "        self.balance = balance or 0\n",
    "    def bprint(self):\n",
    "        return f\"{self.owner}님의 잔고는 {self.balance}원 입니다.\"\n",
    "\n",
    "acc1 = BankAccount(\"철수\", 50000)\n",
    "acc2 = BankAccount(\"영희\", 200000)\n",
    "print(acc1.bprint())\n",
    "print(acc2.bprint())\n",
    "# 공격 후\n",
    "acc1.balance = 900000\n",
    "print(acc1.bprint())    # 잔고 수정됨"
   ]
  },
  {
   "cell_type": "code",
   "execution_count": 135,
   "id": "158bc263-0ccd-46e3-b1b5-7aa7a53dd4d9",
   "metadata": {},
   "outputs": [
    {
     "name": "stdout",
     "output_type": "stream",
     "text": [
      "철수님의 잔고는 50000원 입니다.\n",
      "영희님의 잔고는 200000원 입니다.\n",
      "철수님의 잔고는 50000원 입니다.\n"
     ]
    }
   ],
   "source": [
    "# 테스트9-1 - 은행예금 캡슐화 예제, 클래스 변수\n",
    "class BankAccount:\n",
    "    interest_rate = 0.02    # 클래스 변수\n",
    "    def __init__(self, owner, balance):\n",
    "        self.owner = owner\n",
    "        self.__balance = balance or 0    # __balance <= 외부 접근 불가(언더바 2개)\n",
    "    def bprint(self):\n",
    "        return f\"{self.owner}님의 잔고는 {self.__balance}원 입니다.\"\n",
    "    def deposit(self, amount):\n",
    "        self.__balance += amount\n",
    "        return f\"{self.owner}님의 계좌에 {amount}원이 입금되었습니다. 현재 잔액 : {self.__balance}원\"\n",
    "        \n",
    "acc1 = BankAccount(\"철수\", 50000)\n",
    "acc2 = BankAccount(\"영희\", 200000)\n",
    "print(acc1.bprint())\n",
    "print(acc2.bprint())\n",
    "# 공격 후\n",
    "acc1.balance = 900000\n",
    "print(acc1.bprint())    # 잔고 수정 안 됨"
   ]
  },
  {
   "cell_type": "code",
   "execution_count": 144,
   "id": "d686104c-1888-4218-b2aa-051a87c2eb9e",
   "metadata": {},
   "outputs": [],
   "source": [
    "# 테스트9-1 - 은행예금 캡슐화 예제, 클래스 변수\n",
    "class BankAccount:\n",
    "    interest_rate = 0.02    # 클래스 변수\n",
    "    def __init__(self, owner, balance):\n",
    "        self.owner = owner\n",
    "        self.__balance = balance or 0 \n",
    "    def bprint(self):\n",
    "        return f\"{self.owner}님의 잔고는 {self.__balance}원 입니다.\"\n",
    "    def deposit(self, amount):\n",
    "        self.__balance += amount\n",
    "        return f\"{self.owner}님의 계좌에 {amount}원이 입금되었습니다. 현재 잔액 : {self.__balance}원\"\n",
    "    def withdraw(self, amount):\n",
    "        if self.__balance >= amount:\n",
    "            self.__balance -= amount\n",
    "            return f\"{self.owner}님의 계좌에 {amount}원이 출금되었습니다. 현재 잔액 : {self.__balance}원\"\n",
    "        return \"잔액이 부족합니다\"\n",
    "    def interest(self):\n",
    "        total = self.__balance*(1+self.interest_rate)\n",
    "        return f\"{self.interest_rate}%의 이자가 반영된 금액은 {total:.0f}원 입니다.\""
   ]
  },
  {
   "cell_type": "code",
   "execution_count": 149,
   "id": "9893d424-df94-45b1-9e98-f39e58491d52",
   "metadata": {},
   "outputs": [
    {
     "name": "stdout",
     "output_type": "stream",
     "text": [
      "철수님의 잔고는 50000원 입니다.\n",
      "영희님의 잔고는 200000원 입니다.\n",
      "0.03%의 이자가 반영된 금액은 51500원 입니다.\n",
      "0.03%의 이자가 반영된 금액은 206000원 입니다.\n",
      "0.03%의 이자가 반영된 금액은 51500원 입니다.\n",
      "0.03%의 이자가 반영된 금액은 206000원 입니다.\n"
     ]
    }
   ],
   "source": [
    "# 인스턴스화\n",
    "acc3 = BankAccount(\"철수\", 50000)\n",
    "acc4 = BankAccount(\"영희\", 200000)\n",
    "print(acc3.bprint())\n",
    "print(acc4.bprint())\n",
    "print(acc3.interest())\n",
    "print(acc4.interest())\n",
    "# 클래스 변수 바꾸기\n",
    "BankAccount.interest_rate = 0.03\n",
    "print(acc3.interest())\n",
    "print(acc4.interest())\n",
    "\n",
    "# 공격 후\n",
    "# acc3.balance = 900000\n",
    "# print(acc3.bprint())\n",
    "\n",
    "# 내장 메소드로 캡슐화된 변수 접근\n",
    "# acc3.deposit(30000)\n",
    "# acc3.withdraw(30000)"
   ]
  },
  {
   "cell_type": "code",
   "execution_count": 151,
   "id": "e2ea9b3a-49a3-45d3-9206-23d5e789e967",
   "metadata": {},
   "outputs": [
    {
     "name": "stdout",
     "output_type": "stream",
     "text": [
      "잔액이 2000원으로 증가했습니다\n",
      "콜라을(를) 구매했습니다! 남은 잔액 : 500원\n",
      "잔액이 부족합니다! (사이다 가격: 1400원, 현재 잔액 : 500원)\n",
      "잔액 500원이 반환되었습니다\n"
     ]
    }
   ],
   "source": [
    "# 테스트10\n",
    "class VendingMachine:\n",
    "    def __init__(self):\n",
    "        \"\"\"자동판매기 초기화\"\"\"\n",
    "        self.balance = 0    # 사용자의 잔액\n",
    "        self.items = {    # 상품목록 (이름 : 가격)\n",
    "            \"콜라\": 1500,\n",
    "            \"사이다\": 1400,\n",
    "            \"물\": 1000\n",
    "        }\n",
    "    def insert_money(self, amount):\n",
    "        \"\"\"잔액 충전\"\"\"\n",
    "        self.balance += amount\n",
    "        return f\"잔액이 {self.balance}원으로 증가했습니다\"\n",
    "    def buy_item(self, item_name):\n",
    "        \"\"\"상품 구매\"\"\"\n",
    "        if item_name not in self.items:\n",
    "            return f\"{item_name}은(는) 판매하지 않는 상품입니다\"\n",
    "        price = self.items[item_name]\n",
    "        if self.balance < price:\n",
    "            return f\"잔액이 부족합니다! ({item_name} 가격: {price}원, 현재 잔액 : {self.balance}원)\"\n",
    "        self.balance -= price\n",
    "        return f\"{item_name}을(를) 구매했습니다! 남은 잔액 : {self.balance}원\"\n",
    "    def refund(self):\n",
    "        \"\"\"잔액 반환\"\"\"\n",
    "        amount = self.balance\n",
    "        self.balance = 0\n",
    "        return f\"잔액 {amount}원이 반환되었습니다\"\n",
    "# 자동판매기 객체 생성\n",
    "vm = VendingMachine()\n",
    "# 잔액 충전\n",
    "print(vm.insert_money(2000))    # 잔액이 2000원으로 증가했습니다\n",
    "# 상품 구매\n",
    "print(vm.buy_item(\"콜라\"))    # 콜라을(를) 구매했습니다! 남은 잔액 500원\n",
    "print(vm.buy_item(\"사이다\"))    # 잔액이 부족합니다! (사이다 가격: 1400원, 현재 잔액 : 500원)\n",
    "# 잔액 반환\n",
    "print(vm.refund()) # 잔액 500원이 반환되었습니다"
   ]
  },
  {
   "cell_type": "code",
   "execution_count": 19,
   "id": "b4d65638-b3dd-4f98-b754-de222a669245",
   "metadata": {},
   "outputs": [
    {
     "ename": "Terminator",
     "evalue": "",
     "output_type": "error",
     "traceback": [
      "\u001b[1;31m---------------------------------------------------------------------------\u001b[0m",
      "\u001b[1;31mTerminator\u001b[0m                                Traceback (most recent call last)",
      "Cell \u001b[1;32mIn[19], line 7\u001b[0m\n\u001b[0;32m      4\u001b[0m window\u001b[38;5;241m.\u001b[39mbgcolor(\u001b[38;5;124m\"\u001b[39m\u001b[38;5;124mwhite\u001b[39m\u001b[38;5;124m\"\u001b[39m)\n\u001b[0;32m      6\u001b[0m \u001b[38;5;66;03m#거북이 생성\u001b[39;00m\n\u001b[1;32m----> 7\u001b[0m my_turtle \u001b[38;5;241m=\u001b[39m \u001b[43mturtle\u001b[49m\u001b[38;5;241;43m.\u001b[39;49m\u001b[43mTurtle\u001b[49m\u001b[43m(\u001b[49m\u001b[43m)\u001b[49m\n\u001b[0;32m      8\u001b[0m my_turtle\u001b[38;5;241m.\u001b[39mshape(\u001b[38;5;124m\"\u001b[39m\u001b[38;5;124mturtle\u001b[39m\u001b[38;5;124m\"\u001b[39m)\n\u001b[0;32m      9\u001b[0m my_turtle\u001b[38;5;241m.\u001b[39mcolor(\u001b[38;5;124m\"\u001b[39m\u001b[38;5;124mpink\u001b[39m\u001b[38;5;124m\"\u001b[39m)\n",
      "File \u001b[1;32m~\\AppData\\Local\\Programs\\Python\\Python313\\Lib\\turtle.py:3845\u001b[0m, in \u001b[0;36mTurtle.__init__\u001b[1;34m(self, shape, undobuffersize, visible)\u001b[0m\n\u001b[0;32m   3843\u001b[0m \u001b[38;5;28;01mif\u001b[39;00m Turtle\u001b[38;5;241m.\u001b[39m_screen \u001b[38;5;129;01mis\u001b[39;00m \u001b[38;5;28;01mNone\u001b[39;00m:\n\u001b[0;32m   3844\u001b[0m     Turtle\u001b[38;5;241m.\u001b[39m_screen \u001b[38;5;241m=\u001b[39m Screen()\n\u001b[1;32m-> 3845\u001b[0m \u001b[43mRawTurtle\u001b[49m\u001b[38;5;241;43m.\u001b[39;49m\u001b[38;5;21;43m__init__\u001b[39;49m\u001b[43m(\u001b[49m\u001b[38;5;28;43mself\u001b[39;49m\u001b[43m,\u001b[49m\u001b[43m \u001b[49m\u001b[43mTurtle\u001b[49m\u001b[38;5;241;43m.\u001b[39;49m\u001b[43m_screen\u001b[49m\u001b[43m,\u001b[49m\n\u001b[0;32m   3846\u001b[0m \u001b[43m                   \u001b[49m\u001b[43mshape\u001b[49m\u001b[38;5;241;43m=\u001b[39;49m\u001b[43mshape\u001b[49m\u001b[43m,\u001b[49m\n\u001b[0;32m   3847\u001b[0m \u001b[43m                   \u001b[49m\u001b[43mundobuffersize\u001b[49m\u001b[38;5;241;43m=\u001b[39;49m\u001b[43mundobuffersize\u001b[49m\u001b[43m,\u001b[49m\n\u001b[0;32m   3848\u001b[0m \u001b[43m                   \u001b[49m\u001b[43mvisible\u001b[49m\u001b[38;5;241;43m=\u001b[39;49m\u001b[43mvisible\u001b[49m\u001b[43m)\u001b[49m\n",
      "File \u001b[1;32m~\\AppData\\Local\\Programs\\Python\\Python313\\Lib\\turtle.py:2564\u001b[0m, in \u001b[0;36mRawTurtle.__init__\u001b[1;34m(self, canvas, shape, undobuffersize, visible)\u001b[0m\n\u001b[0;32m   2562\u001b[0m \u001b[38;5;28mself\u001b[39m\u001b[38;5;241m.\u001b[39m_undobuffersize \u001b[38;5;241m=\u001b[39m undobuffersize\n\u001b[0;32m   2563\u001b[0m \u001b[38;5;28mself\u001b[39m\u001b[38;5;241m.\u001b[39mundobuffer \u001b[38;5;241m=\u001b[39m Tbuffer(undobuffersize)\n\u001b[1;32m-> 2564\u001b[0m \u001b[38;5;28;43mself\u001b[39;49m\u001b[38;5;241;43m.\u001b[39;49m\u001b[43m_update\u001b[49m\u001b[43m(\u001b[49m\u001b[43m)\u001b[49m\n",
      "File \u001b[1;32m~\\AppData\\Local\\Programs\\Python\\Python313\\Lib\\turtle.py:2667\u001b[0m, in \u001b[0;36mRawTurtle._update\u001b[1;34m(self)\u001b[0m\n\u001b[0;32m   2665\u001b[0m     \u001b[38;5;28;01mreturn\u001b[39;00m\n\u001b[0;32m   2666\u001b[0m \u001b[38;5;28;01melif\u001b[39;00m screen\u001b[38;5;241m.\u001b[39m_tracing \u001b[38;5;241m==\u001b[39m \u001b[38;5;241m1\u001b[39m:\n\u001b[1;32m-> 2667\u001b[0m     \u001b[38;5;28;43mself\u001b[39;49m\u001b[38;5;241;43m.\u001b[39;49m\u001b[43m_update_data\u001b[49m\u001b[43m(\u001b[49m\u001b[43m)\u001b[49m\n\u001b[0;32m   2668\u001b[0m     \u001b[38;5;28mself\u001b[39m\u001b[38;5;241m.\u001b[39m_drawturtle()\n\u001b[0;32m   2669\u001b[0m     screen\u001b[38;5;241m.\u001b[39m_update()                  \u001b[38;5;66;03m# TurtleScreenBase\u001b[39;00m\n",
      "File \u001b[1;32m~\\AppData\\Local\\Programs\\Python\\Python313\\Lib\\turtle.py:2653\u001b[0m, in \u001b[0;36mRawTurtle._update_data\u001b[1;34m(self)\u001b[0m\n\u001b[0;32m   2652\u001b[0m \u001b[38;5;28;01mdef\u001b[39;00m\u001b[38;5;250m \u001b[39m\u001b[38;5;21m_update_data\u001b[39m(\u001b[38;5;28mself\u001b[39m):\n\u001b[1;32m-> 2653\u001b[0m     \u001b[38;5;28;43mself\u001b[39;49m\u001b[38;5;241;43m.\u001b[39;49m\u001b[43mscreen\u001b[49m\u001b[38;5;241;43m.\u001b[39;49m\u001b[43m_incrementudc\u001b[49m\u001b[43m(\u001b[49m\u001b[43m)\u001b[49m\n\u001b[0;32m   2654\u001b[0m     \u001b[38;5;28;01mif\u001b[39;00m \u001b[38;5;28mself\u001b[39m\u001b[38;5;241m.\u001b[39mscreen\u001b[38;5;241m.\u001b[39m_updatecounter \u001b[38;5;241m!=\u001b[39m \u001b[38;5;241m0\u001b[39m:\n\u001b[0;32m   2655\u001b[0m         \u001b[38;5;28;01mreturn\u001b[39;00m\n",
      "File \u001b[1;32m~\\AppData\\Local\\Programs\\Python\\Python313\\Lib\\turtle.py:1283\u001b[0m, in \u001b[0;36mTurtleScreen._incrementudc\u001b[1;34m(self)\u001b[0m\n\u001b[0;32m   1281\u001b[0m \u001b[38;5;28;01mif\u001b[39;00m \u001b[38;5;129;01mnot\u001b[39;00m TurtleScreen\u001b[38;5;241m.\u001b[39m_RUNNING:\n\u001b[0;32m   1282\u001b[0m     TurtleScreen\u001b[38;5;241m.\u001b[39m_RUNNING \u001b[38;5;241m=\u001b[39m \u001b[38;5;28;01mTrue\u001b[39;00m\n\u001b[1;32m-> 1283\u001b[0m     \u001b[38;5;28;01mraise\u001b[39;00m Terminator\n\u001b[0;32m   1284\u001b[0m \u001b[38;5;28;01mif\u001b[39;00m \u001b[38;5;28mself\u001b[39m\u001b[38;5;241m.\u001b[39m_tracing \u001b[38;5;241m>\u001b[39m \u001b[38;5;241m0\u001b[39m:\n\u001b[0;32m   1285\u001b[0m     \u001b[38;5;28mself\u001b[39m\u001b[38;5;241m.\u001b[39m_updatecounter \u001b[38;5;241m+\u001b[39m\u001b[38;5;241m=\u001b[39m \u001b[38;5;241m1\u001b[39m\n",
      "\u001b[1;31mTerminator\u001b[0m: "
     ]
    }
   ],
   "source": [
    "# 쉬어가기\n",
    "import turtle\n",
    "window = turtle.Screen()\n",
    "window.bgcolor(\"white\")\n",
    "\n",
    "#거북이 생성\n",
    "my_turtle = turtle.Turtle()\n",
    "my_turtle.shape(\"turtle\")\n",
    "my_turtle.color(\"pink\")\n",
    "\n",
    "# 사각형 그리기\n",
    "for _ in range(1):    # _ => 신경 안 써도 된다는 뜻. 임의로 자리만 만들어놓고 수행하는듯?\n",
    "    # my_turtle.forward(100)  # 앞으로 100픽셀 이동\n",
    "    # my_turtle.right(45)     # 오른쪽으로 90도 회전\n",
    "    my_turtle.left(45)\n",
    "    my_turtle.forward(100)\n",
    "    my_turtle.right(45)\n",
    "    my_turtle.forward(100)\n",
    "    my_turtle.right(45)\n",
    "    my_turtle.forward(100)\n",
    "    my_turtle.right(45)\n",
    "    my_turtle.forward(100)\n",
    "    my_turtle.right(45)\n",
    "    my_turtle.forward(350)\n",
    "    my_turtle.right(90)\n",
    "    my_turtle.forward(350)\n",
    "    my_turtle.right(45)\n",
    "    my_turtle.forward(100)\n",
    "    my_turtle.right(45)\n",
    "    my_turtle.forward(100)\n",
    "    my_turtle.right(45)\n",
    "    my_turtle.forward(100)\n",
    "    my_turtle.right(45)\n",
    "    my_turtle.forward(100)"
   ]
  },
  {
   "cell_type": "code",
   "execution_count": null,
   "id": "11b04d94-e3fd-4627-8423-640421370f5f",
   "metadata": {},
   "outputs": [],
   "source": [
    "# 창닫기\n",
    "window.mainloop()"
   ]
  },
  {
   "cell_type": "code",
   "execution_count": 159,
   "id": "e48f97f5-cb62-48cc-a882-44f896553cf5",
   "metadata": {},
   "outputs": [],
   "source": []
  },
  {
   "cell_type": "code",
   "execution_count": null,
   "id": "c0bb2331-8240-448a-818c-c2731097533c",
   "metadata": {},
   "outputs": [],
   "source": []
  }
 ],
 "metadata": {
  "kernelspec": {
   "display_name": "Python 3 (ipykernel)",
   "language": "python",
   "name": "python3"
  },
  "language_info": {
   "codemirror_mode": {
    "name": "ipython",
    "version": 3
   },
   "file_extension": ".py",
   "mimetype": "text/x-python",
   "name": "python",
   "nbconvert_exporter": "python",
   "pygments_lexer": "ipython3",
   "version": "3.13.1"
  }
 },
 "nbformat": 4,
 "nbformat_minor": 5
}
